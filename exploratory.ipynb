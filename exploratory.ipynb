{
 "cells": [
  {
   "cell_type": "markdown",
   "metadata": {},
   "source": [
    "# Exploratory Notebook\n",
    "\n",
    "Use this notebook to explore the project data using `pandas`, SQL, and Matplotlib!\n",
    "\n",
    "You will not be submitting this notebook so feel free to try out different \"experiments\" to figure out what works best.\n",
    "\n",
    "When you're happy with your code and want to turn it in, copy it into the `final.ipynb` notebook and download that notebook for the PDF submission."
   ]
  },
  {
   "cell_type": "markdown",
   "metadata": {},
   "source": [
    "05/19/22\n",
    "On the surface so far, we have BOM and IMDB which represent data about movies and their revenues.  A joined universe of data that includes movies with budgets and revenues might be extremely valuable as we can then engineer a profit feature.  We could also scrape a website for profit values or utilize an API.  \n",
    "\n",
    "05/20/22\n",
    "Hypothesis one: In terms of identifying what types of movies to recommend Microsoft start producing, we should first consider data correlation between ratings/profit and ratings/revenue.  More importantly, I think an evaluation of those same features needs to set against the backdrop of release date, as the entire movie industry may profit model may have changed over time. \n",
    "\n",
    "Hypothesis:  \n",
    "I personally find myself watching more tv shows than movies these days, so a separate analysis might need to be done outside the scope of this one comparing television shows vs. movies.   \n",
    "\n",
    "update: 05/21/22 \n",
    "I am starting to think profit/ratings, budget/profit, budget/ratings all mapped over time will be the most valuable information.  In addition, I may try to see if there is a correlation in genre, in particular, action and anime, and profit, to see if there are any synergies with MS existing portfolio of gaming content.    \n",
    "\n",
    "\n",
    "Side note: I would like to see data for how this venture would impact/accentuate/galvanize the client's other businesses in a cross platform, but I doubt we have time for that kind of analysis.  I will explore the dbs and data and if something (such as its video game content) connects with the movie industry, maybe we can explore those cases. There is evidence of video games turned theatre in recent film, most recently Arcane league of legends, mortal Kombat, sonic the hedgehog, and Halo (a microsoft Xbox game).   \n",
    "\n"
   ]
  },
  {
   "cell_type": "markdown",
   "metadata": {},
   "source": [
    "Update: 5/29/2022.  Things have definitely changed. Life got in the way and I lost a couple days to work at Amazon, sleep, and family.  More importantly, my preliminary analysis of the data has yielded some interesting results.  \n"
   ]
  },
  {
   "cell_type": "markdown",
   "metadata": {},
   "source": [
    "## CSV and TSV Data\n",
    "\n",
    "Here is some starter code that opens up some of the CSV and TSV data and loads it into DataFrames:"
   ]
  },
  {
   "cell_type": "code",
   "execution_count": 1,
   "metadata": {},
   "outputs": [],
   "source": [
    "import pandas as pd\n",
    "import matplotlib.pyplot as plt\n",
    "%matplotlib inline\n",
    "import numpy as np"
   ]
  },
  {
   "cell_type": "markdown",
   "metadata": {},
   "source": [
    "# Bom movie Gross\n",
    "\n",
    "### 5 columns: \n",
    "- title \n",
    "- studio \n",
    "- domestic gross \n",
    "- foriegn gross \n",
    "- year \n",
    "\n",
    "Perhaps more data exploration will reveal additional features.  \n",
    "\n",
    "BOM is by IMDB Pro and may be contained within the IMDB database.  \n",
    "or \n",
    "BOM may be an extension of the IMDB database with gross revenue values. This would make sense.  "
   ]
  },
  {
   "cell_type": "code",
   "execution_count": 1,
   "metadata": {},
   "outputs": [],
   "source": [
    "# we subset by the conditional idiomatically using .loc and then reassign the selected rows that have been halved.  \n",
    "# TN.loc[(TN['domestic_gross'] == TN['foreign_gross']), ['domestic_gross', 'foreign_gross']] = TN.loc[(TN['domestic_gross'] == TN['foreign_gross']), ['domestic_gross', 'foreign_gross']]/2"
   ]
  },
  {
   "cell_type": "code",
   "execution_count": 2,
   "metadata": {
    "scrolled": false
   },
   "outputs": [
    {
     "data": {
      "text/html": [
       "<div>\n",
       "<style scoped>\n",
       "    .dataframe tbody tr th:only-of-type {\n",
       "        vertical-align: middle;\n",
       "    }\n",
       "\n",
       "    .dataframe tbody tr th {\n",
       "        vertical-align: top;\n",
       "    }\n",
       "\n",
       "    .dataframe thead th {\n",
       "        text-align: right;\n",
       "    }\n",
       "</style>\n",
       "<table border=\"1\" class=\"dataframe\">\n",
       "  <thead>\n",
       "    <tr style=\"text-align: right;\">\n",
       "      <th></th>\n",
       "      <th>title</th>\n",
       "      <th>studio</th>\n",
       "      <th>domestic_gross</th>\n",
       "      <th>foreign_gross</th>\n",
       "      <th>year</th>\n",
       "    </tr>\n",
       "  </thead>\n",
       "  <tbody>\n",
       "    <tr>\n",
       "      <th>0</th>\n",
       "      <td>Toy Story 3</td>\n",
       "      <td>BV</td>\n",
       "      <td>415000000.0</td>\n",
       "      <td>652000000</td>\n",
       "      <td>2010</td>\n",
       "    </tr>\n",
       "    <tr>\n",
       "      <th>1</th>\n",
       "      <td>Alice in Wonderland (2010)</td>\n",
       "      <td>BV</td>\n",
       "      <td>334200000.0</td>\n",
       "      <td>691300000</td>\n",
       "      <td>2010</td>\n",
       "    </tr>\n",
       "    <tr>\n",
       "      <th>2</th>\n",
       "      <td>Harry Potter and the Deathly Hallows Part 1</td>\n",
       "      <td>WB</td>\n",
       "      <td>296000000.0</td>\n",
       "      <td>664300000</td>\n",
       "      <td>2010</td>\n",
       "    </tr>\n",
       "    <tr>\n",
       "      <th>3</th>\n",
       "      <td>Inception</td>\n",
       "      <td>WB</td>\n",
       "      <td>292600000.0</td>\n",
       "      <td>535700000</td>\n",
       "      <td>2010</td>\n",
       "    </tr>\n",
       "    <tr>\n",
       "      <th>4</th>\n",
       "      <td>Shrek Forever After</td>\n",
       "      <td>P/DW</td>\n",
       "      <td>238700000.0</td>\n",
       "      <td>513900000</td>\n",
       "      <td>2010</td>\n",
       "    </tr>\n",
       "    <tr>\n",
       "      <th>...</th>\n",
       "      <td>...</td>\n",
       "      <td>...</td>\n",
       "      <td>...</td>\n",
       "      <td>...</td>\n",
       "      <td>...</td>\n",
       "    </tr>\n",
       "    <tr>\n",
       "      <th>3382</th>\n",
       "      <td>The Quake</td>\n",
       "      <td>Magn.</td>\n",
       "      <td>6200.0</td>\n",
       "      <td>NaN</td>\n",
       "      <td>2018</td>\n",
       "    </tr>\n",
       "    <tr>\n",
       "      <th>3383</th>\n",
       "      <td>Edward II (2018 re-release)</td>\n",
       "      <td>FM</td>\n",
       "      <td>4800.0</td>\n",
       "      <td>NaN</td>\n",
       "      <td>2018</td>\n",
       "    </tr>\n",
       "    <tr>\n",
       "      <th>3384</th>\n",
       "      <td>El Pacto</td>\n",
       "      <td>Sony</td>\n",
       "      <td>2500.0</td>\n",
       "      <td>NaN</td>\n",
       "      <td>2018</td>\n",
       "    </tr>\n",
       "    <tr>\n",
       "      <th>3385</th>\n",
       "      <td>The Swan</td>\n",
       "      <td>Synergetic</td>\n",
       "      <td>2400.0</td>\n",
       "      <td>NaN</td>\n",
       "      <td>2018</td>\n",
       "    </tr>\n",
       "    <tr>\n",
       "      <th>3386</th>\n",
       "      <td>An Actor Prepares</td>\n",
       "      <td>Grav.</td>\n",
       "      <td>1700.0</td>\n",
       "      <td>NaN</td>\n",
       "      <td>2018</td>\n",
       "    </tr>\n",
       "  </tbody>\n",
       "</table>\n",
       "<p>3387 rows × 5 columns</p>\n",
       "</div>"
      ],
      "text/plain": [
       "                                            title      studio  domestic_gross  \\\n",
       "0                                     Toy Story 3          BV     415000000.0   \n",
       "1                      Alice in Wonderland (2010)          BV     334200000.0   \n",
       "2     Harry Potter and the Deathly Hallows Part 1          WB     296000000.0   \n",
       "3                                       Inception          WB     292600000.0   \n",
       "4                             Shrek Forever After        P/DW     238700000.0   \n",
       "...                                           ...         ...             ...   \n",
       "3382                                    The Quake       Magn.          6200.0   \n",
       "3383                  Edward II (2018 re-release)          FM          4800.0   \n",
       "3384                                     El Pacto        Sony          2500.0   \n",
       "3385                                     The Swan  Synergetic          2400.0   \n",
       "3386                            An Actor Prepares       Grav.          1700.0   \n",
       "\n",
       "     foreign_gross  year  \n",
       "0        652000000  2010  \n",
       "1        691300000  2010  \n",
       "2        664300000  2010  \n",
       "3        535700000  2010  \n",
       "4        513900000  2010  \n",
       "...            ...   ...  \n",
       "3382           NaN  2018  \n",
       "3383           NaN  2018  \n",
       "3384           NaN  2018  \n",
       "3385           NaN  2018  \n",
       "3386           NaN  2018  \n",
       "\n",
       "[3387 rows x 5 columns]"
      ]
     },
     "execution_count": 2,
     "metadata": {},
     "output_type": "execute_result"
    }
   ],
   "source": [
    "bom_movie_gross = pd.read_csv(\"zippedData/bom.movie_gross.csv.gz\")\n",
    "bom_movie_gross"
   ]
  },
  {
   "cell_type": "code",
   "execution_count": null,
   "metadata": {},
   "outputs": [],
   "source": []
  },
  {
   "cell_type": "code",
   "execution_count": 4,
   "metadata": {},
   "outputs": [],
   "source": [
    "# bom_movie_gross.info()\n",
    "#ok, so we have quite a few missing values for the foreign gross. \n",
    "# This will need to be cleaned up.  "
   ]
  },
  {
   "cell_type": "markdown",
   "metadata": {},
   "source": [
    "# RT Movie Info\n",
    "12 columns \n",
    "- id \n",
    "- synopsis\n",
    "- rating\n",
    "- genre\n",
    "- director\n",
    "- writer\n",
    "- theatre_date\n",
    "- dvd_date\n",
    "- currency\n",
    "- box_office\n",
    "- runtime\n",
    "- studio\n",
    "\n",
    "This seems like a much better breakdown of relevant information.  "
   ]
  },
  {
   "cell_type": "code",
   "execution_count": 5,
   "metadata": {
    "scrolled": true
   },
   "outputs": [],
   "source": [
    "# rt_movie_info = pd.read_csv(\"zippedData/rt.movie_info.tsv.gz\", delimiter=\"\\t\")\n",
    "# rt_movie_info\n"
   ]
  },
  {
   "cell_type": "markdown",
   "metadata": {},
   "source": [
    "Im not sure any good will come from using rtmovieinfo, as we cannot easily ascertain what movie they are referencing. If I have time, I will come back and attempt to associate this data with the larger set.  But it isnt that many individual values. "
   ]
  },
  {
   "cell_type": "code",
   "execution_count": 6,
   "metadata": {},
   "outputs": [],
   "source": [
    "# rt_movie_info = rt_movie_info.drop('id', axis = 1)"
   ]
  },
  {
   "cell_type": "code",
   "execution_count": 7,
   "metadata": {},
   "outputs": [],
   "source": [
    "# rt_movie_info"
   ]
  },
  {
   "cell_type": "code",
   "execution_count": 8,
   "metadata": {},
   "outputs": [],
   "source": [
    "# rt_movie_info.info()"
   ]
  },
  {
   "cell_type": "code",
   "execution_count": 9,
   "metadata": {},
   "outputs": [],
   "source": [
    "# rt_movie_info.columns = rt_movie_info.columns.str.strip()"
   ]
  },
  {
   "cell_type": "code",
   "execution_count": 10,
   "metadata": {},
   "outputs": [],
   "source": [
    "# rt_movie_info.theater_date = pd.to_datetime(rt_movie_info.theater_date)"
   ]
  },
  {
   "cell_type": "code",
   "execution_count": 11,
   "metadata": {},
   "outputs": [],
   "source": [
    "# rt_movie_info['year'] = pd.DatetimeIndex(rt_movie_info['theater_date']).year"
   ]
  },
  {
   "cell_type": "code",
   "execution_count": 12,
   "metadata": {},
   "outputs": [],
   "source": [
    "# rt_movie_info.rename(columns={'theater_date': 'release_date'}, inplace=True)"
   ]
  },
  {
   "cell_type": "code",
   "execution_count": 13,
   "metadata": {},
   "outputs": [],
   "source": [
    "# rt_movie_info.info()"
   ]
  },
  {
   "cell_type": "code",
   "execution_count": 14,
   "metadata": {},
   "outputs": [],
   "source": [
    "# rt_movie_info.isna().sum()"
   ]
  },
  {
   "cell_type": "markdown",
   "metadata": {},
   "source": [
    "# Rotten tomatoes reviews\n",
    "### Initial Columns\n",
    "id\n",
    "review\n",
    "rating\n",
    "fresh\n",
    "critic\n",
    "top_critic\n",
    "publisher\n",
    "date\n",
    "\n",
    "To Do\n",
    "\n",
    "Doing \n",
    "extra row - identify differences in ID.  I am just guessing that each Id is a single movie, differentiated by review. will confirm. \n",
    "\n",
    "Done - received encoding error UTF-8 which has to do with the way strings are formatted within the file. Changed encoding from UTF8 to Latin-1 "
   ]
  },
  {
   "cell_type": "code",
   "execution_count": 27,
   "metadata": {},
   "outputs": [],
   "source": [
    "# rt_reviews = pd.read_csv(\"zippedData/rt.reviews.tsv.gz\", delimiter=\"\\t\", encoding='latin-1')\n",
    "# rt_reviews"
   ]
  },
  {
   "cell_type": "code",
   "execution_count": 28,
   "metadata": {},
   "outputs": [],
   "source": [
    "# rt_reviews.info()"
   ]
  },
  {
   "cell_type": "code",
   "execution_count": 29,
   "metadata": {},
   "outputs": [],
   "source": [
    "# rt_reviews.id.nunique()"
   ]
  },
  {
   "cell_type": "markdown",
   "metadata": {},
   "source": [
    "Many detailed reviews of 1135 films.  It is going to be very hard to associate the grouped ids without some clear connection to the larger context. "
   ]
  },
  {
   "cell_type": "markdown",
   "metadata": {},
   "source": [
    "# RT budgets"
   ]
  },
  {
   "cell_type": "code",
   "execution_count": 61,
   "metadata": {
    "scrolled": true
   },
   "outputs": [
    {
     "data": {
      "text/html": [
       "<div>\n",
       "<style scoped>\n",
       "    .dataframe tbody tr th:only-of-type {\n",
       "        vertical-align: middle;\n",
       "    }\n",
       "\n",
       "    .dataframe tbody tr th {\n",
       "        vertical-align: top;\n",
       "    }\n",
       "\n",
       "    .dataframe thead th {\n",
       "        text-align: right;\n",
       "    }\n",
       "</style>\n",
       "<table border=\"1\" class=\"dataframe\">\n",
       "  <thead>\n",
       "    <tr style=\"text-align: right;\">\n",
       "      <th></th>\n",
       "      <th>id</th>\n",
       "      <th>release_date</th>\n",
       "      <th>movie</th>\n",
       "      <th>production_budget</th>\n",
       "      <th>domestic_gross</th>\n",
       "      <th>worldwide_gross</th>\n",
       "    </tr>\n",
       "  </thead>\n",
       "  <tbody>\n",
       "    <tr>\n",
       "      <th>100</th>\n",
       "      <td>1</td>\n",
       "      <td>May 29, 2009</td>\n",
       "      <td>Up</td>\n",
       "      <td>$175,000,000</td>\n",
       "      <td>$293,004,164</td>\n",
       "      <td>$731,463,377</td>\n",
       "    </tr>\n",
       "    <tr>\n",
       "      <th>101</th>\n",
       "      <td>2</td>\n",
       "      <td>Nov 22, 2017</td>\n",
       "      <td>Coco</td>\n",
       "      <td>$175,000,000</td>\n",
       "      <td>$209,726,015</td>\n",
       "      <td>$798,008,101</td>\n",
       "    </tr>\n",
       "    <tr>\n",
       "      <th>102</th>\n",
       "      <td>3</td>\n",
       "      <td>Nov 21, 2018</td>\n",
       "      <td>Ralph Breaks The Internet</td>\n",
       "      <td>$175,000,000</td>\n",
       "      <td>$201,091,711</td>\n",
       "      <td>$524,283,695</td>\n",
       "    </tr>\n",
       "    <tr>\n",
       "      <th>103</th>\n",
       "      <td>4</td>\n",
       "      <td>Mar 27, 2009</td>\n",
       "      <td>Monsters vs. Aliens</td>\n",
       "      <td>$175,000,000</td>\n",
       "      <td>$198,351,526</td>\n",
       "      <td>$381,687,380</td>\n",
       "    </tr>\n",
       "    <tr>\n",
       "      <th>104</th>\n",
       "      <td>5</td>\n",
       "      <td>Jun 16, 2017</td>\n",
       "      <td>Cars 3</td>\n",
       "      <td>$175,000,000</td>\n",
       "      <td>$152,901,115</td>\n",
       "      <td>$383,541,369</td>\n",
       "    </tr>\n",
       "  </tbody>\n",
       "</table>\n",
       "</div>"
      ],
      "text/plain": [
       "     id  release_date                      movie production_budget  \\\n",
       "100   1  May 29, 2009                         Up      $175,000,000   \n",
       "101   2  Nov 22, 2017                       Coco      $175,000,000   \n",
       "102   3  Nov 21, 2018  Ralph Breaks The Internet      $175,000,000   \n",
       "103   4  Mar 27, 2009        Monsters vs. Aliens      $175,000,000   \n",
       "104   5  Jun 16, 2017                     Cars 3      $175,000,000   \n",
       "\n",
       "    domestic_gross worldwide_gross  \n",
       "100   $293,004,164    $731,463,377  \n",
       "101   $209,726,015    $798,008,101  \n",
       "102   $201,091,711    $524,283,695  \n",
       "103   $198,351,526    $381,687,380  \n",
       "104   $152,901,115    $383,541,369  "
      ]
     },
     "execution_count": 61,
     "metadata": {},
     "output_type": "execute_result"
    }
   ],
   "source": [
    "rt_budgets = pd.read_csv(\"zippedData/tn.movie_budgets.csv.gz\")\n",
    "rt_budgets.iloc[100:105]"
   ]
  },
  {
   "cell_type": "code",
   "execution_count": 62,
   "metadata": {},
   "outputs": [
    {
     "data": {
      "text/plain": [
       "True"
      ]
     },
     "execution_count": 62,
     "metadata": {},
     "output_type": "execute_result"
    }
   ],
   "source": [
    "rt_budgets.equals(TN)"
   ]
  },
  {
   "cell_type": "code",
   "execution_count": 31,
   "metadata": {},
   "outputs": [],
   "source": [
    "# rt_budgets.iloc[250:255]"
   ]
  },
  {
   "cell_type": "code",
   "execution_count": 32,
   "metadata": {},
   "outputs": [],
   "source": [
    "# rt_budgets['id'].mean()"
   ]
  },
  {
   "cell_type": "markdown",
   "metadata": {},
   "source": [
    "The id column is weird in budgets. It just repeats every 100 rows indiscriminately.  Lets drop that column.  "
   ]
  },
  {
   "cell_type": "code",
   "execution_count": 33,
   "metadata": {},
   "outputs": [],
   "source": [
    "# rt_budgets = rt_budgets.drop('id', axis = 1)\n",
    "# rt_budgets"
   ]
  },
  {
   "cell_type": "code",
   "execution_count": 34,
   "metadata": {},
   "outputs": [],
   "source": [
    "#seems to be sorted by budget spent descending.  Consider percentage profit made as a feature.  "
   ]
  },
  {
   "cell_type": "code",
   "execution_count": 35,
   "metadata": {},
   "outputs": [],
   "source": [
    "# rt_budgets['domestic_gross'].sum() >= rt_budgets['worldwide_gross'].sum() #very odd. "
   ]
  },
  {
   "cell_type": "code",
   "execution_count": 36,
   "metadata": {},
   "outputs": [],
   "source": [
    "# rt_budgets.info()"
   ]
  },
  {
   "cell_type": "code",
   "execution_count": 37,
   "metadata": {},
   "outputs": [],
   "source": [
    "#so no missing or placeholder values yet, worldwide gross is less than domestic gross; however, \n",
    "# it seems like there are NAN values in both categories.  There are also some issues with the \n",
    "# other columns. "
   ]
  },
  {
   "cell_type": "code",
   "execution_count": 38,
   "metadata": {},
   "outputs": [],
   "source": [
    "# rt_budgets.release_date = pd.to_datetime(rt_budgets.release_date)"
   ]
  },
  {
   "cell_type": "code",
   "execution_count": 39,
   "metadata": {},
   "outputs": [],
   "source": [
    "# rt_budgets['year'] = pd.DatetimeIndex(rt_budgets['release_date']).year"
   ]
  },
  {
   "cell_type": "markdown",
   "metadata": {},
   "source": [
    "# The Movie DB (not an actual db)"
   ]
  },
  {
   "cell_type": "markdown",
   "metadata": {},
   "source": [
    "This is a database we can use.  We can rename columns so they correspond to individual movie titles and release dates. "
   ]
  },
  {
   "cell_type": "code",
   "execution_count": 15,
   "metadata": {
    "scrolled": true
   },
   "outputs": [
    {
     "data": {
      "text/html": [
       "<div>\n",
       "<style scoped>\n",
       "    .dataframe tbody tr th:only-of-type {\n",
       "        vertical-align: middle;\n",
       "    }\n",
       "\n",
       "    .dataframe tbody tr th {\n",
       "        vertical-align: top;\n",
       "    }\n",
       "\n",
       "    .dataframe thead th {\n",
       "        text-align: right;\n",
       "    }\n",
       "</style>\n",
       "<table border=\"1\" class=\"dataframe\">\n",
       "  <thead>\n",
       "    <tr style=\"text-align: right;\">\n",
       "      <th></th>\n",
       "      <th>genre_ids</th>\n",
       "      <th>id</th>\n",
       "      <th>original_language</th>\n",
       "      <th>original_title</th>\n",
       "      <th>popularity</th>\n",
       "      <th>release_date</th>\n",
       "      <th>title</th>\n",
       "      <th>vote_average</th>\n",
       "      <th>vote_count</th>\n",
       "    </tr>\n",
       "  </thead>\n",
       "  <tbody>\n",
       "    <tr>\n",
       "      <th>0</th>\n",
       "      <td>[12, 14, 10751]</td>\n",
       "      <td>12444</td>\n",
       "      <td>en</td>\n",
       "      <td>Harry Potter and the Deathly Hallows: Part 1</td>\n",
       "      <td>33.533</td>\n",
       "      <td>2010-11-19</td>\n",
       "      <td>Harry Potter and the Deathly Hallows: Part 1</td>\n",
       "      <td>7.7</td>\n",
       "      <td>10788</td>\n",
       "    </tr>\n",
       "    <tr>\n",
       "      <th>1</th>\n",
       "      <td>[14, 12, 16, 10751]</td>\n",
       "      <td>10191</td>\n",
       "      <td>en</td>\n",
       "      <td>How to Train Your Dragon</td>\n",
       "      <td>28.734</td>\n",
       "      <td>2010-03-26</td>\n",
       "      <td>How to Train Your Dragon</td>\n",
       "      <td>7.7</td>\n",
       "      <td>7610</td>\n",
       "    </tr>\n",
       "    <tr>\n",
       "      <th>2</th>\n",
       "      <td>[12, 28, 878]</td>\n",
       "      <td>10138</td>\n",
       "      <td>en</td>\n",
       "      <td>Iron Man 2</td>\n",
       "      <td>28.515</td>\n",
       "      <td>2010-05-07</td>\n",
       "      <td>Iron Man 2</td>\n",
       "      <td>6.8</td>\n",
       "      <td>12368</td>\n",
       "    </tr>\n",
       "    <tr>\n",
       "      <th>3</th>\n",
       "      <td>[16, 35, 10751]</td>\n",
       "      <td>862</td>\n",
       "      <td>en</td>\n",
       "      <td>Toy Story</td>\n",
       "      <td>28.005</td>\n",
       "      <td>1995-11-22</td>\n",
       "      <td>Toy Story</td>\n",
       "      <td>7.9</td>\n",
       "      <td>10174</td>\n",
       "    </tr>\n",
       "    <tr>\n",
       "      <th>4</th>\n",
       "      <td>[28, 878, 12]</td>\n",
       "      <td>27205</td>\n",
       "      <td>en</td>\n",
       "      <td>Inception</td>\n",
       "      <td>27.920</td>\n",
       "      <td>2010-07-16</td>\n",
       "      <td>Inception</td>\n",
       "      <td>8.3</td>\n",
       "      <td>22186</td>\n",
       "    </tr>\n",
       "    <tr>\n",
       "      <th>...</th>\n",
       "      <td>...</td>\n",
       "      <td>...</td>\n",
       "      <td>...</td>\n",
       "      <td>...</td>\n",
       "      <td>...</td>\n",
       "      <td>...</td>\n",
       "      <td>...</td>\n",
       "      <td>...</td>\n",
       "      <td>...</td>\n",
       "    </tr>\n",
       "    <tr>\n",
       "      <th>26512</th>\n",
       "      <td>[27, 18]</td>\n",
       "      <td>488143</td>\n",
       "      <td>en</td>\n",
       "      <td>Laboratory Conditions</td>\n",
       "      <td>0.600</td>\n",
       "      <td>2018-10-13</td>\n",
       "      <td>Laboratory Conditions</td>\n",
       "      <td>0.0</td>\n",
       "      <td>1</td>\n",
       "    </tr>\n",
       "    <tr>\n",
       "      <th>26513</th>\n",
       "      <td>[18, 53]</td>\n",
       "      <td>485975</td>\n",
       "      <td>en</td>\n",
       "      <td>_EXHIBIT_84xxx_</td>\n",
       "      <td>0.600</td>\n",
       "      <td>2018-05-01</td>\n",
       "      <td>_EXHIBIT_84xxx_</td>\n",
       "      <td>0.0</td>\n",
       "      <td>1</td>\n",
       "    </tr>\n",
       "    <tr>\n",
       "      <th>26514</th>\n",
       "      <td>[14, 28, 12]</td>\n",
       "      <td>381231</td>\n",
       "      <td>en</td>\n",
       "      <td>The Last One</td>\n",
       "      <td>0.600</td>\n",
       "      <td>2018-10-01</td>\n",
       "      <td>The Last One</td>\n",
       "      <td>0.0</td>\n",
       "      <td>1</td>\n",
       "    </tr>\n",
       "    <tr>\n",
       "      <th>26515</th>\n",
       "      <td>[10751, 12, 28]</td>\n",
       "      <td>366854</td>\n",
       "      <td>en</td>\n",
       "      <td>Trailer Made</td>\n",
       "      <td>0.600</td>\n",
       "      <td>2018-06-22</td>\n",
       "      <td>Trailer Made</td>\n",
       "      <td>0.0</td>\n",
       "      <td>1</td>\n",
       "    </tr>\n",
       "    <tr>\n",
       "      <th>26516</th>\n",
       "      <td>[53, 27]</td>\n",
       "      <td>309885</td>\n",
       "      <td>en</td>\n",
       "      <td>The Church</td>\n",
       "      <td>0.600</td>\n",
       "      <td>2018-10-05</td>\n",
       "      <td>The Church</td>\n",
       "      <td>0.0</td>\n",
       "      <td>1</td>\n",
       "    </tr>\n",
       "  </tbody>\n",
       "</table>\n",
       "<p>26517 rows × 9 columns</p>\n",
       "</div>"
      ],
      "text/plain": [
       "                 genre_ids      id original_language  \\\n",
       "0          [12, 14, 10751]   12444                en   \n",
       "1      [14, 12, 16, 10751]   10191                en   \n",
       "2            [12, 28, 878]   10138                en   \n",
       "3          [16, 35, 10751]     862                en   \n",
       "4            [28, 878, 12]   27205                en   \n",
       "...                    ...     ...               ...   \n",
       "26512             [27, 18]  488143                en   \n",
       "26513             [18, 53]  485975                en   \n",
       "26514         [14, 28, 12]  381231                en   \n",
       "26515      [10751, 12, 28]  366854                en   \n",
       "26516             [53, 27]  309885                en   \n",
       "\n",
       "                                     original_title  popularity release_date  \\\n",
       "0      Harry Potter and the Deathly Hallows: Part 1      33.533   2010-11-19   \n",
       "1                          How to Train Your Dragon      28.734   2010-03-26   \n",
       "2                                        Iron Man 2      28.515   2010-05-07   \n",
       "3                                         Toy Story      28.005   1995-11-22   \n",
       "4                                         Inception      27.920   2010-07-16   \n",
       "...                                             ...         ...          ...   \n",
       "26512                         Laboratory Conditions       0.600   2018-10-13   \n",
       "26513                               _EXHIBIT_84xxx_       0.600   2018-05-01   \n",
       "26514                                  The Last One       0.600   2018-10-01   \n",
       "26515                                  Trailer Made       0.600   2018-06-22   \n",
       "26516                                    The Church       0.600   2018-10-05   \n",
       "\n",
       "                                              title  vote_average  vote_count  \n",
       "0      Harry Potter and the Deathly Hallows: Part 1           7.7       10788  \n",
       "1                          How to Train Your Dragon           7.7        7610  \n",
       "2                                        Iron Man 2           6.8       12368  \n",
       "3                                         Toy Story           7.9       10174  \n",
       "4                                         Inception           8.3       22186  \n",
       "...                                             ...           ...         ...  \n",
       "26512                         Laboratory Conditions           0.0           1  \n",
       "26513                               _EXHIBIT_84xxx_           0.0           1  \n",
       "26514                                  The Last One           0.0           1  \n",
       "26515                                  Trailer Made           0.0           1  \n",
       "26516                                    The Church           0.0           1  \n",
       "\n",
       "[26517 rows x 9 columns]"
      ]
     },
     "execution_count": 15,
     "metadata": {},
     "output_type": "execute_result"
    }
   ],
   "source": [
    "TMDB = pd.read_csv(\"zippedData/tmdb.movies.csv.gz\", index_col=0)\n",
    "TMDB #we dropped the irrelavent first column with method above. "
   ]
  },
  {
   "cell_type": "markdown",
   "metadata": {},
   "source": [
    " "
   ]
  },
  {
   "cell_type": "markdown",
   "metadata": {},
   "source": [
    "There is an extra index column.  Definitely keeping votecount and vote_average, popularity."
   ]
  },
  {
   "cell_type": "code",
   "execution_count": 16,
   "metadata": {},
   "outputs": [
    {
     "name": "stdout",
     "output_type": "stream",
     "text": [
      "<class 'pandas.core.frame.DataFrame'>\n",
      "Int64Index: 26517 entries, 0 to 26516\n",
      "Data columns (total 9 columns):\n",
      " #   Column             Non-Null Count  Dtype  \n",
      "---  ------             --------------  -----  \n",
      " 0   genre_ids          26517 non-null  object \n",
      " 1   id                 26517 non-null  int64  \n",
      " 2   original_language  26517 non-null  object \n",
      " 3   original_title     26517 non-null  object \n",
      " 4   popularity         26517 non-null  float64\n",
      " 5   release_date       26517 non-null  object \n",
      " 6   title              26517 non-null  object \n",
      " 7   vote_average       26517 non-null  float64\n",
      " 8   vote_count         26517 non-null  int64  \n",
      "dtypes: float64(2), int64(2), object(5)\n",
      "memory usage: 2.0+ MB\n"
     ]
    }
   ],
   "source": [
    "TMDB.info()"
   ]
  },
  {
   "cell_type": "code",
   "execution_count": 17,
   "metadata": {},
   "outputs": [
    {
     "data": {
      "text/plain": [
       "0    2010-11-19\n",
       "1    2010-03-26\n",
       "2    2010-05-07\n",
       "3    1995-11-22\n",
       "4    2010-07-16\n",
       "Name: release_date, dtype: object"
      ]
     },
     "execution_count": 17,
     "metadata": {},
     "output_type": "execute_result"
    }
   ],
   "source": [
    "TMDB['release_date'].head()"
   ]
  },
  {
   "cell_type": "code",
   "execution_count": 18,
   "metadata": {},
   "outputs": [],
   "source": [
    "TMDB.release_date = pd.to_datetime(TMDB.release_date)  \n",
    "# we convert date from string to date time.  "
   ]
  },
  {
   "cell_type": "code",
   "execution_count": 19,
   "metadata": {},
   "outputs": [],
   "source": [
    "TMDB['year'] = pd.DatetimeIndex(TMDB['release_date']).year\n",
    "# we create a year column in case we need it. \n",
    "\n",
    "# we forgot to create movie from title, but we do that later on.  REORGANIZE"
   ]
  },
  {
   "cell_type": "code",
   "execution_count": 20,
   "metadata": {
    "scrolled": true
   },
   "outputs": [
    {
     "data": {
      "text/html": [
       "<div>\n",
       "<style scoped>\n",
       "    .dataframe tbody tr th:only-of-type {\n",
       "        vertical-align: middle;\n",
       "    }\n",
       "\n",
       "    .dataframe tbody tr th {\n",
       "        vertical-align: top;\n",
       "    }\n",
       "\n",
       "    .dataframe thead th {\n",
       "        text-align: right;\n",
       "    }\n",
       "</style>\n",
       "<table border=\"1\" class=\"dataframe\">\n",
       "  <thead>\n",
       "    <tr style=\"text-align: right;\">\n",
       "      <th></th>\n",
       "      <th>genre_ids</th>\n",
       "      <th>id</th>\n",
       "      <th>original_language</th>\n",
       "      <th>original_title</th>\n",
       "      <th>popularity</th>\n",
       "      <th>release_date</th>\n",
       "      <th>title</th>\n",
       "      <th>vote_average</th>\n",
       "      <th>vote_count</th>\n",
       "      <th>year</th>\n",
       "    </tr>\n",
       "  </thead>\n",
       "  <tbody>\n",
       "    <tr>\n",
       "      <th>0</th>\n",
       "      <td>[12, 14, 10751]</td>\n",
       "      <td>12444</td>\n",
       "      <td>en</td>\n",
       "      <td>Harry Potter and the Deathly Hallows: Part 1</td>\n",
       "      <td>33.533</td>\n",
       "      <td>2010-11-19</td>\n",
       "      <td>Harry Potter and the Deathly Hallows: Part 1</td>\n",
       "      <td>7.7</td>\n",
       "      <td>10788</td>\n",
       "      <td>2010</td>\n",
       "    </tr>\n",
       "    <tr>\n",
       "      <th>1</th>\n",
       "      <td>[14, 12, 16, 10751]</td>\n",
       "      <td>10191</td>\n",
       "      <td>en</td>\n",
       "      <td>How to Train Your Dragon</td>\n",
       "      <td>28.734</td>\n",
       "      <td>2010-03-26</td>\n",
       "      <td>How to Train Your Dragon</td>\n",
       "      <td>7.7</td>\n",
       "      <td>7610</td>\n",
       "      <td>2010</td>\n",
       "    </tr>\n",
       "    <tr>\n",
       "      <th>2</th>\n",
       "      <td>[12, 28, 878]</td>\n",
       "      <td>10138</td>\n",
       "      <td>en</td>\n",
       "      <td>Iron Man 2</td>\n",
       "      <td>28.515</td>\n",
       "      <td>2010-05-07</td>\n",
       "      <td>Iron Man 2</td>\n",
       "      <td>6.8</td>\n",
       "      <td>12368</td>\n",
       "      <td>2010</td>\n",
       "    </tr>\n",
       "    <tr>\n",
       "      <th>3</th>\n",
       "      <td>[16, 35, 10751]</td>\n",
       "      <td>862</td>\n",
       "      <td>en</td>\n",
       "      <td>Toy Story</td>\n",
       "      <td>28.005</td>\n",
       "      <td>1995-11-22</td>\n",
       "      <td>Toy Story</td>\n",
       "      <td>7.9</td>\n",
       "      <td>10174</td>\n",
       "      <td>1995</td>\n",
       "    </tr>\n",
       "    <tr>\n",
       "      <th>4</th>\n",
       "      <td>[28, 878, 12]</td>\n",
       "      <td>27205</td>\n",
       "      <td>en</td>\n",
       "      <td>Inception</td>\n",
       "      <td>27.920</td>\n",
       "      <td>2010-07-16</td>\n",
       "      <td>Inception</td>\n",
       "      <td>8.3</td>\n",
       "      <td>22186</td>\n",
       "      <td>2010</td>\n",
       "    </tr>\n",
       "    <tr>\n",
       "      <th>...</th>\n",
       "      <td>...</td>\n",
       "      <td>...</td>\n",
       "      <td>...</td>\n",
       "      <td>...</td>\n",
       "      <td>...</td>\n",
       "      <td>...</td>\n",
       "      <td>...</td>\n",
       "      <td>...</td>\n",
       "      <td>...</td>\n",
       "      <td>...</td>\n",
       "    </tr>\n",
       "    <tr>\n",
       "      <th>26512</th>\n",
       "      <td>[27, 18]</td>\n",
       "      <td>488143</td>\n",
       "      <td>en</td>\n",
       "      <td>Laboratory Conditions</td>\n",
       "      <td>0.600</td>\n",
       "      <td>2018-10-13</td>\n",
       "      <td>Laboratory Conditions</td>\n",
       "      <td>0.0</td>\n",
       "      <td>1</td>\n",
       "      <td>2018</td>\n",
       "    </tr>\n",
       "    <tr>\n",
       "      <th>26513</th>\n",
       "      <td>[18, 53]</td>\n",
       "      <td>485975</td>\n",
       "      <td>en</td>\n",
       "      <td>_EXHIBIT_84xxx_</td>\n",
       "      <td>0.600</td>\n",
       "      <td>2018-05-01</td>\n",
       "      <td>_EXHIBIT_84xxx_</td>\n",
       "      <td>0.0</td>\n",
       "      <td>1</td>\n",
       "      <td>2018</td>\n",
       "    </tr>\n",
       "    <tr>\n",
       "      <th>26514</th>\n",
       "      <td>[14, 28, 12]</td>\n",
       "      <td>381231</td>\n",
       "      <td>en</td>\n",
       "      <td>The Last One</td>\n",
       "      <td>0.600</td>\n",
       "      <td>2018-10-01</td>\n",
       "      <td>The Last One</td>\n",
       "      <td>0.0</td>\n",
       "      <td>1</td>\n",
       "      <td>2018</td>\n",
       "    </tr>\n",
       "    <tr>\n",
       "      <th>26515</th>\n",
       "      <td>[10751, 12, 28]</td>\n",
       "      <td>366854</td>\n",
       "      <td>en</td>\n",
       "      <td>Trailer Made</td>\n",
       "      <td>0.600</td>\n",
       "      <td>2018-06-22</td>\n",
       "      <td>Trailer Made</td>\n",
       "      <td>0.0</td>\n",
       "      <td>1</td>\n",
       "      <td>2018</td>\n",
       "    </tr>\n",
       "    <tr>\n",
       "      <th>26516</th>\n",
       "      <td>[53, 27]</td>\n",
       "      <td>309885</td>\n",
       "      <td>en</td>\n",
       "      <td>The Church</td>\n",
       "      <td>0.600</td>\n",
       "      <td>2018-10-05</td>\n",
       "      <td>The Church</td>\n",
       "      <td>0.0</td>\n",
       "      <td>1</td>\n",
       "      <td>2018</td>\n",
       "    </tr>\n",
       "  </tbody>\n",
       "</table>\n",
       "<p>26517 rows × 10 columns</p>\n",
       "</div>"
      ],
      "text/plain": [
       "                 genre_ids      id original_language  \\\n",
       "0          [12, 14, 10751]   12444                en   \n",
       "1      [14, 12, 16, 10751]   10191                en   \n",
       "2            [12, 28, 878]   10138                en   \n",
       "3          [16, 35, 10751]     862                en   \n",
       "4            [28, 878, 12]   27205                en   \n",
       "...                    ...     ...               ...   \n",
       "26512             [27, 18]  488143                en   \n",
       "26513             [18, 53]  485975                en   \n",
       "26514         [14, 28, 12]  381231                en   \n",
       "26515      [10751, 12, 28]  366854                en   \n",
       "26516             [53, 27]  309885                en   \n",
       "\n",
       "                                     original_title  popularity release_date  \\\n",
       "0      Harry Potter and the Deathly Hallows: Part 1      33.533   2010-11-19   \n",
       "1                          How to Train Your Dragon      28.734   2010-03-26   \n",
       "2                                        Iron Man 2      28.515   2010-05-07   \n",
       "3                                         Toy Story      28.005   1995-11-22   \n",
       "4                                         Inception      27.920   2010-07-16   \n",
       "...                                             ...         ...          ...   \n",
       "26512                         Laboratory Conditions       0.600   2018-10-13   \n",
       "26513                               _EXHIBIT_84xxx_       0.600   2018-05-01   \n",
       "26514                                  The Last One       0.600   2018-10-01   \n",
       "26515                                  Trailer Made       0.600   2018-06-22   \n",
       "26516                                    The Church       0.600   2018-10-05   \n",
       "\n",
       "                                              title  vote_average  vote_count  \\\n",
       "0      Harry Potter and the Deathly Hallows: Part 1           7.7       10788   \n",
       "1                          How to Train Your Dragon           7.7        7610   \n",
       "2                                        Iron Man 2           6.8       12368   \n",
       "3                                         Toy Story           7.9       10174   \n",
       "4                                         Inception           8.3       22186   \n",
       "...                                             ...           ...         ...   \n",
       "26512                         Laboratory Conditions           0.0           1   \n",
       "26513                               _EXHIBIT_84xxx_           0.0           1   \n",
       "26514                                  The Last One           0.0           1   \n",
       "26515                                  Trailer Made           0.0           1   \n",
       "26516                                    The Church           0.0           1   \n",
       "\n",
       "       year  \n",
       "0      2010  \n",
       "1      2010  \n",
       "2      2010  \n",
       "3      1995  \n",
       "4      2010  \n",
       "...     ...  \n",
       "26512  2018  \n",
       "26513  2018  \n",
       "26514  2018  \n",
       "26515  2018  \n",
       "26516  2018  \n",
       "\n",
       "[26517 rows x 10 columns]"
      ]
     },
     "execution_count": 20,
     "metadata": {},
     "output_type": "execute_result"
    }
   ],
   "source": [
    "TMDB"
   ]
  },
  {
   "cell_type": "code",
   "execution_count": 21,
   "metadata": {},
   "outputs": [
    {
     "name": "stdout",
     "output_type": "stream",
     "text": [
      "<class 'pandas.core.frame.DataFrame'>\n",
      "Int64Index: 26517 entries, 0 to 26516\n",
      "Data columns (total 10 columns):\n",
      " #   Column             Non-Null Count  Dtype         \n",
      "---  ------             --------------  -----         \n",
      " 0   genre_ids          26517 non-null  object        \n",
      " 1   id                 26517 non-null  int64         \n",
      " 2   original_language  26517 non-null  object        \n",
      " 3   original_title     26517 non-null  object        \n",
      " 4   popularity         26517 non-null  float64       \n",
      " 5   release_date       26517 non-null  datetime64[ns]\n",
      " 6   title              26517 non-null  object        \n",
      " 7   vote_average       26517 non-null  float64       \n",
      " 8   vote_count         26517 non-null  int64         \n",
      " 9   year               26517 non-null  int64         \n",
      "dtypes: datetime64[ns](1), float64(2), int64(3), object(4)\n",
      "memory usage: 2.2+ MB\n"
     ]
    }
   ],
   "source": [
    "TMDB.info()"
   ]
  },
  {
   "cell_type": "code",
   "execution_count": 22,
   "metadata": {},
   "outputs": [
    {
     "data": {
      "text/plain": [
       "Eden                               7\n",
       "Home                               7\n",
       "Lucky                              5\n",
       "Legend                             5\n",
       "Aftermath                          5\n",
       "                                  ..\n",
       "The Pervert's Guide to Ideology    1\n",
       "Muscle Shoals                      1\n",
       "Grave Halloween                    1\n",
       "Doonby                             1\n",
       "The Church                         1\n",
       "Name: title, Length: 24688, dtype: int64"
      ]
     },
     "execution_count": 22,
     "metadata": {},
     "output_type": "execute_result"
    }
   ],
   "source": [
    "TMDB.title.value_counts()"
   ]
  },
  {
   "cell_type": "markdown",
   "metadata": {},
   "source": [
    "Ok, since we know TN and RT Budgets are the same, lets just merge RT Budgets, TMDB, BOM, and RTMovie info.  We can left join on TMDB since that has the most data.   UPDATE: we did not do that and are going to explore TN and SQL first. UPDATE: good thing we did, because we didnt even use RTs and we made TN our base set.  "
   ]
  },
  {
   "cell_type": "markdown",
   "metadata": {},
   "source": [
    "# The Numbers"
   ]
  },
  {
   "cell_type": "code",
   "execution_count": 23,
   "metadata": {
    "scrolled": true
   },
   "outputs": [
    {
     "data": {
      "text/html": [
       "<div>\n",
       "<style scoped>\n",
       "    .dataframe tbody tr th:only-of-type {\n",
       "        vertical-align: middle;\n",
       "    }\n",
       "\n",
       "    .dataframe tbody tr th {\n",
       "        vertical-align: top;\n",
       "    }\n",
       "\n",
       "    .dataframe thead th {\n",
       "        text-align: right;\n",
       "    }\n",
       "</style>\n",
       "<table border=\"1\" class=\"dataframe\">\n",
       "  <thead>\n",
       "    <tr style=\"text-align: right;\">\n",
       "      <th></th>\n",
       "      <th>id</th>\n",
       "      <th>release_date</th>\n",
       "      <th>movie</th>\n",
       "      <th>production_budget</th>\n",
       "      <th>domestic_gross</th>\n",
       "      <th>worldwide_gross</th>\n",
       "    </tr>\n",
       "  </thead>\n",
       "  <tbody>\n",
       "    <tr>\n",
       "      <th>0</th>\n",
       "      <td>1</td>\n",
       "      <td>Dec 18, 2009</td>\n",
       "      <td>Avatar</td>\n",
       "      <td>$425,000,000</td>\n",
       "      <td>$760,507,625</td>\n",
       "      <td>$2,776,345,279</td>\n",
       "    </tr>\n",
       "    <tr>\n",
       "      <th>1</th>\n",
       "      <td>2</td>\n",
       "      <td>May 20, 2011</td>\n",
       "      <td>Pirates of the Caribbean: On Stranger Tides</td>\n",
       "      <td>$410,600,000</td>\n",
       "      <td>$241,063,875</td>\n",
       "      <td>$1,045,663,875</td>\n",
       "    </tr>\n",
       "    <tr>\n",
       "      <th>2</th>\n",
       "      <td>3</td>\n",
       "      <td>Jun 7, 2019</td>\n",
       "      <td>Dark Phoenix</td>\n",
       "      <td>$350,000,000</td>\n",
       "      <td>$42,762,350</td>\n",
       "      <td>$149,762,350</td>\n",
       "    </tr>\n",
       "    <tr>\n",
       "      <th>3</th>\n",
       "      <td>4</td>\n",
       "      <td>May 1, 2015</td>\n",
       "      <td>Avengers: Age of Ultron</td>\n",
       "      <td>$330,600,000</td>\n",
       "      <td>$459,005,868</td>\n",
       "      <td>$1,403,013,963</td>\n",
       "    </tr>\n",
       "    <tr>\n",
       "      <th>4</th>\n",
       "      <td>5</td>\n",
       "      <td>Dec 15, 2017</td>\n",
       "      <td>Star Wars Ep. VIII: The Last Jedi</td>\n",
       "      <td>$317,000,000</td>\n",
       "      <td>$620,181,382</td>\n",
       "      <td>$1,316,721,747</td>\n",
       "    </tr>\n",
       "    <tr>\n",
       "      <th>...</th>\n",
       "      <td>...</td>\n",
       "      <td>...</td>\n",
       "      <td>...</td>\n",
       "      <td>...</td>\n",
       "      <td>...</td>\n",
       "      <td>...</td>\n",
       "    </tr>\n",
       "    <tr>\n",
       "      <th>5777</th>\n",
       "      <td>78</td>\n",
       "      <td>Dec 31, 2018</td>\n",
       "      <td>Red 11</td>\n",
       "      <td>$7,000</td>\n",
       "      <td>$0</td>\n",
       "      <td>$0</td>\n",
       "    </tr>\n",
       "    <tr>\n",
       "      <th>5778</th>\n",
       "      <td>79</td>\n",
       "      <td>Apr 2, 1999</td>\n",
       "      <td>Following</td>\n",
       "      <td>$6,000</td>\n",
       "      <td>$48,482</td>\n",
       "      <td>$240,495</td>\n",
       "    </tr>\n",
       "    <tr>\n",
       "      <th>5779</th>\n",
       "      <td>80</td>\n",
       "      <td>Jul 13, 2005</td>\n",
       "      <td>Return to the Land of Wonders</td>\n",
       "      <td>$5,000</td>\n",
       "      <td>$1,338</td>\n",
       "      <td>$1,338</td>\n",
       "    </tr>\n",
       "    <tr>\n",
       "      <th>5780</th>\n",
       "      <td>81</td>\n",
       "      <td>Sep 29, 2015</td>\n",
       "      <td>A Plague So Pleasant</td>\n",
       "      <td>$1,400</td>\n",
       "      <td>$0</td>\n",
       "      <td>$0</td>\n",
       "    </tr>\n",
       "    <tr>\n",
       "      <th>5781</th>\n",
       "      <td>82</td>\n",
       "      <td>Aug 5, 2005</td>\n",
       "      <td>My Date With Drew</td>\n",
       "      <td>$1,100</td>\n",
       "      <td>$181,041</td>\n",
       "      <td>$181,041</td>\n",
       "    </tr>\n",
       "  </tbody>\n",
       "</table>\n",
       "<p>5782 rows × 6 columns</p>\n",
       "</div>"
      ],
      "text/plain": [
       "      id  release_date                                        movie  \\\n",
       "0      1  Dec 18, 2009                                       Avatar   \n",
       "1      2  May 20, 2011  Pirates of the Caribbean: On Stranger Tides   \n",
       "2      3   Jun 7, 2019                                 Dark Phoenix   \n",
       "3      4   May 1, 2015                      Avengers: Age of Ultron   \n",
       "4      5  Dec 15, 2017            Star Wars Ep. VIII: The Last Jedi   \n",
       "...   ..           ...                                          ...   \n",
       "5777  78  Dec 31, 2018                                       Red 11   \n",
       "5778  79   Apr 2, 1999                                    Following   \n",
       "5779  80  Jul 13, 2005                Return to the Land of Wonders   \n",
       "5780  81  Sep 29, 2015                         A Plague So Pleasant   \n",
       "5781  82   Aug 5, 2005                            My Date With Drew   \n",
       "\n",
       "     production_budget domestic_gross worldwide_gross  \n",
       "0         $425,000,000   $760,507,625  $2,776,345,279  \n",
       "1         $410,600,000   $241,063,875  $1,045,663,875  \n",
       "2         $350,000,000    $42,762,350    $149,762,350  \n",
       "3         $330,600,000   $459,005,868  $1,403,013,963  \n",
       "4         $317,000,000   $620,181,382  $1,316,721,747  \n",
       "...                ...            ...             ...  \n",
       "5777            $7,000             $0              $0  \n",
       "5778            $6,000        $48,482        $240,495  \n",
       "5779            $5,000         $1,338          $1,338  \n",
       "5780            $1,400             $0              $0  \n",
       "5781            $1,100       $181,041        $181,041  \n",
       "\n",
       "[5782 rows x 6 columns]"
      ]
     },
     "execution_count": 23,
     "metadata": {},
     "output_type": "execute_result"
    }
   ],
   "source": [
    "TN = pd.read_csv(\"zippedData/tn.movie_budgets.csv.gz\")\n",
    "TN\n",
    "#looks really similar to RTbudget"
   ]
  },
  {
   "cell_type": "code",
   "execution_count": 24,
   "metadata": {},
   "outputs": [],
   "source": [
    "TN = TN.drop('id', axis = 1)"
   ]
  },
  {
   "cell_type": "code",
   "execution_count": 25,
   "metadata": {},
   "outputs": [],
   "source": [
    "# TN.release_date[:4]"
   ]
  },
  {
   "cell_type": "markdown",
   "metadata": {},
   "source": [
    "Once again, there is an extra index column that just repeats every 100 rows indiscriminately.  update: removed. "
   ]
  },
  {
   "cell_type": "code",
   "execution_count": 26,
   "metadata": {},
   "outputs": [
    {
     "name": "stdout",
     "output_type": "stream",
     "text": [
      "<class 'pandas.core.frame.DataFrame'>\n",
      "RangeIndex: 5782 entries, 0 to 5781\n",
      "Data columns (total 5 columns):\n",
      " #   Column             Non-Null Count  Dtype \n",
      "---  ------             --------------  ----- \n",
      " 0   release_date       5782 non-null   object\n",
      " 1   movie              5782 non-null   object\n",
      " 2   production_budget  5782 non-null   object\n",
      " 3   domestic_gross     5782 non-null   object\n",
      " 4   worldwide_gross    5782 non-null   object\n",
      "dtypes: object(5)\n",
      "memory usage: 226.0+ KB\n"
     ]
    }
   ],
   "source": [
    "TN.info()"
   ]
  },
  {
   "cell_type": "code",
   "execution_count": 27,
   "metadata": {},
   "outputs": [],
   "source": [
    "TN.release_date = pd.to_datetime(TN.release_date)  \n",
    "# We converting to pd.datetime to make our date calculations accurate. Our analysis will calculate data\n",
    "# and analyze data against time stamped months and years (refine)"
   ]
  },
  {
   "cell_type": "code",
   "execution_count": 28,
   "metadata": {},
   "outputs": [],
   "source": [
    "TN['year'] = pd.DatetimeIndex(TN['release_date']).year \n",
    "# we will create a year column because in order to join data that does not have a full release date.  \n"
   ]
  },
  {
   "cell_type": "code",
   "execution_count": 29,
   "metadata": {},
   "outputs": [
    {
     "ename": "NameError",
     "evalue": "name 'RT_budgets' is not defined",
     "output_type": "error",
     "traceback": [
      "\u001b[0;31m---------------------------------------------------------------------------\u001b[0m",
      "\u001b[0;31mNameError\u001b[0m                                 Traceback (most recent call last)",
      "\u001b[0;32m/tmp/ipykernel_66/2196367354.py\u001b[0m in \u001b[0;36m<module>\u001b[0;34m\u001b[0m\n\u001b[0;32m----> 1\u001b[0;31m \u001b[0mRT_budgets\u001b[0m\u001b[0;34m.\u001b[0m\u001b[0misna\u001b[0m\u001b[0;34m(\u001b[0m\u001b[0;34m)\u001b[0m\u001b[0;34m\u001b[0m\u001b[0;34m\u001b[0m\u001b[0m\n\u001b[0m",
      "\u001b[0;31mNameError\u001b[0m: name 'RT_budgets' is not defined"
     ]
    }
   ],
   "source": [
    "RT_budgets.isna()"
   ]
  },
  {
   "cell_type": "code",
   "execution_count": 30,
   "metadata": {},
   "outputs": [
    {
     "data": {
      "text/plain": [
       "True"
      ]
     },
     "execution_count": 30,
     "metadata": {},
     "output_type": "execute_result"
    }
   ],
   "source": [
    "# It seems as though the numbers and RT budgets are the same dataset.  \n",
    "# Lets perform a similar test\n",
    "TN['domestic_gross'].sum() >= TN['worldwide_gross'].sum() #very odd. "
   ]
  },
  {
   "cell_type": "code",
   "execution_count": 31,
   "metadata": {},
   "outputs": [
    {
     "name": "stdout",
     "output_type": "stream",
     "text": [
      "0\n"
     ]
    },
    {
     "data": {
      "text/plain": [
       "5356"
      ]
     },
     "execution_count": 31,
     "metadata": {},
     "output_type": "execute_result"
    }
   ],
   "source": [
    "print(len(TN[TN.worldwide_gross.isna()]))\n",
    "TN['worldwide_gross'].nunique()"
   ]
  },
  {
   "cell_type": "code",
   "execution_count": 32,
   "metadata": {},
   "outputs": [
    {
     "data": {
      "text/html": [
       "<div>\n",
       "<style scoped>\n",
       "    .dataframe tbody tr th:only-of-type {\n",
       "        vertical-align: middle;\n",
       "    }\n",
       "\n",
       "    .dataframe tbody tr th {\n",
       "        vertical-align: top;\n",
       "    }\n",
       "\n",
       "    .dataframe thead th {\n",
       "        text-align: right;\n",
       "    }\n",
       "</style>\n",
       "<table border=\"1\" class=\"dataframe\">\n",
       "  <thead>\n",
       "    <tr style=\"text-align: right;\">\n",
       "      <th></th>\n",
       "      <th>release_date</th>\n",
       "      <th>movie</th>\n",
       "      <th>production_budget</th>\n",
       "      <th>domestic_gross</th>\n",
       "      <th>worldwide_gross</th>\n",
       "      <th>year</th>\n",
       "    </tr>\n",
       "  </thead>\n",
       "  <tbody>\n",
       "    <tr>\n",
       "      <th>2701</th>\n",
       "      <td>2008-03-07</td>\n",
       "      <td>é·æ±ä¸è (CJ7)</td>\n",
       "      <td>$20,000,000</td>\n",
       "      <td>$206,678</td>\n",
       "      <td>$47,300,771</td>\n",
       "      <td>2008</td>\n",
       "    </tr>\n",
       "    <tr>\n",
       "      <th>4756</th>\n",
       "      <td>2008-04-15</td>\n",
       "      <td>Ã l\\'intÃ©rieur</td>\n",
       "      <td>$3,000,000</td>\n",
       "      <td>$0</td>\n",
       "      <td>$895,932</td>\n",
       "      <td>2008</td>\n",
       "    </tr>\n",
       "    <tr>\n",
       "      <th>514</th>\n",
       "      <td>2017-01-20</td>\n",
       "      <td>xXx: Return of Xander Cage</td>\n",
       "      <td>$85,000,000</td>\n",
       "      <td>$44,898,413</td>\n",
       "      <td>$345,033,359</td>\n",
       "      <td>2017</td>\n",
       "    </tr>\n",
       "    <tr>\n",
       "      <th>697</th>\n",
       "      <td>2002-08-09</td>\n",
       "      <td>xXx</td>\n",
       "      <td>$70,000,000</td>\n",
       "      <td>$141,930,000</td>\n",
       "      <td>$267,200,000</td>\n",
       "      <td>2002</td>\n",
       "    </tr>\n",
       "    <tr>\n",
       "      <th>1958</th>\n",
       "      <td>2017-09-15</td>\n",
       "      <td>mother!</td>\n",
       "      <td>$30,000,000</td>\n",
       "      <td>$17,800,004</td>\n",
       "      <td>$42,531,076</td>\n",
       "      <td>2017</td>\n",
       "    </tr>\n",
       "    <tr>\n",
       "      <th>...</th>\n",
       "      <td>...</td>\n",
       "      <td>...</td>\n",
       "      <td>...</td>\n",
       "      <td>...</td>\n",
       "      <td>...</td>\n",
       "      <td>...</td>\n",
       "    </tr>\n",
       "    <tr>\n",
       "      <th>3262</th>\n",
       "      <td>1999-03-31</td>\n",
       "      <td>10 Things I Hate About You</td>\n",
       "      <td>$13,000,000</td>\n",
       "      <td>$38,177,966</td>\n",
       "      <td>$60,413,950</td>\n",
       "      <td>1999</td>\n",
       "    </tr>\n",
       "    <tr>\n",
       "      <th>3447</th>\n",
       "      <td>2015-11-11</td>\n",
       "      <td>10 Days in a Madhouse</td>\n",
       "      <td>$12,000,000</td>\n",
       "      <td>$14,616</td>\n",
       "      <td>$14,616</td>\n",
       "      <td>2015</td>\n",
       "    </tr>\n",
       "    <tr>\n",
       "      <th>4253</th>\n",
       "      <td>2016-03-11</td>\n",
       "      <td>10 Cloverfield Lane</td>\n",
       "      <td>$5,000,000</td>\n",
       "      <td>$72,082,999</td>\n",
       "      <td>$108,286,422</td>\n",
       "      <td>2016</td>\n",
       "    </tr>\n",
       "    <tr>\n",
       "      <th>3954</th>\n",
       "      <td>2009-07-17</td>\n",
       "      <td>(500) Days of Summer</td>\n",
       "      <td>$7,500,000</td>\n",
       "      <td>$32,425,665</td>\n",
       "      <td>$34,439,060</td>\n",
       "      <td>2009</td>\n",
       "    </tr>\n",
       "    <tr>\n",
       "      <th>5115</th>\n",
       "      <td>2015-11-20</td>\n",
       "      <td>#Horror</td>\n",
       "      <td>$1,500,000</td>\n",
       "      <td>$0</td>\n",
       "      <td>$0</td>\n",
       "      <td>2015</td>\n",
       "    </tr>\n",
       "  </tbody>\n",
       "</table>\n",
       "<p>5782 rows × 6 columns</p>\n",
       "</div>"
      ],
      "text/plain": [
       "     release_date                       movie production_budget  \\\n",
       "2701   2008-03-07          é·æ±ä¸è (CJ7)       $20,000,000   \n",
       "4756   2008-04-15             Ã l\\'intÃ©rieur        $3,000,000   \n",
       "514    2017-01-20  xXx: Return of Xander Cage       $85,000,000   \n",
       "697    2002-08-09                         xXx       $70,000,000   \n",
       "1958   2017-09-15                     mother!       $30,000,000   \n",
       "...           ...                         ...               ...   \n",
       "3262   1999-03-31  10 Things I Hate About You       $13,000,000   \n",
       "3447   2015-11-11       10 Days in a Madhouse       $12,000,000   \n",
       "4253   2016-03-11         10 Cloverfield Lane        $5,000,000   \n",
       "3954   2009-07-17        (500) Days of Summer        $7,500,000   \n",
       "5115   2015-11-20                     #Horror        $1,500,000   \n",
       "\n",
       "     domestic_gross worldwide_gross  year  \n",
       "2701       $206,678     $47,300,771  2008  \n",
       "4756             $0        $895,932  2008  \n",
       "514     $44,898,413    $345,033,359  2017  \n",
       "697    $141,930,000    $267,200,000  2002  \n",
       "1958    $17,800,004     $42,531,076  2017  \n",
       "...             ...             ...   ...  \n",
       "3262    $38,177,966     $60,413,950  1999  \n",
       "3447        $14,616         $14,616  2015  \n",
       "4253    $72,082,999    $108,286,422  2016  \n",
       "3954    $32,425,665     $34,439,060  2009  \n",
       "5115             $0              $0  2015  \n",
       "\n",
       "[5782 rows x 6 columns]"
      ]
     },
     "execution_count": 32,
     "metadata": {},
     "output_type": "execute_result"
    }
   ],
   "source": [
    "TN.sort_values(by=['movie'], ascending=False)"
   ]
  },
  {
   "cell_type": "markdown",
   "metadata": {},
   "source": [
    "Given that the WW gross number is less than the domestic gross number, WW gross really means \"foreign gross\".  So we are going to rename ww gross to foreign gross.  "
   ]
  },
  {
   "cell_type": "markdown",
   "metadata": {},
   "source": [
    "## Comparing RT_Budgets and TN"
   ]
  },
  {
   "cell_type": "code",
   "execution_count": 33,
   "metadata": {},
   "outputs": [
    {
     "ename": "NameError",
     "evalue": "name 'rt_budgets' is not defined",
     "output_type": "error",
     "traceback": [
      "\u001b[0;31m---------------------------------------------------------------------------\u001b[0m",
      "\u001b[0;31mNameError\u001b[0m                                 Traceback (most recent call last)",
      "\u001b[0;32m/tmp/ipykernel_66/690081350.py\u001b[0m in \u001b[0;36m<module>\u001b[0;34m\u001b[0m\n\u001b[0;32m----> 1\u001b[0;31m \u001b[0mprint\u001b[0m\u001b[0;34m(\u001b[0m\u001b[0mlen\u001b[0m\u001b[0;34m(\u001b[0m\u001b[0mrt_budgets\u001b[0m\u001b[0;34m[\u001b[0m\u001b[0mrt_budgets\u001b[0m\u001b[0;34m.\u001b[0m\u001b[0mworldwide_gross\u001b[0m\u001b[0;34m.\u001b[0m\u001b[0misna\u001b[0m\u001b[0;34m(\u001b[0m\u001b[0;34m)\u001b[0m\u001b[0;34m]\u001b[0m\u001b[0;34m)\u001b[0m\u001b[0;34m)\u001b[0m\u001b[0;34m\u001b[0m\u001b[0;34m\u001b[0m\u001b[0m\n\u001b[0m\u001b[1;32m      2\u001b[0m \u001b[0mrt_budgets\u001b[0m\u001b[0;34m[\u001b[0m\u001b[0;34m'worldwide_gross'\u001b[0m\u001b[0;34m]\u001b[0m\u001b[0;34m.\u001b[0m\u001b[0mnunique\u001b[0m\u001b[0;34m(\u001b[0m\u001b[0;34m)\u001b[0m\u001b[0;34m\u001b[0m\u001b[0;34m\u001b[0m\u001b[0m\n",
      "\u001b[0;31mNameError\u001b[0m: name 'rt_budgets' is not defined"
     ]
    }
   ],
   "source": [
    "print(len(rt_budgets[rt_budgets.worldwide_gross.isna()]))\n",
    "rt_budgets['worldwide_gross'].nunique()"
   ]
  },
  {
   "cell_type": "code",
   "execution_count": 34,
   "metadata": {},
   "outputs": [
    {
     "ename": "NameError",
     "evalue": "name 'RT_budget' is not defined",
     "output_type": "error",
     "traceback": [
      "\u001b[0;31m---------------------------------------------------------------------------\u001b[0m",
      "\u001b[0;31mNameError\u001b[0m                                 Traceback (most recent call last)",
      "\u001b[0;32m/tmp/ipykernel_66/4009480724.py\u001b[0m in \u001b[0;36m<module>\u001b[0;34m\u001b[0m\n\u001b[0;32m----> 1\u001b[0;31m \u001b[0mRT_budget\u001b[0m\u001b[0;34m\u001b[0m\u001b[0;34m\u001b[0m\u001b[0m\n\u001b[0m",
      "\u001b[0;31mNameError\u001b[0m: name 'RT_budget' is not defined"
     ]
    }
   ],
   "source": [
    "RT_budget"
   ]
  },
  {
   "cell_type": "code",
   "execution_count": 35,
   "metadata": {},
   "outputs": [],
   "source": [
    "# TN['movie'].unique"
   ]
  },
  {
   "cell_type": "code",
   "execution_count": 36,
   "metadata": {},
   "outputs": [],
   "source": [
    "# rt_budgets['movie'].unique"
   ]
  },
  {
   "cell_type": "code",
   "execution_count": 37,
   "metadata": {},
   "outputs": [],
   "source": [
    "# rt_budgets.info()"
   ]
  },
  {
   "cell_type": "code",
   "execution_count": 38,
   "metadata": {
    "scrolled": true
   },
   "outputs": [],
   "source": [
    "# TN.info()"
   ]
  },
  {
   "cell_type": "code",
   "execution_count": 39,
   "metadata": {},
   "outputs": [],
   "source": [
    "# TN.set_index('movie').join(rt_budgets.set_index('movie'))\n",
    "# TN.isna().any()"
   ]
  },
  {
   "cell_type": "code",
   "execution_count": 40,
   "metadata": {},
   "outputs": [],
   "source": [
    "# rt_budgets.isna().any()"
   ]
  },
  {
   "cell_type": "code",
   "execution_count": 41,
   "metadata": {},
   "outputs": [],
   "source": [
    "# rt_budgets.duplicated(subset='movie').value_counts()"
   ]
  },
  {
   "cell_type": "markdown",
   "metadata": {},
   "source": [
    "## Analyze TN dataframe"
   ]
  },
  {
   "cell_type": "code",
   "execution_count": 88,
   "metadata": {},
   "outputs": [
    {
     "data": {
      "text/plain": [
       "release_date         False\n",
       "movie                False\n",
       "production_budget    False\n",
       "domestic_gross       False\n",
       "worldwide_gross      False\n",
       "year                 False\n",
       "dtype: bool"
      ]
     },
     "execution_count": 88,
     "metadata": {},
     "output_type": "execute_result"
    }
   ],
   "source": [
    "TN.isna().any()"
   ]
  },
  {
   "cell_type": "code",
   "execution_count": 89,
   "metadata": {
    "scrolled": true
   },
   "outputs": [
    {
     "data": {
      "text/plain": [
       "False    5782\n",
       "dtype: int64"
      ]
     },
     "execution_count": 89,
     "metadata": {},
     "output_type": "execute_result"
    }
   ],
   "source": [
    "TN.duplicated(subset=['movie', 'release_date']).value_counts()"
   ]
  },
  {
   "cell_type": "markdown",
   "metadata": {},
   "source": [
    "I think we can safely assume that TN and RT_budgets are identical datasets.   Lets clean BOM movie data and then join it with TN data. "
   ]
  },
  {
   "cell_type": "code",
   "execution_count": 90,
   "metadata": {},
   "outputs": [],
   "source": [
    "# first we need to convert domestic_gross from an object to an int\n",
    "# TN['domestic_gross'] = TN['domestic_gross'].astype(int)\n",
    "# bom_movie_gross.rename(columns={'title' : 'movie'}, inplace=True)\n"
   ]
  },
  {
   "cell_type": "code",
   "execution_count": 91,
   "metadata": {},
   "outputs": [],
   "source": [
    "# TNBOM = TN.merge(bom, on='year', how='outer')"
   ]
  },
  {
   "cell_type": "code",
   "execution_count": 92,
   "metadata": {},
   "outputs": [],
   "source": [
    "# TNBOM"
   ]
  },
  {
   "cell_type": "code",
   "execution_count": 93,
   "metadata": {},
   "outputs": [],
   "source": [
    "# TNBOM[TNBOM.duplicated(subset='movie')].value_counts()\n"
   ]
  },
  {
   "cell_type": "markdown",
   "metadata": {},
   "source": [
    "Because TN ww gross really means foriegn gross, we can probably just rename that column, and rename title to movie in BOM.  I am thinking we drop the production budget and release date from TN and create a new TN DF.  Then concat the new TN DF with BOM to creat a concatonated TNBOM DF.  Then, we can left join the remaining TN columns 'theatre date and budget' onto the resulting TNBOM later on if we need.  LE"
   ]
  },
  {
   "cell_type": "code",
   "execution_count": 94,
   "metadata": {},
   "outputs": [],
   "source": [
    "# TN_gross = TN.drop(['release_date', 'production_budget'], axis=1)\n",
    "# TN_gross.head()"
   ]
  },
  {
   "cell_type": "code",
   "execution_count": null,
   "metadata": {},
   "outputs": [],
   "source": []
  },
  {
   "cell_type": "code",
   "execution_count": 95,
   "metadata": {},
   "outputs": [
    {
     "data": {
      "text/html": [
       "<div>\n",
       "<style scoped>\n",
       "    .dataframe tbody tr th:only-of-type {\n",
       "        vertical-align: middle;\n",
       "    }\n",
       "\n",
       "    .dataframe tbody tr th {\n",
       "        vertical-align: top;\n",
       "    }\n",
       "\n",
       "    .dataframe thead th {\n",
       "        text-align: right;\n",
       "    }\n",
       "</style>\n",
       "<table border=\"1\" class=\"dataframe\">\n",
       "  <thead>\n",
       "    <tr style=\"text-align: right;\">\n",
       "      <th></th>\n",
       "      <th>release_date</th>\n",
       "      <th>movie</th>\n",
       "      <th>production_budget</th>\n",
       "      <th>domestic_gross</th>\n",
       "      <th>worldwide_gross</th>\n",
       "      <th>year</th>\n",
       "    </tr>\n",
       "  </thead>\n",
       "  <tbody>\n",
       "    <tr>\n",
       "      <th>0</th>\n",
       "      <td>2009-12-18</td>\n",
       "      <td>Avatar</td>\n",
       "      <td>$425,000,000</td>\n",
       "      <td>$760,507,625</td>\n",
       "      <td>$2,776,345,279</td>\n",
       "      <td>2009</td>\n",
       "    </tr>\n",
       "    <tr>\n",
       "      <th>1</th>\n",
       "      <td>2011-05-20</td>\n",
       "      <td>Pirates of the Caribbean: On Stranger Tides</td>\n",
       "      <td>$410,600,000</td>\n",
       "      <td>$241,063,875</td>\n",
       "      <td>$1,045,663,875</td>\n",
       "      <td>2011</td>\n",
       "    </tr>\n",
       "    <tr>\n",
       "      <th>2</th>\n",
       "      <td>2019-06-07</td>\n",
       "      <td>Dark Phoenix</td>\n",
       "      <td>$350,000,000</td>\n",
       "      <td>$42,762,350</td>\n",
       "      <td>$149,762,350</td>\n",
       "      <td>2019</td>\n",
       "    </tr>\n",
       "    <tr>\n",
       "      <th>3</th>\n",
       "      <td>2015-05-01</td>\n",
       "      <td>Avengers: Age of Ultron</td>\n",
       "      <td>$330,600,000</td>\n",
       "      <td>$459,005,868</td>\n",
       "      <td>$1,403,013,963</td>\n",
       "      <td>2015</td>\n",
       "    </tr>\n",
       "    <tr>\n",
       "      <th>4</th>\n",
       "      <td>2017-12-15</td>\n",
       "      <td>Star Wars Ep. VIII: The Last Jedi</td>\n",
       "      <td>$317,000,000</td>\n",
       "      <td>$620,181,382</td>\n",
       "      <td>$1,316,721,747</td>\n",
       "      <td>2017</td>\n",
       "    </tr>\n",
       "  </tbody>\n",
       "</table>\n",
       "</div>"
      ],
      "text/plain": [
       "  release_date                                        movie production_budget  \\\n",
       "0   2009-12-18                                       Avatar      $425,000,000   \n",
       "1   2011-05-20  Pirates of the Caribbean: On Stranger Tides      $410,600,000   \n",
       "2   2019-06-07                                 Dark Phoenix      $350,000,000   \n",
       "3   2015-05-01                      Avengers: Age of Ultron      $330,600,000   \n",
       "4   2017-12-15            Star Wars Ep. VIII: The Last Jedi      $317,000,000   \n",
       "\n",
       "  domestic_gross worldwide_gross  year  \n",
       "0   $760,507,625  $2,776,345,279  2009  \n",
       "1   $241,063,875  $1,045,663,875  2011  \n",
       "2    $42,762,350    $149,762,350  2019  \n",
       "3   $459,005,868  $1,403,013,963  2015  \n",
       "4   $620,181,382  $1,316,721,747  2017  "
      ]
     },
     "execution_count": 95,
     "metadata": {},
     "output_type": "execute_result"
    }
   ],
   "source": [
    "TN.drop_duplicates(subset=['movie', 'release_date'], inplace = True)\n",
    "TN.head()"
   ]
  },
  {
   "cell_type": "code",
   "execution_count": 96,
   "metadata": {},
   "outputs": [
    {
     "data": {
      "text/plain": [
       "False    5782\n",
       "dtype: int64"
      ]
     },
     "execution_count": 96,
     "metadata": {},
     "output_type": "execute_result"
    }
   ],
   "source": [
    "TN.duplicated(subset=['movie', 'release_date']).value_counts()"
   ]
  },
  {
   "cell_type": "code",
   "execution_count": 97,
   "metadata": {},
   "outputs": [],
   "source": [
    "TN_clean_base = TN.copy()"
   ]
  },
  {
   "cell_type": "code",
   "execution_count": 98,
   "metadata": {
    "scrolled": true
   },
   "outputs": [
    {
     "data": {
      "text/html": [
       "<div>\n",
       "<style scoped>\n",
       "    .dataframe tbody tr th:only-of-type {\n",
       "        vertical-align: middle;\n",
       "    }\n",
       "\n",
       "    .dataframe tbody tr th {\n",
       "        vertical-align: top;\n",
       "    }\n",
       "\n",
       "    .dataframe thead th {\n",
       "        text-align: right;\n",
       "    }\n",
       "</style>\n",
       "<table border=\"1\" class=\"dataframe\">\n",
       "  <thead>\n",
       "    <tr style=\"text-align: right;\">\n",
       "      <th></th>\n",
       "      <th>release_date</th>\n",
       "      <th>movie</th>\n",
       "      <th>production_budget</th>\n",
       "      <th>domestic_gross</th>\n",
       "      <th>foreign_gross</th>\n",
       "      <th>year</th>\n",
       "    </tr>\n",
       "  </thead>\n",
       "  <tbody>\n",
       "    <tr>\n",
       "      <th>0</th>\n",
       "      <td>2009-12-18</td>\n",
       "      <td>Avatar</td>\n",
       "      <td>$425,000,000</td>\n",
       "      <td>$760,507,625</td>\n",
       "      <td>$2,776,345,279</td>\n",
       "      <td>2009</td>\n",
       "    </tr>\n",
       "    <tr>\n",
       "      <th>1</th>\n",
       "      <td>2011-05-20</td>\n",
       "      <td>Pirates of the Caribbean: On Stranger Tides</td>\n",
       "      <td>$410,600,000</td>\n",
       "      <td>$241,063,875</td>\n",
       "      <td>$1,045,663,875</td>\n",
       "      <td>2011</td>\n",
       "    </tr>\n",
       "    <tr>\n",
       "      <th>2</th>\n",
       "      <td>2019-06-07</td>\n",
       "      <td>Dark Phoenix</td>\n",
       "      <td>$350,000,000</td>\n",
       "      <td>$42,762,350</td>\n",
       "      <td>$149,762,350</td>\n",
       "      <td>2019</td>\n",
       "    </tr>\n",
       "    <tr>\n",
       "      <th>3</th>\n",
       "      <td>2015-05-01</td>\n",
       "      <td>Avengers: Age of Ultron</td>\n",
       "      <td>$330,600,000</td>\n",
       "      <td>$459,005,868</td>\n",
       "      <td>$1,403,013,963</td>\n",
       "      <td>2015</td>\n",
       "    </tr>\n",
       "    <tr>\n",
       "      <th>4</th>\n",
       "      <td>2017-12-15</td>\n",
       "      <td>Star Wars Ep. VIII: The Last Jedi</td>\n",
       "      <td>$317,000,000</td>\n",
       "      <td>$620,181,382</td>\n",
       "      <td>$1,316,721,747</td>\n",
       "      <td>2017</td>\n",
       "    </tr>\n",
       "  </tbody>\n",
       "</table>\n",
       "</div>"
      ],
      "text/plain": [
       "  release_date                                        movie production_budget  \\\n",
       "0   2009-12-18                                       Avatar      $425,000,000   \n",
       "1   2011-05-20  Pirates of the Caribbean: On Stranger Tides      $410,600,000   \n",
       "2   2019-06-07                                 Dark Phoenix      $350,000,000   \n",
       "3   2015-05-01                      Avengers: Age of Ultron      $330,600,000   \n",
       "4   2017-12-15            Star Wars Ep. VIII: The Last Jedi      $317,000,000   \n",
       "\n",
       "  domestic_gross   foreign_gross  year  \n",
       "0   $760,507,625  $2,776,345,279  2009  \n",
       "1   $241,063,875  $1,045,663,875  2011  \n",
       "2    $42,762,350    $149,762,350  2019  \n",
       "3   $459,005,868  $1,403,013,963  2015  \n",
       "4   $620,181,382  $1,316,721,747  2017  "
      ]
     },
     "execution_count": 98,
     "metadata": {},
     "output_type": "execute_result"
    }
   ],
   "source": [
    "TN_clean_base.rename(columns={'worldwide_gross' : 'foreign_gross'}, inplace=True)\n",
    "TN_clean_base.head()"
   ]
  },
  {
   "cell_type": "code",
   "execution_count": null,
   "metadata": {},
   "outputs": [],
   "source": []
  },
  {
   "cell_type": "code",
   "execution_count": 99,
   "metadata": {},
   "outputs": [
    {
     "name": "stderr",
     "output_type": "stream",
     "text": [
      "/tmp/ipykernel_66/3366571303.py:2: FutureWarning: The default value of regex will change from True to False in a future version. In addition, single character regular expressions will *not* be treated as literal strings when regex=True.\n",
      "  TN_clean_base['domestic_gross'] = TN_clean_base['domestic_gross'].str.replace('$', '')\n"
     ]
    }
   ],
   "source": [
    "TN_clean_base['domestic_gross'] = TN_clean_base['domestic_gross'].str.replace(',', '')\n",
    "TN_clean_base['domestic_gross'] = TN_clean_base['domestic_gross'].str.replace('$', '')\n",
    "TN_clean_base['domestic_gross'] = TN_clean_base['domestic_gross'].astype(int)"
   ]
  },
  {
   "cell_type": "code",
   "execution_count": 100,
   "metadata": {},
   "outputs": [],
   "source": [
    "TN_clean_base['foreign_gross'] = TN_clean_base['foreign_gross'].str.replace(',', '')\n",
    "TN_clean_base['production_budget'] = TN_clean_base['production_budget'].str.replace(',', '')"
   ]
  },
  {
   "cell_type": "code",
   "execution_count": 101,
   "metadata": {},
   "outputs": [
    {
     "data": {
      "text/html": [
       "<div>\n",
       "<style scoped>\n",
       "    .dataframe tbody tr th:only-of-type {\n",
       "        vertical-align: middle;\n",
       "    }\n",
       "\n",
       "    .dataframe tbody tr th {\n",
       "        vertical-align: top;\n",
       "    }\n",
       "\n",
       "    .dataframe thead th {\n",
       "        text-align: right;\n",
       "    }\n",
       "</style>\n",
       "<table border=\"1\" class=\"dataframe\">\n",
       "  <thead>\n",
       "    <tr style=\"text-align: right;\">\n",
       "      <th></th>\n",
       "      <th>release_date</th>\n",
       "      <th>movie</th>\n",
       "      <th>production_budget</th>\n",
       "      <th>domestic_gross</th>\n",
       "      <th>foreign_gross</th>\n",
       "      <th>year</th>\n",
       "    </tr>\n",
       "  </thead>\n",
       "  <tbody>\n",
       "    <tr>\n",
       "      <th>0</th>\n",
       "      <td>2009-12-18</td>\n",
       "      <td>Avatar</td>\n",
       "      <td>425000000</td>\n",
       "      <td>760507625</td>\n",
       "      <td>$2776345279</td>\n",
       "      <td>2009</td>\n",
       "    </tr>\n",
       "    <tr>\n",
       "      <th>1</th>\n",
       "      <td>2011-05-20</td>\n",
       "      <td>Pirates of the Caribbean: On Stranger Tides</td>\n",
       "      <td>410600000</td>\n",
       "      <td>241063875</td>\n",
       "      <td>$1045663875</td>\n",
       "      <td>2011</td>\n",
       "    </tr>\n",
       "    <tr>\n",
       "      <th>2</th>\n",
       "      <td>2019-06-07</td>\n",
       "      <td>Dark Phoenix</td>\n",
       "      <td>350000000</td>\n",
       "      <td>42762350</td>\n",
       "      <td>$149762350</td>\n",
       "      <td>2019</td>\n",
       "    </tr>\n",
       "    <tr>\n",
       "      <th>3</th>\n",
       "      <td>2015-05-01</td>\n",
       "      <td>Avengers: Age of Ultron</td>\n",
       "      <td>330600000</td>\n",
       "      <td>459005868</td>\n",
       "      <td>$1403013963</td>\n",
       "      <td>2015</td>\n",
       "    </tr>\n",
       "    <tr>\n",
       "      <th>4</th>\n",
       "      <td>2017-12-15</td>\n",
       "      <td>Star Wars Ep. VIII: The Last Jedi</td>\n",
       "      <td>317000000</td>\n",
       "      <td>620181382</td>\n",
       "      <td>$1316721747</td>\n",
       "      <td>2017</td>\n",
       "    </tr>\n",
       "  </tbody>\n",
       "</table>\n",
       "</div>"
      ],
      "text/plain": [
       "  release_date                                        movie  \\\n",
       "0   2009-12-18                                       Avatar   \n",
       "1   2011-05-20  Pirates of the Caribbean: On Stranger Tides   \n",
       "2   2019-06-07                                 Dark Phoenix   \n",
       "3   2015-05-01                      Avengers: Age of Ultron   \n",
       "4   2017-12-15            Star Wars Ep. VIII: The Last Jedi   \n",
       "\n",
       "   production_budget  domestic_gross foreign_gross  year  \n",
       "0          425000000       760507625   $2776345279  2009  \n",
       "1          410600000       241063875   $1045663875  2011  \n",
       "2          350000000        42762350    $149762350  2019  \n",
       "3          330600000       459005868   $1403013963  2015  \n",
       "4          317000000       620181382   $1316721747  2017  "
      ]
     },
     "execution_count": 101,
     "metadata": {},
     "output_type": "execute_result"
    }
   ],
   "source": [
    "TN_clean_base.production_budget = TN_clean_base.production_budget.map(lambda x: x.strip('$')).astype(int)\n",
    "TN_clean_base.head()"
   ]
  },
  {
   "cell_type": "code",
   "execution_count": 102,
   "metadata": {},
   "outputs": [
    {
     "data": {
      "text/html": [
       "<div>\n",
       "<style scoped>\n",
       "    .dataframe tbody tr th:only-of-type {\n",
       "        vertical-align: middle;\n",
       "    }\n",
       "\n",
       "    .dataframe tbody tr th {\n",
       "        vertical-align: top;\n",
       "    }\n",
       "\n",
       "    .dataframe thead th {\n",
       "        text-align: right;\n",
       "    }\n",
       "</style>\n",
       "<table border=\"1\" class=\"dataframe\">\n",
       "  <thead>\n",
       "    <tr style=\"text-align: right;\">\n",
       "      <th></th>\n",
       "      <th>release_date</th>\n",
       "      <th>movie</th>\n",
       "      <th>production_budget</th>\n",
       "      <th>domestic_gross</th>\n",
       "      <th>foreign_gross</th>\n",
       "      <th>year</th>\n",
       "    </tr>\n",
       "  </thead>\n",
       "  <tbody>\n",
       "    <tr>\n",
       "      <th>0</th>\n",
       "      <td>2009-12-18</td>\n",
       "      <td>Avatar</td>\n",
       "      <td>425000000</td>\n",
       "      <td>760507625</td>\n",
       "      <td>2776345279</td>\n",
       "      <td>2009</td>\n",
       "    </tr>\n",
       "    <tr>\n",
       "      <th>1</th>\n",
       "      <td>2011-05-20</td>\n",
       "      <td>Pirates of the Caribbean: On Stranger Tides</td>\n",
       "      <td>410600000</td>\n",
       "      <td>241063875</td>\n",
       "      <td>1045663875</td>\n",
       "      <td>2011</td>\n",
       "    </tr>\n",
       "    <tr>\n",
       "      <th>2</th>\n",
       "      <td>2019-06-07</td>\n",
       "      <td>Dark Phoenix</td>\n",
       "      <td>350000000</td>\n",
       "      <td>42762350</td>\n",
       "      <td>149762350</td>\n",
       "      <td>2019</td>\n",
       "    </tr>\n",
       "    <tr>\n",
       "      <th>3</th>\n",
       "      <td>2015-05-01</td>\n",
       "      <td>Avengers: Age of Ultron</td>\n",
       "      <td>330600000</td>\n",
       "      <td>459005868</td>\n",
       "      <td>1403013963</td>\n",
       "      <td>2015</td>\n",
       "    </tr>\n",
       "    <tr>\n",
       "      <th>4</th>\n",
       "      <td>2017-12-15</td>\n",
       "      <td>Star Wars Ep. VIII: The Last Jedi</td>\n",
       "      <td>317000000</td>\n",
       "      <td>620181382</td>\n",
       "      <td>1316721747</td>\n",
       "      <td>2017</td>\n",
       "    </tr>\n",
       "  </tbody>\n",
       "</table>\n",
       "</div>"
      ],
      "text/plain": [
       "  release_date                                        movie  \\\n",
       "0   2009-12-18                                       Avatar   \n",
       "1   2011-05-20  Pirates of the Caribbean: On Stranger Tides   \n",
       "2   2019-06-07                                 Dark Phoenix   \n",
       "3   2015-05-01                      Avengers: Age of Ultron   \n",
       "4   2017-12-15            Star Wars Ep. VIII: The Last Jedi   \n",
       "\n",
       "   production_budget  domestic_gross  foreign_gross  year  \n",
       "0          425000000       760507625     2776345279  2009  \n",
       "1          410600000       241063875     1045663875  2011  \n",
       "2          350000000        42762350      149762350  2019  \n",
       "3          330600000       459005868     1403013963  2015  \n",
       "4          317000000       620181382     1316721747  2017  "
      ]
     },
     "execution_count": 102,
     "metadata": {},
     "output_type": "execute_result"
    }
   ],
   "source": [
    "TN_clean_base.foreign_gross = TN_clean_base.foreign_gross.map(lambda x: x.strip('$')).astype(int)\n",
    "TN_clean_base.head()"
   ]
  },
  {
   "cell_type": "code",
   "execution_count": 103,
   "metadata": {},
   "outputs": [
    {
     "data": {
      "text/plain": [
       "0"
      ]
     },
     "execution_count": 103,
     "metadata": {},
     "output_type": "execute_result"
    }
   ],
   "source": [
    "TN_clean_base[TN_clean_base['movie'].isna()]\n",
    "TN_clean_base.duplicated().sum()"
   ]
  },
  {
   "cell_type": "code",
   "execution_count": 104,
   "metadata": {},
   "outputs": [],
   "source": [
    "TN_clean_base['foreign_gross'] = TN_clean_base['foreign_gross'].astype(int)\n",
    "TN_clean_base['production_budget'] = TN_clean_base['production_budget'].astype(int)"
   ]
  },
  {
   "cell_type": "code",
   "execution_count": 105,
   "metadata": {},
   "outputs": [],
   "source": [
    "TN_clean_base['domestic_profit_loss'] = TN_clean_base['domestic_gross'] - TN_clean_base['production_budget']\n",
    "TN_clean_base['foreign_profit_loss'] = TN_clean_base['foreign_gross'] - TN_clean_base['production_budget']\n",
    "TN_clean_base['total_gross'] = TN_clean_base['domestic_gross'] + TN_clean_base['foreign_gross']\n",
    "TN_clean_base['total_profit_loss'] = TN_clean_base['domestic_profit_loss'] + TN_clean_base['foreign_profit_loss'].astype(int)"
   ]
  },
  {
   "cell_type": "code",
   "execution_count": 60,
   "metadata": {},
   "outputs": [],
   "source": [
    "# # TN_clean_base['total_profit_loss'] = TN_clean_base.assign(millions = lambda x: x(['total_profit_loss']/1000000))\n",
    "# TN_clean_base['production_budget'] = TN_clean_base.assign(millions = lambda x: x(['total_profit_loss']/1000000))"
   ]
  },
  {
   "cell_type": "code",
   "execution_count": 61,
   "metadata": {},
   "outputs": [
    {
     "data": {
      "text/html": [
       "<div>\n",
       "<style scoped>\n",
       "    .dataframe tbody tr th:only-of-type {\n",
       "        vertical-align: middle;\n",
       "    }\n",
       "\n",
       "    .dataframe tbody tr th {\n",
       "        vertical-align: top;\n",
       "    }\n",
       "\n",
       "    .dataframe thead th {\n",
       "        text-align: right;\n",
       "    }\n",
       "</style>\n",
       "<table border=\"1\" class=\"dataframe\">\n",
       "  <thead>\n",
       "    <tr style=\"text-align: right;\">\n",
       "      <th></th>\n",
       "      <th>release_date</th>\n",
       "      <th>movie</th>\n",
       "      <th>production_budget</th>\n",
       "      <th>domestic_gross</th>\n",
       "      <th>foreign_gross</th>\n",
       "      <th>year</th>\n",
       "      <th>domestic_profit_loss</th>\n",
       "      <th>foreign_profit_loss</th>\n",
       "      <th>total_gross</th>\n",
       "      <th>total_profit_loss</th>\n",
       "    </tr>\n",
       "  </thead>\n",
       "  <tbody>\n",
       "    <tr>\n",
       "      <th>0</th>\n",
       "      <td>2009-12-18</td>\n",
       "      <td>Avatar</td>\n",
       "      <td>425000000</td>\n",
       "      <td>760507625</td>\n",
       "      <td>2776345279</td>\n",
       "      <td>2009</td>\n",
       "      <td>335507625</td>\n",
       "      <td>2351345279</td>\n",
       "      <td>3536852904</td>\n",
       "      <td>2686852904</td>\n",
       "    </tr>\n",
       "    <tr>\n",
       "      <th>1</th>\n",
       "      <td>2011-05-20</td>\n",
       "      <td>Pirates of the Caribbean: On Stranger Tides</td>\n",
       "      <td>410600000</td>\n",
       "      <td>241063875</td>\n",
       "      <td>1045663875</td>\n",
       "      <td>2011</td>\n",
       "      <td>-169536125</td>\n",
       "      <td>635063875</td>\n",
       "      <td>1286727750</td>\n",
       "      <td>465527750</td>\n",
       "    </tr>\n",
       "    <tr>\n",
       "      <th>2</th>\n",
       "      <td>2019-06-07</td>\n",
       "      <td>Dark Phoenix</td>\n",
       "      <td>350000000</td>\n",
       "      <td>42762350</td>\n",
       "      <td>149762350</td>\n",
       "      <td>2019</td>\n",
       "      <td>-307237650</td>\n",
       "      <td>-200237650</td>\n",
       "      <td>192524700</td>\n",
       "      <td>-507475300</td>\n",
       "    </tr>\n",
       "    <tr>\n",
       "      <th>3</th>\n",
       "      <td>2015-05-01</td>\n",
       "      <td>Avengers: Age of Ultron</td>\n",
       "      <td>330600000</td>\n",
       "      <td>459005868</td>\n",
       "      <td>1403013963</td>\n",
       "      <td>2015</td>\n",
       "      <td>128405868</td>\n",
       "      <td>1072413963</td>\n",
       "      <td>1862019831</td>\n",
       "      <td>1200819831</td>\n",
       "    </tr>\n",
       "    <tr>\n",
       "      <th>4</th>\n",
       "      <td>2017-12-15</td>\n",
       "      <td>Star Wars Ep. VIII: The Last Jedi</td>\n",
       "      <td>317000000</td>\n",
       "      <td>620181382</td>\n",
       "      <td>1316721747</td>\n",
       "      <td>2017</td>\n",
       "      <td>303181382</td>\n",
       "      <td>999721747</td>\n",
       "      <td>1936903129</td>\n",
       "      <td>1302903129</td>\n",
       "    </tr>\n",
       "  </tbody>\n",
       "</table>\n",
       "</div>"
      ],
      "text/plain": [
       "  release_date                                        movie  \\\n",
       "0   2009-12-18                                       Avatar   \n",
       "1   2011-05-20  Pirates of the Caribbean: On Stranger Tides   \n",
       "2   2019-06-07                                 Dark Phoenix   \n",
       "3   2015-05-01                      Avengers: Age of Ultron   \n",
       "4   2017-12-15            Star Wars Ep. VIII: The Last Jedi   \n",
       "\n",
       "   production_budget  domestic_gross  foreign_gross  year  \\\n",
       "0          425000000       760507625     2776345279  2009   \n",
       "1          410600000       241063875     1045663875  2011   \n",
       "2          350000000        42762350      149762350  2019   \n",
       "3          330600000       459005868     1403013963  2015   \n",
       "4          317000000       620181382     1316721747  2017   \n",
       "\n",
       "   domestic_profit_loss  foreign_profit_loss  total_gross  total_profit_loss  \n",
       "0             335507625           2351345279   3536852904         2686852904  \n",
       "1            -169536125            635063875   1286727750          465527750  \n",
       "2            -307237650           -200237650    192524700         -507475300  \n",
       "3             128405868           1072413963   1862019831         1200819831  \n",
       "4             303181382            999721747   1936903129         1302903129  "
      ]
     },
     "execution_count": 61,
     "metadata": {},
     "output_type": "execute_result"
    }
   ],
   "source": [
    "TN_clean_base.head()"
   ]
  },
  {
   "cell_type": "code",
   "execution_count": 62,
   "metadata": {},
   "outputs": [
    {
     "name": "stdout",
     "output_type": "stream",
     "text": [
      "<class 'pandas.core.frame.DataFrame'>\n",
      "Int64Index: 5782 entries, 0 to 5781\n",
      "Data columns (total 10 columns):\n",
      " #   Column                Non-Null Count  Dtype         \n",
      "---  ------                --------------  -----         \n",
      " 0   release_date          5782 non-null   datetime64[ns]\n",
      " 1   movie                 5782 non-null   object        \n",
      " 2   production_budget     5782 non-null   int64         \n",
      " 3   domestic_gross        5782 non-null   int64         \n",
      " 4   foreign_gross         5782 non-null   int64         \n",
      " 5   year                  5782 non-null   int64         \n",
      " 6   domestic_profit_loss  5782 non-null   int64         \n",
      " 7   foreign_profit_loss   5782 non-null   int64         \n",
      " 8   total_gross           5782 non-null   int64         \n",
      " 9   total_profit_loss     5782 non-null   int64         \n",
      "dtypes: datetime64[ns](1), int64(8), object(1)\n",
      "memory usage: 496.9+ KB\n"
     ]
    }
   ],
   "source": [
    "TN_clean_base.info()"
   ]
  },
  {
   "cell_type": "code",
   "execution_count": 63,
   "metadata": {},
   "outputs": [],
   "source": [
    "# TN_clean_base['Total_Profit_loss'] = TN_clean_base['Total_Profit_loss'].astype(int)"
   ]
  },
  {
   "cell_type": "code",
   "execution_count": 64,
   "metadata": {},
   "outputs": [
    {
     "data": {
      "text/html": [
       "<div>\n",
       "<style scoped>\n",
       "    .dataframe tbody tr th:only-of-type {\n",
       "        vertical-align: middle;\n",
       "    }\n",
       "\n",
       "    .dataframe tbody tr th {\n",
       "        vertical-align: top;\n",
       "    }\n",
       "\n",
       "    .dataframe thead th {\n",
       "        text-align: right;\n",
       "    }\n",
       "</style>\n",
       "<table border=\"1\" class=\"dataframe\">\n",
       "  <thead>\n",
       "    <tr style=\"text-align: right;\">\n",
       "      <th></th>\n",
       "      <th>production_budget</th>\n",
       "      <th>domestic_gross</th>\n",
       "      <th>foreign_gross</th>\n",
       "      <th>year</th>\n",
       "      <th>domestic_profit_loss</th>\n",
       "      <th>foreign_profit_loss</th>\n",
       "      <th>total_gross</th>\n",
       "      <th>total_profit_loss</th>\n",
       "    </tr>\n",
       "  </thead>\n",
       "  <tbody>\n",
       "    <tr>\n",
       "      <th>count</th>\n",
       "      <td>5.782000e+03</td>\n",
       "      <td>5.782000e+03</td>\n",
       "      <td>5.782000e+03</td>\n",
       "      <td>5782.000000</td>\n",
       "      <td>5.782000e+03</td>\n",
       "      <td>5.782000e+03</td>\n",
       "      <td>5.782000e+03</td>\n",
       "      <td>5.782000e+03</td>\n",
       "    </tr>\n",
       "    <tr>\n",
       "      <th>mean</th>\n",
       "      <td>3.158776e+07</td>\n",
       "      <td>4.187333e+07</td>\n",
       "      <td>9.148746e+07</td>\n",
       "      <td>2003.967139</td>\n",
       "      <td>1.028557e+07</td>\n",
       "      <td>5.989970e+07</td>\n",
       "      <td>1.333608e+08</td>\n",
       "      <td>7.018527e+07</td>\n",
       "    </tr>\n",
       "    <tr>\n",
       "      <th>std</th>\n",
       "      <td>4.181208e+07</td>\n",
       "      <td>6.824060e+07</td>\n",
       "      <td>1.747200e+08</td>\n",
       "      <td>12.724386</td>\n",
       "      <td>4.992137e+07</td>\n",
       "      <td>1.460889e+08</td>\n",
       "      <td>2.399411e+08</td>\n",
       "      <td>1.867411e+08</td>\n",
       "    </tr>\n",
       "    <tr>\n",
       "      <th>min</th>\n",
       "      <td>1.100000e+03</td>\n",
       "      <td>0.000000e+00</td>\n",
       "      <td>0.000000e+00</td>\n",
       "      <td>1915.000000</td>\n",
       "      <td>-3.072376e+08</td>\n",
       "      <td>-2.002376e+08</td>\n",
       "      <td>0.000000e+00</td>\n",
       "      <td>-5.074753e+08</td>\n",
       "    </tr>\n",
       "    <tr>\n",
       "      <th>25%</th>\n",
       "      <td>5.000000e+06</td>\n",
       "      <td>1.429534e+06</td>\n",
       "      <td>4.125415e+06</td>\n",
       "      <td>2000.000000</td>\n",
       "      <td>-9.132757e+06</td>\n",
       "      <td>-2.189071e+06</td>\n",
       "      <td>6.448924e+06</td>\n",
       "      <td>-7.941690e+06</td>\n",
       "    </tr>\n",
       "    <tr>\n",
       "      <th>50%</th>\n",
       "      <td>1.700000e+07</td>\n",
       "      <td>1.722594e+07</td>\n",
       "      <td>2.798445e+07</td>\n",
       "      <td>2007.000000</td>\n",
       "      <td>-3.487755e+05</td>\n",
       "      <td>8.550286e+06</td>\n",
       "      <td>4.605855e+07</td>\n",
       "      <td>7.631958e+06</td>\n",
       "    </tr>\n",
       "    <tr>\n",
       "      <th>75%</th>\n",
       "      <td>4.000000e+07</td>\n",
       "      <td>5.234866e+07</td>\n",
       "      <td>9.764584e+07</td>\n",
       "      <td>2012.000000</td>\n",
       "      <td>1.778144e+07</td>\n",
       "      <td>6.096850e+07</td>\n",
       "      <td>1.506937e+08</td>\n",
       "      <td>7.704505e+07</td>\n",
       "    </tr>\n",
       "    <tr>\n",
       "      <th>max</th>\n",
       "      <td>4.250000e+08</td>\n",
       "      <td>9.366622e+08</td>\n",
       "      <td>2.776345e+09</td>\n",
       "      <td>2020.000000</td>\n",
       "      <td>6.306622e+08</td>\n",
       "      <td>2.351345e+09</td>\n",
       "      <td>3.536853e+09</td>\n",
       "      <td>2.686853e+09</td>\n",
       "    </tr>\n",
       "  </tbody>\n",
       "</table>\n",
       "</div>"
      ],
      "text/plain": [
       "       production_budget  domestic_gross  foreign_gross         year  \\\n",
       "count       5.782000e+03    5.782000e+03   5.782000e+03  5782.000000   \n",
       "mean        3.158776e+07    4.187333e+07   9.148746e+07  2003.967139   \n",
       "std         4.181208e+07    6.824060e+07   1.747200e+08    12.724386   \n",
       "min         1.100000e+03    0.000000e+00   0.000000e+00  1915.000000   \n",
       "25%         5.000000e+06    1.429534e+06   4.125415e+06  2000.000000   \n",
       "50%         1.700000e+07    1.722594e+07   2.798445e+07  2007.000000   \n",
       "75%         4.000000e+07    5.234866e+07   9.764584e+07  2012.000000   \n",
       "max         4.250000e+08    9.366622e+08   2.776345e+09  2020.000000   \n",
       "\n",
       "       domestic_profit_loss  foreign_profit_loss   total_gross  \\\n",
       "count          5.782000e+03         5.782000e+03  5.782000e+03   \n",
       "mean           1.028557e+07         5.989970e+07  1.333608e+08   \n",
       "std            4.992137e+07         1.460889e+08  2.399411e+08   \n",
       "min           -3.072376e+08        -2.002376e+08  0.000000e+00   \n",
       "25%           -9.132757e+06        -2.189071e+06  6.448924e+06   \n",
       "50%           -3.487755e+05         8.550286e+06  4.605855e+07   \n",
       "75%            1.778144e+07         6.096850e+07  1.506937e+08   \n",
       "max            6.306622e+08         2.351345e+09  3.536853e+09   \n",
       "\n",
       "       total_profit_loss  \n",
       "count       5.782000e+03  \n",
       "mean        7.018527e+07  \n",
       "std         1.867411e+08  \n",
       "min        -5.074753e+08  \n",
       "25%        -7.941690e+06  \n",
       "50%         7.631958e+06  \n",
       "75%         7.704505e+07  \n",
       "max         2.686853e+09  "
      ]
     },
     "execution_count": 64,
     "metadata": {},
     "output_type": "execute_result"
    }
   ],
   "source": [
    "TN_clean_base.describe()"
   ]
  },
  {
   "cell_type": "markdown",
   "metadata": {},
   "source": [
    "The median and mean are firmly in the range of profits.  "
   ]
  },
  {
   "cell_type": "code",
   "execution_count": 65,
   "metadata": {},
   "outputs": [
    {
     "data": {
      "text/html": [
       "<div>\n",
       "<style scoped>\n",
       "    .dataframe tbody tr th:only-of-type {\n",
       "        vertical-align: middle;\n",
       "    }\n",
       "\n",
       "    .dataframe tbody tr th {\n",
       "        vertical-align: top;\n",
       "    }\n",
       "\n",
       "    .dataframe thead th {\n",
       "        text-align: right;\n",
       "    }\n",
       "</style>\n",
       "<table border=\"1\" class=\"dataframe\">\n",
       "  <thead>\n",
       "    <tr style=\"text-align: right;\">\n",
       "      <th></th>\n",
       "      <th>movie</th>\n",
       "      <th>production_budget</th>\n",
       "      <th>domestic_gross</th>\n",
       "      <th>foreign_gross</th>\n",
       "      <th>year</th>\n",
       "      <th>domestic_profit_loss</th>\n",
       "      <th>foreign_profit_loss</th>\n",
       "      <th>total_gross</th>\n",
       "      <th>total_profit_loss</th>\n",
       "    </tr>\n",
       "    <tr>\n",
       "      <th>release_date</th>\n",
       "      <th></th>\n",
       "      <th></th>\n",
       "      <th></th>\n",
       "      <th></th>\n",
       "      <th></th>\n",
       "      <th></th>\n",
       "      <th></th>\n",
       "      <th></th>\n",
       "      <th></th>\n",
       "    </tr>\n",
       "  </thead>\n",
       "  <tbody>\n",
       "    <tr>\n",
       "      <th>2009-12-18</th>\n",
       "      <td>Avatar</td>\n",
       "      <td>425000000</td>\n",
       "      <td>760507625</td>\n",
       "      <td>2776345279</td>\n",
       "      <td>2009</td>\n",
       "      <td>335507625</td>\n",
       "      <td>2351345279</td>\n",
       "      <td>3536852904</td>\n",
       "      <td>2686852904</td>\n",
       "    </tr>\n",
       "    <tr>\n",
       "      <th>2011-05-20</th>\n",
       "      <td>Pirates of the Caribbean: On Stranger Tides</td>\n",
       "      <td>410600000</td>\n",
       "      <td>241063875</td>\n",
       "      <td>1045663875</td>\n",
       "      <td>2011</td>\n",
       "      <td>-169536125</td>\n",
       "      <td>635063875</td>\n",
       "      <td>1286727750</td>\n",
       "      <td>465527750</td>\n",
       "    </tr>\n",
       "    <tr>\n",
       "      <th>2019-06-07</th>\n",
       "      <td>Dark Phoenix</td>\n",
       "      <td>350000000</td>\n",
       "      <td>42762350</td>\n",
       "      <td>149762350</td>\n",
       "      <td>2019</td>\n",
       "      <td>-307237650</td>\n",
       "      <td>-200237650</td>\n",
       "      <td>192524700</td>\n",
       "      <td>-507475300</td>\n",
       "    </tr>\n",
       "    <tr>\n",
       "      <th>2015-05-01</th>\n",
       "      <td>Avengers: Age of Ultron</td>\n",
       "      <td>330600000</td>\n",
       "      <td>459005868</td>\n",
       "      <td>1403013963</td>\n",
       "      <td>2015</td>\n",
       "      <td>128405868</td>\n",
       "      <td>1072413963</td>\n",
       "      <td>1862019831</td>\n",
       "      <td>1200819831</td>\n",
       "    </tr>\n",
       "    <tr>\n",
       "      <th>2017-12-15</th>\n",
       "      <td>Star Wars Ep. VIII: The Last Jedi</td>\n",
       "      <td>317000000</td>\n",
       "      <td>620181382</td>\n",
       "      <td>1316721747</td>\n",
       "      <td>2017</td>\n",
       "      <td>303181382</td>\n",
       "      <td>999721747</td>\n",
       "      <td>1936903129</td>\n",
       "      <td>1302903129</td>\n",
       "    </tr>\n",
       "    <tr>\n",
       "      <th>...</th>\n",
       "      <td>...</td>\n",
       "      <td>...</td>\n",
       "      <td>...</td>\n",
       "      <td>...</td>\n",
       "      <td>...</td>\n",
       "      <td>...</td>\n",
       "      <td>...</td>\n",
       "      <td>...</td>\n",
       "      <td>...</td>\n",
       "    </tr>\n",
       "    <tr>\n",
       "      <th>2018-12-31</th>\n",
       "      <td>Red 11</td>\n",
       "      <td>7000</td>\n",
       "      <td>0</td>\n",
       "      <td>0</td>\n",
       "      <td>2018</td>\n",
       "      <td>-7000</td>\n",
       "      <td>-7000</td>\n",
       "      <td>0</td>\n",
       "      <td>-14000</td>\n",
       "    </tr>\n",
       "    <tr>\n",
       "      <th>1999-04-02</th>\n",
       "      <td>Following</td>\n",
       "      <td>6000</td>\n",
       "      <td>48482</td>\n",
       "      <td>240495</td>\n",
       "      <td>1999</td>\n",
       "      <td>42482</td>\n",
       "      <td>234495</td>\n",
       "      <td>288977</td>\n",
       "      <td>276977</td>\n",
       "    </tr>\n",
       "    <tr>\n",
       "      <th>2005-07-13</th>\n",
       "      <td>Return to the Land of Wonders</td>\n",
       "      <td>5000</td>\n",
       "      <td>1338</td>\n",
       "      <td>1338</td>\n",
       "      <td>2005</td>\n",
       "      <td>-3662</td>\n",
       "      <td>-3662</td>\n",
       "      <td>2676</td>\n",
       "      <td>-7324</td>\n",
       "    </tr>\n",
       "    <tr>\n",
       "      <th>2015-09-29</th>\n",
       "      <td>A Plague So Pleasant</td>\n",
       "      <td>1400</td>\n",
       "      <td>0</td>\n",
       "      <td>0</td>\n",
       "      <td>2015</td>\n",
       "      <td>-1400</td>\n",
       "      <td>-1400</td>\n",
       "      <td>0</td>\n",
       "      <td>-2800</td>\n",
       "    </tr>\n",
       "    <tr>\n",
       "      <th>2005-08-05</th>\n",
       "      <td>My Date With Drew</td>\n",
       "      <td>1100</td>\n",
       "      <td>181041</td>\n",
       "      <td>181041</td>\n",
       "      <td>2005</td>\n",
       "      <td>179941</td>\n",
       "      <td>179941</td>\n",
       "      <td>362082</td>\n",
       "      <td>359882</td>\n",
       "    </tr>\n",
       "  </tbody>\n",
       "</table>\n",
       "<p>5782 rows × 9 columns</p>\n",
       "</div>"
      ],
      "text/plain": [
       "                                                    movie  production_budget  \\\n",
       "release_date                                                                   \n",
       "2009-12-18                                         Avatar          425000000   \n",
       "2011-05-20    Pirates of the Caribbean: On Stranger Tides          410600000   \n",
       "2019-06-07                                   Dark Phoenix          350000000   \n",
       "2015-05-01                        Avengers: Age of Ultron          330600000   \n",
       "2017-12-15              Star Wars Ep. VIII: The Last Jedi          317000000   \n",
       "...                                                   ...                ...   \n",
       "2018-12-31                                         Red 11               7000   \n",
       "1999-04-02                                      Following               6000   \n",
       "2005-07-13                  Return to the Land of Wonders               5000   \n",
       "2015-09-29                           A Plague So Pleasant               1400   \n",
       "2005-08-05                              My Date With Drew               1100   \n",
       "\n",
       "              domestic_gross  foreign_gross  year  domestic_profit_loss  \\\n",
       "release_date                                                              \n",
       "2009-12-18         760507625     2776345279  2009             335507625   \n",
       "2011-05-20         241063875     1045663875  2011            -169536125   \n",
       "2019-06-07          42762350      149762350  2019            -307237650   \n",
       "2015-05-01         459005868     1403013963  2015             128405868   \n",
       "2017-12-15         620181382     1316721747  2017             303181382   \n",
       "...                      ...            ...   ...                   ...   \n",
       "2018-12-31                 0              0  2018                 -7000   \n",
       "1999-04-02             48482         240495  1999                 42482   \n",
       "2005-07-13              1338           1338  2005                 -3662   \n",
       "2015-09-29                 0              0  2015                 -1400   \n",
       "2005-08-05            181041         181041  2005                179941   \n",
       "\n",
       "              foreign_profit_loss  total_gross  total_profit_loss  \n",
       "release_date                                                       \n",
       "2009-12-18             2351345279   3536852904         2686852904  \n",
       "2011-05-20              635063875   1286727750          465527750  \n",
       "2019-06-07             -200237650    192524700         -507475300  \n",
       "2015-05-01             1072413963   1862019831         1200819831  \n",
       "2017-12-15              999721747   1936903129         1302903129  \n",
       "...                           ...          ...                ...  \n",
       "2018-12-31                  -7000            0             -14000  \n",
       "1999-04-02                 234495       288977             276977  \n",
       "2005-07-13                  -3662         2676              -7324  \n",
       "2015-09-29                  -1400            0              -2800  \n",
       "2005-08-05                 179941       362082             359882  \n",
       "\n",
       "[5782 rows x 9 columns]"
      ]
     },
     "execution_count": 65,
     "metadata": {},
     "output_type": "execute_result"
    }
   ],
   "source": [
    "TN_clean_base.set_index('release_date')"
   ]
  },
  {
   "cell_type": "code",
   "execution_count": 66,
   "metadata": {},
   "outputs": [
    {
     "name": "stdout",
     "output_type": "stream",
     "text": [
      "<class 'pandas.core.frame.DataFrame'>\n",
      "Int64Index: 5782 entries, 0 to 5781\n",
      "Data columns (total 10 columns):\n",
      " #   Column                Non-Null Count  Dtype         \n",
      "---  ------                --------------  -----         \n",
      " 0   release_date          5782 non-null   datetime64[ns]\n",
      " 1   movie                 5782 non-null   object        \n",
      " 2   production_budget     5782 non-null   int64         \n",
      " 3   domestic_gross        5782 non-null   int64         \n",
      " 4   foreign_gross         5782 non-null   int64         \n",
      " 5   year                  5782 non-null   int64         \n",
      " 6   domestic_profit_loss  5782 non-null   int64         \n",
      " 7   foreign_profit_loss   5782 non-null   int64         \n",
      " 8   total_gross           5782 non-null   int64         \n",
      " 9   total_profit_loss     5782 non-null   int64         \n",
      "dtypes: datetime64[ns](1), int64(8), object(1)\n",
      "memory usage: 496.9+ KB\n"
     ]
    }
   ],
   "source": [
    "TN_clean_base.info()"
   ]
  },
  {
   "cell_type": "markdown",
   "metadata": {},
   "source": [
    "now we need to subset total profit and total loss so that we can identify them separately.   "
   ]
  },
  {
   "cell_type": "code",
   "execution_count": 67,
   "metadata": {},
   "outputs": [],
   "source": [
    "# TN_clean_profits = TN_clean_base[(TN_clean_base['total_profit_loss'] >= 0)]\n",
    "# TN_clean_losses = TN_clean_base[(TN_clean_base['total_profit_loss'] < 0)]"
   ]
  },
  {
   "cell_type": "code",
   "execution_count": 68,
   "metadata": {},
   "outputs": [],
   "source": [
    "# TN_clean_base.head()"
   ]
  },
  {
   "cell_type": "code",
   "execution_count": 69,
   "metadata": {},
   "outputs": [],
   "source": [
    "# TN_clean_base['total_profit'] = TN_clean_base['total_profit'].astype(int)\n",
    "# TN_clean_base['total_loss'] = TN_clean_base['total_loss'].astype(int)"
   ]
  },
  {
   "cell_type": "code",
   "execution_count": 108,
   "metadata": {},
   "outputs": [],
   "source": [
    "loss_freq = TN_clean_base[ TN_clean_base['total_profit_loss'] < 0]\n",
    "profit_freq = TN_clean_base[ TN_clean_base['total_profit_loss'] >= 0]\n",
    "loss_freq_adjusted = loss_freq[loss_freq['total_profit_loss'] <= loss_freq['total_profit_loss'].quantile(.95)]\n",
    "profit_freq_adjusted = profit_freq[profit_freq['total_profit_loss'] <= profit_freq['total_profit_loss'].quantile(.95)]\n",
    "post_1980_profit_freq = profit_freq[profit_freq['year'] >= 1980]\n",
    "post_1980_loss_freq = loss_freq[loss_freq['year'] >= 1980]"
   ]
  },
  {
   "cell_type": "code",
   "execution_count": 109,
   "metadata": {
    "scrolled": true
   },
   "outputs": [
    {
     "data": {
      "image/png": "[encoded data removed]",
      "text/plain": [
       "<Figure size 1008x1728 with 1 Axes>"
      ]
     },
     "metadata": {
      "needs_background": "light"
     },
     "output_type": "display_data"
    },
    {
     "data": {
      "text/plain": [
       "<Figure size 432x288 with 0 Axes>"
      ]
     },
     "metadata": {},
     "output_type": "display_data"
    }
   ],
   "source": [
    "fig, ax = plt.subplots(figsize=(14, 24))\n",
    "ax.scatter(\n",
    "    x=profit_freq['total_profit_loss']/1000000,\n",
    "    y=profit_freq['year'],\n",
    "    alpha=.5,\n",
    "    color=\"springgreen\")\n",
    "ax.scatter(\n",
    "    x=loss_freq['total_profit_loss']/1000000,\n",
    "    y=loss_freq['year'],\n",
    "    alpha=.7,\n",
    "    color=\"cyan\")\n",
    "ax.set_facecolor(\"ivory\")\n",
    "labels = ax.get_xticklabels()\n",
    "plt.setp(labels,\n",
    "         rotation=45, \n",
    "         horizontalalignment='right')\n",
    "\n",
    "# plt.xlim(-500000000, 2000000000)\n",
    "# plt.xticks(range(-500000000, 2000000000, 85000000)) \n",
    "\n",
    "ax.xaxis.set_major_formatter('$ {x:1.2f} million')\n",
    "\n",
    "ax.xaxis.set_tick_params(which='major', labelcolor='darkgreen', size=15,\n",
    "                         labelleft=True, labelright=False)\n",
    "ax.set_title('The Profit or Loss of movies over last 100 years', size=25)\n",
    "# Add x label\n",
    "ax.set_xlabel('Profit or Loss', size=20)\n",
    "# Add y label\n",
    "ax.set_ylabel('100 Years of Movie Releases', rotation=90, size=20)\n",
    "\n",
    "plt.axvline(0, 0, 1, color='red')\n",
    "plt.show()\n",
    "plt.tight_layout();"
   ]
  },
  {
   "cell_type": "code",
   "execution_count": 72,
   "metadata": {},
   "outputs": [],
   "source": [
    "# TN_clean_base['total_profit_loss'].min()"
   ]
  },
  {
   "cell_type": "code",
   "execution_count": null,
   "metadata": {},
   "outputs": [],
   "source": []
  },
  {
   "cell_type": "markdown",
   "metadata": {},
   "source": []
  },
  {
   "cell_type": "markdown",
   "metadata": {},
   "source": [
    "The first thing we need to do is sort the data by Month/year, and see what the most profitable time of the year to release movies.  We also want to get an idea on the frequency of profit/loss over time.   We have all the data from the TN set, and assuming we cannot add to that amount, this gives us the most data points to draw informative decisions.  So we might as well use the most data constructively.   \n",
    "\n",
    "First, lets set up some masks.  "
   ]
  },
  {
   "cell_type": "code",
   "execution_count": 73,
   "metadata": {},
   "outputs": [
    {
     "data": {
      "image/png": "[encoded data removed]",
      "text/plain": [
       "<Figure size 1440x1440 with 1 Axes>"
      ]
     },
     "metadata": {
      "needs_background": "light"
     },
     "output_type": "display_data"
    },
    {
     "data": {
      "text/plain": [
       "<Figure size 432x288 with 0 Axes>"
      ]
     },
     "metadata": {},
     "output_type": "display_data"
    }
   ],
   "source": [
    "fig, ax = plt.subplots(figsize=(20,20))\n",
    "\n",
    "ax.hist(post_1980_loss_freq['year'], bins=130, color='plum', density=True)\n",
    "ax.hist(post_1980_profit_freq['year'], bins=130, color='aqua', alpha=.7, density=True)\n",
    "ax.set_facecolor(\"cornsilk\")\n",
    "ax.set_xlabel('40 Year Comparison of the Frequency of Losses and Profits', size=20)\n",
    "ax.set_ylabel('Frequency', size=20)\n",
    "\n",
    "ax.yaxis.set_major_formatter('% {x:1.2f}')\n",
    "ax.yaxis.set_tick_params(which='major', labelcolor='blue',\n",
    "                         labelleft=True, labelright=False)\n",
    "plt.show()\n",
    "plt.tight_layout();"
   ]
  },
  {
   "cell_type": "markdown",
   "metadata": {},
   "source": [
    "This visual demonstrates the relative frequency of profit from 1980 until the present, and is consistent with our initial impressions; it confirms suspicians that the risk reward proposition in movie making changed sometime between 1995 and 2000.  This does not mean that movies did not remain a profitable venture, but prior to 1995, there was a greater frequency of profitible movies relative to the total percentage of all profitable movies ever made.  On the other hand, the great majority of losses ever sustained by the movie industry have been suffered between 2000 and 2020, with a staggering loss of nearly 30 percent of all losses ever in 2015.  While the movie industry may have printed money in the past, the value proposition is much more risky these days."
   ]
  },
  {
   "cell_type": "code",
   "execution_count": null,
   "metadata": {},
   "outputs": [],
   "source": []
  },
  {
   "cell_type": "markdown",
   "metadata": {},
   "source": [
    "## What month is the best to make movies.   2000 - 2020\n",
    "I think this next visual will help us determine the most profitalble month in which to release movies.  In addition, we will continue to shrink our time period, this time evaluating movies from 2000 to the present.   "
   ]
  },
  {
   "cell_type": "code",
   "execution_count": 80,
   "metadata": {},
   "outputs": [],
   "source": [
    "# TN_clean_base[TN_clean_base['year'] == 2015].sort_values(by='total_profit_loss', ascending=False)\n",
    "#Checking out Jupiter Ascending, perhaps the biggest example of lighting money on fire in movie history.  "
   ]
  },
  {
   "cell_type": "code",
   "execution_count": 81,
   "metadata": {},
   "outputs": [],
   "source": [
    "# TN_clean_base[TN_clean_base.duplicated(['domestic_gross', 'foreign_gross'])]"
   ]
  },
  {
   "cell_type": "code",
   "execution_count": 82,
   "metadata": {},
   "outputs": [],
   "source": [
    "# TN_clean_base[TN_clean_base.duplicated(['domestic_gross', 'foreign_gross'])].drop_duplicates(subset=['domestic_gross', 'foreign_gross'], keep='first', inplace = True)\n"
   ]
  },
  {
   "cell_type": "code",
   "execution_count": 83,
   "metadata": {},
   "outputs": [],
   "source": [
    "# TN_clean_base[TN_clean_base.duplicated(['domestic_gross', 'foreign_gross'])].value_counts()"
   ]
  },
  {
   "cell_type": "code",
   "execution_count": null,
   "metadata": {},
   "outputs": [],
   "source": []
  },
  {
   "cell_type": "markdown",
   "metadata": {},
   "source": [
    "It sure looks like there are some duplicate values here.  This is 400 rows of data.  I am going to split the difference and assign half to each in an effort to preserve data.  "
   ]
  },
  {
   "cell_type": "code",
   "execution_count": 110,
   "metadata": {},
   "outputs": [],
   "source": [
    "# now lets sort by month.  \n",
    "# post_2000_profit_loss[post_2000_profit_loss.groupby(post_2000_profit_loss['release_date'].dt.month)['total_profit_loss']]\n",
    "post_2000_profit_loss = TN_clean_base[TN_clean_base['year'] >= 2000]"
   ]
  },
  {
   "cell_type": "code",
   "execution_count": 74,
   "metadata": {},
   "outputs": [
    {
     "ename": "NameError",
     "evalue": "name 'post_2000_profit_loss' is not defined",
     "output_type": "error",
     "traceback": [
      "\u001b[0;31m---------------------------------------------------------------------------\u001b[0m",
      "\u001b[0;31mNameError\u001b[0m                                 Traceback (most recent call last)",
      "\u001b[0;32m/tmp/ipykernel_66/3252110606.py\u001b[0m in \u001b[0;36m<module>\u001b[0;34m\u001b[0m\n\u001b[0;32m----> 1\u001b[0;31m \u001b[0mpost_2000_profit_loss\u001b[0m\u001b[0;34m[\u001b[0m\u001b[0;34m'months'\u001b[0m\u001b[0;34m]\u001b[0m \u001b[0;34m=\u001b[0m \u001b[0mpost_2000_profit_loss\u001b[0m\u001b[0;34m[\u001b[0m\u001b[0;34m'release_date'\u001b[0m\u001b[0;34m]\u001b[0m\u001b[0;34m.\u001b[0m\u001b[0mapply\u001b[0m\u001b[0;34m(\u001b[0m\u001b[0;32mlambda\u001b[0m \u001b[0mx\u001b[0m\u001b[0;34m:\u001b[0m\u001b[0mx\u001b[0m\u001b[0;34m.\u001b[0m\u001b[0mstrftime\u001b[0m\u001b[0;34m(\u001b[0m\u001b[0;34m'%B'\u001b[0m\u001b[0;34m)\u001b[0m\u001b[0;34m)\u001b[0m\u001b[0;34m\u001b[0m\u001b[0;34m\u001b[0m\u001b[0m\n\u001b[0m",
      "\u001b[0;31mNameError\u001b[0m: name 'post_2000_profit_loss' is not defined"
     ]
    }
   ],
   "source": [
    "post_2000_profit_loss['months'] = post_2000_profit_loss['release_date'].apply(lambda x:x.strftime('%B'))"
   ]
  },
  {
   "cell_type": "code",
   "execution_count": 75,
   "metadata": {},
   "outputs": [
    {
     "ename": "NameError",
     "evalue": "name 'post_2000_profit_loss' is not defined",
     "output_type": "error",
     "traceback": [
      "\u001b[0;31m---------------------------------------------------------------------------\u001b[0m",
      "\u001b[0;31mNameError\u001b[0m                                 Traceback (most recent call last)",
      "\u001b[0;32m/tmp/ipykernel_66/2897994357.py\u001b[0m in \u001b[0;36m<module>\u001b[0;34m\u001b[0m\n\u001b[0;32m----> 1\u001b[0;31m \u001b[0mmonths_df\u001b[0m \u001b[0;34m=\u001b[0m \u001b[0mpost_2000_profit_loss\u001b[0m\u001b[0;34m.\u001b[0m\u001b[0mgroupby\u001b[0m\u001b[0;34m(\u001b[0m\u001b[0;34m'months'\u001b[0m\u001b[0;34m)\u001b[0m\u001b[0;34m.\u001b[0m\u001b[0mmean\u001b[0m\u001b[0;34m(\u001b[0m\u001b[0;34m)\u001b[0m\u001b[0;34m.\u001b[0m\u001b[0msort_values\u001b[0m\u001b[0;34m(\u001b[0m\u001b[0mby\u001b[0m\u001b[0;34m=\u001b[0m\u001b[0;34m'total_profit_loss'\u001b[0m\u001b[0;34m,\u001b[0m \u001b[0mascending\u001b[0m\u001b[0;34m=\u001b[0m\u001b[0;32mFalse\u001b[0m\u001b[0;34m)\u001b[0m\u001b[0;34m\u001b[0m\u001b[0;34m\u001b[0m\u001b[0m\n\u001b[0m",
      "\u001b[0;31mNameError\u001b[0m: name 'post_2000_profit_loss' is not defined"
     ]
    }
   ],
   "source": [
    "months_df = post_2000_profit_loss.groupby('months').mean().sort_values(by='total_profit_loss', ascending=False)"
   ]
  },
  {
   "cell_type": "code",
   "execution_count": 76,
   "metadata": {},
   "outputs": [
    {
     "ename": "NameError",
     "evalue": "name 'months_df' is not defined",
     "output_type": "error",
     "traceback": [
      "\u001b[0;31m---------------------------------------------------------------------------\u001b[0m",
      "\u001b[0;31mNameError\u001b[0m                                 Traceback (most recent call last)",
      "\u001b[0;32m/tmp/ipykernel_66/160501773.py\u001b[0m in \u001b[0;36m<module>\u001b[0;34m\u001b[0m\n\u001b[0;32m----> 1\u001b[0;31m \u001b[0mmonths_df\u001b[0m\u001b[0;34m.\u001b[0m\u001b[0minfo\u001b[0m\u001b[0;34m(\u001b[0m\u001b[0;34m)\u001b[0m\u001b[0;34m\u001b[0m\u001b[0;34m\u001b[0m\u001b[0m\n\u001b[0m",
      "\u001b[0;31mNameError\u001b[0m: name 'months_df' is not defined"
     ]
    }
   ],
   "source": [
    "months_df.info()"
   ]
  },
  {
   "cell_type": "code",
   "execution_count": 77,
   "metadata": {},
   "outputs": [
    {
     "ename": "NameError",
     "evalue": "name 'months_df' is not defined",
     "output_type": "error",
     "traceback": [
      "\u001b[0;31m---------------------------------------------------------------------------\u001b[0m",
      "\u001b[0;31mNameError\u001b[0m                                 Traceback (most recent call last)",
      "\u001b[0;32m/tmp/ipykernel_66/2688532751.py\u001b[0m in \u001b[0;36m<module>\u001b[0;34m\u001b[0m\n\u001b[1;32m      4\u001b[0m \u001b[0;31m# Visualizing using Bar Chart\u001b[0m\u001b[0;34m\u001b[0m\u001b[0;34m\u001b[0m\u001b[0;34m\u001b[0m\u001b[0m\n\u001b[1;32m      5\u001b[0m \u001b[0mplt\u001b[0m\u001b[0;34m.\u001b[0m\u001b[0mtitle\u001b[0m\u001b[0;34m(\u001b[0m\u001b[0;34m\"Average Total Profit/Loss by Month Since 2000\"\u001b[0m\u001b[0;34m,\u001b[0m \u001b[0msize\u001b[0m\u001b[0;34m=\u001b[0m\u001b[0;36m20\u001b[0m\u001b[0;34m)\u001b[0m\u001b[0;34m\u001b[0m\u001b[0;34m\u001b[0m\u001b[0m\n\u001b[0;32m----> 6\u001b[0;31m \u001b[0mplt\u001b[0m\u001b[0;34m.\u001b[0m\u001b[0mbar\u001b[0m\u001b[0;34m(\u001b[0m\u001b[0mx\u001b[0m\u001b[0;34m=\u001b[0m\u001b[0mmonths_df\u001b[0m\u001b[0;34m.\u001b[0m\u001b[0mindex\u001b[0m\u001b[0;34m,\u001b[0m \u001b[0mheight\u001b[0m\u001b[0;34m=\u001b[0m\u001b[0mmonths_df\u001b[0m\u001b[0;34m[\u001b[0m\u001b[0;34m'total_profit_loss'\u001b[0m\u001b[0;34m]\u001b[0m\u001b[0;34m/\u001b[0m\u001b[0;36m1000000\u001b[0m\u001b[0;34m,\u001b[0m \u001b[0mdata\u001b[0m\u001b[0;34m=\u001b[0m\u001b[0mmonths_df\u001b[0m\u001b[0;34m)\u001b[0m\u001b[0;34m\u001b[0m\u001b[0;34m\u001b[0m\u001b[0m\n\u001b[0m\u001b[1;32m      7\u001b[0m \u001b[0mcurrent_values\u001b[0m \u001b[0;34m=\u001b[0m \u001b[0mplt\u001b[0m\u001b[0;34m.\u001b[0m\u001b[0mgca\u001b[0m\u001b[0;34m(\u001b[0m\u001b[0;34m)\u001b[0m\u001b[0;34m.\u001b[0m\u001b[0mget_yticks\u001b[0m\u001b[0;34m(\u001b[0m\u001b[0;34m)\u001b[0m\u001b[0;34m\u001b[0m\u001b[0;34m\u001b[0m\u001b[0m\n\u001b[1;32m      8\u001b[0m \u001b[0mplt\u001b[0m\u001b[0;34m.\u001b[0m\u001b[0mgca\u001b[0m\u001b[0;34m(\u001b[0m\u001b[0;34m)\u001b[0m\u001b[0;34m.\u001b[0m\u001b[0mset_yticklabels\u001b[0m\u001b[0;34m(\u001b[0m\u001b[0;34m[\u001b[0m\u001b[0;34m'$ {:.0f} million'\u001b[0m\u001b[0;34m.\u001b[0m\u001b[0mformat\u001b[0m\u001b[0;34m(\u001b[0m\u001b[0mx\u001b[0m\u001b[0;34m)\u001b[0m \u001b[0;32mfor\u001b[0m \u001b[0mx\u001b[0m \u001b[0;32min\u001b[0m \u001b[0mcurrent_values\u001b[0m\u001b[0;34m]\u001b[0m\u001b[0;34m)\u001b[0m\u001b[0;34m\u001b[0m\u001b[0;34m\u001b[0m\u001b[0m\n",
      "\u001b[0;31mNameError\u001b[0m: name 'months_df' is not defined"
     ]
    },
    {
     "data": {
      "image/png": "[encoded data removed]",
      "text/plain": [
       "<Figure size 1440x1008 with 1 Axes>"
      ]
     },
     "metadata": {
      "needs_background": "light"
     },
     "output_type": "display_data"
    }
   ],
   "source": [
    "# Setting the figure size\n",
    "plt.figure(figsize=[20,14]) \n",
    "\n",
    "# Visualizing using Bar Chart\n",
    "plt.title(\"Average Total Profit/Loss by Month Since 2000\", size=20)\n",
    "plt.bar(x=months_df.index, height=months_df['total_profit_loss']/1000000, data=months_df)\n",
    "current_values = plt.gca().get_yticks()\n",
    "plt.gca().set_yticklabels(['$ {:.0f} million'.format(x) for x in current_values])\n",
    "\n",
    "plt.show()\n",
    "plt.tight_layout();"
   ]
  },
  {
   "cell_type": "code",
   "execution_count": 78,
   "metadata": {},
   "outputs": [
    {
     "ename": "NameError",
     "evalue": "name 'post_2000_profit_loss' is not defined",
     "output_type": "error",
     "traceback": [
      "\u001b[0;31m---------------------------------------------------------------------------\u001b[0m",
      "\u001b[0;31mNameError\u001b[0m                                 Traceback (most recent call last)",
      "\u001b[0;32m/tmp/ipykernel_66/3070829919.py\u001b[0m in \u001b[0;36m<module>\u001b[0;34m\u001b[0m\n\u001b[0;32m----> 1\u001b[0;31m below_95_profit = post_2000_profit_loss[post_2000_profit_loss['total_profit_loss'] \n\u001b[0m\u001b[1;32m      2\u001b[0m                       <= post_2000_profit_loss['total_profit_loss'].quantile(.95)]\n\u001b[1;32m      3\u001b[0m \u001b[0;34m\u001b[0m\u001b[0m\n\u001b[1;32m      4\u001b[0m above_5_profit = post_2000_profit_loss[post_2000_profit_loss['total_profit_loss'] \n\u001b[1;32m      5\u001b[0m                       >= post_2000_profit_loss['total_profit_loss'].quantile(.5)]\n",
      "\u001b[0;31mNameError\u001b[0m: name 'post_2000_profit_loss' is not defined"
     ]
    }
   ],
   "source": [
    "below_95_profit = post_2000_profit_loss[post_2000_profit_loss['total_profit_loss'] \n",
    "                      <= post_2000_profit_loss['total_profit_loss'].quantile(.95)]\n",
    "\n",
    "above_5_profit = post_2000_profit_loss[post_2000_profit_loss['total_profit_loss'] \n",
    "                      >= post_2000_profit_loss['total_profit_loss'].quantile(.5)]\n"
   ]
  },
  {
   "cell_type": "code",
   "execution_count": 79,
   "metadata": {},
   "outputs": [
    {
     "ename": "NameError",
     "evalue": "name 'below_95_profit' is not defined",
     "output_type": "error",
     "traceback": [
      "\u001b[0;31m---------------------------------------------------------------------------\u001b[0m",
      "\u001b[0;31mNameError\u001b[0m                                 Traceback (most recent call last)",
      "\u001b[0;32m/tmp/ipykernel_66/3060063857.py\u001b[0m in \u001b[0;36m<module>\u001b[0;34m\u001b[0m\n\u001b[0;32m----> 1\u001b[0;31m \u001b[0mmonths_df_below_95\u001b[0m \u001b[0;34m=\u001b[0m \u001b[0mbelow_95_profit\u001b[0m\u001b[0;34m.\u001b[0m\u001b[0mgroupby\u001b[0m\u001b[0;34m(\u001b[0m\u001b[0;34m'months'\u001b[0m\u001b[0;34m)\u001b[0m\u001b[0;34m.\u001b[0m\u001b[0mmean\u001b[0m\u001b[0;34m(\u001b[0m\u001b[0;34m)\u001b[0m\u001b[0;34m.\u001b[0m\u001b[0msort_values\u001b[0m\u001b[0;34m(\u001b[0m\u001b[0mby\u001b[0m\u001b[0;34m=\u001b[0m\u001b[0;34m'total_profit_loss'\u001b[0m\u001b[0;34m,\u001b[0m \u001b[0mascending\u001b[0m\u001b[0;34m=\u001b[0m\u001b[0;32mFalse\u001b[0m\u001b[0;34m)\u001b[0m\u001b[0;34m\u001b[0m\u001b[0;34m\u001b[0m\u001b[0m\n\u001b[0m",
      "\u001b[0;31mNameError\u001b[0m: name 'below_95_profit' is not defined"
     ]
    }
   ],
   "source": [
    "months_df_below_95 = below_95_profit.groupby('months').mean().sort_values(by='total_profit_loss', ascending=False)"
   ]
  },
  {
   "cell_type": "code",
   "execution_count": 80,
   "metadata": {
    "scrolled": true
   },
   "outputs": [
    {
     "ename": "NameError",
     "evalue": "name 'months_df_below_95' is not defined",
     "output_type": "error",
     "traceback": [
      "\u001b[0;31m---------------------------------------------------------------------------\u001b[0m",
      "\u001b[0;31mNameError\u001b[0m                                 Traceback (most recent call last)",
      "\u001b[0;32m/tmp/ipykernel_66/1168184444.py\u001b[0m in \u001b[0;36m<module>\u001b[0;34m\u001b[0m\n\u001b[1;32m      4\u001b[0m \u001b[0;31m# Visualizing using Bar Chart\u001b[0m\u001b[0;34m\u001b[0m\u001b[0;34m\u001b[0m\u001b[0;34m\u001b[0m\u001b[0m\n\u001b[1;32m      5\u001b[0m \u001b[0mplt\u001b[0m\u001b[0;34m.\u001b[0m\u001b[0mtitle\u001b[0m\u001b[0;34m(\u001b[0m\u001b[0;34m\"The Bottom 95 percent - Average Total Profit/Loss by Month Since 2000\"\u001b[0m\u001b[0;34m,\u001b[0m \u001b[0msize\u001b[0m\u001b[0;34m=\u001b[0m\u001b[0;36m20\u001b[0m\u001b[0;34m)\u001b[0m\u001b[0;34m\u001b[0m\u001b[0;34m\u001b[0m\u001b[0m\n\u001b[0;32m----> 6\u001b[0;31m \u001b[0mplt\u001b[0m\u001b[0;34m.\u001b[0m\u001b[0mbar\u001b[0m\u001b[0;34m(\u001b[0m\u001b[0mx\u001b[0m\u001b[0;34m=\u001b[0m\u001b[0mmonths_df_below_95\u001b[0m\u001b[0;34m.\u001b[0m\u001b[0mindex\u001b[0m\u001b[0;34m,\u001b[0m \u001b[0mheight\u001b[0m\u001b[0;34m=\u001b[0m\u001b[0mmonths_df_below_95\u001b[0m\u001b[0;34m[\u001b[0m\u001b[0;34m'total_profit_loss'\u001b[0m\u001b[0;34m]\u001b[0m\u001b[0;34m/\u001b[0m\u001b[0;36m1000000\u001b[0m\u001b[0;34m,\u001b[0m \u001b[0mdata\u001b[0m\u001b[0;34m=\u001b[0m\u001b[0mmonths_df_below_95\u001b[0m\u001b[0;34m)\u001b[0m\u001b[0;34m\u001b[0m\u001b[0;34m\u001b[0m\u001b[0m\n\u001b[0m\u001b[1;32m      7\u001b[0m \u001b[0mcurrent_values\u001b[0m \u001b[0;34m=\u001b[0m \u001b[0mplt\u001b[0m\u001b[0;34m.\u001b[0m\u001b[0mgca\u001b[0m\u001b[0;34m(\u001b[0m\u001b[0;34m)\u001b[0m\u001b[0;34m.\u001b[0m\u001b[0mget_yticks\u001b[0m\u001b[0;34m(\u001b[0m\u001b[0;34m)\u001b[0m\u001b[0;34m\u001b[0m\u001b[0;34m\u001b[0m\u001b[0m\n\u001b[1;32m      8\u001b[0m \u001b[0mplt\u001b[0m\u001b[0;34m.\u001b[0m\u001b[0mgca\u001b[0m\u001b[0;34m(\u001b[0m\u001b[0;34m)\u001b[0m\u001b[0;34m.\u001b[0m\u001b[0mset_yticklabels\u001b[0m\u001b[0;34m(\u001b[0m\u001b[0;34m[\u001b[0m\u001b[0;34m'$ {:.0f} millions'\u001b[0m\u001b[0;34m.\u001b[0m\u001b[0mformat\u001b[0m\u001b[0;34m(\u001b[0m\u001b[0mx\u001b[0m\u001b[0;34m)\u001b[0m \u001b[0;32mfor\u001b[0m \u001b[0mx\u001b[0m \u001b[0;32min\u001b[0m \u001b[0mcurrent_values\u001b[0m\u001b[0;34m]\u001b[0m\u001b[0;34m)\u001b[0m\u001b[0;34m\u001b[0m\u001b[0;34m\u001b[0m\u001b[0m\n",
      "\u001b[0;31mNameError\u001b[0m: name 'months_df_below_95' is not defined"
     ]
    },
    {
     "data": {
      "image/png": "[encoded data removed]",
      "text/plain": [
       "<Figure size 1440x1008 with 1 Axes>"
      ]
     },
     "metadata": {
      "needs_background": "light"
     },
     "output_type": "display_data"
    }
   ],
   "source": [
    "# Setting the figure size\n",
    "plt.figure(figsize=[20,14]) \n",
    "\n",
    "# Visualizing using Bar Chart\n",
    "plt.title(\"The Bottom 95 percent - Average Total Profit/Loss by Month Since 2000\", size=20)\n",
    "plt.bar(x=months_df_below_95.index, height=months_df_below_95['total_profit_loss']/1000000, data=months_df_below_95)\n",
    "current_values = plt.gca().get_yticks()\n",
    "plt.gca().set_yticklabels(['$ {:.0f} millions'.format(x) for x in current_values])\n",
    "plt.tight_layout()\n",
    "plt.show();"
   ]
  },
  {
   "cell_type": "markdown",
   "metadata": {},
   "source": [
    "The upper end outliers are extraordinary.  Those few movies are profiting nearly 3 times as much as anything in the bottom 95 percent of movies.  "
   ]
  },
  {
   "cell_type": "markdown",
   "metadata": {},
   "source": [
    "## Cleaning BOM data"
   ]
  },
  {
   "cell_type": "code",
   "execution_count": 92,
   "metadata": {},
   "outputs": [],
   "source": [
    "# bom_movie_gross.isna().any()"
   ]
  },
  {
   "cell_type": "code",
   "execution_count": 93,
   "metadata": {},
   "outputs": [],
   "source": [
    "# bom_movie_gross.isna().value_counts()"
   ]
  },
  {
   "cell_type": "code",
   "execution_count": 94,
   "metadata": {},
   "outputs": [],
   "source": [
    "# bom_movie_gross['year'] = bom_movie_gross['year'].astype(int)"
   ]
  },
  {
   "cell_type": "code",
   "execution_count": 95,
   "metadata": {},
   "outputs": [],
   "source": [
    "# bom_movie_gross.rename(columns={'title' : 'movie'}, inplace=True)"
   ]
  },
  {
   "cell_type": "code",
   "execution_count": 96,
   "metadata": {},
   "outputs": [],
   "source": [
    "# bom_movie_gross"
   ]
  },
  {
   "cell_type": "code",
   "execution_count": 97,
   "metadata": {},
   "outputs": [],
   "source": [
    "# year_bom = bom_movie_gross.set_index('movie')\n",
    "# year_bom.head()"
   ]
  },
  {
   "cell_type": "code",
   "execution_count": 98,
   "metadata": {},
   "outputs": [],
   "source": [
    "# bom_movie_gross.drop(['studio'], axis=1)\n",
    "# bom_movie_gross.head()"
   ]
  },
  {
   "cell_type": "code",
   "execution_count": 1057,
   "metadata": {},
   "outputs": [],
   "source": [
    "# lets get some sample data of the NAs \n",
    "# bom_movie_gross['studio'].isna().sample(5)"
   ]
  },
  {
   "cell_type": "code",
   "execution_count": 1058,
   "metadata": {},
   "outputs": [],
   "source": [
    "# bom_movie_gross[bom_movie_gross['studio'].isna()]"
   ]
  },
  {
   "cell_type": "markdown",
   "metadata": {},
   "source": [
    "The only movie that gives me pause is Secret Super Star because 12.2 million is not chump change, but considering that the the Bollywood Indian film was the most highly profitable Bollywood film ever according to Latest Box Office, which is entirely devoted to the Bollywood genre.  There is some argument to MS carving a stake out in the Bollywood market as a long term business endeavor, if one assumes the Indian economy will one day become the largest in the world. However, for the purposes of this project, I don't think this is the market MS is looking to enter.  \n",
    "\n",
    "UPDATE: we are using BOM later for the studio feature.  "
   ]
  },
  {
   "cell_type": "code",
   "execution_count": 1059,
   "metadata": {},
   "outputs": [],
   "source": [
    "# bom_movie_gross.describe()"
   ]
  },
  {
   "cell_type": "code",
   "execution_count": 1060,
   "metadata": {},
   "outputs": [],
   "source": [
    "# bom_movie_gross.dropna(subset=['studio'], inplace=True)"
   ]
  },
  {
   "cell_type": "code",
   "execution_count": 1061,
   "metadata": {},
   "outputs": [],
   "source": [
    "# bom_movie_gross['studio'].isna().sum()"
   ]
  },
  {
   "cell_type": "code",
   "execution_count": 1062,
   "metadata": {},
   "outputs": [],
   "source": [
    "# bom_movie_gross[bom_movie_gross['domestic_gross'].isna()]"
   ]
  },
  {
   "cell_type": "markdown",
   "metadata": {},
   "source": [
    "## Concat TN and BOM \n",
    "lets first concat the TNclean and BOM sets.   "
   ]
  },
  {
   "cell_type": "code",
   "execution_count": 1063,
   "metadata": {},
   "outputs": [],
   "source": [
    "# TNBOM_cat = pd.concat([TN_clean, bom_movie_gross], ignore_index=True)\n",
    "# TNBOM_cat\n",
    "# that almost seems easier than a merge  "
   ]
  },
  {
   "cell_type": "code",
   "execution_count": 1064,
   "metadata": {},
   "outputs": [],
   "source": [
    "# TNBOM_cat.isna().sum()"
   ]
  },
  {
   "cell_type": "markdown",
   "metadata": {},
   "source": [
    "114 million is a lot of revenue.   I dont think we can just ignore that kind of data.  Okay, so the mean domestic gross revenue is about 2.9 million and the standard deviation is 7 million.  Thats pretty wild, as someone I know might say.  "
   ]
  },
  {
   "cell_type": "code",
   "execution_count": 1065,
   "metadata": {},
   "outputs": [],
   "source": [
    "# bom_movie_gross.domestic_gross.hist()"
   ]
  },
  {
   "cell_type": "code",
   "execution_count": 1066,
   "metadata": {},
   "outputs": [],
   "source": [
    "# bom_movie_gross.quantile(q=.84)"
   ]
  },
  {
   "cell_type": "code",
   "execution_count": 1067,
   "metadata": {},
   "outputs": [],
   "source": [
    "# TNBOM_cat['domestic_gross'] = TNBOM_cat['domestic_gross'].str.replace(',', '')\n",
    "# TNBOM_cat['domestic_gross'] = TNBOM_cat['domestic_gross'].str.replace('$', '')\n",
    "# TNBOM_cat['domestic_gross'] = TNBOM_cat['domestic_gross'].astype(float)"
   ]
  },
  {
   "cell_type": "code",
   "execution_count": 1068,
   "metadata": {},
   "outputs": [],
   "source": [
    "# TNBOM_cat = TNBOM_cat['domestic_gross'].str.strip()"
   ]
  },
  {
   "cell_type": "code",
   "execution_count": 1069,
   "metadata": {},
   "outputs": [],
   "source": [
    "# bom_movie_gross.columns = bom_movie_gross.columns.str.strip()"
   ]
  },
  {
   "cell_type": "code",
   "execution_count": 1070,
   "metadata": {},
   "outputs": [],
   "source": [
    "# bom_movie_gross.rename(columns={'title' : 'movie'}, inplace=True)"
   ]
  },
  {
   "cell_type": "code",
   "execution_count": 1071,
   "metadata": {},
   "outputs": [],
   "source": [
    "# TNBOM_cat[TNBOM_cat.duplicated(subset='movie')].count()"
   ]
  },
  {
   "cell_type": "code",
   "execution_count": 1072,
   "metadata": {},
   "outputs": [],
   "source": [
    "# TNBOM_cat = TNBOM_cat.drop_duplicates(subset=['movie'], ignore_index=True)"
   ]
  },
  {
   "cell_type": "code",
   "execution_count": 1073,
   "metadata": {},
   "outputs": [],
   "source": [
    "# TNBOM_cat[TNBOM_cat.duplicated(subset='movie')].count()"
   ]
  },
  {
   "cell_type": "code",
   "execution_count": 1074,
   "metadata": {},
   "outputs": [],
   "source": [
    "# TNBOM_cat[TNBOM_cat['domestic_gross'].isna()]"
   ]
  },
  {
   "cell_type": "markdown",
   "metadata": {},
   "source": [
    "## Combine TN and BOM"
   ]
  },
  {
   "cell_type": "code",
   "execution_count": 1075,
   "metadata": {},
   "outputs": [],
   "source": [
    "#first we need to convert domestic_gross from an object to a float\n",
    "# TN['domestic_gross'] = TN['domestic_gross'].astype(int)"
   ]
  },
  {
   "cell_type": "code",
   "execution_count": 1076,
   "metadata": {},
   "outputs": [],
   "source": [
    "# TNBOM = TN.merge(bom_movie_gross, left_on='year', right_on='domestic_gross', how='outer')"
   ]
  },
  {
   "cell_type": "code",
   "execution_count": 1077,
   "metadata": {},
   "outputs": [],
   "source": [
    "# TNBOM\n"
   ]
  },
  {
   "cell_type": "code",
   "execution_count": 1078,
   "metadata": {
    "scrolled": false
   },
   "outputs": [],
   "source": [
    "# TNBOM[TNBOM.duplicated(subset='movie_x']"
   ]
  },
  {
   "cell_type": "code",
   "execution_count": 1079,
   "metadata": {},
   "outputs": [],
   "source": [
    "# rt_movie_info.info()"
   ]
  },
  {
   "cell_type": "code",
   "execution_count": 1080,
   "metadata": {},
   "outputs": [],
   "source": [
    "# TMDB_RTs_BOM = TMDB.merge(RT_movie_info, on='release_date', how='left').merge(rt_budgets, on='' how='left').merge()"
   ]
  },
  {
   "cell_type": "markdown",
   "metadata": {},
   "source": []
  },
  {
   "cell_type": "markdown",
   "metadata": {},
   "source": [
    "We are icing the above exploration of TN and BOM and using BOM for its studio feature.   "
   ]
  },
  {
   "cell_type": "markdown",
   "metadata": {},
   "source": [
    "## SQL Data\n",
    "\n",
    "The below line should only need to be run once. It unzips the SQL data, since SQLite doesn't work with zipped data."
   ]
  },
  {
   "cell_type": "code",
   "execution_count": 81,
   "metadata": {},
   "outputs": [
    {
     "name": "stdout",
     "output_type": "stream",
     "text": [
      "Archive:  zippedData/im.db.zip\r\n"
     ]
    }
   ],
   "source": [
    "! unzip -n zippedData/im.db.zip"
   ]
  },
  {
   "cell_type": "markdown",
   "metadata": {},
   "source": [
    "Then here is some starter code that reads one of the data tables from the database:"
   ]
  },
  {
   "cell_type": "markdown",
   "metadata": {},
   "source": [
    "# IMDB database\n",
    "We are going to use as little RAM as possible during this part because the SQL db takes a ton.  "
   ]
  },
  {
   "cell_type": "code",
   "execution_count": 82,
   "metadata": {},
   "outputs": [],
   "source": [
    "import sqlite3"
   ]
  },
  {
   "cell_type": "code",
   "execution_count": 83,
   "metadata": {},
   "outputs": [],
   "source": [
    "conn = sqlite3.connect(\"im.db\")"
   ]
  },
  {
   "cell_type": "code",
   "execution_count": 104,
   "metadata": {
    "scrolled": false
   },
   "outputs": [
    {
     "name": "stdout",
     "output_type": "stream",
     "text": [
      "<class 'pandas.core.frame.DataFrame'>\n",
      "RangeIndex: 146144 entries, 0 to 146143\n",
      "Data columns (total 6 columns):\n",
      " #   Column           Non-Null Count   Dtype  \n",
      "---  ------           --------------   -----  \n",
      " 0   movie_id         146144 non-null  object \n",
      " 1   primary_title    146144 non-null  object \n",
      " 2   original_title   146123 non-null  object \n",
      " 3   start_year       146144 non-null  int64  \n",
      " 4   runtime_minutes  114405 non-null  float64\n",
      " 5   genres           140736 non-null  object \n",
      "dtypes: float64(1), int64(1), object(4)\n",
      "memory usage: 6.7+ MB\n"
     ]
    }
   ],
   "source": [
    "movie_basics = pd.read_sql(\"\"\"SELECT *\n",
    "FROM movie_basics\n",
    ";\"\"\", conn)\n",
    "movie_basics.info()"
   ]
  },
  {
   "cell_type": "code",
   "execution_count": 1085,
   "metadata": {},
   "outputs": [],
   "source": [
    "\n",
    "# principals = pd.read_sql(\"SELECT * FROM principals;\", conn)\n",
    "# principals"
   ]
  },
  {
   "cell_type": "code",
   "execution_count": 105,
   "metadata": {},
   "outputs": [
    {
     "data": {
      "text/html": [
       "<div>\n",
       "<style scoped>\n",
       "    .dataframe tbody tr th:only-of-type {\n",
       "        vertical-align: middle;\n",
       "    }\n",
       "\n",
       "    .dataframe tbody tr th {\n",
       "        vertical-align: top;\n",
       "    }\n",
       "\n",
       "    .dataframe thead th {\n",
       "        text-align: right;\n",
       "    }\n",
       "</style>\n",
       "<table border=\"1\" class=\"dataframe\">\n",
       "  <thead>\n",
       "    <tr style=\"text-align: right;\">\n",
       "      <th></th>\n",
       "      <th>movie_id</th>\n",
       "      <th>averagerating</th>\n",
       "      <th>numvotes</th>\n",
       "    </tr>\n",
       "  </thead>\n",
       "  <tbody>\n",
       "    <tr>\n",
       "      <th>0</th>\n",
       "      <td>tt10356526</td>\n",
       "      <td>8.3</td>\n",
       "      <td>31</td>\n",
       "    </tr>\n",
       "    <tr>\n",
       "      <th>1</th>\n",
       "      <td>tt10384606</td>\n",
       "      <td>8.9</td>\n",
       "      <td>559</td>\n",
       "    </tr>\n",
       "    <tr>\n",
       "      <th>2</th>\n",
       "      <td>tt1042974</td>\n",
       "      <td>6.4</td>\n",
       "      <td>20</td>\n",
       "    </tr>\n",
       "    <tr>\n",
       "      <th>3</th>\n",
       "      <td>tt1043726</td>\n",
       "      <td>4.2</td>\n",
       "      <td>50352</td>\n",
       "    </tr>\n",
       "    <tr>\n",
       "      <th>4</th>\n",
       "      <td>tt1060240</td>\n",
       "      <td>6.5</td>\n",
       "      <td>21</td>\n",
       "    </tr>\n",
       "    <tr>\n",
       "      <th>...</th>\n",
       "      <td>...</td>\n",
       "      <td>...</td>\n",
       "      <td>...</td>\n",
       "    </tr>\n",
       "    <tr>\n",
       "      <th>73851</th>\n",
       "      <td>tt9805820</td>\n",
       "      <td>8.1</td>\n",
       "      <td>25</td>\n",
       "    </tr>\n",
       "    <tr>\n",
       "      <th>73852</th>\n",
       "      <td>tt9844256</td>\n",
       "      <td>7.5</td>\n",
       "      <td>24</td>\n",
       "    </tr>\n",
       "    <tr>\n",
       "      <th>73853</th>\n",
       "      <td>tt9851050</td>\n",
       "      <td>4.7</td>\n",
       "      <td>14</td>\n",
       "    </tr>\n",
       "    <tr>\n",
       "      <th>73854</th>\n",
       "      <td>tt9886934</td>\n",
       "      <td>7.0</td>\n",
       "      <td>5</td>\n",
       "    </tr>\n",
       "    <tr>\n",
       "      <th>73855</th>\n",
       "      <td>tt9894098</td>\n",
       "      <td>6.3</td>\n",
       "      <td>128</td>\n",
       "    </tr>\n",
       "  </tbody>\n",
       "</table>\n",
       "<p>73856 rows × 3 columns</p>\n",
       "</div>"
      ],
      "text/plain": [
       "         movie_id  averagerating  numvotes\n",
       "0      tt10356526            8.3        31\n",
       "1      tt10384606            8.9       559\n",
       "2       tt1042974            6.4        20\n",
       "3       tt1043726            4.2     50352\n",
       "4       tt1060240            6.5        21\n",
       "...           ...            ...       ...\n",
       "73851   tt9805820            8.1        25\n",
       "73852   tt9844256            7.5        24\n",
       "73853   tt9851050            4.7        14\n",
       "73854   tt9886934            7.0         5\n",
       "73855   tt9894098            6.3       128\n",
       "\n",
       "[73856 rows x 3 columns]"
      ]
     },
     "execution_count": 105,
     "metadata": {},
     "output_type": "execute_result"
    }
   ],
   "source": [
    "movie_ratings = pd.read_sql(\"SELECT * FROM movie_ratings;\", conn)\n",
    "movie_ratings"
   ]
  },
  {
   "cell_type": "code",
   "execution_count": 1087,
   "metadata": {},
   "outputs": [],
   "source": [
    "# movie_ratings = pd.read_sql(\"SELECT * FROM movie_ratings;\", conn)\n",
    "# movie_ratings.info()"
   ]
  },
  {
   "cell_type": "code",
   "execution_count": 106,
   "metadata": {},
   "outputs": [
    {
     "data": {
      "text/html": [
       "<div>\n",
       "<style scoped>\n",
       "    .dataframe tbody tr th:only-of-type {\n",
       "        vertical-align: middle;\n",
       "    }\n",
       "\n",
       "    .dataframe tbody tr th {\n",
       "        vertical-align: top;\n",
       "    }\n",
       "\n",
       "    .dataframe thead th {\n",
       "        text-align: right;\n",
       "    }\n",
       "</style>\n",
       "<table border=\"1\" class=\"dataframe\">\n",
       "  <thead>\n",
       "    <tr style=\"text-align: right;\">\n",
       "      <th></th>\n",
       "      <th>movie_id</th>\n",
       "      <th>ordering</th>\n",
       "      <th>title</th>\n",
       "      <th>region</th>\n",
       "      <th>language</th>\n",
       "      <th>types</th>\n",
       "      <th>attributes</th>\n",
       "      <th>is_original_title</th>\n",
       "    </tr>\n",
       "  </thead>\n",
       "  <tbody>\n",
       "    <tr>\n",
       "      <th>0</th>\n",
       "      <td>tt0369610</td>\n",
       "      <td>10</td>\n",
       "      <td>Джурасик свят</td>\n",
       "      <td>BG</td>\n",
       "      <td>bg</td>\n",
       "      <td>None</td>\n",
       "      <td>None</td>\n",
       "      <td>0.0</td>\n",
       "    </tr>\n",
       "    <tr>\n",
       "      <th>1</th>\n",
       "      <td>tt0369610</td>\n",
       "      <td>11</td>\n",
       "      <td>Jurashikku warudo</td>\n",
       "      <td>JP</td>\n",
       "      <td>None</td>\n",
       "      <td>imdbDisplay</td>\n",
       "      <td>None</td>\n",
       "      <td>0.0</td>\n",
       "    </tr>\n",
       "    <tr>\n",
       "      <th>2</th>\n",
       "      <td>tt0369610</td>\n",
       "      <td>12</td>\n",
       "      <td>Jurassic World: O Mundo dos Dinossauros</td>\n",
       "      <td>BR</td>\n",
       "      <td>None</td>\n",
       "      <td>imdbDisplay</td>\n",
       "      <td>None</td>\n",
       "      <td>0.0</td>\n",
       "    </tr>\n",
       "    <tr>\n",
       "      <th>3</th>\n",
       "      <td>tt0369610</td>\n",
       "      <td>13</td>\n",
       "      <td>O Mundo dos Dinossauros</td>\n",
       "      <td>BR</td>\n",
       "      <td>None</td>\n",
       "      <td>None</td>\n",
       "      <td>short title</td>\n",
       "      <td>0.0</td>\n",
       "    </tr>\n",
       "    <tr>\n",
       "      <th>4</th>\n",
       "      <td>tt0369610</td>\n",
       "      <td>14</td>\n",
       "      <td>Jurassic World</td>\n",
       "      <td>FR</td>\n",
       "      <td>None</td>\n",
       "      <td>imdbDisplay</td>\n",
       "      <td>None</td>\n",
       "      <td>0.0</td>\n",
       "    </tr>\n",
       "    <tr>\n",
       "      <th>...</th>\n",
       "      <td>...</td>\n",
       "      <td>...</td>\n",
       "      <td>...</td>\n",
       "      <td>...</td>\n",
       "      <td>...</td>\n",
       "      <td>...</td>\n",
       "      <td>...</td>\n",
       "      <td>...</td>\n",
       "    </tr>\n",
       "    <tr>\n",
       "      <th>331698</th>\n",
       "      <td>tt9827784</td>\n",
       "      <td>2</td>\n",
       "      <td>Sayonara kuchibiru</td>\n",
       "      <td>None</td>\n",
       "      <td>None</td>\n",
       "      <td>original</td>\n",
       "      <td>None</td>\n",
       "      <td>1.0</td>\n",
       "    </tr>\n",
       "    <tr>\n",
       "      <th>331699</th>\n",
       "      <td>tt9827784</td>\n",
       "      <td>3</td>\n",
       "      <td>Farewell Song</td>\n",
       "      <td>XWW</td>\n",
       "      <td>en</td>\n",
       "      <td>imdbDisplay</td>\n",
       "      <td>None</td>\n",
       "      <td>0.0</td>\n",
       "    </tr>\n",
       "    <tr>\n",
       "      <th>331700</th>\n",
       "      <td>tt9880178</td>\n",
       "      <td>1</td>\n",
       "      <td>La atención</td>\n",
       "      <td>None</td>\n",
       "      <td>None</td>\n",
       "      <td>original</td>\n",
       "      <td>None</td>\n",
       "      <td>1.0</td>\n",
       "    </tr>\n",
       "    <tr>\n",
       "      <th>331701</th>\n",
       "      <td>tt9880178</td>\n",
       "      <td>2</td>\n",
       "      <td>La atención</td>\n",
       "      <td>ES</td>\n",
       "      <td>None</td>\n",
       "      <td>None</td>\n",
       "      <td>None</td>\n",
       "      <td>0.0</td>\n",
       "    </tr>\n",
       "    <tr>\n",
       "      <th>331702</th>\n",
       "      <td>tt9880178</td>\n",
       "      <td>3</td>\n",
       "      <td>The Attention</td>\n",
       "      <td>XWW</td>\n",
       "      <td>en</td>\n",
       "      <td>imdbDisplay</td>\n",
       "      <td>None</td>\n",
       "      <td>0.0</td>\n",
       "    </tr>\n",
       "  </tbody>\n",
       "</table>\n",
       "<p>331703 rows × 8 columns</p>\n",
       "</div>"
      ],
      "text/plain": [
       "         movie_id  ordering                                    title region  \\\n",
       "0       tt0369610        10                            Джурасик свят     BG   \n",
       "1       tt0369610        11                        Jurashikku warudo     JP   \n",
       "2       tt0369610        12  Jurassic World: O Mundo dos Dinossauros     BR   \n",
       "3       tt0369610        13                  O Mundo dos Dinossauros     BR   \n",
       "4       tt0369610        14                           Jurassic World     FR   \n",
       "...           ...       ...                                      ...    ...   \n",
       "331698  tt9827784         2                       Sayonara kuchibiru   None   \n",
       "331699  tt9827784         3                            Farewell Song    XWW   \n",
       "331700  tt9880178         1                              La atención   None   \n",
       "331701  tt9880178         2                              La atención     ES   \n",
       "331702  tt9880178         3                            The Attention    XWW   \n",
       "\n",
       "       language        types   attributes  is_original_title  \n",
       "0            bg         None         None                0.0  \n",
       "1          None  imdbDisplay         None                0.0  \n",
       "2          None  imdbDisplay         None                0.0  \n",
       "3          None         None  short title                0.0  \n",
       "4          None  imdbDisplay         None                0.0  \n",
       "...         ...          ...          ...                ...  \n",
       "331698     None     original         None                1.0  \n",
       "331699       en  imdbDisplay         None                0.0  \n",
       "331700     None     original         None                1.0  \n",
       "331701     None         None         None                0.0  \n",
       "331702       en  imdbDisplay         None                0.0  \n",
       "\n",
       "[331703 rows x 8 columns]"
      ]
     },
     "execution_count": 106,
     "metadata": {},
     "output_type": "execute_result"
    }
   ],
   "source": [
    "movie_akas = pd.read_sql(\"SELECT * FROM movie_akas;\", conn)\n",
    "movie_akas\n"
   ]
  },
  {
   "cell_type": "code",
   "execution_count": 1089,
   "metadata": {
    "scrolled": false
   },
   "outputs": [],
   "source": [
    "akas = pd.read_sql(\"SELECT  FROM movie_akas;\", conn)\n"
   ]
  },
  {
   "cell_type": "code",
   "execution_count": 59,
   "metadata": {},
   "outputs": [
    {
     "data": {
      "text/html": [
       "<div>\n",
       "<style scoped>\n",
       "    .dataframe tbody tr th:only-of-type {\n",
       "        vertical-align: middle;\n",
       "    }\n",
       "\n",
       "    .dataframe tbody tr th {\n",
       "        vertical-align: top;\n",
       "    }\n",
       "\n",
       "    .dataframe thead th {\n",
       "        text-align: right;\n",
       "    }\n",
       "</style>\n",
       "<table border=\"1\" class=\"dataframe\">\n",
       "  <thead>\n",
       "    <tr style=\"text-align: right;\">\n",
       "      <th></th>\n",
       "      <th>movie_id</th>\n",
       "      <th>primary_title</th>\n",
       "      <th>original_title</th>\n",
       "      <th>start_year</th>\n",
       "      <th>runtime_minutes</th>\n",
       "      <th>genres</th>\n",
       "      <th>movie_id</th>\n",
       "      <th>averagerating</th>\n",
       "      <th>numvotes</th>\n",
       "      <th>movie_id</th>\n",
       "      <th>ordering</th>\n",
       "      <th>title</th>\n",
       "      <th>region</th>\n",
       "      <th>language</th>\n",
       "      <th>types</th>\n",
       "      <th>attributes</th>\n",
       "      <th>is_original_title</th>\n",
       "    </tr>\n",
       "  </thead>\n",
       "  <tbody>\n",
       "    <tr>\n",
       "      <th>0</th>\n",
       "      <td>tt0063540</td>\n",
       "      <td>Sunghursh</td>\n",
       "      <td>Sunghursh</td>\n",
       "      <td>2013</td>\n",
       "      <td>175.0</td>\n",
       "      <td>Action,Crime,Drama</td>\n",
       "      <td>tt0063540</td>\n",
       "      <td>7.0</td>\n",
       "      <td>77.0</td>\n",
       "      <td>tt0063540</td>\n",
       "      <td>1.0</td>\n",
       "      <td>Sangharsh</td>\n",
       "      <td>IN</td>\n",
       "      <td>hi</td>\n",
       "      <td>None</td>\n",
       "      <td>alternative transliteration</td>\n",
       "      <td>0.0</td>\n",
       "    </tr>\n",
       "    <tr>\n",
       "      <th>1</th>\n",
       "      <td>tt0063540</td>\n",
       "      <td>Sunghursh</td>\n",
       "      <td>Sunghursh</td>\n",
       "      <td>2013</td>\n",
       "      <td>175.0</td>\n",
       "      <td>Action,Crime,Drama</td>\n",
       "      <td>tt0063540</td>\n",
       "      <td>7.0</td>\n",
       "      <td>77.0</td>\n",
       "      <td>tt0063540</td>\n",
       "      <td>2.0</td>\n",
       "      <td>Sunghursh</td>\n",
       "      <td>None</td>\n",
       "      <td>None</td>\n",
       "      <td>original</td>\n",
       "      <td>None</td>\n",
       "      <td>1.0</td>\n",
       "    </tr>\n",
       "    <tr>\n",
       "      <th>2</th>\n",
       "      <td>tt0063540</td>\n",
       "      <td>Sunghursh</td>\n",
       "      <td>Sunghursh</td>\n",
       "      <td>2013</td>\n",
       "      <td>175.0</td>\n",
       "      <td>Action,Crime,Drama</td>\n",
       "      <td>tt0063540</td>\n",
       "      <td>7.0</td>\n",
       "      <td>77.0</td>\n",
       "      <td>tt0063540</td>\n",
       "      <td>3.0</td>\n",
       "      <td>Sunghursh</td>\n",
       "      <td>IN</td>\n",
       "      <td>None</td>\n",
       "      <td>None</td>\n",
       "      <td>None</td>\n",
       "      <td>0.0</td>\n",
       "    </tr>\n",
       "    <tr>\n",
       "      <th>3</th>\n",
       "      <td>tt0063540</td>\n",
       "      <td>Sunghursh</td>\n",
       "      <td>Sunghursh</td>\n",
       "      <td>2013</td>\n",
       "      <td>175.0</td>\n",
       "      <td>Action,Crime,Drama</td>\n",
       "      <td>tt0063540</td>\n",
       "      <td>7.0</td>\n",
       "      <td>77.0</td>\n",
       "      <td>tt0063540</td>\n",
       "      <td>4.0</td>\n",
       "      <td>Sunghursh</td>\n",
       "      <td>IN</td>\n",
       "      <td>hi</td>\n",
       "      <td>None</td>\n",
       "      <td>alternative transliteration</td>\n",
       "      <td>0.0</td>\n",
       "    </tr>\n",
       "    <tr>\n",
       "      <th>4</th>\n",
       "      <td>tt0063540</td>\n",
       "      <td>Sunghursh</td>\n",
       "      <td>Sunghursh</td>\n",
       "      <td>2013</td>\n",
       "      <td>175.0</td>\n",
       "      <td>Action,Crime,Drama</td>\n",
       "      <td>tt0063540</td>\n",
       "      <td>7.0</td>\n",
       "      <td>77.0</td>\n",
       "      <td>tt0063540</td>\n",
       "      <td>5.0</td>\n",
       "      <td>Sungharsh</td>\n",
       "      <td>IN</td>\n",
       "      <td>hi</td>\n",
       "      <td>None</td>\n",
       "      <td>alternative spelling</td>\n",
       "      <td>0.0</td>\n",
       "    </tr>\n",
       "  </tbody>\n",
       "</table>\n",
       "</div>"
      ],
      "text/plain": [
       "    movie_id primary_title original_title  start_year  runtime_minutes  \\\n",
       "0  tt0063540     Sunghursh      Sunghursh        2013            175.0   \n",
       "1  tt0063540     Sunghursh      Sunghursh        2013            175.0   \n",
       "2  tt0063540     Sunghursh      Sunghursh        2013            175.0   \n",
       "3  tt0063540     Sunghursh      Sunghursh        2013            175.0   \n",
       "4  tt0063540     Sunghursh      Sunghursh        2013            175.0   \n",
       "\n",
       "               genres   movie_id  averagerating  numvotes   movie_id  \\\n",
       "0  Action,Crime,Drama  tt0063540            7.0      77.0  tt0063540   \n",
       "1  Action,Crime,Drama  tt0063540            7.0      77.0  tt0063540   \n",
       "2  Action,Crime,Drama  tt0063540            7.0      77.0  tt0063540   \n",
       "3  Action,Crime,Drama  tt0063540            7.0      77.0  tt0063540   \n",
       "4  Action,Crime,Drama  tt0063540            7.0      77.0  tt0063540   \n",
       "\n",
       "   ordering      title region language     types                   attributes  \\\n",
       "0       1.0  Sangharsh     IN       hi      None  alternative transliteration   \n",
       "1       2.0  Sunghursh   None     None  original                         None   \n",
       "2       3.0  Sunghursh     IN     None      None                         None   \n",
       "3       4.0  Sunghursh     IN       hi      None  alternative transliteration   \n",
       "4       5.0  Sungharsh     IN       hi      None         alternative spelling   \n",
       "\n",
       "   is_original_title  \n",
       "0                0.0  \n",
       "1                1.0  \n",
       "2                0.0  \n",
       "3                0.0  \n",
       "4                0.0  "
      ]
     },
     "execution_count": 59,
     "metadata": {},
     "output_type": "execute_result"
    }
   ],
   "source": [
    "sql1 = pd.read_sql(\"\"\"\n",
    "SELECT *\n",
    "FROM movie_basics as mb\n",
    "    LEFT JOIN movie_ratings as mr\n",
    "        ON mb.movie_id = mr.movie_id \n",
    "    LEFT JOIN movie_akas as akas\n",
    "        on mb.movie_id = akas.movie_id\n",
    "\"\"\", conn)\n",
    "sql1\n",
    "sql1.head()"
   ]
  },
  {
   "cell_type": "code",
   "execution_count": 60,
   "metadata": {},
   "outputs": [
    {
     "name": "stdout",
     "output_type": "stream",
     "text": [
      "<class 'pandas.core.frame.DataFrame'>\n",
      "Int64Index: 5782 entries, 0 to 5781\n",
      "Data columns (total 10 columns):\n",
      " #   Column                Non-Null Count  Dtype         \n",
      "---  ------                --------------  -----         \n",
      " 0   release_date          5782 non-null   datetime64[ns]\n",
      " 1   movie                 5782 non-null   object        \n",
      " 2   production_budget     5782 non-null   int64         \n",
      " 3   domestic_gross        5782 non-null   int64         \n",
      " 4   foreign_gross         5782 non-null   int64         \n",
      " 5   year                  5782 non-null   int64         \n",
      " 6   domestic_profit_loss  5782 non-null   int64         \n",
      " 7   foreign_profit_loss   5782 non-null   int64         \n",
      " 8   total_gross           5782 non-null   int64         \n",
      " 9   total_profit_loss     5782 non-null   int64         \n",
      "dtypes: datetime64[ns](1), int64(8), object(1)\n",
      "memory usage: 496.9+ KB\n"
     ]
    }
   ],
   "source": [
    "TN_clean_base.info()"
   ]
  },
  {
   "cell_type": "code",
   "execution_count": 61,
   "metadata": {},
   "outputs": [],
   "source": [
    "sql1.rename(columns={'primary_title' : 'movie', 'start_year' : 'year' }, inplace=True)"
   ]
  },
  {
   "cell_type": "markdown",
   "metadata": {},
   "source": [
    "once again, we rename some columns.  "
   ]
  },
  {
   "cell_type": "code",
   "execution_count": 62,
   "metadata": {},
   "outputs": [
    {
     "data": {
      "text/html": [
       "<div>\n",
       "<style scoped>\n",
       "    .dataframe tbody tr th:only-of-type {\n",
       "        vertical-align: middle;\n",
       "    }\n",
       "\n",
       "    .dataframe tbody tr th {\n",
       "        vertical-align: top;\n",
       "    }\n",
       "\n",
       "    .dataframe thead th {\n",
       "        text-align: right;\n",
       "    }\n",
       "</style>\n",
       "<table border=\"1\" class=\"dataframe\">\n",
       "  <thead>\n",
       "    <tr style=\"text-align: right;\">\n",
       "      <th></th>\n",
       "      <th>movie_id</th>\n",
       "      <th>movie</th>\n",
       "      <th>original_title</th>\n",
       "      <th>year</th>\n",
       "      <th>runtime_minutes</th>\n",
       "      <th>genres</th>\n",
       "      <th>movie_id</th>\n",
       "      <th>averagerating</th>\n",
       "      <th>numvotes</th>\n",
       "      <th>movie_id</th>\n",
       "      <th>ordering</th>\n",
       "      <th>title</th>\n",
       "      <th>region</th>\n",
       "      <th>language</th>\n",
       "      <th>types</th>\n",
       "      <th>attributes</th>\n",
       "      <th>is_original_title</th>\n",
       "    </tr>\n",
       "  </thead>\n",
       "  <tbody>\n",
       "    <tr>\n",
       "      <th>0</th>\n",
       "      <td>tt0063540</td>\n",
       "      <td>Sunghursh</td>\n",
       "      <td>Sunghursh</td>\n",
       "      <td>2013</td>\n",
       "      <td>175.0</td>\n",
       "      <td>Action,Crime,Drama</td>\n",
       "      <td>tt0063540</td>\n",
       "      <td>7.0</td>\n",
       "      <td>77.0</td>\n",
       "      <td>tt0063540</td>\n",
       "      <td>1.0</td>\n",
       "      <td>Sangharsh</td>\n",
       "      <td>IN</td>\n",
       "      <td>hi</td>\n",
       "      <td>None</td>\n",
       "      <td>alternative transliteration</td>\n",
       "      <td>0.0</td>\n",
       "    </tr>\n",
       "    <tr>\n",
       "      <th>1</th>\n",
       "      <td>tt0063540</td>\n",
       "      <td>Sunghursh</td>\n",
       "      <td>Sunghursh</td>\n",
       "      <td>2013</td>\n",
       "      <td>175.0</td>\n",
       "      <td>Action,Crime,Drama</td>\n",
       "      <td>tt0063540</td>\n",
       "      <td>7.0</td>\n",
       "      <td>77.0</td>\n",
       "      <td>tt0063540</td>\n",
       "      <td>2.0</td>\n",
       "      <td>Sunghursh</td>\n",
       "      <td>None</td>\n",
       "      <td>None</td>\n",
       "      <td>original</td>\n",
       "      <td>None</td>\n",
       "      <td>1.0</td>\n",
       "    </tr>\n",
       "    <tr>\n",
       "      <th>2</th>\n",
       "      <td>tt0063540</td>\n",
       "      <td>Sunghursh</td>\n",
       "      <td>Sunghursh</td>\n",
       "      <td>2013</td>\n",
       "      <td>175.0</td>\n",
       "      <td>Action,Crime,Drama</td>\n",
       "      <td>tt0063540</td>\n",
       "      <td>7.0</td>\n",
       "      <td>77.0</td>\n",
       "      <td>tt0063540</td>\n",
       "      <td>3.0</td>\n",
       "      <td>Sunghursh</td>\n",
       "      <td>IN</td>\n",
       "      <td>None</td>\n",
       "      <td>None</td>\n",
       "      <td>None</td>\n",
       "      <td>0.0</td>\n",
       "    </tr>\n",
       "    <tr>\n",
       "      <th>3</th>\n",
       "      <td>tt0063540</td>\n",
       "      <td>Sunghursh</td>\n",
       "      <td>Sunghursh</td>\n",
       "      <td>2013</td>\n",
       "      <td>175.0</td>\n",
       "      <td>Action,Crime,Drama</td>\n",
       "      <td>tt0063540</td>\n",
       "      <td>7.0</td>\n",
       "      <td>77.0</td>\n",
       "      <td>tt0063540</td>\n",
       "      <td>4.0</td>\n",
       "      <td>Sunghursh</td>\n",
       "      <td>IN</td>\n",
       "      <td>hi</td>\n",
       "      <td>None</td>\n",
       "      <td>alternative transliteration</td>\n",
       "      <td>0.0</td>\n",
       "    </tr>\n",
       "    <tr>\n",
       "      <th>4</th>\n",
       "      <td>tt0063540</td>\n",
       "      <td>Sunghursh</td>\n",
       "      <td>Sunghursh</td>\n",
       "      <td>2013</td>\n",
       "      <td>175.0</td>\n",
       "      <td>Action,Crime,Drama</td>\n",
       "      <td>tt0063540</td>\n",
       "      <td>7.0</td>\n",
       "      <td>77.0</td>\n",
       "      <td>tt0063540</td>\n",
       "      <td>5.0</td>\n",
       "      <td>Sungharsh</td>\n",
       "      <td>IN</td>\n",
       "      <td>hi</td>\n",
       "      <td>None</td>\n",
       "      <td>alternative spelling</td>\n",
       "      <td>0.0</td>\n",
       "    </tr>\n",
       "  </tbody>\n",
       "</table>\n",
       "</div>"
      ],
      "text/plain": [
       "    movie_id      movie original_title  year  runtime_minutes  \\\n",
       "0  tt0063540  Sunghursh      Sunghursh  2013            175.0   \n",
       "1  tt0063540  Sunghursh      Sunghursh  2013            175.0   \n",
       "2  tt0063540  Sunghursh      Sunghursh  2013            175.0   \n",
       "3  tt0063540  Sunghursh      Sunghursh  2013            175.0   \n",
       "4  tt0063540  Sunghursh      Sunghursh  2013            175.0   \n",
       "\n",
       "               genres   movie_id  averagerating  numvotes   movie_id  \\\n",
       "0  Action,Crime,Drama  tt0063540            7.0      77.0  tt0063540   \n",
       "1  Action,Crime,Drama  tt0063540            7.0      77.0  tt0063540   \n",
       "2  Action,Crime,Drama  tt0063540            7.0      77.0  tt0063540   \n",
       "3  Action,Crime,Drama  tt0063540            7.0      77.0  tt0063540   \n",
       "4  Action,Crime,Drama  tt0063540            7.0      77.0  tt0063540   \n",
       "\n",
       "   ordering      title region language     types                   attributes  \\\n",
       "0       1.0  Sangharsh     IN       hi      None  alternative transliteration   \n",
       "1       2.0  Sunghursh   None     None  original                         None   \n",
       "2       3.0  Sunghursh     IN     None      None                         None   \n",
       "3       4.0  Sunghursh     IN       hi      None  alternative transliteration   \n",
       "4       5.0  Sungharsh     IN       hi      None         alternative spelling   \n",
       "\n",
       "   is_original_title  \n",
       "0                0.0  \n",
       "1                1.0  \n",
       "2                0.0  \n",
       "3                0.0  \n",
       "4                0.0  "
      ]
     },
     "execution_count": 62,
     "metadata": {},
     "output_type": "execute_result"
    }
   ],
   "source": [
    "sql1.head()"
   ]
  },
  {
   "cell_type": "code",
   "execution_count": 63,
   "metadata": {},
   "outputs": [
    {
     "data": {
      "text/plain": [
       "movie_id                  0\n",
       "movie                     0\n",
       "original_title           32\n",
       "year                      0\n",
       "runtime_minutes       41326\n",
       "genres                 6663\n",
       "movie_id              89460\n",
       "averagerating         89460\n",
       "numvotes              89460\n",
       "movie_id              23842\n",
       "ordering              23842\n",
       "title                 23842\n",
       "region                77135\n",
       "language             313830\n",
       "types                187098\n",
       "attributes           340620\n",
       "is_original_title     23867\n",
       "dtype: int64"
      ]
     },
     "execution_count": 63,
     "metadata": {},
     "output_type": "execute_result"
    }
   ],
   "source": [
    "sql1.isna().sum()"
   ]
  },
  {
   "cell_type": "code",
   "execution_count": 64,
   "metadata": {},
   "outputs": [
    {
     "data": {
      "text/html": [
       "<div>\n",
       "<style scoped>\n",
       "    .dataframe tbody tr th:only-of-type {\n",
       "        vertical-align: middle;\n",
       "    }\n",
       "\n",
       "    .dataframe tbody tr th {\n",
       "        vertical-align: top;\n",
       "    }\n",
       "\n",
       "    .dataframe thead th {\n",
       "        text-align: right;\n",
       "    }\n",
       "</style>\n",
       "<table border=\"1\" class=\"dataframe\">\n",
       "  <thead>\n",
       "    <tr style=\"text-align: right;\">\n",
       "      <th></th>\n",
       "      <th>movie_id</th>\n",
       "      <th>movie</th>\n",
       "      <th>original_title</th>\n",
       "      <th>year</th>\n",
       "      <th>runtime_minutes</th>\n",
       "      <th>genres</th>\n",
       "      <th>movie_id</th>\n",
       "      <th>averagerating</th>\n",
       "      <th>numvotes</th>\n",
       "      <th>movie_id</th>\n",
       "      <th>ordering</th>\n",
       "      <th>title</th>\n",
       "      <th>region</th>\n",
       "      <th>language</th>\n",
       "      <th>types</th>\n",
       "      <th>attributes</th>\n",
       "      <th>is_original_title</th>\n",
       "    </tr>\n",
       "  </thead>\n",
       "  <tbody>\n",
       "  </tbody>\n",
       "</table>\n",
       "</div>"
      ],
      "text/plain": [
       "Empty DataFrame\n",
       "Columns: [movie_id, movie, original_title, year, runtime_minutes, genres, movie_id, averagerating, numvotes, movie_id, ordering, title, region, language, types, attributes, is_original_title]\n",
       "Index: []"
      ]
     },
     "execution_count": 64,
     "metadata": {},
     "output_type": "execute_result"
    }
   ],
   "source": [
    "sql1.dropna()"
   ]
  },
  {
   "cell_type": "code",
   "execution_count": null,
   "metadata": {},
   "outputs": [],
   "source": []
  },
  {
   "cell_type": "code",
   "execution_count": 67,
   "metadata": {},
   "outputs": [
    {
     "data": {
      "text/plain": [
       "10073"
      ]
     },
     "execution_count": 67,
     "metadata": {},
     "output_type": "execute_result"
    }
   ],
   "source": [
    "sql1 = sql1.drop_duplicates(subset=['movie_id'])\n",
    "sql1.duplicated(['movie']).sum()"
   ]
  },
  {
   "cell_type": "code",
   "execution_count": 68,
   "metadata": {},
   "outputs": [
    {
     "data": {
      "text/html": [
       "<div>\n",
       "<style scoped>\n",
       "    .dataframe tbody tr th:only-of-type {\n",
       "        vertical-align: middle;\n",
       "    }\n",
       "\n",
       "    .dataframe tbody tr th {\n",
       "        vertical-align: top;\n",
       "    }\n",
       "\n",
       "    .dataframe thead th {\n",
       "        text-align: right;\n",
       "    }\n",
       "</style>\n",
       "<table border=\"1\" class=\"dataframe\">\n",
       "  <thead>\n",
       "    <tr style=\"text-align: right;\">\n",
       "      <th></th>\n",
       "      <th>movie_id</th>\n",
       "      <th>movie</th>\n",
       "      <th>original_title</th>\n",
       "      <th>year</th>\n",
       "      <th>runtime_minutes</th>\n",
       "      <th>genres</th>\n",
       "      <th>movie_id</th>\n",
       "      <th>averagerating</th>\n",
       "      <th>numvotes</th>\n",
       "      <th>movie_id</th>\n",
       "      <th>ordering</th>\n",
       "      <th>title</th>\n",
       "      <th>region</th>\n",
       "      <th>language</th>\n",
       "      <th>types</th>\n",
       "      <th>attributes</th>\n",
       "      <th>is_original_title</th>\n",
       "    </tr>\n",
       "  </thead>\n",
       "  <tbody>\n",
       "    <tr>\n",
       "      <th>0</th>\n",
       "      <td>tt0063540</td>\n",
       "      <td>Sunghursh</td>\n",
       "      <td>Sunghursh</td>\n",
       "      <td>2013</td>\n",
       "      <td>175.0</td>\n",
       "      <td>Action,Crime,Drama</td>\n",
       "      <td>tt0063540</td>\n",
       "      <td>7.0</td>\n",
       "      <td>77.0</td>\n",
       "      <td>tt0063540</td>\n",
       "      <td>1.0</td>\n",
       "      <td>Sangharsh</td>\n",
       "      <td>IN</td>\n",
       "      <td>hi</td>\n",
       "      <td>None</td>\n",
       "      <td>alternative transliteration</td>\n",
       "      <td>0.0</td>\n",
       "    </tr>\n",
       "    <tr>\n",
       "      <th>5</th>\n",
       "      <td>tt0066787</td>\n",
       "      <td>One Day Before the Rainy Season</td>\n",
       "      <td>Ashad Ka Ek Din</td>\n",
       "      <td>2019</td>\n",
       "      <td>114.0</td>\n",
       "      <td>Biography,Drama</td>\n",
       "      <td>tt0066787</td>\n",
       "      <td>7.2</td>\n",
       "      <td>43.0</td>\n",
       "      <td>tt0066787</td>\n",
       "      <td>1.0</td>\n",
       "      <td>One Day Before the Rainy Season</td>\n",
       "      <td>XWW</td>\n",
       "      <td>en</td>\n",
       "      <td>None</td>\n",
       "      <td>None</td>\n",
       "      <td>0.0</td>\n",
       "    </tr>\n",
       "    <tr>\n",
       "      <th>9</th>\n",
       "      <td>tt0069049</td>\n",
       "      <td>The Other Side of the Wind</td>\n",
       "      <td>The Other Side of the Wind</td>\n",
       "      <td>2018</td>\n",
       "      <td>122.0</td>\n",
       "      <td>Drama</td>\n",
       "      <td>tt0069049</td>\n",
       "      <td>6.9</td>\n",
       "      <td>4517.0</td>\n",
       "      <td>tt0069049</td>\n",
       "      <td>1.0</td>\n",
       "      <td>O Outro Lado do Vento</td>\n",
       "      <td>BR</td>\n",
       "      <td>None</td>\n",
       "      <td>imdbDisplay</td>\n",
       "      <td>None</td>\n",
       "      <td>0.0</td>\n",
       "    </tr>\n",
       "    <tr>\n",
       "      <th>22</th>\n",
       "      <td>tt0069204</td>\n",
       "      <td>Sabse Bada Sukh</td>\n",
       "      <td>Sabse Bada Sukh</td>\n",
       "      <td>2018</td>\n",
       "      <td>NaN</td>\n",
       "      <td>Comedy,Drama</td>\n",
       "      <td>tt0069204</td>\n",
       "      <td>6.1</td>\n",
       "      <td>13.0</td>\n",
       "      <td>tt0069204</td>\n",
       "      <td>1.0</td>\n",
       "      <td>Subse Bada Sukh</td>\n",
       "      <td>IN</td>\n",
       "      <td>bn</td>\n",
       "      <td>None</td>\n",
       "      <td>None</td>\n",
       "      <td>0.0</td>\n",
       "    </tr>\n",
       "    <tr>\n",
       "      <th>25</th>\n",
       "      <td>tt0100275</td>\n",
       "      <td>The Wandering Soap Opera</td>\n",
       "      <td>La Telenovela Errante</td>\n",
       "      <td>2017</td>\n",
       "      <td>80.0</td>\n",
       "      <td>Comedy,Drama,Fantasy</td>\n",
       "      <td>tt0100275</td>\n",
       "      <td>6.5</td>\n",
       "      <td>119.0</td>\n",
       "      <td>tt0100275</td>\n",
       "      <td>1.0</td>\n",
       "      <td>La Telenovela Errante</td>\n",
       "      <td>None</td>\n",
       "      <td>None</td>\n",
       "      <td>original</td>\n",
       "      <td>None</td>\n",
       "      <td>1.0</td>\n",
       "    </tr>\n",
       "  </tbody>\n",
       "</table>\n",
       "</div>"
      ],
      "text/plain": [
       "     movie_id                            movie              original_title  \\\n",
       "0   tt0063540                        Sunghursh                   Sunghursh   \n",
       "5   tt0066787  One Day Before the Rainy Season             Ashad Ka Ek Din   \n",
       "9   tt0069049       The Other Side of the Wind  The Other Side of the Wind   \n",
       "22  tt0069204                  Sabse Bada Sukh             Sabse Bada Sukh   \n",
       "25  tt0100275         The Wandering Soap Opera       La Telenovela Errante   \n",
       "\n",
       "    year  runtime_minutes                genres   movie_id  averagerating  \\\n",
       "0   2013            175.0    Action,Crime,Drama  tt0063540            7.0   \n",
       "5   2019            114.0       Biography,Drama  tt0066787            7.2   \n",
       "9   2018            122.0                 Drama  tt0069049            6.9   \n",
       "22  2018              NaN          Comedy,Drama  tt0069204            6.1   \n",
       "25  2017             80.0  Comedy,Drama,Fantasy  tt0100275            6.5   \n",
       "\n",
       "    numvotes   movie_id  ordering                            title region  \\\n",
       "0       77.0  tt0063540       1.0                        Sangharsh     IN   \n",
       "5       43.0  tt0066787       1.0  One Day Before the Rainy Season    XWW   \n",
       "9     4517.0  tt0069049       1.0            O Outro Lado do Vento     BR   \n",
       "22      13.0  tt0069204       1.0                  Subse Bada Sukh     IN   \n",
       "25     119.0  tt0100275       1.0            La Telenovela Errante   None   \n",
       "\n",
       "   language        types                   attributes  is_original_title  \n",
       "0        hi         None  alternative transliteration                0.0  \n",
       "5        en         None                         None                0.0  \n",
       "9      None  imdbDisplay                         None                0.0  \n",
       "22       bn         None                         None                0.0  \n",
       "25     None     original                         None                1.0  "
      ]
     },
     "execution_count": 68,
     "metadata": {},
     "output_type": "execute_result"
    }
   ],
   "source": [
    "sql1.head()"
   ]
  },
  {
   "cell_type": "markdown",
   "metadata": {},
   "source": [
    "I suspect different genres are creating the duplicate titles.  "
   ]
  },
  {
   "cell_type": "markdown",
   "metadata": {},
   "source": [
    "## Combining SQL and TN dataframes"
   ]
  },
  {
   "cell_type": "markdown",
   "metadata": {},
   "source": [
    "we are going to merge the SQL set into our TN base set.  "
   ]
  },
  {
   "cell_type": "code",
   "execution_count": 106,
   "metadata": {},
   "outputs": [
    {
     "ename": "NameError",
     "evalue": "name 'sql1' is not defined",
     "output_type": "error",
     "traceback": [
      "\u001b[0;31m---------------------------------------------------------------------------\u001b[0m",
      "\u001b[0;31mNameError\u001b[0m                                 Traceback (most recent call last)",
      "\u001b[0;32m/tmp/ipykernel_66/2331846401.py\u001b[0m in \u001b[0;36m<module>\u001b[0;34m\u001b[0m\n\u001b[0;32m----> 1\u001b[0;31m \u001b[0mTNSQL\u001b[0m \u001b[0;34m=\u001b[0m \u001b[0mpd\u001b[0m\u001b[0;34m.\u001b[0m\u001b[0mmerge\u001b[0m\u001b[0;34m(\u001b[0m\u001b[0mTN_clean_base\u001b[0m\u001b[0;34m,\u001b[0m \u001b[0msql1\u001b[0m\u001b[0;34m,\u001b[0m \u001b[0mleft_on\u001b[0m\u001b[0;34m=\u001b[0m\u001b[0;34m[\u001b[0m\u001b[0;34m'movie'\u001b[0m\u001b[0;34m,\u001b[0m \u001b[0;34m'year'\u001b[0m\u001b[0;34m]\u001b[0m\u001b[0;34m,\u001b[0m \u001b[0mright_on\u001b[0m\u001b[0;34m=\u001b[0m\u001b[0;34m[\u001b[0m\u001b[0;34m'movie'\u001b[0m\u001b[0;34m,\u001b[0m \u001b[0;34m'year'\u001b[0m\u001b[0;34m]\u001b[0m\u001b[0;34m,\u001b[0m \u001b[0mhow\u001b[0m\u001b[0;34m=\u001b[0m\u001b[0;34m'left'\u001b[0m\u001b[0;34m)\u001b[0m\u001b[0;34m\u001b[0m\u001b[0;34m\u001b[0m\u001b[0m\n\u001b[0m",
      "\u001b[0;31mNameError\u001b[0m: name 'sql1' is not defined"
     ]
    }
   ],
   "source": [
    "TNSQL = pd.merge(TN_clean_base, sql1, left_on=['movie', 'year'], right_on=['movie', 'year'], how='left')"
   ]
  },
  {
   "cell_type": "code",
   "execution_count": 70,
   "metadata": {},
   "outputs": [
    {
     "name": "stdout",
     "output_type": "stream",
     "text": [
      "<class 'pandas.core.frame.DataFrame'>\n",
      "Int64Index: 5845 entries, 0 to 5844\n",
      "Data columns (total 25 columns):\n",
      " #   Column                Non-Null Count  Dtype         \n",
      "---  ------                --------------  -----         \n",
      " 0   release_date          5845 non-null   datetime64[ns]\n",
      " 1   movie                 5845 non-null   object        \n",
      " 2   production_budget     5845 non-null   int64         \n",
      " 3   domestic_gross        5845 non-null   int64         \n",
      " 4   foreign_gross         5845 non-null   int64         \n",
      " 5   year                  5845 non-null   int64         \n",
      " 6   domestic_profit_loss  5845 non-null   int64         \n",
      " 7   foreign_profit_loss   5845 non-null   int64         \n",
      " 8   total_gross           5845 non-null   int64         \n",
      " 9   total_profit_loss     5845 non-null   int64         \n",
      " 10  movie_id              1547 non-null   object        \n",
      " 11  original_title        1547 non-null   object        \n",
      " 12  runtime_minutes       1521 non-null   float64       \n",
      " 13  genres                1541 non-null   object        \n",
      " 14  movie_id              1498 non-null   object        \n",
      " 15  averagerating         1498 non-null   float64       \n",
      " 16  numvotes              1498 non-null   float64       \n",
      " 17  movie_id              1539 non-null   object        \n",
      " 18  ordering              1539 non-null   float64       \n",
      " 19  title                 1539 non-null   object        \n",
      " 20  region                1408 non-null   object        \n",
      " 21  language              235 non-null    object        \n",
      " 22  types                 1058 non-null   object        \n",
      " 23  attributes            63 non-null     object        \n",
      " 24  is_original_title     1539 non-null   float64       \n",
      "dtypes: datetime64[ns](1), float64(5), int64(8), object(11)\n",
      "memory usage: 1.2+ MB\n"
     ]
    }
   ],
   "source": [
    "TNSQL.info()"
   ]
  },
  {
   "cell_type": "markdown",
   "metadata": {},
   "source": [
    "now we clean the data"
   ]
  },
  {
   "cell_type": "code",
   "execution_count": 71,
   "metadata": {},
   "outputs": [
    {
     "data": {
      "text/plain": [
       "release_date               0\n",
       "movie                      0\n",
       "production_budget          0\n",
       "domestic_gross             0\n",
       "foreign_gross              0\n",
       "year                       0\n",
       "domestic_profit_loss       0\n",
       "foreign_profit_loss        0\n",
       "total_gross                0\n",
       "total_profit_loss          0\n",
       "movie_id                4298\n",
       "original_title          4298\n",
       "runtime_minutes         4324\n",
       "genres                  4304\n",
       "movie_id                4347\n",
       "averagerating           4347\n",
       "numvotes                4347\n",
       "movie_id                4306\n",
       "ordering                4306\n",
       "title                   4306\n",
       "region                  4437\n",
       "language                5610\n",
       "types                   4787\n",
       "attributes              5782\n",
       "is_original_title       4306\n",
       "dtype: int64"
      ]
     },
     "execution_count": 71,
     "metadata": {},
     "output_type": "execute_result"
    }
   ],
   "source": [
    "TNSQL.isna().sum()\n",
    "# that is a lot of NAN values"
   ]
  },
  {
   "cell_type": "code",
   "execution_count": 72,
   "metadata": {},
   "outputs": [
    {
     "data": {
      "text/html": [
       "<div>\n",
       "<style scoped>\n",
       "    .dataframe tbody tr th:only-of-type {\n",
       "        vertical-align: middle;\n",
       "    }\n",
       "\n",
       "    .dataframe tbody tr th {\n",
       "        vertical-align: top;\n",
       "    }\n",
       "\n",
       "    .dataframe thead th {\n",
       "        text-align: right;\n",
       "    }\n",
       "</style>\n",
       "<table border=\"1\" class=\"dataframe\">\n",
       "  <thead>\n",
       "    <tr style=\"text-align: right;\">\n",
       "      <th></th>\n",
       "      <th>release_date</th>\n",
       "      <th>movie</th>\n",
       "      <th>production_budget</th>\n",
       "      <th>domestic_gross</th>\n",
       "      <th>foreign_gross</th>\n",
       "      <th>year</th>\n",
       "      <th>domestic_profit_loss</th>\n",
       "      <th>foreign_profit_loss</th>\n",
       "      <th>total_gross</th>\n",
       "      <th>total_profit_loss</th>\n",
       "      <th>...</th>\n",
       "      <th>averagerating</th>\n",
       "      <th>numvotes</th>\n",
       "      <th>movie_id</th>\n",
       "      <th>ordering</th>\n",
       "      <th>title</th>\n",
       "      <th>region</th>\n",
       "      <th>language</th>\n",
       "      <th>types</th>\n",
       "      <th>attributes</th>\n",
       "      <th>is_original_title</th>\n",
       "    </tr>\n",
       "  </thead>\n",
       "  <tbody>\n",
       "  </tbody>\n",
       "</table>\n",
       "<p>0 rows × 25 columns</p>\n",
       "</div>"
      ],
      "text/plain": [
       "Empty DataFrame\n",
       "Columns: [release_date, movie, production_budget, domestic_gross, foreign_gross, year, domestic_profit_loss, foreign_profit_loss, total_gross, total_profit_loss, movie_id, original_title, runtime_minutes, genres, movie_id, averagerating, numvotes, movie_id, ordering, title, region, language, types, attributes, is_original_title]\n",
       "Index: []\n",
       "\n",
       "[0 rows x 25 columns]"
      ]
     },
     "execution_count": 72,
     "metadata": {},
     "output_type": "execute_result"
    }
   ],
   "source": [
    "TNSQL.dropna()"
   ]
  },
  {
   "cell_type": "code",
   "execution_count": 73,
   "metadata": {},
   "outputs": [
    {
     "data": {
      "text/plain": [
       "63"
      ]
     },
     "execution_count": 73,
     "metadata": {},
     "output_type": "execute_result"
    }
   ],
   "source": [
    "TNSQL.duplicated(subset=['movie', 'release_date']).sum()"
   ]
  },
  {
   "cell_type": "code",
   "execution_count": 74,
   "metadata": {},
   "outputs": [
    {
     "data": {
      "text/plain": [
       "84"
      ]
     },
     "execution_count": 74,
     "metadata": {},
     "output_type": "execute_result"
    }
   ],
   "source": [
    "TNSQL_clean = TNSQL.drop_duplicates(subset=['movie', 'release_date'])\n",
    "TNSQL_clean.duplicated(['movie']).sum()"
   ]
  },
  {
   "cell_type": "code",
   "execution_count": 75,
   "metadata": {},
   "outputs": [
    {
     "data": {
      "text/plain": [
       "release_date               0\n",
       "movie                      0\n",
       "production_budget          0\n",
       "domestic_gross             0\n",
       "foreign_gross              0\n",
       "year                       0\n",
       "domestic_profit_loss       0\n",
       "foreign_profit_loss        0\n",
       "total_gross                0\n",
       "total_profit_loss          0\n",
       "movie_id                4298\n",
       "original_title          4298\n",
       "runtime_minutes         4315\n",
       "genres                  4298\n",
       "movie_id                4321\n",
       "averagerating           4321\n",
       "numvotes                4321\n",
       "movie_id                4301\n",
       "ordering                4301\n",
       "title                   4301\n",
       "region                  4423\n",
       "language                5551\n",
       "types                   4741\n",
       "attributes              5722\n",
       "is_original_title       4301\n",
       "dtype: int64"
      ]
     },
     "execution_count": 75,
     "metadata": {},
     "output_type": "execute_result"
    }
   ],
   "source": [
    "TNSQL_clean.isna().sum() \n",
    "# I may need to consider cleaning up the set before the merge.   "
   ]
  },
  {
   "cell_type": "markdown",
   "metadata": {},
   "source": [
    "## Merge TMDB"
   ]
  },
  {
   "cell_type": "code",
   "execution_count": 76,
   "metadata": {},
   "outputs": [
    {
     "data": {
      "text/html": [
       "<div>\n",
       "<style scoped>\n",
       "    .dataframe tbody tr th:only-of-type {\n",
       "        vertical-align: middle;\n",
       "    }\n",
       "\n",
       "    .dataframe tbody tr th {\n",
       "        vertical-align: top;\n",
       "    }\n",
       "\n",
       "    .dataframe thead th {\n",
       "        text-align: right;\n",
       "    }\n",
       "</style>\n",
       "<table border=\"1\" class=\"dataframe\">\n",
       "  <thead>\n",
       "    <tr style=\"text-align: right;\">\n",
       "      <th></th>\n",
       "      <th>genre_ids</th>\n",
       "      <th>id</th>\n",
       "      <th>original_language</th>\n",
       "      <th>original_title</th>\n",
       "      <th>popularity</th>\n",
       "      <th>release_date</th>\n",
       "      <th>title</th>\n",
       "      <th>vote_average</th>\n",
       "      <th>vote_count</th>\n",
       "      <th>year</th>\n",
       "    </tr>\n",
       "  </thead>\n",
       "  <tbody>\n",
       "    <tr>\n",
       "      <th>0</th>\n",
       "      <td>[12, 14, 10751]</td>\n",
       "      <td>12444</td>\n",
       "      <td>en</td>\n",
       "      <td>Harry Potter and the Deathly Hallows: Part 1</td>\n",
       "      <td>33.533</td>\n",
       "      <td>2010-11-19</td>\n",
       "      <td>Harry Potter and the Deathly Hallows: Part 1</td>\n",
       "      <td>7.7</td>\n",
       "      <td>10788</td>\n",
       "      <td>2010</td>\n",
       "    </tr>\n",
       "    <tr>\n",
       "      <th>1</th>\n",
       "      <td>[14, 12, 16, 10751]</td>\n",
       "      <td>10191</td>\n",
       "      <td>en</td>\n",
       "      <td>How to Train Your Dragon</td>\n",
       "      <td>28.734</td>\n",
       "      <td>2010-03-26</td>\n",
       "      <td>How to Train Your Dragon</td>\n",
       "      <td>7.7</td>\n",
       "      <td>7610</td>\n",
       "      <td>2010</td>\n",
       "    </tr>\n",
       "    <tr>\n",
       "      <th>2</th>\n",
       "      <td>[12, 28, 878]</td>\n",
       "      <td>10138</td>\n",
       "      <td>en</td>\n",
       "      <td>Iron Man 2</td>\n",
       "      <td>28.515</td>\n",
       "      <td>2010-05-07</td>\n",
       "      <td>Iron Man 2</td>\n",
       "      <td>6.8</td>\n",
       "      <td>12368</td>\n",
       "      <td>2010</td>\n",
       "    </tr>\n",
       "    <tr>\n",
       "      <th>3</th>\n",
       "      <td>[16, 35, 10751]</td>\n",
       "      <td>862</td>\n",
       "      <td>en</td>\n",
       "      <td>Toy Story</td>\n",
       "      <td>28.005</td>\n",
       "      <td>1995-11-22</td>\n",
       "      <td>Toy Story</td>\n",
       "      <td>7.9</td>\n",
       "      <td>10174</td>\n",
       "      <td>1995</td>\n",
       "    </tr>\n",
       "    <tr>\n",
       "      <th>4</th>\n",
       "      <td>[28, 878, 12]</td>\n",
       "      <td>27205</td>\n",
       "      <td>en</td>\n",
       "      <td>Inception</td>\n",
       "      <td>27.920</td>\n",
       "      <td>2010-07-16</td>\n",
       "      <td>Inception</td>\n",
       "      <td>8.3</td>\n",
       "      <td>22186</td>\n",
       "      <td>2010</td>\n",
       "    </tr>\n",
       "  </tbody>\n",
       "</table>\n",
       "</div>"
      ],
      "text/plain": [
       "             genre_ids     id original_language  \\\n",
       "0      [12, 14, 10751]  12444                en   \n",
       "1  [14, 12, 16, 10751]  10191                en   \n",
       "2        [12, 28, 878]  10138                en   \n",
       "3      [16, 35, 10751]    862                en   \n",
       "4        [28, 878, 12]  27205                en   \n",
       "\n",
       "                                 original_title  popularity release_date  \\\n",
       "0  Harry Potter and the Deathly Hallows: Part 1      33.533   2010-11-19   \n",
       "1                      How to Train Your Dragon      28.734   2010-03-26   \n",
       "2                                    Iron Man 2      28.515   2010-05-07   \n",
       "3                                     Toy Story      28.005   1995-11-22   \n",
       "4                                     Inception      27.920   2010-07-16   \n",
       "\n",
       "                                          title  vote_average  vote_count  \\\n",
       "0  Harry Potter and the Deathly Hallows: Part 1           7.7       10788   \n",
       "1                      How to Train Your Dragon           7.7        7610   \n",
       "2                                    Iron Man 2           6.8       12368   \n",
       "3                                     Toy Story           7.9       10174   \n",
       "4                                     Inception           8.3       22186   \n",
       "\n",
       "   year  \n",
       "0  2010  \n",
       "1  2010  \n",
       "2  2010  \n",
       "3  1995  \n",
       "4  2010  "
      ]
     },
     "execution_count": 76,
     "metadata": {},
     "output_type": "execute_result"
    }
   ],
   "source": [
    "TMDB.head()"
   ]
  },
  {
   "cell_type": "code",
   "execution_count": 77,
   "metadata": {},
   "outputs": [],
   "source": [
    "TMDB.rename(columns={'title': 'movie'}, inplace=True)"
   ]
  },
  {
   "cell_type": "code",
   "execution_count": 78,
   "metadata": {},
   "outputs": [],
   "source": [
    "TM_TB = TNSQL_clean.merge(TMDB, on=['movie', 'year', 'release_date'], how='left')"
   ]
  },
  {
   "cell_type": "code",
   "execution_count": 79,
   "metadata": {},
   "outputs": [
    {
     "name": "stdout",
     "output_type": "stream",
     "text": [
      "<class 'pandas.core.frame.DataFrame'>\n",
      "Int64Index: 5912 entries, 0 to 5911\n",
      "Data columns (total 32 columns):\n",
      " #   Column                Non-Null Count  Dtype         \n",
      "---  ------                --------------  -----         \n",
      " 0   release_date          5912 non-null   datetime64[ns]\n",
      " 1   movie                 5912 non-null   object        \n",
      " 2   production_budget     5912 non-null   int64         \n",
      " 3   domestic_gross        5912 non-null   int64         \n",
      " 4   foreign_gross         5912 non-null   int64         \n",
      " 5   year                  5912 non-null   int64         \n",
      " 6   domestic_profit_loss  5912 non-null   int64         \n",
      " 7   foreign_profit_loss   5912 non-null   int64         \n",
      " 8   total_gross           5912 non-null   int64         \n",
      " 9   total_profit_loss     5912 non-null   int64         \n",
      " 10  movie_id              1582 non-null   object        \n",
      " 11  original_title_x      1582 non-null   object        \n",
      " 12  runtime_minutes       1564 non-null   float64       \n",
      " 13  genres                1582 non-null   object        \n",
      " 14  movie_id              1558 non-null   object        \n",
      " 15  averagerating         1558 non-null   float64       \n",
      " 16  numvotes              1558 non-null   float64       \n",
      " 17  movie_id              1578 non-null   object        \n",
      " 18  ordering              1578 non-null   float64       \n",
      " 19  title                 1578 non-null   object        \n",
      " 20  region                1450 non-null   object        \n",
      " 21  language              242 non-null    object        \n",
      " 22  types                 1111 non-null   object        \n",
      " 23  attributes            61 non-null     object        \n",
      " 24  is_original_title     1578 non-null   float64       \n",
      " 25  genre_ids             1400 non-null   object        \n",
      " 26  id                    1400 non-null   float64       \n",
      " 27  original_language     1400 non-null   object        \n",
      " 28  original_title_y      1400 non-null   object        \n",
      " 29  popularity            1400 non-null   float64       \n",
      " 30  vote_average          1400 non-null   float64       \n",
      " 31  vote_count            1400 non-null   float64       \n",
      "dtypes: datetime64[ns](1), float64(9), int64(8), object(14)\n",
      "memory usage: 1.5+ MB\n"
     ]
    }
   ],
   "source": [
    "TM_TB.info()"
   ]
  },
  {
   "cell_type": "code",
   "execution_count": 80,
   "metadata": {},
   "outputs": [
    {
     "data": {
      "text/plain": [
       "release_date               0\n",
       "movie                      0\n",
       "production_budget          0\n",
       "domestic_gross             0\n",
       "foreign_gross              0\n",
       "year                       0\n",
       "domestic_profit_loss       0\n",
       "foreign_profit_loss        0\n",
       "total_gross                0\n",
       "total_profit_loss          0\n",
       "movie_id                4330\n",
       "original_title_x        4330\n",
       "runtime_minutes         4348\n",
       "genres                  4330\n",
       "movie_id                4354\n",
       "averagerating           4354\n",
       "numvotes                4354\n",
       "movie_id                4334\n",
       "ordering                4334\n",
       "title                   4334\n",
       "region                  4462\n",
       "language                5670\n",
       "types                   4801\n",
       "attributes              5851\n",
       "is_original_title       4334\n",
       "genre_ids               4512\n",
       "id                      4512\n",
       "original_language       4512\n",
       "original_title_y        4512\n",
       "popularity              4512\n",
       "vote_average            4512\n",
       "vote_count              4512\n",
       "dtype: int64"
      ]
     },
     "execution_count": 80,
     "metadata": {},
     "output_type": "execute_result"
    }
   ],
   "source": [
    "TM_TB.isna().sum()"
   ]
  },
  {
   "cell_type": "code",
   "execution_count": 81,
   "metadata": {},
   "outputs": [
    {
     "data": {
      "text/html": [
       "<div>\n",
       "<style scoped>\n",
       "    .dataframe tbody tr th:only-of-type {\n",
       "        vertical-align: middle;\n",
       "    }\n",
       "\n",
       "    .dataframe tbody tr th {\n",
       "        vertical-align: top;\n",
       "    }\n",
       "\n",
       "    .dataframe thead th {\n",
       "        text-align: right;\n",
       "    }\n",
       "</style>\n",
       "<table border=\"1\" class=\"dataframe\">\n",
       "  <thead>\n",
       "    <tr style=\"text-align: right;\">\n",
       "      <th></th>\n",
       "      <th>release_date</th>\n",
       "      <th>movie</th>\n",
       "      <th>production_budget</th>\n",
       "      <th>domestic_gross</th>\n",
       "      <th>foreign_gross</th>\n",
       "      <th>year</th>\n",
       "      <th>domestic_profit_loss</th>\n",
       "      <th>foreign_profit_loss</th>\n",
       "      <th>total_gross</th>\n",
       "      <th>total_profit_loss</th>\n",
       "      <th>...</th>\n",
       "      <th>types</th>\n",
       "      <th>attributes</th>\n",
       "      <th>is_original_title</th>\n",
       "      <th>genre_ids</th>\n",
       "      <th>id</th>\n",
       "      <th>original_language</th>\n",
       "      <th>original_title_y</th>\n",
       "      <th>popularity</th>\n",
       "      <th>vote_average</th>\n",
       "      <th>vote_count</th>\n",
       "    </tr>\n",
       "  </thead>\n",
       "  <tbody>\n",
       "  </tbody>\n",
       "</table>\n",
       "<p>0 rows × 32 columns</p>\n",
       "</div>"
      ],
      "text/plain": [
       "Empty DataFrame\n",
       "Columns: [release_date, movie, production_budget, domestic_gross, foreign_gross, year, domestic_profit_loss, foreign_profit_loss, total_gross, total_profit_loss, movie_id, original_title_x, runtime_minutes, genres, movie_id, averagerating, numvotes, movie_id, ordering, title, region, language, types, attributes, is_original_title, genre_ids, id, original_language, original_title_y, popularity, vote_average, vote_count]\n",
       "Index: []\n",
       "\n",
       "[0 rows x 32 columns]"
      ]
     },
     "execution_count": 81,
     "metadata": {},
     "output_type": "execute_result"
    }
   ],
   "source": [
    "TM_TB.dropna()"
   ]
  },
  {
   "cell_type": "code",
   "execution_count": 82,
   "metadata": {},
   "outputs": [
    {
     "data": {
      "text/plain": [
       "130"
      ]
     },
     "execution_count": 82,
     "metadata": {},
     "output_type": "execute_result"
    }
   ],
   "source": [
    "TM_TB.duplicated(subset=['movie', 'release_date']).sum()"
   ]
  },
  {
   "cell_type": "markdown",
   "metadata": {},
   "source": [
    "### This is a such a small number that we are going to lose the 130. "
   ]
  },
  {
   "cell_type": "code",
   "execution_count": 83,
   "metadata": {},
   "outputs": [
    {
     "data": {
      "text/plain": [
       "0"
      ]
     },
     "execution_count": 83,
     "metadata": {},
     "output_type": "execute_result"
    }
   ],
   "source": [
    "TM_TB = TM_TB.drop_duplicates(subset=['movie'])\n",
    "TM_TB.duplicated(['movie']).sum()"
   ]
  },
  {
   "cell_type": "code",
   "execution_count": 84,
   "metadata": {},
   "outputs": [
    {
     "name": "stdout",
     "output_type": "stream",
     "text": [
      "<class 'pandas.core.frame.DataFrame'>\n",
      "Int64Index: 5698 entries, 0 to 5911\n",
      "Data columns (total 32 columns):\n",
      " #   Column                Non-Null Count  Dtype         \n",
      "---  ------                --------------  -----         \n",
      " 0   release_date          5698 non-null   datetime64[ns]\n",
      " 1   movie                 5698 non-null   object        \n",
      " 2   production_budget     5698 non-null   int64         \n",
      " 3   domestic_gross        5698 non-null   int64         \n",
      " 4   foreign_gross         5698 non-null   int64         \n",
      " 5   year                  5698 non-null   int64         \n",
      " 6   domestic_profit_loss  5698 non-null   int64         \n",
      " 7   foreign_profit_loss   5698 non-null   int64         \n",
      " 8   total_gross           5698 non-null   int64         \n",
      " 9   total_profit_loss     5698 non-null   int64         \n",
      " 10  movie_id              1468 non-null   object        \n",
      " 11  original_title_x      1468 non-null   object        \n",
      " 12  runtime_minutes       1452 non-null   float64       \n",
      " 13  genres                1468 non-null   object        \n",
      " 14  movie_id              1446 non-null   object        \n",
      " 15  averagerating         1446 non-null   float64       \n",
      " 16  numvotes              1446 non-null   float64       \n",
      " 17  movie_id              1465 non-null   object        \n",
      " 18  ordering              1465 non-null   float64       \n",
      " 19  title                 1465 non-null   object        \n",
      " 20  region                1344 non-null   object        \n",
      " 21  language              229 non-null    object        \n",
      " 22  types                 1028 non-null   object        \n",
      " 23  attributes            60 non-null     object        \n",
      " 24  is_original_title     1465 non-null   float64       \n",
      " 25  genre_ids             1260 non-null   object        \n",
      " 26  id                    1260 non-null   float64       \n",
      " 27  original_language     1260 non-null   object        \n",
      " 28  original_title_y      1260 non-null   object        \n",
      " 29  popularity            1260 non-null   float64       \n",
      " 30  vote_average          1260 non-null   float64       \n",
      " 31  vote_count            1260 non-null   float64       \n",
      "dtypes: datetime64[ns](1), float64(9), int64(8), object(14)\n",
      "memory usage: 1.4+ MB\n"
     ]
    }
   ],
   "source": [
    "TM_TB.info()"
   ]
  },
  {
   "cell_type": "code",
   "execution_count": 85,
   "metadata": {},
   "outputs": [],
   "source": [
    "# rt_movie_info.info()"
   ]
  },
  {
   "cell_type": "code",
   "execution_count": 1115,
   "metadata": {},
   "outputs": [],
   "source": [
    "# Complete_TN = TM_TB.merge(rt_movie_info, on='release_date', how='left')"
   ]
  },
  {
   "cell_type": "code",
   "execution_count": 887,
   "metadata": {},
   "outputs": [],
   "source": [
    "# Complete_TN.info()"
   ]
  },
  {
   "cell_type": "code",
   "execution_count": 888,
   "metadata": {},
   "outputs": [],
   "source": [
    "# Complete_TN.isna().sum()"
   ]
  },
  {
   "cell_type": "code",
   "execution_count": 889,
   "metadata": {},
   "outputs": [],
   "source": [
    "# Complete_TN.dropna()"
   ]
  },
  {
   "cell_type": "code",
   "execution_count": 890,
   "metadata": {},
   "outputs": [],
   "source": [
    "# Complete_TN.duplicated(subset=['movie']).sum()"
   ]
  },
  {
   "cell_type": "code",
   "execution_count": 891,
   "metadata": {},
   "outputs": [],
   "source": [
    "# DF1 = Complete_TN.drop_duplicates(subset=['movie'])\n",
    "# DF1.duplicated().sum()"
   ]
  },
  {
   "cell_type": "code",
   "execution_count": 892,
   "metadata": {},
   "outputs": [],
   "source": [
    "# DF1.info()"
   ]
  },
  {
   "cell_type": "code",
   "execution_count": 893,
   "metadata": {},
   "outputs": [],
   "source": [
    "# DF1.isna().sum()"
   ]
  },
  {
   "cell_type": "code",
   "execution_count": 894,
   "metadata": {
    "scrolled": true
   },
   "outputs": [],
   "source": [
    "# DF1.dropna()"
   ]
  },
  {
   "cell_type": "code",
   "execution_count": 895,
   "metadata": {},
   "outputs": [],
   "source": [
    "# DF1 = DF1.drop_duplicates(subset=['movie'])\n",
    "# DF1.duplicated().sum()"
   ]
  },
  {
   "cell_type": "code",
   "execution_count": 896,
   "metadata": {},
   "outputs": [],
   "source": [
    "# DF1.info()"
   ]
  },
  {
   "cell_type": "markdown",
   "metadata": {},
   "source": [
    "## More SQL \n",
    "Now that we finally filled up several of our categories, I will focus on filling out a few of them in the TN dataset. The DF1 includes all the TN data, plus now we have almost 5177 writer values, 5270 director values, 5672 rating values, and 5672 genre values.   So, lets try and find the rest of the values in those categories.  "
   ]
  },
  {
   "cell_type": "code",
   "execution_count": 897,
   "metadata": {},
   "outputs": [],
   "source": [
    "# principals.info()"
   ]
  },
  {
   "cell_type": "code",
   "execution_count": 898,
   "metadata": {},
   "outputs": [],
   "source": [
    "# writers = pd.read_sql(\"SELECT * FROM writers;\", conn)\n",
    "# writers"
   ]
  },
  {
   "cell_type": "code",
   "execution_count": 899,
   "metadata": {},
   "outputs": [],
   "source": [
    "# writers.info()"
   ]
  },
  {
   "cell_type": "code",
   "execution_count": 458,
   "metadata": {},
   "outputs": [],
   "source": [
    "# known_for = pd.read_sql(\"SELECT * FROM known_for;\", conn)\n",
    "# known_for"
   ]
  },
  {
   "cell_type": "code",
   "execution_count": 901,
   "metadata": {},
   "outputs": [],
   "source": [
    "# known_for.info()"
   ]
  },
  {
   "cell_type": "code",
   "execution_count": 459,
   "metadata": {},
   "outputs": [],
   "source": [
    "# persons = pd.read_sql(\"SELECT * FROM persons;\", conn)\n",
    "# persons"
   ]
  },
  {
   "cell_type": "code",
   "execution_count": 460,
   "metadata": {},
   "outputs": [],
   "source": [
    "# directors = pd.read_sql(\"SELECT * FROM directors;\", conn)\n",
    "# directors"
   ]
  },
  {
   "cell_type": "code",
   "execution_count": 461,
   "metadata": {},
   "outputs": [],
   "source": [
    "# directors.info()"
   ]
  },
  {
   "cell_type": "code",
   "execution_count": 462,
   "metadata": {},
   "outputs": [],
   "source": [
    "# SQL2 = pd.read_sql(\"\"\"SELECT primary_profession, primary_title as movie\n",
    "#     FROM persons as p\n",
    "#         JOIN directors\n",
    "#             USING(person_id) \n",
    "#         JOIN writers\n",
    "#             USING(person_id)\n",
    "#         JOIN movie_basics\n",
    "#             using(movie_id)\n",
    "#         JOIN known_for\n",
    "#             using(movie_id)\n",
    "#         JOIN principals\n",
    "#             using(movie_id)\n",
    "#     GROUP BY primary_profession\n",
    "#     ORDER BY movie\n",
    "# \"\"\", conn)\n",
    "# SQL2.head()"
   ]
  },
  {
   "cell_type": "code",
   "execution_count": 463,
   "metadata": {
    "scrolled": true
   },
   "outputs": [],
   "source": [
    "# SQL2 = pd.read_sql(\"\"\"\n",
    "# SELECT primary_title as movie, person_id as director\n",
    "# FROM principals as p\n",
    "#     JOIN movie_basics as mb\n",
    "#     WHERE category or job = 'director'\n",
    "#     GROUP BY movie\n",
    "#     ORDER BY director\n",
    "#  \"\"\", conn)\n",
    "# SQL2.info()"
   ]
  },
  {
   "cell_type": "code",
   "execution_count": 464,
   "metadata": {},
   "outputs": [],
   "source": [
    "# SQLtest = pd.read_sql(\"\"\"\n",
    "# SELECT mb.primary_title as movie, d.person_id as director, w.person_id as writer\n",
    "# FROM principals as p\n",
    "#     JOIN movie_basics as mb\n",
    "#         using(movie_id)\n",
    "#     JOIN known_for\n",
    "#         using(movie_id)\n",
    "#     JOIN directors as d\n",
    "#         using(person_id)\n",
    "#     JOIN writers as w\n",
    "#         using(person_id)\n",
    "#     WHERE mb.movie_id = p.movie_id AND p.person_id = d.person_id or w.person_id\n",
    "#     GROUP BY movie\n",
    "#     ORDER BY director\n",
    "#  \"\"\", conn)\n",
    "# SQLtest.info()"
   ]
  },
  {
   "cell_type": "code",
   "execution_count": 86,
   "metadata": {},
   "outputs": [
    {
     "name": "stdout",
     "output_type": "stream",
     "text": [
      "<class 'pandas.core.frame.DataFrame'>\n",
      "RangeIndex: 124177 entries, 0 to 124176\n",
      "Data columns (total 5 columns):\n",
      " #   Column              Non-Null Count   Dtype \n",
      "---  ------              --------------   ----- \n",
      " 0   movie               124177 non-null  object\n",
      " 1   director            124177 non-null  object\n",
      " 2   primary_profession  123919 non-null  object\n",
      " 3   genres              121562 non-null  object\n",
      " 4   year                124177 non-null  int64 \n",
      "dtypes: int64(1), object(4)\n",
      "memory usage: 4.7+ MB\n"
     ]
    }
   ],
   "source": [
    "SQL = pd.read_sql(\"\"\"\n",
    "SELECT mb.primary_title as movie, pe.primary_name as director, primary_profession, mb.genres, mb.start_year as year\n",
    "FROM principals as p\n",
    "    JOIN movie_basics as mb\n",
    "        using(movie_id)\n",
    "    JOIN known_for\n",
    "        using(movie_id)\n",
    "    JOIN directors as d\n",
    "        using(person_id)\n",
    "    JOIN persons as pe\n",
    "        using(person_id)\n",
    "    WHERE mb.movie_id = p.movie_id AND pe.person_id = d.person_id\n",
    "    GROUP BY movie\n",
    "    ORDER BY director\n",
    " \"\"\", conn)\n",
    "SQL.info()"
   ]
  },
  {
   "cell_type": "code",
   "execution_count": 162,
   "metadata": {},
   "outputs": [
    {
     "data": {
      "text/html": [
       "<div>\n",
       "<style scoped>\n",
       "    .dataframe tbody tr th:only-of-type {\n",
       "        vertical-align: middle;\n",
       "    }\n",
       "\n",
       "    .dataframe tbody tr th {\n",
       "        vertical-align: top;\n",
       "    }\n",
       "\n",
       "    .dataframe thead th {\n",
       "        text-align: right;\n",
       "    }\n",
       "</style>\n",
       "<table border=\"1\" class=\"dataframe\">\n",
       "  <thead>\n",
       "    <tr style=\"text-align: right;\">\n",
       "      <th></th>\n",
       "      <th>movie</th>\n",
       "      <th>director</th>\n",
       "      <th>primary_profession</th>\n",
       "    </tr>\n",
       "  </thead>\n",
       "  <tbody>\n",
       "    <tr>\n",
       "      <th>0</th>\n",
       "      <td>False</td>\n",
       "      <td>False</td>\n",
       "      <td>False</td>\n",
       "    </tr>\n",
       "    <tr>\n",
       "      <th>1</th>\n",
       "      <td>False</td>\n",
       "      <td>False</td>\n",
       "      <td>False</td>\n",
       "    </tr>\n",
       "    <tr>\n",
       "      <th>2</th>\n",
       "      <td>False</td>\n",
       "      <td>False</td>\n",
       "      <td>False</td>\n",
       "    </tr>\n",
       "    <tr>\n",
       "      <th>3</th>\n",
       "      <td>False</td>\n",
       "      <td>False</td>\n",
       "      <td>False</td>\n",
       "    </tr>\n",
       "    <tr>\n",
       "      <th>4</th>\n",
       "      <td>False</td>\n",
       "      <td>False</td>\n",
       "      <td>False</td>\n",
       "    </tr>\n",
       "    <tr>\n",
       "      <th>...</th>\n",
       "      <td>...</td>\n",
       "      <td>...</td>\n",
       "      <td>...</td>\n",
       "    </tr>\n",
       "    <tr>\n",
       "      <th>124172</th>\n",
       "      <td>False</td>\n",
       "      <td>False</td>\n",
       "      <td>False</td>\n",
       "    </tr>\n",
       "    <tr>\n",
       "      <th>124173</th>\n",
       "      <td>False</td>\n",
       "      <td>False</td>\n",
       "      <td>False</td>\n",
       "    </tr>\n",
       "    <tr>\n",
       "      <th>124174</th>\n",
       "      <td>False</td>\n",
       "      <td>False</td>\n",
       "      <td>False</td>\n",
       "    </tr>\n",
       "    <tr>\n",
       "      <th>124175</th>\n",
       "      <td>False</td>\n",
       "      <td>False</td>\n",
       "      <td>False</td>\n",
       "    </tr>\n",
       "    <tr>\n",
       "      <th>124176</th>\n",
       "      <td>False</td>\n",
       "      <td>False</td>\n",
       "      <td>False</td>\n",
       "    </tr>\n",
       "  </tbody>\n",
       "</table>\n",
       "<p>124177 rows × 3 columns</p>\n",
       "</div>"
      ],
      "text/plain": [
       "        movie  director  primary_profession\n",
       "0       False     False               False\n",
       "1       False     False               False\n",
       "2       False     False               False\n",
       "3       False     False               False\n",
       "4       False     False               False\n",
       "...       ...       ...                 ...\n",
       "124172  False     False               False\n",
       "124173  False     False               False\n",
       "124174  False     False               False\n",
       "124175  False     False               False\n",
       "124176  False     False               False\n",
       "\n",
       "[124177 rows x 3 columns]"
      ]
     },
     "execution_count": 162,
     "metadata": {},
     "output_type": "execute_result"
    }
   ],
   "source": [
    "SQLtest.isna()"
   ]
  },
  {
   "cell_type": "code",
   "execution_count": 107,
   "metadata": {},
   "outputs": [
    {
     "ename": "KeyError",
     "evalue": "'year'",
     "output_type": "error",
     "traceback": [
      "\u001b[0;31m---------------------------------------------------------------------------\u001b[0m",
      "\u001b[0;31mKeyError\u001b[0m                                  Traceback (most recent call last)",
      "\u001b[0;32m/tmp/ipykernel_66/3712900892.py\u001b[0m in \u001b[0;36m<module>\u001b[0;34m\u001b[0m\n\u001b[0;32m----> 1\u001b[0;31m \u001b[0mTNSQL\u001b[0m \u001b[0;34m=\u001b[0m \u001b[0mpd\u001b[0m\u001b[0;34m.\u001b[0m\u001b[0mmerge\u001b[0m\u001b[0;34m(\u001b[0m\u001b[0mTN_clean_base\u001b[0m\u001b[0;34m,\u001b[0m \u001b[0mSQLtest\u001b[0m\u001b[0;34m,\u001b[0m \u001b[0mleft_on\u001b[0m\u001b[0;34m=\u001b[0m\u001b[0;34m[\u001b[0m\u001b[0;34m'movie'\u001b[0m\u001b[0;34m,\u001b[0m \u001b[0;34m'year'\u001b[0m\u001b[0;34m]\u001b[0m\u001b[0;34m,\u001b[0m \u001b[0mright_on\u001b[0m\u001b[0;34m=\u001b[0m\u001b[0;34m[\u001b[0m\u001b[0;34m'movie'\u001b[0m\u001b[0;34m,\u001b[0m \u001b[0;34m'year'\u001b[0m\u001b[0;34m]\u001b[0m\u001b[0;34m,\u001b[0m \u001b[0mhow\u001b[0m\u001b[0;34m=\u001b[0m\u001b[0;34m'inner'\u001b[0m\u001b[0;34m)\u001b[0m\u001b[0;34m\u001b[0m\u001b[0;34m\u001b[0m\u001b[0m\n\u001b[0m",
      "\u001b[0;32m/opt/conda/lib/python3.9/site-packages/pandas/core/reshape/merge.py\u001b[0m in \u001b[0;36mmerge\u001b[0;34m(left, right, how, on, left_on, right_on, left_index, right_index, sort, suffixes, copy, indicator, validate)\u001b[0m\n\u001b[1;32m    105\u001b[0m     \u001b[0mvalidate\u001b[0m\u001b[0;34m:\u001b[0m \u001b[0mstr\u001b[0m \u001b[0;34m|\u001b[0m \u001b[0;32mNone\u001b[0m \u001b[0;34m=\u001b[0m \u001b[0;32mNone\u001b[0m\u001b[0;34m,\u001b[0m\u001b[0;34m\u001b[0m\u001b[0;34m\u001b[0m\u001b[0m\n\u001b[1;32m    106\u001b[0m ) -> DataFrame:\n\u001b[0;32m--> 107\u001b[0;31m     op = _MergeOperation(\n\u001b[0m\u001b[1;32m    108\u001b[0m         \u001b[0mleft\u001b[0m\u001b[0;34m,\u001b[0m\u001b[0;34m\u001b[0m\u001b[0;34m\u001b[0m\u001b[0m\n\u001b[1;32m    109\u001b[0m         \u001b[0mright\u001b[0m\u001b[0;34m,\u001b[0m\u001b[0;34m\u001b[0m\u001b[0;34m\u001b[0m\u001b[0m\n",
      "\u001b[0;32m/opt/conda/lib/python3.9/site-packages/pandas/core/reshape/merge.py\u001b[0m in \u001b[0;36m__init__\u001b[0;34m(self, left, right, how, on, left_on, right_on, axis, left_index, right_index, sort, suffixes, copy, indicator, validate)\u001b[0m\n\u001b[1;32m    698\u001b[0m             \u001b[0mself\u001b[0m\u001b[0;34m.\u001b[0m\u001b[0mright_join_keys\u001b[0m\u001b[0;34m,\u001b[0m\u001b[0;34m\u001b[0m\u001b[0;34m\u001b[0m\u001b[0m\n\u001b[1;32m    699\u001b[0m             \u001b[0mself\u001b[0m\u001b[0;34m.\u001b[0m\u001b[0mjoin_names\u001b[0m\u001b[0;34m,\u001b[0m\u001b[0;34m\u001b[0m\u001b[0;34m\u001b[0m\u001b[0m\n\u001b[0;32m--> 700\u001b[0;31m         ) = self._get_merge_keys()\n\u001b[0m\u001b[1;32m    701\u001b[0m \u001b[0;34m\u001b[0m\u001b[0m\n\u001b[1;32m    702\u001b[0m         \u001b[0;31m# validate the merge keys dtypes. We may need to coerce\u001b[0m\u001b[0;34m\u001b[0m\u001b[0;34m\u001b[0m\u001b[0;34m\u001b[0m\u001b[0m\n",
      "\u001b[0;32m/opt/conda/lib/python3.9/site-packages/pandas/core/reshape/merge.py\u001b[0m in \u001b[0;36m_get_merge_keys\u001b[0;34m(self)\u001b[0m\n\u001b[1;32m   1090\u001b[0m                     \u001b[0;32mif\u001b[0m \u001b[0;32mnot\u001b[0m \u001b[0mis_rkey\u001b[0m\u001b[0;34m(\u001b[0m\u001b[0mrk\u001b[0m\u001b[0;34m)\u001b[0m\u001b[0;34m:\u001b[0m\u001b[0;34m\u001b[0m\u001b[0;34m\u001b[0m\u001b[0m\n\u001b[1;32m   1091\u001b[0m                         \u001b[0;32mif\u001b[0m \u001b[0mrk\u001b[0m \u001b[0;32mis\u001b[0m \u001b[0;32mnot\u001b[0m \u001b[0;32mNone\u001b[0m\u001b[0;34m:\u001b[0m\u001b[0;34m\u001b[0m\u001b[0;34m\u001b[0m\u001b[0m\n\u001b[0;32m-> 1092\u001b[0;31m                             \u001b[0mright_keys\u001b[0m\u001b[0;34m.\u001b[0m\u001b[0mappend\u001b[0m\u001b[0;34m(\u001b[0m\u001b[0mright\u001b[0m\u001b[0;34m.\u001b[0m\u001b[0m_get_label_or_level_values\u001b[0m\u001b[0;34m(\u001b[0m\u001b[0mrk\u001b[0m\u001b[0;34m)\u001b[0m\u001b[0;34m)\u001b[0m\u001b[0;34m\u001b[0m\u001b[0;34m\u001b[0m\u001b[0m\n\u001b[0m\u001b[1;32m   1093\u001b[0m                         \u001b[0;32melse\u001b[0m\u001b[0;34m:\u001b[0m\u001b[0;34m\u001b[0m\u001b[0;34m\u001b[0m\u001b[0m\n\u001b[1;32m   1094\u001b[0m                             \u001b[0;31m# work-around for merge_asof(right_index=True)\u001b[0m\u001b[0;34m\u001b[0m\u001b[0;34m\u001b[0m\u001b[0;34m\u001b[0m\u001b[0m\n",
      "\u001b[0;32m/opt/conda/lib/python3.9/site-packages/pandas/core/generic.py\u001b[0m in \u001b[0;36m_get_label_or_level_values\u001b[0;34m(self, key, axis)\u001b[0m\n\u001b[1;32m   1774\u001b[0m             \u001b[0mvalues\u001b[0m \u001b[0;34m=\u001b[0m \u001b[0mself\u001b[0m\u001b[0;34m.\u001b[0m\u001b[0maxes\u001b[0m\u001b[0;34m[\u001b[0m\u001b[0maxis\u001b[0m\u001b[0;34m]\u001b[0m\u001b[0;34m.\u001b[0m\u001b[0mget_level_values\u001b[0m\u001b[0;34m(\u001b[0m\u001b[0mkey\u001b[0m\u001b[0;34m)\u001b[0m\u001b[0;34m.\u001b[0m\u001b[0m_values\u001b[0m\u001b[0;34m\u001b[0m\u001b[0;34m\u001b[0m\u001b[0m\n\u001b[1;32m   1775\u001b[0m         \u001b[0;32melse\u001b[0m\u001b[0;34m:\u001b[0m\u001b[0;34m\u001b[0m\u001b[0;34m\u001b[0m\u001b[0m\n\u001b[0;32m-> 1776\u001b[0;31m             \u001b[0;32mraise\u001b[0m \u001b[0mKeyError\u001b[0m\u001b[0;34m(\u001b[0m\u001b[0mkey\u001b[0m\u001b[0;34m)\u001b[0m\u001b[0;34m\u001b[0m\u001b[0;34m\u001b[0m\u001b[0m\n\u001b[0m\u001b[1;32m   1777\u001b[0m \u001b[0;34m\u001b[0m\u001b[0m\n\u001b[1;32m   1778\u001b[0m         \u001b[0;31m# Check for duplicates\u001b[0m\u001b[0;34m\u001b[0m\u001b[0;34m\u001b[0m\u001b[0;34m\u001b[0m\u001b[0m\n",
      "\u001b[0;31mKeyError\u001b[0m: 'year'"
     ]
    }
   ],
   "source": [
    "TNSQL = pd.merge(TN_clean_base, SQLtest, left_on=['movie', 'year'], right_on=['movie', 'year'], how='inner')"
   ]
  },
  {
   "cell_type": "markdown",
   "metadata": {},
   "source": [
    "That query takes a ton of juice to complete.   Waited almost 20 seconds.  "
   ]
  },
  {
   "cell_type": "code",
   "execution_count": 163,
   "metadata": {},
   "outputs": [
    {
     "data": {
      "text/html": [
       "<div>\n",
       "<style scoped>\n",
       "    .dataframe tbody tr th:only-of-type {\n",
       "        vertical-align: middle;\n",
       "    }\n",
       "\n",
       "    .dataframe tbody tr th {\n",
       "        vertical-align: top;\n",
       "    }\n",
       "\n",
       "    .dataframe thead th {\n",
       "        text-align: right;\n",
       "    }\n",
       "</style>\n",
       "<table border=\"1\" class=\"dataframe\">\n",
       "  <thead>\n",
       "    <tr style=\"text-align: right;\">\n",
       "      <th></th>\n",
       "      <th>movie</th>\n",
       "      <th>director</th>\n",
       "      <th>primary_profession</th>\n",
       "    </tr>\n",
       "  </thead>\n",
       "  <tbody>\n",
       "    <tr>\n",
       "      <th>0</th>\n",
       "      <td>Holidays</td>\n",
       "      <td>'Atlas' Ramachandran</td>\n",
       "      <td>actor,director</td>\n",
       "    </tr>\n",
       "    <tr>\n",
       "      <th>1</th>\n",
       "      <td>Príncipe Azteca</td>\n",
       "      <td>A Fernandez</td>\n",
       "      <td>director</td>\n",
       "    </tr>\n",
       "    <tr>\n",
       "      <th>2</th>\n",
       "      <td>Blood Freedom: Unchained Rebellion</td>\n",
       "      <td>A'Ali de Sousa</td>\n",
       "      <td>actor,producer,writer</td>\n",
       "    </tr>\n",
       "    <tr>\n",
       "      <th>3</th>\n",
       "      <td>Bullets Blades and Blood</td>\n",
       "      <td>A'Ali de Sousa</td>\n",
       "      <td>actor,producer,writer</td>\n",
       "    </tr>\n",
       "    <tr>\n",
       "      <th>4</th>\n",
       "      <td>The Heart of Amilcar Cabral</td>\n",
       "      <td>A'Ali de Sousa</td>\n",
       "      <td>actor,producer,writer</td>\n",
       "    </tr>\n",
       "  </tbody>\n",
       "</table>\n",
       "</div>"
      ],
      "text/plain": [
       "                                movie              director  \\\n",
       "0                            Holidays  'Atlas' Ramachandran   \n",
       "1                     Príncipe Azteca           A Fernandez   \n",
       "2  Blood Freedom: Unchained Rebellion        A'Ali de Sousa   \n",
       "3            Bullets Blades and Blood        A'Ali de Sousa   \n",
       "4         The Heart of Amilcar Cabral        A'Ali de Sousa   \n",
       "\n",
       "      primary_profession  \n",
       "0         actor,director  \n",
       "1               director  \n",
       "2  actor,producer,writer  \n",
       "3  actor,producer,writer  \n",
       "4  actor,producer,writer  "
      ]
     },
     "execution_count": 163,
     "metadata": {},
     "output_type": "execute_result"
    }
   ],
   "source": [
    "SQLtest.head()"
   ]
  },
  {
   "cell_type": "code",
   "execution_count": 164,
   "metadata": {},
   "outputs": [
    {
     "data": {
      "text/plain": [
       "0"
      ]
     },
     "execution_count": 164,
     "metadata": {},
     "output_type": "execute_result"
    }
   ],
   "source": [
    "SQLtest.duplicated(subset='movie').sum()"
   ]
  },
  {
   "cell_type": "markdown",
   "metadata": {},
   "source": [
    "now we merge the directors writers and movie data with our dataset. "
   ]
  },
  {
   "cell_type": "code",
   "execution_count": 190,
   "metadata": {},
   "outputs": [
    {
     "name": "stdout",
     "output_type": "stream",
     "text": [
      "<class 'pandas.core.frame.DataFrame'>\n",
      "Int64Index: 5698 entries, 0 to 5697\n",
      "Data columns (total 34 columns):\n",
      " #   Column                Non-Null Count  Dtype         \n",
      "---  ------                --------------  -----         \n",
      " 0   release_date          5698 non-null   datetime64[ns]\n",
      " 1   movie                 5698 non-null   object        \n",
      " 2   production_budget     5698 non-null   int64         \n",
      " 3   domestic_gross        5698 non-null   int64         \n",
      " 4   foreign_gross         5698 non-null   int64         \n",
      " 5   year                  5698 non-null   int64         \n",
      " 6   domestic_profit_loss  5698 non-null   int64         \n",
      " 7   foreign_profit_loss   5698 non-null   int64         \n",
      " 8   total_gross           5698 non-null   int64         \n",
      " 9   total_profit_loss     5698 non-null   int64         \n",
      " 10  movie_id              1468 non-null   object        \n",
      " 11  original_title_x      1468 non-null   object        \n",
      " 12  runtime_minutes       1452 non-null   float64       \n",
      " 13  genres                1468 non-null   object        \n",
      " 14  movie_id              1446 non-null   object        \n",
      " 15  averagerating         1446 non-null   float64       \n",
      " 16  numvotes              1446 non-null   float64       \n",
      " 17  movie_id              1465 non-null   object        \n",
      " 18  ordering              1465 non-null   float64       \n",
      " 19  title                 1465 non-null   object        \n",
      " 20  region                1344 non-null   object        \n",
      " 21  language              229 non-null    object        \n",
      " 22  types                 1028 non-null   object        \n",
      " 23  attributes            60 non-null     object        \n",
      " 24  is_original_title     1465 non-null   float64       \n",
      " 25  genre_ids             1260 non-null   object        \n",
      " 26  id                    1260 non-null   float64       \n",
      " 27  original_language     1260 non-null   object        \n",
      " 28  original_title_y      1260 non-null   object        \n",
      " 29  popularity            1260 non-null   float64       \n",
      " 30  vote_average          1260 non-null   float64       \n",
      " 31  vote_count            1260 non-null   float64       \n",
      " 32  director              2274 non-null   object        \n",
      " 33  primary_profession    2274 non-null   object        \n",
      "dtypes: datetime64[ns](1), float64(9), int64(8), object(16)\n",
      "memory usage: 1.5+ MB\n"
     ]
    }
   ],
   "source": [
    "DF2 = TM_TB.merge(SQLtest, on='movie', how='left')\n",
    "DF2.info()"
   ]
  },
  {
   "cell_type": "code",
   "execution_count": 234,
   "metadata": {},
   "outputs": [
    {
     "data": {
      "text/plain": [
       "release_date               0\n",
       "movie                      0\n",
       "production_budget          0\n",
       "domestic_gross             0\n",
       "foreign_gross              0\n",
       "year                       0\n",
       "domestic_profit_loss       0\n",
       "foreign_profit_loss        0\n",
       "total_gross                0\n",
       "total_profit_loss          0\n",
       "movie_id                4230\n",
       "original_title_x        4230\n",
       "runtime_minutes         4246\n",
       "genres                  4230\n",
       "movie_id                4252\n",
       "averagerating           4252\n",
       "numvotes                4252\n",
       "movie_id                4233\n",
       "ordering                4233\n",
       "title                   4233\n",
       "region                  4354\n",
       "language                5469\n",
       "types                   4670\n",
       "attributes              5638\n",
       "is_original_title       4233\n",
       "genre_ids               4438\n",
       "id                      4438\n",
       "original_language       4438\n",
       "original_title_y        4438\n",
       "popularity              4438\n",
       "vote_average            4438\n",
       "vote_count              4438\n",
       "director                3424\n",
       "primary_profession      3424\n",
       "dtype: int64"
      ]
     },
     "execution_count": 234,
     "metadata": {},
     "output_type": "execute_result"
    }
   ],
   "source": [
    "DF2.isna().sum()"
   ]
  },
  {
   "cell_type": "code",
   "execution_count": 235,
   "metadata": {
    "scrolled": true
   },
   "outputs": [
    {
     "data": {
      "text/html": [
       "<div>\n",
       "<style scoped>\n",
       "    .dataframe tbody tr th:only-of-type {\n",
       "        vertical-align: middle;\n",
       "    }\n",
       "\n",
       "    .dataframe tbody tr th {\n",
       "        vertical-align: top;\n",
       "    }\n",
       "\n",
       "    .dataframe thead th {\n",
       "        text-align: right;\n",
       "    }\n",
       "</style>\n",
       "<table border=\"1\" class=\"dataframe\">\n",
       "  <thead>\n",
       "    <tr style=\"text-align: right;\">\n",
       "      <th></th>\n",
       "      <th>release_date</th>\n",
       "      <th>movie</th>\n",
       "      <th>production_budget</th>\n",
       "      <th>domestic_gross</th>\n",
       "      <th>foreign_gross</th>\n",
       "      <th>year</th>\n",
       "      <th>domestic_profit_loss</th>\n",
       "      <th>foreign_profit_loss</th>\n",
       "      <th>total_gross</th>\n",
       "      <th>total_profit_loss</th>\n",
       "      <th>...</th>\n",
       "      <th>is_original_title</th>\n",
       "      <th>genre_ids</th>\n",
       "      <th>id</th>\n",
       "      <th>original_language</th>\n",
       "      <th>original_title_y</th>\n",
       "      <th>popularity</th>\n",
       "      <th>vote_average</th>\n",
       "      <th>vote_count</th>\n",
       "      <th>director</th>\n",
       "      <th>primary_profession</th>\n",
       "    </tr>\n",
       "  </thead>\n",
       "  <tbody>\n",
       "  </tbody>\n",
       "</table>\n",
       "<p>0 rows × 34 columns</p>\n",
       "</div>"
      ],
      "text/plain": [
       "Empty DataFrame\n",
       "Columns: [release_date, movie, production_budget, domestic_gross, foreign_gross, year, domestic_profit_loss, foreign_profit_loss, total_gross, total_profit_loss, movie_id, original_title_x, runtime_minutes, genres, movie_id, averagerating, numvotes, movie_id, ordering, title, region, language, types, attributes, is_original_title, genre_ids, id, original_language, original_title_y, popularity, vote_average, vote_count, director, primary_profession]\n",
       "Index: []\n",
       "\n",
       "[0 rows x 34 columns]"
      ]
     },
     "execution_count": 235,
     "metadata": {},
     "output_type": "execute_result"
    }
   ],
   "source": [
    "DF2.dropna()"
   ]
  },
  {
   "cell_type": "code",
   "execution_count": 236,
   "metadata": {},
   "outputs": [
    {
     "data": {
      "text/plain": [
       "0"
      ]
     },
     "execution_count": 236,
     "metadata": {},
     "output_type": "execute_result"
    }
   ],
   "source": [
    "DF2.duplicated(subset=['movie', 'release_date']).sum()"
   ]
  },
  {
   "cell_type": "code",
   "execution_count": 237,
   "metadata": {},
   "outputs": [
    {
     "data": {
      "text/plain": [
       "0"
      ]
     },
     "execution_count": 237,
     "metadata": {},
     "output_type": "execute_result"
    }
   ],
   "source": [
    "DF3 = DF2.drop_duplicates(subset=['movie'])\n",
    "DF3.duplicated().sum()"
   ]
  },
  {
   "cell_type": "code",
   "execution_count": 238,
   "metadata": {},
   "outputs": [
    {
     "data": {
      "text/html": [
       "<div>\n",
       "<style scoped>\n",
       "    .dataframe tbody tr th:only-of-type {\n",
       "        vertical-align: middle;\n",
       "    }\n",
       "\n",
       "    .dataframe tbody tr th {\n",
       "        vertical-align: top;\n",
       "    }\n",
       "\n",
       "    .dataframe thead th {\n",
       "        text-align: right;\n",
       "    }\n",
       "</style>\n",
       "<table border=\"1\" class=\"dataframe\">\n",
       "  <thead>\n",
       "    <tr style=\"text-align: right;\">\n",
       "      <th></th>\n",
       "      <th>release_date</th>\n",
       "      <th>movie</th>\n",
       "      <th>production_budget</th>\n",
       "      <th>domestic_gross</th>\n",
       "      <th>foreign_gross</th>\n",
       "      <th>year</th>\n",
       "      <th>domestic_profit_loss</th>\n",
       "      <th>foreign_profit_loss</th>\n",
       "      <th>total_gross</th>\n",
       "      <th>total_profit_loss</th>\n",
       "      <th>...</th>\n",
       "      <th>is_original_title</th>\n",
       "      <th>genre_ids</th>\n",
       "      <th>id</th>\n",
       "      <th>original_language</th>\n",
       "      <th>original_title_y</th>\n",
       "      <th>popularity</th>\n",
       "      <th>vote_average</th>\n",
       "      <th>vote_count</th>\n",
       "      <th>director</th>\n",
       "      <th>primary_profession</th>\n",
       "    </tr>\n",
       "  </thead>\n",
       "  <tbody>\n",
       "    <tr>\n",
       "      <th>0</th>\n",
       "      <td>2009-12-18</td>\n",
       "      <td>Avatar</td>\n",
       "      <td>425000000</td>\n",
       "      <td>760507625</td>\n",
       "      <td>2776345279</td>\n",
       "      <td>2009</td>\n",
       "      <td>335507625</td>\n",
       "      <td>2351345279</td>\n",
       "      <td>3536852904</td>\n",
       "      <td>2686852904</td>\n",
       "      <td>...</td>\n",
       "      <td>NaN</td>\n",
       "      <td>[28, 12, 14, 878]</td>\n",
       "      <td>19995.0</td>\n",
       "      <td>en</td>\n",
       "      <td>Avatar</td>\n",
       "      <td>26.526</td>\n",
       "      <td>7.4</td>\n",
       "      <td>18676.0</td>\n",
       "      <td>Atsushi Wada</td>\n",
       "      <td>director</td>\n",
       "    </tr>\n",
       "    <tr>\n",
       "      <th>1</th>\n",
       "      <td>2011-05-20</td>\n",
       "      <td>Pirates of the Caribbean: On Stranger Tides</td>\n",
       "      <td>410600000</td>\n",
       "      <td>241063875</td>\n",
       "      <td>1045663875</td>\n",
       "      <td>2011</td>\n",
       "      <td>-169536125</td>\n",
       "      <td>635063875</td>\n",
       "      <td>1286727750</td>\n",
       "      <td>465527750</td>\n",
       "      <td>...</td>\n",
       "      <td>0.0</td>\n",
       "      <td>[12, 28, 14]</td>\n",
       "      <td>1865.0</td>\n",
       "      <td>en</td>\n",
       "      <td>Pirates of the Caribbean: On Stranger Tides</td>\n",
       "      <td>30.579</td>\n",
       "      <td>6.4</td>\n",
       "      <td>8571.0</td>\n",
       "      <td>Johnny Depp</td>\n",
       "      <td>actor,producer,soundtrack</td>\n",
       "    </tr>\n",
       "    <tr>\n",
       "      <th>2</th>\n",
       "      <td>2019-06-07</td>\n",
       "      <td>Dark Phoenix</td>\n",
       "      <td>350000000</td>\n",
       "      <td>42762350</td>\n",
       "      <td>149762350</td>\n",
       "      <td>2019</td>\n",
       "      <td>-307237650</td>\n",
       "      <td>-200237650</td>\n",
       "      <td>192524700</td>\n",
       "      <td>-507475300</td>\n",
       "      <td>...</td>\n",
       "      <td>0.0</td>\n",
       "      <td>NaN</td>\n",
       "      <td>NaN</td>\n",
       "      <td>NaN</td>\n",
       "      <td>NaN</td>\n",
       "      <td>NaN</td>\n",
       "      <td>NaN</td>\n",
       "      <td>NaN</td>\n",
       "      <td>Simon Kinberg</td>\n",
       "      <td>producer,writer,director</td>\n",
       "    </tr>\n",
       "    <tr>\n",
       "      <th>3</th>\n",
       "      <td>2015-05-01</td>\n",
       "      <td>Avengers: Age of Ultron</td>\n",
       "      <td>330600000</td>\n",
       "      <td>459005868</td>\n",
       "      <td>1403013963</td>\n",
       "      <td>2015</td>\n",
       "      <td>128405868</td>\n",
       "      <td>1072413963</td>\n",
       "      <td>1862019831</td>\n",
       "      <td>1200819831</td>\n",
       "      <td>...</td>\n",
       "      <td>0.0</td>\n",
       "      <td>[28, 12, 878]</td>\n",
       "      <td>99861.0</td>\n",
       "      <td>en</td>\n",
       "      <td>Avengers: Age of Ultron</td>\n",
       "      <td>44.383</td>\n",
       "      <td>7.3</td>\n",
       "      <td>13457.0</td>\n",
       "      <td>Chris Evans</td>\n",
       "      <td>actor,producer,director</td>\n",
       "    </tr>\n",
       "    <tr>\n",
       "      <th>4</th>\n",
       "      <td>2017-12-15</td>\n",
       "      <td>Star Wars Ep. VIII: The Last Jedi</td>\n",
       "      <td>317000000</td>\n",
       "      <td>620181382</td>\n",
       "      <td>1316721747</td>\n",
       "      <td>2017</td>\n",
       "      <td>303181382</td>\n",
       "      <td>999721747</td>\n",
       "      <td>1936903129</td>\n",
       "      <td>1302903129</td>\n",
       "      <td>...</td>\n",
       "      <td>NaN</td>\n",
       "      <td>NaN</td>\n",
       "      <td>NaN</td>\n",
       "      <td>NaN</td>\n",
       "      <td>NaN</td>\n",
       "      <td>NaN</td>\n",
       "      <td>NaN</td>\n",
       "      <td>NaN</td>\n",
       "      <td>NaN</td>\n",
       "      <td>NaN</td>\n",
       "    </tr>\n",
       "  </tbody>\n",
       "</table>\n",
       "<p>5 rows × 34 columns</p>\n",
       "</div>"
      ],
      "text/plain": [
       "  release_date                                        movie  \\\n",
       "0   2009-12-18                                       Avatar   \n",
       "1   2011-05-20  Pirates of the Caribbean: On Stranger Tides   \n",
       "2   2019-06-07                                 Dark Phoenix   \n",
       "3   2015-05-01                      Avengers: Age of Ultron   \n",
       "4   2017-12-15            Star Wars Ep. VIII: The Last Jedi   \n",
       "\n",
       "   production_budget  domestic_gross  foreign_gross  year  \\\n",
       "0          425000000       760507625     2776345279  2009   \n",
       "1          410600000       241063875     1045663875  2011   \n",
       "2          350000000        42762350      149762350  2019   \n",
       "3          330600000       459005868     1403013963  2015   \n",
       "4          317000000       620181382     1316721747  2017   \n",
       "\n",
       "   domestic_profit_loss  foreign_profit_loss  total_gross  total_profit_loss  \\\n",
       "0             335507625           2351345279   3536852904         2686852904   \n",
       "1            -169536125            635063875   1286727750          465527750   \n",
       "2            -307237650           -200237650    192524700         -507475300   \n",
       "3             128405868           1072413963   1862019831         1200819831   \n",
       "4             303181382            999721747   1936903129         1302903129   \n",
       "\n",
       "   ... is_original_title          genre_ids       id original_language  \\\n",
       "0  ...               NaN  [28, 12, 14, 878]  19995.0                en   \n",
       "1  ...               0.0       [12, 28, 14]   1865.0                en   \n",
       "2  ...               0.0                NaN      NaN               NaN   \n",
       "3  ...               0.0      [28, 12, 878]  99861.0                en   \n",
       "4  ...               NaN                NaN      NaN               NaN   \n",
       "\n",
       "                              original_title_y  popularity  vote_average  \\\n",
       "0                                       Avatar      26.526           7.4   \n",
       "1  Pirates of the Caribbean: On Stranger Tides      30.579           6.4   \n",
       "2                                          NaN         NaN           NaN   \n",
       "3                      Avengers: Age of Ultron      44.383           7.3   \n",
       "4                                          NaN         NaN           NaN   \n",
       "\n",
       "  vote_count       director         primary_profession  \n",
       "0    18676.0   Atsushi Wada                   director  \n",
       "1     8571.0    Johnny Depp  actor,producer,soundtrack  \n",
       "2        NaN  Simon Kinberg   producer,writer,director  \n",
       "3    13457.0    Chris Evans    actor,producer,director  \n",
       "4        NaN            NaN                        NaN  \n",
       "\n",
       "[5 rows x 34 columns]"
      ]
     },
     "execution_count": 238,
     "metadata": {},
     "output_type": "execute_result"
    }
   ],
   "source": [
    "DF3.head()"
   ]
  },
  {
   "cell_type": "code",
   "execution_count": 239,
   "metadata": {
    "scrolled": true
   },
   "outputs": [
    {
     "name": "stdout",
     "output_type": "stream",
     "text": [
      "<class 'pandas.core.frame.DataFrame'>\n",
      "Int64Index: 5698 entries, 0 to 5697\n",
      "Data columns (total 34 columns):\n",
      " #   Column                Non-Null Count  Dtype         \n",
      "---  ------                --------------  -----         \n",
      " 0   release_date          5698 non-null   datetime64[ns]\n",
      " 1   movie                 5698 non-null   object        \n",
      " 2   production_budget     5698 non-null   int64         \n",
      " 3   domestic_gross        5698 non-null   int64         \n",
      " 4   foreign_gross         5698 non-null   int64         \n",
      " 5   year                  5698 non-null   int64         \n",
      " 6   domestic_profit_loss  5698 non-null   int64         \n",
      " 7   foreign_profit_loss   5698 non-null   int64         \n",
      " 8   total_gross           5698 non-null   int64         \n",
      " 9   total_profit_loss     5698 non-null   int64         \n",
      " 10  movie_id              1468 non-null   object        \n",
      " 11  original_title_x      1468 non-null   object        \n",
      " 12  runtime_minutes       1452 non-null   float64       \n",
      " 13  genres                1468 non-null   object        \n",
      " 14  movie_id              1446 non-null   object        \n",
      " 15  averagerating         1446 non-null   float64       \n",
      " 16  numvotes              1446 non-null   float64       \n",
      " 17  movie_id              1465 non-null   object        \n",
      " 18  ordering              1465 non-null   float64       \n",
      " 19  title                 1465 non-null   object        \n",
      " 20  region                1344 non-null   object        \n",
      " 21  language              229 non-null    object        \n",
      " 22  types                 1028 non-null   object        \n",
      " 23  attributes            60 non-null     object        \n",
      " 24  is_original_title     1465 non-null   float64       \n",
      " 25  genre_ids             1260 non-null   object        \n",
      " 26  id                    1260 non-null   float64       \n",
      " 27  original_language     1260 non-null   object        \n",
      " 28  original_title_y      1260 non-null   object        \n",
      " 29  popularity            1260 non-null   float64       \n",
      " 30  vote_average          1260 non-null   float64       \n",
      " 31  vote_count            1260 non-null   float64       \n",
      " 32  director              2274 non-null   object        \n",
      " 33  primary_profession    2274 non-null   object        \n",
      "dtypes: datetime64[ns](1), float64(9), int64(8), object(16)\n",
      "memory usage: 1.5+ MB\n"
     ]
    }
   ],
   "source": [
    "DF3.info()"
   ]
  },
  {
   "cell_type": "markdown",
   "metadata": {},
   "source": [
    "## Back to BOM \n",
    "There is a studio value here that is worth incorporating.  "
   ]
  },
  {
   "cell_type": "code",
   "execution_count": 376,
   "metadata": {},
   "outputs": [
    {
     "name": "stdout",
     "output_type": "stream",
     "text": [
      "<class 'pandas.core.frame.DataFrame'>\n",
      "RangeIndex: 3387 entries, 0 to 3386\n",
      "Data columns (total 5 columns):\n",
      " #   Column          Non-Null Count  Dtype  \n",
      "---  ------          --------------  -----  \n",
      " 0   movie           3387 non-null   object \n",
      " 1   studio          3382 non-null   object \n",
      " 2   domestic_gross  3359 non-null   float64\n",
      " 3   foreign_gross   2037 non-null   object \n",
      " 4   year            3387 non-null   int64  \n",
      "dtypes: float64(1), int64(1), object(3)\n",
      "memory usage: 132.4+ KB\n"
     ]
    }
   ],
   "source": [
    "bom_movie_gross.info()"
   ]
  },
  {
   "cell_type": "code",
   "execution_count": 377,
   "metadata": {},
   "outputs": [],
   "source": [
    "bom_movie_gross.rename(columns={'title' : 'movie'}, inplace=True)"
   ]
  },
  {
   "cell_type": "code",
   "execution_count": 378,
   "metadata": {},
   "outputs": [],
   "source": [
    "TNBOM = DF3.merge(bom_movie_gross, on=['movie', 'year'], how='left')"
   ]
  },
  {
   "cell_type": "code",
   "execution_count": 379,
   "metadata": {},
   "outputs": [
    {
     "name": "stdout",
     "output_type": "stream",
     "text": [
      "<class 'pandas.core.frame.DataFrame'>\n",
      "Int64Index: 5698 entries, 0 to 5697\n",
      "Data columns (total 37 columns):\n",
      " #   Column                Non-Null Count  Dtype         \n",
      "---  ------                --------------  -----         \n",
      " 0   release_date          5698 non-null   datetime64[ns]\n",
      " 1   movie                 5698 non-null   object        \n",
      " 2   production_budget     5698 non-null   int64         \n",
      " 3   domestic_gross_x      5698 non-null   int64         \n",
      " 4   foreign_gross_x       5698 non-null   int64         \n",
      " 5   year                  5698 non-null   int64         \n",
      " 6   domestic_profit_loss  5698 non-null   int64         \n",
      " 7   foreign_profit_loss   5698 non-null   int64         \n",
      " 8   total_gross           5698 non-null   int64         \n",
      " 9   total_profit_loss     5698 non-null   int64         \n",
      " 10  movie_id              1468 non-null   object        \n",
      " 11  original_title_x      1468 non-null   object        \n",
      " 12  runtime_minutes       1452 non-null   float64       \n",
      " 13  genres                1468 non-null   object        \n",
      " 14  movie_id              1446 non-null   object        \n",
      " 15  averagerating         1446 non-null   float64       \n",
      " 16  numvotes              1446 non-null   float64       \n",
      " 17  movie_id              1465 non-null   object        \n",
      " 18  ordering              1465 non-null   float64       \n",
      " 19  title                 1465 non-null   object        \n",
      " 20  region                1344 non-null   object        \n",
      " 21  language              229 non-null    object        \n",
      " 22  types                 1028 non-null   object        \n",
      " 23  attributes            60 non-null     object        \n",
      " 24  is_original_title     1465 non-null   float64       \n",
      " 25  genre_ids             1260 non-null   object        \n",
      " 26  id                    1260 non-null   float64       \n",
      " 27  original_language     1260 non-null   object        \n",
      " 28  original_title_y      1260 non-null   object        \n",
      " 29  popularity            1260 non-null   float64       \n",
      " 30  vote_average          1260 non-null   float64       \n",
      " 31  vote_count            1260 non-null   float64       \n",
      " 32  director              2274 non-null   object        \n",
      " 33  primary_profession    2274 non-null   object        \n",
      " 34  studio                1213 non-null   object        \n",
      " 35  domestic_gross_y      1212 non-null   float64       \n",
      " 36  foreign_gross_y       1064 non-null   object        \n",
      "dtypes: datetime64[ns](1), float64(10), int64(8), object(18)\n",
      "memory usage: 1.7+ MB\n"
     ]
    }
   ],
   "source": [
    "TNBOM.info()"
   ]
  },
  {
   "cell_type": "code",
   "execution_count": 380,
   "metadata": {},
   "outputs": [
    {
     "data": {
      "text/plain": [
       "release_date               0\n",
       "movie                      0\n",
       "production_budget          0\n",
       "domestic_gross_x           0\n",
       "foreign_gross_x            0\n",
       "year                       0\n",
       "domestic_profit_loss       0\n",
       "foreign_profit_loss        0\n",
       "total_gross                0\n",
       "total_profit_loss          0\n",
       "movie_id                4230\n",
       "original_title_x        4230\n",
       "runtime_minutes         4246\n",
       "genres                  4230\n",
       "movie_id                4252\n",
       "averagerating           4252\n",
       "numvotes                4252\n",
       "movie_id                4233\n",
       "ordering                4233\n",
       "title                   4233\n",
       "region                  4354\n",
       "language                5469\n",
       "types                   4670\n",
       "attributes              5638\n",
       "is_original_title       4233\n",
       "genre_ids               4438\n",
       "id                      4438\n",
       "original_language       4438\n",
       "original_title_y        4438\n",
       "popularity              4438\n",
       "vote_average            4438\n",
       "vote_count              4438\n",
       "director                3424\n",
       "primary_profession      3424\n",
       "studio                  4485\n",
       "domestic_gross_y        4486\n",
       "foreign_gross_y         4634\n",
       "dtype: int64"
      ]
     },
     "execution_count": 380,
     "metadata": {},
     "output_type": "execute_result"
    }
   ],
   "source": [
    "TNBOM.isna().sum()"
   ]
  },
  {
   "cell_type": "code",
   "execution_count": 381,
   "metadata": {},
   "outputs": [
    {
     "data": {
      "text/html": [
       "<div>\n",
       "<style scoped>\n",
       "    .dataframe tbody tr th:only-of-type {\n",
       "        vertical-align: middle;\n",
       "    }\n",
       "\n",
       "    .dataframe tbody tr th {\n",
       "        vertical-align: top;\n",
       "    }\n",
       "\n",
       "    .dataframe thead th {\n",
       "        text-align: right;\n",
       "    }\n",
       "</style>\n",
       "<table border=\"1\" class=\"dataframe\">\n",
       "  <thead>\n",
       "    <tr style=\"text-align: right;\">\n",
       "      <th></th>\n",
       "      <th>release_date</th>\n",
       "      <th>movie</th>\n",
       "      <th>production_budget</th>\n",
       "      <th>domestic_gross_x</th>\n",
       "      <th>foreign_gross_x</th>\n",
       "      <th>year</th>\n",
       "      <th>domestic_profit_loss</th>\n",
       "      <th>foreign_profit_loss</th>\n",
       "      <th>total_gross</th>\n",
       "      <th>total_profit_loss</th>\n",
       "      <th>...</th>\n",
       "      <th>original_language</th>\n",
       "      <th>original_title_y</th>\n",
       "      <th>popularity</th>\n",
       "      <th>vote_average</th>\n",
       "      <th>vote_count</th>\n",
       "      <th>director</th>\n",
       "      <th>primary_profession</th>\n",
       "      <th>studio</th>\n",
       "      <th>domestic_gross_y</th>\n",
       "      <th>foreign_gross_y</th>\n",
       "    </tr>\n",
       "  </thead>\n",
       "  <tbody>\n",
       "  </tbody>\n",
       "</table>\n",
       "<p>0 rows × 37 columns</p>\n",
       "</div>"
      ],
      "text/plain": [
       "Empty DataFrame\n",
       "Columns: [release_date, movie, production_budget, domestic_gross_x, foreign_gross_x, year, domestic_profit_loss, foreign_profit_loss, total_gross, total_profit_loss, movie_id, original_title_x, runtime_minutes, genres, movie_id, averagerating, numvotes, movie_id, ordering, title, region, language, types, attributes, is_original_title, genre_ids, id, original_language, original_title_y, popularity, vote_average, vote_count, director, primary_profession, studio, domestic_gross_y, foreign_gross_y]\n",
       "Index: []\n",
       "\n",
       "[0 rows x 37 columns]"
      ]
     },
     "execution_count": 381,
     "metadata": {},
     "output_type": "execute_result"
    }
   ],
   "source": [
    "TNBOM.dropna()"
   ]
  },
  {
   "cell_type": "code",
   "execution_count": null,
   "metadata": {},
   "outputs": [],
   "source": []
  },
  {
   "cell_type": "code",
   "execution_count": 382,
   "metadata": {},
   "outputs": [
    {
     "data": {
      "text/plain": [
       "0"
      ]
     },
     "execution_count": 382,
     "metadata": {},
     "output_type": "execute_result"
    }
   ],
   "source": [
    "TNBOM.duplicated(subset=['movie', 'year']).sum()"
   ]
  },
  {
   "cell_type": "code",
   "execution_count": 383,
   "metadata": {},
   "outputs": [
    {
     "data": {
      "text/plain": [
       "0"
      ]
     },
     "execution_count": 383,
     "metadata": {},
     "output_type": "execute_result"
    }
   ],
   "source": [
    "TNBOM = TNBOM.drop_duplicates(subset=['movie', 'year'])\n",
    "TNBOM.duplicated().sum()"
   ]
  },
  {
   "cell_type": "code",
   "execution_count": 384,
   "metadata": {},
   "outputs": [
    {
     "data": {
      "text/html": [
       "<div>\n",
       "<style scoped>\n",
       "    .dataframe tbody tr th:only-of-type {\n",
       "        vertical-align: middle;\n",
       "    }\n",
       "\n",
       "    .dataframe tbody tr th {\n",
       "        vertical-align: top;\n",
       "    }\n",
       "\n",
       "    .dataframe thead th {\n",
       "        text-align: right;\n",
       "    }\n",
       "</style>\n",
       "<table border=\"1\" class=\"dataframe\">\n",
       "  <thead>\n",
       "    <tr style=\"text-align: right;\">\n",
       "      <th></th>\n",
       "      <th>release_date</th>\n",
       "      <th>movie</th>\n",
       "      <th>production_budget</th>\n",
       "      <th>domestic_gross_x</th>\n",
       "      <th>foreign_gross_x</th>\n",
       "      <th>year</th>\n",
       "      <th>domestic_profit_loss</th>\n",
       "      <th>foreign_profit_loss</th>\n",
       "      <th>total_gross</th>\n",
       "      <th>total_profit_loss</th>\n",
       "      <th>...</th>\n",
       "      <th>original_language</th>\n",
       "      <th>original_title_y</th>\n",
       "      <th>popularity</th>\n",
       "      <th>vote_average</th>\n",
       "      <th>vote_count</th>\n",
       "      <th>director</th>\n",
       "      <th>primary_profession</th>\n",
       "      <th>studio</th>\n",
       "      <th>domestic_gross_y</th>\n",
       "      <th>foreign_gross_y</th>\n",
       "    </tr>\n",
       "  </thead>\n",
       "  <tbody>\n",
       "    <tr>\n",
       "      <th>0</th>\n",
       "      <td>2009-12-18</td>\n",
       "      <td>Avatar</td>\n",
       "      <td>425000000</td>\n",
       "      <td>760507625</td>\n",
       "      <td>2776345279</td>\n",
       "      <td>2009</td>\n",
       "      <td>335507625</td>\n",
       "      <td>2351345279</td>\n",
       "      <td>3536852904</td>\n",
       "      <td>2686852904</td>\n",
       "      <td>...</td>\n",
       "      <td>en</td>\n",
       "      <td>Avatar</td>\n",
       "      <td>26.526</td>\n",
       "      <td>7.4</td>\n",
       "      <td>18676.0</td>\n",
       "      <td>Atsushi Wada</td>\n",
       "      <td>director</td>\n",
       "      <td>NaN</td>\n",
       "      <td>NaN</td>\n",
       "      <td>NaN</td>\n",
       "    </tr>\n",
       "    <tr>\n",
       "      <th>1</th>\n",
       "      <td>2011-05-20</td>\n",
       "      <td>Pirates of the Caribbean: On Stranger Tides</td>\n",
       "      <td>410600000</td>\n",
       "      <td>241063875</td>\n",
       "      <td>1045663875</td>\n",
       "      <td>2011</td>\n",
       "      <td>-169536125</td>\n",
       "      <td>635063875</td>\n",
       "      <td>1286727750</td>\n",
       "      <td>465527750</td>\n",
       "      <td>...</td>\n",
       "      <td>en</td>\n",
       "      <td>Pirates of the Caribbean: On Stranger Tides</td>\n",
       "      <td>30.579</td>\n",
       "      <td>6.4</td>\n",
       "      <td>8571.0</td>\n",
       "      <td>Johnny Depp</td>\n",
       "      <td>actor,producer,soundtrack</td>\n",
       "      <td>BV</td>\n",
       "      <td>241100000.0</td>\n",
       "      <td>804600000</td>\n",
       "    </tr>\n",
       "    <tr>\n",
       "      <th>2</th>\n",
       "      <td>2019-06-07</td>\n",
       "      <td>Dark Phoenix</td>\n",
       "      <td>350000000</td>\n",
       "      <td>42762350</td>\n",
       "      <td>149762350</td>\n",
       "      <td>2019</td>\n",
       "      <td>-307237650</td>\n",
       "      <td>-200237650</td>\n",
       "      <td>192524700</td>\n",
       "      <td>-507475300</td>\n",
       "      <td>...</td>\n",
       "      <td>NaN</td>\n",
       "      <td>NaN</td>\n",
       "      <td>NaN</td>\n",
       "      <td>NaN</td>\n",
       "      <td>NaN</td>\n",
       "      <td>Simon Kinberg</td>\n",
       "      <td>producer,writer,director</td>\n",
       "      <td>NaN</td>\n",
       "      <td>NaN</td>\n",
       "      <td>NaN</td>\n",
       "    </tr>\n",
       "    <tr>\n",
       "      <th>3</th>\n",
       "      <td>2015-05-01</td>\n",
       "      <td>Avengers: Age of Ultron</td>\n",
       "      <td>330600000</td>\n",
       "      <td>459005868</td>\n",
       "      <td>1403013963</td>\n",
       "      <td>2015</td>\n",
       "      <td>128405868</td>\n",
       "      <td>1072413963</td>\n",
       "      <td>1862019831</td>\n",
       "      <td>1200819831</td>\n",
       "      <td>...</td>\n",
       "      <td>en</td>\n",
       "      <td>Avengers: Age of Ultron</td>\n",
       "      <td>44.383</td>\n",
       "      <td>7.3</td>\n",
       "      <td>13457.0</td>\n",
       "      <td>Chris Evans</td>\n",
       "      <td>actor,producer,director</td>\n",
       "      <td>BV</td>\n",
       "      <td>459000000.0</td>\n",
       "      <td>946400000</td>\n",
       "    </tr>\n",
       "    <tr>\n",
       "      <th>4</th>\n",
       "      <td>2017-12-15</td>\n",
       "      <td>Star Wars Ep. VIII: The Last Jedi</td>\n",
       "      <td>317000000</td>\n",
       "      <td>620181382</td>\n",
       "      <td>1316721747</td>\n",
       "      <td>2017</td>\n",
       "      <td>303181382</td>\n",
       "      <td>999721747</td>\n",
       "      <td>1936903129</td>\n",
       "      <td>1302903129</td>\n",
       "      <td>...</td>\n",
       "      <td>NaN</td>\n",
       "      <td>NaN</td>\n",
       "      <td>NaN</td>\n",
       "      <td>NaN</td>\n",
       "      <td>NaN</td>\n",
       "      <td>NaN</td>\n",
       "      <td>NaN</td>\n",
       "      <td>NaN</td>\n",
       "      <td>NaN</td>\n",
       "      <td>NaN</td>\n",
       "    </tr>\n",
       "  </tbody>\n",
       "</table>\n",
       "<p>5 rows × 37 columns</p>\n",
       "</div>"
      ],
      "text/plain": [
       "  release_date                                        movie  \\\n",
       "0   2009-12-18                                       Avatar   \n",
       "1   2011-05-20  Pirates of the Caribbean: On Stranger Tides   \n",
       "2   2019-06-07                                 Dark Phoenix   \n",
       "3   2015-05-01                      Avengers: Age of Ultron   \n",
       "4   2017-12-15            Star Wars Ep. VIII: The Last Jedi   \n",
       "\n",
       "   production_budget  domestic_gross_x  foreign_gross_x  year  \\\n",
       "0          425000000         760507625       2776345279  2009   \n",
       "1          410600000         241063875       1045663875  2011   \n",
       "2          350000000          42762350        149762350  2019   \n",
       "3          330600000         459005868       1403013963  2015   \n",
       "4          317000000         620181382       1316721747  2017   \n",
       "\n",
       "   domestic_profit_loss  foreign_profit_loss  total_gross  total_profit_loss  \\\n",
       "0             335507625           2351345279   3536852904         2686852904   \n",
       "1            -169536125            635063875   1286727750          465527750   \n",
       "2            -307237650           -200237650    192524700         -507475300   \n",
       "3             128405868           1072413963   1862019831         1200819831   \n",
       "4             303181382            999721747   1936903129         1302903129   \n",
       "\n",
       "   ... original_language                             original_title_y  \\\n",
       "0  ...                en                                       Avatar   \n",
       "1  ...                en  Pirates of the Caribbean: On Stranger Tides   \n",
       "2  ...               NaN                                          NaN   \n",
       "3  ...                en                      Avengers: Age of Ultron   \n",
       "4  ...               NaN                                          NaN   \n",
       "\n",
       "   popularity vote_average vote_count       director  \\\n",
       "0      26.526          7.4    18676.0   Atsushi Wada   \n",
       "1      30.579          6.4     8571.0    Johnny Depp   \n",
       "2         NaN          NaN        NaN  Simon Kinberg   \n",
       "3      44.383          7.3    13457.0    Chris Evans   \n",
       "4         NaN          NaN        NaN            NaN   \n",
       "\n",
       "          primary_profession studio  domestic_gross_y foreign_gross_y  \n",
       "0                   director    NaN               NaN             NaN  \n",
       "1  actor,producer,soundtrack     BV       241100000.0       804600000  \n",
       "2   producer,writer,director    NaN               NaN             NaN  \n",
       "3    actor,producer,director     BV       459000000.0       946400000  \n",
       "4                        NaN    NaN               NaN             NaN  \n",
       "\n",
       "[5 rows x 37 columns]"
      ]
     },
     "execution_count": 384,
     "metadata": {},
     "output_type": "execute_result"
    }
   ],
   "source": [
    "TNBOM.head()"
   ]
  },
  {
   "cell_type": "code",
   "execution_count": 388,
   "metadata": {},
   "outputs": [
    {
     "name": "stdout",
     "output_type": "stream",
     "text": [
      "<class 'pandas.core.frame.DataFrame'>\n",
      "Int64Index: 5698 entries, 0 to 5697\n",
      "Data columns (total 16 columns):\n",
      " #   Column                Non-Null Count  Dtype         \n",
      "---  ------                --------------  -----         \n",
      " 0   release_date          5698 non-null   datetime64[ns]\n",
      " 1   movie                 5698 non-null   object        \n",
      " 2   production_budget     5698 non-null   int64         \n",
      " 3   domestic_gross_x      5698 non-null   int64         \n",
      " 4   foreign_gross_x       5698 non-null   int64         \n",
      " 5   year                  5698 non-null   int64         \n",
      " 6   domestic_profit_loss  5698 non-null   int64         \n",
      " 7   foreign_profit_loss   5698 non-null   int64         \n",
      " 8   total_gross           5698 non-null   int64         \n",
      " 9   total_profit_loss     5698 non-null   int64         \n",
      " 10  genres                1468 non-null   object        \n",
      " 11  director              2274 non-null   object        \n",
      " 12  primary_profession    2274 non-null   object        \n",
      " 13  studio                1213 non-null   object        \n",
      " 14  domestic_gross_y      1212 non-null   float64       \n",
      " 15  foreign_gross_y       1064 non-null   object        \n",
      "dtypes: datetime64[ns](1), float64(1), int64(8), object(6)\n",
      "memory usage: 756.8+ KB\n"
     ]
    }
   ],
   "source": [
    "TNBOM.info()"
   ]
  },
  {
   "cell_type": "markdown",
   "metadata": {},
   "source": [
    "Now we are going to cut down on the clutter and make the columns more manageable."
   ]
  },
  {
   "cell_type": "code",
   "execution_count": 386,
   "metadata": {},
   "outputs": [],
   "source": [
    "TNBOM.drop(TNBOM.iloc[:, 11:13], axis=1, inplace=True)"
   ]
  },
  {
   "cell_type": "code",
   "execution_count": 387,
   "metadata": {},
   "outputs": [],
   "source": [
    "TNBOM.drop(TNBOM.iloc[:, 13:30], axis=1, inplace=True)"
   ]
  },
  {
   "cell_type": "code",
   "execution_count": 389,
   "metadata": {},
   "outputs": [],
   "source": [
    "TNBOM.drop(TNBOM.iloc[:, 13:16], axis=1, inplace=True)"
   ]
  },
  {
   "cell_type": "code",
   "execution_count": 390,
   "metadata": {},
   "outputs": [],
   "source": [
    "TNBOM.drop(TNBOM.iloc[:, 3:5], axis=1, inplace=True)"
   ]
  },
  {
   "cell_type": "code",
   "execution_count": 391,
   "metadata": {},
   "outputs": [],
   "source": [
    "TNBOM.drop(TNBOM.iloc[:, 4:7], axis=1, inplace=True)"
   ]
  },
  {
   "cell_type": "markdown",
   "metadata": {},
   "source": [
    "## Filter time "
   ]
  },
  {
   "cell_type": "code",
   "execution_count": 392,
   "metadata": {},
   "outputs": [
    {
     "name": "stdout",
     "output_type": "stream",
     "text": [
      "<class 'pandas.core.frame.DataFrame'>\n",
      "Int64Index: 5698 entries, 0 to 5697\n",
      "Data columns (total 8 columns):\n",
      " #   Column              Non-Null Count  Dtype         \n",
      "---  ------              --------------  -----         \n",
      " 0   release_date        5698 non-null   datetime64[ns]\n",
      " 1   movie               5698 non-null   object        \n",
      " 2   production_budget   5698 non-null   int64         \n",
      " 3   year                5698 non-null   int64         \n",
      " 4   total_profit_loss   5698 non-null   int64         \n",
      " 5   genres              1468 non-null   object        \n",
      " 6   director            2274 non-null   object        \n",
      " 7   primary_profession  2274 non-null   object        \n",
      "dtypes: datetime64[ns](1), int64(3), object(4)\n",
      "memory usage: 400.6+ KB\n"
     ]
    }
   ],
   "source": [
    "TNBOM.info()\n",
    "# must return to this point if we go outside genre director or studio universe"
   ]
  },
  {
   "cell_type": "code",
   "execution_count": 393,
   "metadata": {},
   "outputs": [],
   "source": [
    "TNBOM_clean = TNBOM[TNBOM['genres'].notna()]\n",
    "# we start by reducing our universe to individual genres"
   ]
  },
  {
   "cell_type": "code",
   "execution_count": 394,
   "metadata": {},
   "outputs": [
    {
     "data": {
      "text/html": [
       "<div>\n",
       "<style scoped>\n",
       "    .dataframe tbody tr th:only-of-type {\n",
       "        vertical-align: middle;\n",
       "    }\n",
       "\n",
       "    .dataframe tbody tr th {\n",
       "        vertical-align: top;\n",
       "    }\n",
       "\n",
       "    .dataframe thead th {\n",
       "        text-align: right;\n",
       "    }\n",
       "</style>\n",
       "<table border=\"1\" class=\"dataframe\">\n",
       "  <thead>\n",
       "    <tr style=\"text-align: right;\">\n",
       "      <th></th>\n",
       "      <th>release_date</th>\n",
       "      <th>movie</th>\n",
       "      <th>production_budget</th>\n",
       "      <th>year</th>\n",
       "      <th>total_profit_loss</th>\n",
       "      <th>genres</th>\n",
       "      <th>director</th>\n",
       "      <th>primary_profession</th>\n",
       "    </tr>\n",
       "  </thead>\n",
       "  <tbody>\n",
       "    <tr>\n",
       "      <th>1</th>\n",
       "      <td>2011-05-20</td>\n",
       "      <td>Pirates of the Caribbean: On Stranger Tides</td>\n",
       "      <td>410600000</td>\n",
       "      <td>2011</td>\n",
       "      <td>465527750</td>\n",
       "      <td>Action,Adventure,Fantasy</td>\n",
       "      <td>Johnny Depp</td>\n",
       "      <td>actor,producer,soundtrack</td>\n",
       "    </tr>\n",
       "    <tr>\n",
       "      <th>2</th>\n",
       "      <td>2019-06-07</td>\n",
       "      <td>Dark Phoenix</td>\n",
       "      <td>350000000</td>\n",
       "      <td>2019</td>\n",
       "      <td>-507475300</td>\n",
       "      <td>Action,Adventure,Sci-Fi</td>\n",
       "      <td>Simon Kinberg</td>\n",
       "      <td>producer,writer,director</td>\n",
       "    </tr>\n",
       "    <tr>\n",
       "      <th>3</th>\n",
       "      <td>2015-05-01</td>\n",
       "      <td>Avengers: Age of Ultron</td>\n",
       "      <td>330600000</td>\n",
       "      <td>2015</td>\n",
       "      <td>1200819831</td>\n",
       "      <td>Action,Adventure,Sci-Fi</td>\n",
       "      <td>Chris Evans</td>\n",
       "      <td>actor,producer,director</td>\n",
       "    </tr>\n",
       "    <tr>\n",
       "      <th>6</th>\n",
       "      <td>2018-04-27</td>\n",
       "      <td>Avengers: Infinity War</td>\n",
       "      <td>300000000</td>\n",
       "      <td>2018</td>\n",
       "      <td>2126949682</td>\n",
       "      <td>Action,Adventure,Sci-Fi</td>\n",
       "      <td>Mark Ruffalo</td>\n",
       "      <td>actor,producer,director</td>\n",
       "    </tr>\n",
       "    <tr>\n",
       "      <th>8</th>\n",
       "      <td>2017-11-17</td>\n",
       "      <td>Justice League</td>\n",
       "      <td>300000000</td>\n",
       "      <td>2017</td>\n",
       "      <td>284969504</td>\n",
       "      <td>Action,Adventure,Fantasy</td>\n",
       "      <td>Ben Affleck</td>\n",
       "      <td>producer,actor,writer</td>\n",
       "    </tr>\n",
       "  </tbody>\n",
       "</table>\n",
       "</div>"
      ],
      "text/plain": [
       "  release_date                                        movie  \\\n",
       "1   2011-05-20  Pirates of the Caribbean: On Stranger Tides   \n",
       "2   2019-06-07                                 Dark Phoenix   \n",
       "3   2015-05-01                      Avengers: Age of Ultron   \n",
       "6   2018-04-27                       Avengers: Infinity War   \n",
       "8   2017-11-17                               Justice League   \n",
       "\n",
       "   production_budget  year  total_profit_loss                    genres  \\\n",
       "1          410600000  2011          465527750  Action,Adventure,Fantasy   \n",
       "2          350000000  2019         -507475300   Action,Adventure,Sci-Fi   \n",
       "3          330600000  2015         1200819831   Action,Adventure,Sci-Fi   \n",
       "6          300000000  2018         2126949682   Action,Adventure,Sci-Fi   \n",
       "8          300000000  2017          284969504  Action,Adventure,Fantasy   \n",
       "\n",
       "        director         primary_profession  \n",
       "1    Johnny Depp  actor,producer,soundtrack  \n",
       "2  Simon Kinberg   producer,writer,director  \n",
       "3    Chris Evans    actor,producer,director  \n",
       "6   Mark Ruffalo    actor,producer,director  \n",
       "8    Ben Affleck      producer,actor,writer  "
      ]
     },
     "execution_count": 394,
     "metadata": {},
     "output_type": "execute_result"
    }
   ],
   "source": [
    "TNBOM_clean.head()"
   ]
  },
  {
   "cell_type": "code",
   "execution_count": 395,
   "metadata": {},
   "outputs": [
    {
     "name": "stdout",
     "output_type": "stream",
     "text": [
      "<class 'pandas.core.frame.DataFrame'>\n",
      "Int64Index: 1468 entries, 1 to 5677\n",
      "Data columns (total 8 columns):\n",
      " #   Column              Non-Null Count  Dtype         \n",
      "---  ------              --------------  -----         \n",
      " 0   release_date        1468 non-null   datetime64[ns]\n",
      " 1   movie               1468 non-null   object        \n",
      " 2   production_budget   1468 non-null   int64         \n",
      " 3   year                1468 non-null   int64         \n",
      " 4   total_profit_loss   1468 non-null   int64         \n",
      " 5   genres              1468 non-null   object        \n",
      " 6   director            1467 non-null   object        \n",
      " 7   primary_profession  1467 non-null   object        \n",
      "dtypes: datetime64[ns](1), int64(3), object(4)\n",
      "memory usage: 103.2+ KB\n"
     ]
    }
   ],
   "source": [
    "TNBOM_clean.info()"
   ]
  },
  {
   "cell_type": "markdown",
   "metadata": {},
   "source": [
    "Without any more data to explore, its time to finalize visuals. I wish we had more data for some of the columns, but we can only work with what we have.  We have narrowed our universe down to directors and genres of movies.  "
   ]
  },
  {
   "cell_type": "markdown",
   "metadata": {},
   "source": [
    "Will explore the (explode) method for the genres section and see if that adds to our analysis.  \n",
    "\n",
    "SEE ANALYSIS AT END."
   ]
  },
  {
   "cell_type": "code",
   "execution_count": null,
   "metadata": {},
   "outputs": [],
   "source": []
  },
  {
   "cell_type": "markdown",
   "metadata": {},
   "source": [
    "\n",
    "## RT Reviews comp to DF1 - ignore section"
   ]
  },
  {
   "cell_type": "code",
   "execution_count": 259,
   "metadata": {},
   "outputs": [],
   "source": [
    "# rt_reviews"
   ]
  },
  {
   "cell_type": "code",
   "execution_count": 260,
   "metadata": {},
   "outputs": [],
   "source": [
    "# grouped_rt = rt_reviews.groupby(['review', 'rating']).mean()\n",
    "# grouped_rt.filter('')"
   ]
  },
  {
   "cell_type": "code",
   "execution_count": 261,
   "metadata": {},
   "outputs": [],
   "source": [
    "# DF1.info()"
   ]
  },
  {
   "cell_type": "markdown",
   "metadata": {},
   "source": [
    "## Scraping and API calls - ignore section "
   ]
  },
  {
   "cell_type": "code",
   "execution_count": 262,
   "metadata": {},
   "outputs": [],
   "source": [
    "# cols_to_keep = \n",
    "# from bs4 import BeautifulSoup\n",
    "# import requests\n",
    "# import numpy as np\n",
    "# import pandas as pd\n",
    "# import time"
   ]
  },
  {
   "cell_type": "markdown",
   "metadata": {},
   "source": [
    "## More visuals"
   ]
  },
  {
   "cell_type": "code",
   "execution_count": 263,
   "metadata": {},
   "outputs": [],
   "source": [
    "# TNBOM.info()"
   ]
  },
  {
   "cell_type": "markdown",
   "metadata": {},
   "source": [
    "TNBOM.pivot_table index genre \n",
    "apply mask of 2000 - 2020 "
   ]
  },
  {
   "cell_type": "code",
   "execution_count": 264,
   "metadata": {},
   "outputs": [],
   "source": [
    "\n",
    "\n",
    "# loss_freq = TN_clean_base[(TN_clean_base['total_profit_loss'] < 0)]\n",
    "# profit_freq = TN_clean_base[(TN_clean_base['total_profit_loss'] >= 0)]\n",
    "# loss_freq_adjusted = loss_freq[loss_freq['total_profit_loss'] <= loss_freq['total_profit_loss'].quantile(.95)]\n",
    "# profit_freq_adjusted = profit_freq[profit_freq['total_profit_loss'] <= profit_freq['total_profit_loss'].quantile(.95)]\n",
    "# post_1980_profit_freq = profit_freq[profit_freq['year'] >= 1980]\n",
    "# post_1980_loss_freq = loss_freq[loss_freq['year'] >= 1980]"
   ]
  },
  {
   "cell_type": "markdown",
   "metadata": {},
   "source": [
    "The first thing we need to do is reduce our universe of data so we can get rid of the NA values.  \n",
    "Lets sort the data by writer, director and genre and see what we have left.   "
   ]
  },
  {
   "cell_type": "code",
   "execution_count": 265,
   "metadata": {},
   "outputs": [],
   "source": [
    "# pd.explode()"
   ]
  },
  {
   "cell_type": "code",
   "execution_count": 396,
   "metadata": {},
   "outputs": [
    {
     "name": "stderr",
     "output_type": "stream",
     "text": [
      "/opt/conda/lib/python3.9/site-packages/pandas/core/indexing.py:1667: SettingWithCopyWarning: \n",
      "A value is trying to be set on a copy of a slice from a DataFrame.\n",
      "Try using .loc[row_indexer,col_indexer] = value instead\n",
      "\n",
      "See the caveats in the documentation: https://pandas.pydata.org/pandas-docs/stable/user_guide/indexing.html#returning-a-view-versus-a-copy\n",
      "  self.obj[key] = value\n"
     ]
    }
   ],
   "source": [
    "TNBOM_clean.loc[:, 'genre_list'] = TNBOM_clean['genres'].str.split(',')\n",
    "# now we split strings on the commas"
   ]
  },
  {
   "cell_type": "code",
   "execution_count": 397,
   "metadata": {},
   "outputs": [],
   "source": [
    "# TNBOM.dropna()"
   ]
  },
  {
   "cell_type": "code",
   "execution_count": 398,
   "metadata": {},
   "outputs": [],
   "source": [
    "# TNBOM_clean.loc[:, 'profession_list'] = TNBOM_clean['primary_profession'].str.split(',')"
   ]
  },
  {
   "cell_type": "code",
   "execution_count": 399,
   "metadata": {},
   "outputs": [],
   "source": [
    "# TNBOM.info()"
   ]
  },
  {
   "cell_type": "code",
   "execution_count": 400,
   "metadata": {},
   "outputs": [
    {
     "data": {
      "text/html": [
       "<div>\n",
       "<style scoped>\n",
       "    .dataframe tbody tr th:only-of-type {\n",
       "        vertical-align: middle;\n",
       "    }\n",
       "\n",
       "    .dataframe tbody tr th {\n",
       "        vertical-align: top;\n",
       "    }\n",
       "\n",
       "    .dataframe thead th {\n",
       "        text-align: right;\n",
       "    }\n",
       "</style>\n",
       "<table border=\"1\" class=\"dataframe\">\n",
       "  <thead>\n",
       "    <tr style=\"text-align: right;\">\n",
       "      <th></th>\n",
       "      <th>release_date</th>\n",
       "      <th>movie</th>\n",
       "      <th>production_budget</th>\n",
       "      <th>year</th>\n",
       "      <th>total_profit_loss</th>\n",
       "      <th>genres</th>\n",
       "      <th>director</th>\n",
       "      <th>primary_profession</th>\n",
       "      <th>genre_list</th>\n",
       "    </tr>\n",
       "  </thead>\n",
       "  <tbody>\n",
       "    <tr>\n",
       "      <th>1</th>\n",
       "      <td>2011-05-20</td>\n",
       "      <td>Pirates of the Caribbean: On Stranger Tides</td>\n",
       "      <td>410600000</td>\n",
       "      <td>2011</td>\n",
       "      <td>465527750</td>\n",
       "      <td>Action,Adventure,Fantasy</td>\n",
       "      <td>Johnny Depp</td>\n",
       "      <td>actor,producer,soundtrack</td>\n",
       "      <td>Action</td>\n",
       "    </tr>\n",
       "    <tr>\n",
       "      <th>1</th>\n",
       "      <td>2011-05-20</td>\n",
       "      <td>Pirates of the Caribbean: On Stranger Tides</td>\n",
       "      <td>410600000</td>\n",
       "      <td>2011</td>\n",
       "      <td>465527750</td>\n",
       "      <td>Action,Adventure,Fantasy</td>\n",
       "      <td>Johnny Depp</td>\n",
       "      <td>actor,producer,soundtrack</td>\n",
       "      <td>Adventure</td>\n",
       "    </tr>\n",
       "    <tr>\n",
       "      <th>1</th>\n",
       "      <td>2011-05-20</td>\n",
       "      <td>Pirates of the Caribbean: On Stranger Tides</td>\n",
       "      <td>410600000</td>\n",
       "      <td>2011</td>\n",
       "      <td>465527750</td>\n",
       "      <td>Action,Adventure,Fantasy</td>\n",
       "      <td>Johnny Depp</td>\n",
       "      <td>actor,producer,soundtrack</td>\n",
       "      <td>Fantasy</td>\n",
       "    </tr>\n",
       "    <tr>\n",
       "      <th>2</th>\n",
       "      <td>2019-06-07</td>\n",
       "      <td>Dark Phoenix</td>\n",
       "      <td>350000000</td>\n",
       "      <td>2019</td>\n",
       "      <td>-507475300</td>\n",
       "      <td>Action,Adventure,Sci-Fi</td>\n",
       "      <td>Simon Kinberg</td>\n",
       "      <td>producer,writer,director</td>\n",
       "      <td>Action</td>\n",
       "    </tr>\n",
       "    <tr>\n",
       "      <th>2</th>\n",
       "      <td>2019-06-07</td>\n",
       "      <td>Dark Phoenix</td>\n",
       "      <td>350000000</td>\n",
       "      <td>2019</td>\n",
       "      <td>-507475300</td>\n",
       "      <td>Action,Adventure,Sci-Fi</td>\n",
       "      <td>Simon Kinberg</td>\n",
       "      <td>producer,writer,director</td>\n",
       "      <td>Adventure</td>\n",
       "    </tr>\n",
       "    <tr>\n",
       "      <th>...</th>\n",
       "      <td>...</td>\n",
       "      <td>...</td>\n",
       "      <td>...</td>\n",
       "      <td>...</td>\n",
       "      <td>...</td>\n",
       "      <td>...</td>\n",
       "      <td>...</td>\n",
       "      <td>...</td>\n",
       "      <td>...</td>\n",
       "    </tr>\n",
       "    <tr>\n",
       "      <th>5667</th>\n",
       "      <td>2015-12-01</td>\n",
       "      <td>Dutch Kills</td>\n",
       "      <td>25000</td>\n",
       "      <td>2015</td>\n",
       "      <td>-50000</td>\n",
       "      <td>Crime,Drama,Thriller</td>\n",
       "      <td>Joseph Mazzella</td>\n",
       "      <td>actor,producer,director</td>\n",
       "      <td>Thriller</td>\n",
       "    </tr>\n",
       "    <tr>\n",
       "      <th>5674</th>\n",
       "      <td>2011-11-25</td>\n",
       "      <td>The Ridges</td>\n",
       "      <td>17300</td>\n",
       "      <td>2011</td>\n",
       "      <td>-34600</td>\n",
       "      <td>Drama,Horror,Thriller</td>\n",
       "      <td>Robbie Barnes</td>\n",
       "      <td>actress,director,editor</td>\n",
       "      <td>Drama</td>\n",
       "    </tr>\n",
       "    <tr>\n",
       "      <th>5674</th>\n",
       "      <td>2011-11-25</td>\n",
       "      <td>The Ridges</td>\n",
       "      <td>17300</td>\n",
       "      <td>2011</td>\n",
       "      <td>-34600</td>\n",
       "      <td>Drama,Horror,Thriller</td>\n",
       "      <td>Robbie Barnes</td>\n",
       "      <td>actress,director,editor</td>\n",
       "      <td>Horror</td>\n",
       "    </tr>\n",
       "    <tr>\n",
       "      <th>5674</th>\n",
       "      <td>2011-11-25</td>\n",
       "      <td>The Ridges</td>\n",
       "      <td>17300</td>\n",
       "      <td>2011</td>\n",
       "      <td>-34600</td>\n",
       "      <td>Drama,Horror,Thriller</td>\n",
       "      <td>Robbie Barnes</td>\n",
       "      <td>actress,director,editor</td>\n",
       "      <td>Thriller</td>\n",
       "    </tr>\n",
       "    <tr>\n",
       "      <th>5677</th>\n",
       "      <td>2014-12-31</td>\n",
       "      <td>Stories of Our Lives</td>\n",
       "      <td>15000</td>\n",
       "      <td>2014</td>\n",
       "      <td>-30000</td>\n",
       "      <td>Drama</td>\n",
       "      <td>Jim Chuchu</td>\n",
       "      <td>director,writer,editor</td>\n",
       "      <td>Drama</td>\n",
       "    </tr>\n",
       "  </tbody>\n",
       "</table>\n",
       "<p>3743 rows × 9 columns</p>\n",
       "</div>"
      ],
      "text/plain": [
       "     release_date                                        movie  \\\n",
       "1      2011-05-20  Pirates of the Caribbean: On Stranger Tides   \n",
       "1      2011-05-20  Pirates of the Caribbean: On Stranger Tides   \n",
       "1      2011-05-20  Pirates of the Caribbean: On Stranger Tides   \n",
       "2      2019-06-07                                 Dark Phoenix   \n",
       "2      2019-06-07                                 Dark Phoenix   \n",
       "...           ...                                          ...   \n",
       "5667   2015-12-01                                  Dutch Kills   \n",
       "5674   2011-11-25                                   The Ridges   \n",
       "5674   2011-11-25                                   The Ridges   \n",
       "5674   2011-11-25                                   The Ridges   \n",
       "5677   2014-12-31                         Stories of Our Lives   \n",
       "\n",
       "      production_budget  year  total_profit_loss                    genres  \\\n",
       "1             410600000  2011          465527750  Action,Adventure,Fantasy   \n",
       "1             410600000  2011          465527750  Action,Adventure,Fantasy   \n",
       "1             410600000  2011          465527750  Action,Adventure,Fantasy   \n",
       "2             350000000  2019         -507475300   Action,Adventure,Sci-Fi   \n",
       "2             350000000  2019         -507475300   Action,Adventure,Sci-Fi   \n",
       "...                 ...   ...                ...                       ...   \n",
       "5667              25000  2015             -50000      Crime,Drama,Thriller   \n",
       "5674              17300  2011             -34600     Drama,Horror,Thriller   \n",
       "5674              17300  2011             -34600     Drama,Horror,Thriller   \n",
       "5674              17300  2011             -34600     Drama,Horror,Thriller   \n",
       "5677              15000  2014             -30000                     Drama   \n",
       "\n",
       "             director         primary_profession genre_list  \n",
       "1         Johnny Depp  actor,producer,soundtrack     Action  \n",
       "1         Johnny Depp  actor,producer,soundtrack  Adventure  \n",
       "1         Johnny Depp  actor,producer,soundtrack    Fantasy  \n",
       "2       Simon Kinberg   producer,writer,director     Action  \n",
       "2       Simon Kinberg   producer,writer,director  Adventure  \n",
       "...               ...                        ...        ...  \n",
       "5667  Joseph Mazzella    actor,producer,director   Thriller  \n",
       "5674    Robbie Barnes    actress,director,editor      Drama  \n",
       "5674    Robbie Barnes    actress,director,editor     Horror  \n",
       "5674    Robbie Barnes    actress,director,editor   Thriller  \n",
       "5677       Jim Chuchu     director,writer,editor      Drama  \n",
       "\n",
       "[3743 rows x 9 columns]"
      ]
     },
     "execution_count": 400,
     "metadata": {},
     "output_type": "execute_result"
    }
   ],
   "source": [
    "TNBOM_ex = TNBOM_clean.explode('genre_list') \n",
    "# we explode the genre universe\n",
    "TNBOM_ex"
   ]
  },
  {
   "cell_type": "code",
   "execution_count": 401,
   "metadata": {},
   "outputs": [],
   "source": [
    "# TNBOM_ex = TNBOM_clean.explode('profession_list') \n",
    "# # we explode the genre universe\n",
    "# # TNBOM_ex"
   ]
  },
  {
   "cell_type": "code",
   "execution_count": 272,
   "metadata": {},
   "outputs": [],
   "source": [
    "# TNBOM_explode = TNBOM_clean.explode('genre_list')"
   ]
  },
  {
   "cell_type": "code",
   "execution_count": 214,
   "metadata": {},
   "outputs": [],
   "source": [
    "# TNBOM_explode[TNBOM_explode['genres'] == 'directors']"
   ]
  },
  {
   "cell_type": "code",
   "execution_count": 215,
   "metadata": {},
   "outputs": [],
   "source": [
    "# TNBOM[TNBOM['genres'] == 'action']"
   ]
  },
  {
   "cell_type": "code",
   "execution_count": 216,
   "metadata": {},
   "outputs": [],
   "source": [
    "# TNBOM_explode[TNBOM_explode['genres'] == 'Sci-Fi']"
   ]
  },
  {
   "cell_type": "code",
   "execution_count": 217,
   "metadata": {},
   "outputs": [],
   "source": [
    "# TNBOM_explode[TNBOM_explode['genres'] == 'Drama']"
   ]
  },
  {
   "cell_type": "code",
   "execution_count": 218,
   "metadata": {},
   "outputs": [],
   "source": [
    "# TNBOM_explode[TNBOM_explode['year'] == 2015].sort_values(by='total_profit_loss', ascending=False)"
   ]
  },
  {
   "cell_type": "code",
   "execution_count": 219,
   "metadata": {},
   "outputs": [],
   "source": [
    "# TNBOM_explode['genres'].value_counts()"
   ]
  },
  {
   "cell_type": "code",
   "execution_count": null,
   "metadata": {},
   "outputs": [],
   "source": []
  },
  {
   "cell_type": "markdown",
   "metadata": {},
   "source": [
    "we want to see genres that were the most profitable and those that were the least profitable for the past 20 years.  \n",
    "Then, we will look at the directors for those most profitable and those for the least profitable and see if there is any relationship.  "
   ]
  },
  {
   "cell_type": "code",
   "execution_count": 719,
   "metadata": {},
   "outputs": [],
   "source": [
    "# months_df = post_2000_profit_loss.groupby('months').mean().sort_values(by='total_profit_loss', ascending=False)\n",
    "# loss_freq = TN_clean_base[ TN_clean_base['total_profit_loss'] < 0]\n",
    "# profit_freq = TN_clean_base[ TN_clean_base['total_profit_loss'] >= 0]\n",
    "# loss_freq_adjusted = loss_freq[loss_freq['total_profit_loss'] <= loss_freq['total_profit_loss'].quantile(.95)]\n",
    "# profit_freq_adjusted = profit_freq[profit_freq['total_profit_loss'] <= profit_freq['total_profit_loss'].quantile(.95)]\n",
    "# post_1980_profit_freq = profit_freq[profit_freq['year'] >= 1980]\n",
    "# post_1980_loss_freq = loss_freq[loss_freq['year'] >= 1980]\n",
    "# below_95_profit = post_2000_profit_loss[post_2000_profit_loss['total_profit_loss'] \n",
    "#                       <= post_2000_profit_loss['total_profit_loss'].quantile(.90)]\n",
    "\n",
    "# above_5_profit = post_2000_profit_loss[post_2000_profit_loss['total_profit_loss'] \n",
    "#                       >= post_2000_profit_loss['total_profit_loss'].quantile(.10)]\n"
   ]
  },
  {
   "cell_type": "code",
   "execution_count": 402,
   "metadata": {},
   "outputs": [],
   "source": [
    "# we subset the last 10 years\n",
    "post_2010_TNBOM = TNBOM_ex[TNBOM_ex['year'] >= 2000]"
   ]
  },
  {
   "cell_type": "code",
   "execution_count": 403,
   "metadata": {},
   "outputs": [],
   "source": [
    "# top_genres = post_2010_TNBOM.sort_values(['genre_list', 'total_profit_loss'], ascending=False)\n",
    "# top_genres['genre_list'].value_counts()"
   ]
  },
  {
   "cell_type": "code",
   "execution_count": 404,
   "metadata": {},
   "outputs": [],
   "source": [
    "post_2010_TNBOM = post_2010_TNBOM[post_2010_TNBOM['genre_list'].notna()]"
   ]
  },
  {
   "cell_type": "code",
   "execution_count": 405,
   "metadata": {},
   "outputs": [
    {
     "name": "stdout",
     "output_type": "stream",
     "text": [
      "<class 'pandas.core.frame.DataFrame'>\n",
      "Int64Index: 3743 entries, 1 to 5677\n",
      "Data columns (total 9 columns):\n",
      " #   Column              Non-Null Count  Dtype         \n",
      "---  ------              --------------  -----         \n",
      " 0   release_date        3743 non-null   datetime64[ns]\n",
      " 1   movie               3743 non-null   object        \n",
      " 2   production_budget   3743 non-null   int64         \n",
      " 3   year                3743 non-null   int64         \n",
      " 4   total_profit_loss   3743 non-null   int64         \n",
      " 5   genres              3743 non-null   object        \n",
      " 6   director            3742 non-null   object        \n",
      " 7   primary_profession  3742 non-null   object        \n",
      " 8   genre_list          3743 non-null   object        \n",
      "dtypes: datetime64[ns](1), int64(3), object(5)\n",
      "memory usage: 292.4+ KB\n"
     ]
    }
   ],
   "source": [
    "post_2010_TNBOM.info()"
   ]
  },
  {
   "cell_type": "code",
   "execution_count": 356,
   "metadata": {},
   "outputs": [],
   "source": [
    "profit_TNBOM_clean = post_2010_TNBOM[post_2010_TNBOM['total_profit_loss'] >= 0] #profit filter"
   ]
  },
  {
   "cell_type": "code",
   "execution_count": 357,
   "metadata": {},
   "outputs": [],
   "source": [
    "loss_TNBOM_clean = post_2010_TNBOM[post_2010_TNBOM['total_profit_loss'] < 0] #loss filter"
   ]
  },
  {
   "cell_type": "code",
   "execution_count": 358,
   "metadata": {},
   "outputs": [],
   "source": [
    "# post_2010_TNBOM['months'] = post_2010_TNBOM['release_date'].apply(lambda x:x.strftime('%B')) "
   ]
  },
  {
   "cell_type": "code",
   "execution_count": 406,
   "metadata": {},
   "outputs": [
    {
     "data": {
      "text/html": [
       "<div>\n",
       "<style scoped>\n",
       "    .dataframe tbody tr th:only-of-type {\n",
       "        vertical-align: middle;\n",
       "    }\n",
       "\n",
       "    .dataframe tbody tr th {\n",
       "        vertical-align: top;\n",
       "    }\n",
       "\n",
       "    .dataframe thead th {\n",
       "        text-align: right;\n",
       "    }\n",
       "</style>\n",
       "<table border=\"1\" class=\"dataframe\">\n",
       "  <thead>\n",
       "    <tr style=\"text-align: right;\">\n",
       "      <th></th>\n",
       "      <th>release_date</th>\n",
       "      <th>movie</th>\n",
       "      <th>production_budget</th>\n",
       "      <th>year</th>\n",
       "      <th>total_profit_loss</th>\n",
       "      <th>genres</th>\n",
       "      <th>director</th>\n",
       "      <th>primary_profession</th>\n",
       "      <th>genre_list</th>\n",
       "    </tr>\n",
       "  </thead>\n",
       "  <tbody>\n",
       "    <tr>\n",
       "      <th>1</th>\n",
       "      <td>2011-05-20</td>\n",
       "      <td>Pirates of the Caribbean: On Stranger Tides</td>\n",
       "      <td>410600000</td>\n",
       "      <td>2011</td>\n",
       "      <td>465527750</td>\n",
       "      <td>Action,Adventure,Fantasy</td>\n",
       "      <td>Johnny Depp</td>\n",
       "      <td>actor,producer,soundtrack</td>\n",
       "      <td>Action</td>\n",
       "    </tr>\n",
       "    <tr>\n",
       "      <th>1</th>\n",
       "      <td>2011-05-20</td>\n",
       "      <td>Pirates of the Caribbean: On Stranger Tides</td>\n",
       "      <td>410600000</td>\n",
       "      <td>2011</td>\n",
       "      <td>465527750</td>\n",
       "      <td>Action,Adventure,Fantasy</td>\n",
       "      <td>Johnny Depp</td>\n",
       "      <td>actor,producer,soundtrack</td>\n",
       "      <td>Adventure</td>\n",
       "    </tr>\n",
       "    <tr>\n",
       "      <th>1</th>\n",
       "      <td>2011-05-20</td>\n",
       "      <td>Pirates of the Caribbean: On Stranger Tides</td>\n",
       "      <td>410600000</td>\n",
       "      <td>2011</td>\n",
       "      <td>465527750</td>\n",
       "      <td>Action,Adventure,Fantasy</td>\n",
       "      <td>Johnny Depp</td>\n",
       "      <td>actor,producer,soundtrack</td>\n",
       "      <td>Fantasy</td>\n",
       "    </tr>\n",
       "    <tr>\n",
       "      <th>2</th>\n",
       "      <td>2019-06-07</td>\n",
       "      <td>Dark Phoenix</td>\n",
       "      <td>350000000</td>\n",
       "      <td>2019</td>\n",
       "      <td>-507475300</td>\n",
       "      <td>Action,Adventure,Sci-Fi</td>\n",
       "      <td>Simon Kinberg</td>\n",
       "      <td>producer,writer,director</td>\n",
       "      <td>Action</td>\n",
       "    </tr>\n",
       "    <tr>\n",
       "      <th>2</th>\n",
       "      <td>2019-06-07</td>\n",
       "      <td>Dark Phoenix</td>\n",
       "      <td>350000000</td>\n",
       "      <td>2019</td>\n",
       "      <td>-507475300</td>\n",
       "      <td>Action,Adventure,Sci-Fi</td>\n",
       "      <td>Simon Kinberg</td>\n",
       "      <td>producer,writer,director</td>\n",
       "      <td>Adventure</td>\n",
       "    </tr>\n",
       "    <tr>\n",
       "      <th>...</th>\n",
       "      <td>...</td>\n",
       "      <td>...</td>\n",
       "      <td>...</td>\n",
       "      <td>...</td>\n",
       "      <td>...</td>\n",
       "      <td>...</td>\n",
       "      <td>...</td>\n",
       "      <td>...</td>\n",
       "      <td>...</td>\n",
       "    </tr>\n",
       "    <tr>\n",
       "      <th>5667</th>\n",
       "      <td>2015-12-01</td>\n",
       "      <td>Dutch Kills</td>\n",
       "      <td>25000</td>\n",
       "      <td>2015</td>\n",
       "      <td>-50000</td>\n",
       "      <td>Crime,Drama,Thriller</td>\n",
       "      <td>Joseph Mazzella</td>\n",
       "      <td>actor,producer,director</td>\n",
       "      <td>Thriller</td>\n",
       "    </tr>\n",
       "    <tr>\n",
       "      <th>5674</th>\n",
       "      <td>2011-11-25</td>\n",
       "      <td>The Ridges</td>\n",
       "      <td>17300</td>\n",
       "      <td>2011</td>\n",
       "      <td>-34600</td>\n",
       "      <td>Drama,Horror,Thriller</td>\n",
       "      <td>Robbie Barnes</td>\n",
       "      <td>actress,director,editor</td>\n",
       "      <td>Drama</td>\n",
       "    </tr>\n",
       "    <tr>\n",
       "      <th>5674</th>\n",
       "      <td>2011-11-25</td>\n",
       "      <td>The Ridges</td>\n",
       "      <td>17300</td>\n",
       "      <td>2011</td>\n",
       "      <td>-34600</td>\n",
       "      <td>Drama,Horror,Thriller</td>\n",
       "      <td>Robbie Barnes</td>\n",
       "      <td>actress,director,editor</td>\n",
       "      <td>Horror</td>\n",
       "    </tr>\n",
       "    <tr>\n",
       "      <th>5674</th>\n",
       "      <td>2011-11-25</td>\n",
       "      <td>The Ridges</td>\n",
       "      <td>17300</td>\n",
       "      <td>2011</td>\n",
       "      <td>-34600</td>\n",
       "      <td>Drama,Horror,Thriller</td>\n",
       "      <td>Robbie Barnes</td>\n",
       "      <td>actress,director,editor</td>\n",
       "      <td>Thriller</td>\n",
       "    </tr>\n",
       "    <tr>\n",
       "      <th>5677</th>\n",
       "      <td>2014-12-31</td>\n",
       "      <td>Stories of Our Lives</td>\n",
       "      <td>15000</td>\n",
       "      <td>2014</td>\n",
       "      <td>-30000</td>\n",
       "      <td>Drama</td>\n",
       "      <td>Jim Chuchu</td>\n",
       "      <td>director,writer,editor</td>\n",
       "      <td>Drama</td>\n",
       "    </tr>\n",
       "  </tbody>\n",
       "</table>\n",
       "<p>3743 rows × 9 columns</p>\n",
       "</div>"
      ],
      "text/plain": [
       "     release_date                                        movie  \\\n",
       "1      2011-05-20  Pirates of the Caribbean: On Stranger Tides   \n",
       "1      2011-05-20  Pirates of the Caribbean: On Stranger Tides   \n",
       "1      2011-05-20  Pirates of the Caribbean: On Stranger Tides   \n",
       "2      2019-06-07                                 Dark Phoenix   \n",
       "2      2019-06-07                                 Dark Phoenix   \n",
       "...           ...                                          ...   \n",
       "5667   2015-12-01                                  Dutch Kills   \n",
       "5674   2011-11-25                                   The Ridges   \n",
       "5674   2011-11-25                                   The Ridges   \n",
       "5674   2011-11-25                                   The Ridges   \n",
       "5677   2014-12-31                         Stories of Our Lives   \n",
       "\n",
       "      production_budget  year  total_profit_loss                    genres  \\\n",
       "1             410600000  2011          465527750  Action,Adventure,Fantasy   \n",
       "1             410600000  2011          465527750  Action,Adventure,Fantasy   \n",
       "1             410600000  2011          465527750  Action,Adventure,Fantasy   \n",
       "2             350000000  2019         -507475300   Action,Adventure,Sci-Fi   \n",
       "2             350000000  2019         -507475300   Action,Adventure,Sci-Fi   \n",
       "...                 ...   ...                ...                       ...   \n",
       "5667              25000  2015             -50000      Crime,Drama,Thriller   \n",
       "5674              17300  2011             -34600     Drama,Horror,Thriller   \n",
       "5674              17300  2011             -34600     Drama,Horror,Thriller   \n",
       "5674              17300  2011             -34600     Drama,Horror,Thriller   \n",
       "5677              15000  2014             -30000                     Drama   \n",
       "\n",
       "             director         primary_profession genre_list  \n",
       "1         Johnny Depp  actor,producer,soundtrack     Action  \n",
       "1         Johnny Depp  actor,producer,soundtrack  Adventure  \n",
       "1         Johnny Depp  actor,producer,soundtrack    Fantasy  \n",
       "2       Simon Kinberg   producer,writer,director     Action  \n",
       "2       Simon Kinberg   producer,writer,director  Adventure  \n",
       "...               ...                        ...        ...  \n",
       "5667  Joseph Mazzella    actor,producer,director   Thriller  \n",
       "5674    Robbie Barnes    actress,director,editor      Drama  \n",
       "5674    Robbie Barnes    actress,director,editor     Horror  \n",
       "5674    Robbie Barnes    actress,director,editor   Thriller  \n",
       "5677       Jim Chuchu     director,writer,editor      Drama  \n",
       "\n",
       "[3743 rows x 9 columns]"
      ]
     },
     "execution_count": 406,
     "metadata": {},
     "output_type": "execute_result"
    }
   ],
   "source": [
    "post_2010_TNBOM"
   ]
  },
  {
   "cell_type": "code",
   "execution_count": 508,
   "metadata": {},
   "outputs": [],
   "source": [
    "# Prime_months_TNBOM = post_2010_TNBOM[\n",
    "#                                     (post_2010_TNBOM['months'] == 'September', ''\n",
    "# #                                     .mean().sort_values(by='total_profit_loss', ascending=False)]"
   ]
  },
  {
   "cell_type": "code",
   "execution_count": 509,
   "metadata": {},
   "outputs": [],
   "source": [
    "# now we filter movies into a universe that contains director \n",
    "# directors_mask = post_2010_TNBOM_genre[post_2010_TNBOM_genre['genre_list'] == 'family'].sort_values(by='total_profit_loss', ascending=False)\n",
    "# directors_mask "
   ]
  },
  {
   "cell_type": "code",
   "execution_count": 206,
   "metadata": {},
   "outputs": [],
   "source": [
    "# grouper = post_2010_TNBOM.groupby(['genre_list','movie'])"
   ]
  },
  {
   "cell_type": "code",
   "execution_count": null,
   "metadata": {},
   "outputs": [],
   "source": []
  },
  {
   "cell_type": "code",
   "execution_count": null,
   "metadata": {},
   "outputs": [],
   "source": []
  },
  {
   "cell_type": "code",
   "execution_count": 176,
   "metadata": {},
   "outputs": [],
   "source": [
    "# post_2010_TNBOM.pivot_table(index='genre_list', columns='director', \n",
    "#                                values='total_profit_loss', aggfunc='mean').plot(kind='hist', \n",
    "#                                                                                figsize=(15,15))"
   ]
  },
  {
   "cell_type": "code",
   "execution_count": 152,
   "metadata": {},
   "outputs": [],
   "source": [
    "# loss_TNBOM_clean.groupby(['genre_list','movies'])['total_profit_loss'].mean().sort_values(ascending=False)"
   ]
  },
  {
   "cell_type": "code",
   "execution_count": 179,
   "metadata": {},
   "outputs": [],
   "source": [
    "# fig, ax = plt.subplots(figsize=(10, 5))\n",
    "# for genre in profit_TNBOM_clean['genre_list'].unique():\n",
    "#     subset_TNBOM = profit_TNBOM_clean[profit_TNBOM_clean['genre_list'] == genre]\n",
    "#     x = subset_TNBOM['total_profit_loss']\n",
    "#     y = subset_TNBOM['director']\n",
    "    \n",
    "#     #data: x is the horizontal axis and y is the vertical. \n",
    "#     ax.scatter(x, y)\n",
    "#     ax.labels\n",
    "# # Label your axes! ** always a good practice to include units of measurment with your axes labels.\n",
    "# ax.set_ylabel('production budget')\n",
    "# ax.set_xlabel('profit/loss')\n",
    "# ax.set_title('Test')\n",
    "# ax.legend();"
   ]
  },
  {
   "cell_type": "code",
   "execution_count": null,
   "metadata": {},
   "outputs": [],
   "source": []
  },
  {
   "cell_type": "code",
   "execution_count": 510,
   "metadata": {},
   "outputs": [],
   "source": [
    "# post_2010_TNBOM_genre = post_2010_TNBOM_genre[post_2010_TNBOM_clean['studio'].notna()]  \n",
    "# studio universe within exploded genre universe, past 10"
   ]
  },
  {
   "cell_type": "code",
   "execution_count": 407,
   "metadata": {},
   "outputs": [
    {
     "data": {
      "text/plain": [
       "2275"
      ]
     },
     "execution_count": 407,
     "metadata": {},
     "output_type": "execute_result"
    }
   ],
   "source": [
    "post_2010_TNBOM.duplicated(subset=['movie', 'release_date']).sum()"
   ]
  },
  {
   "cell_type": "code",
   "execution_count": 408,
   "metadata": {},
   "outputs": [
    {
     "data": {
      "text/plain": [
       "0"
      ]
     },
     "execution_count": 408,
     "metadata": {},
     "output_type": "execute_result"
    }
   ],
   "source": [
    "post_2010_TNBOM = post_2010_TNBOM.drop_duplicates(subset=['movie', 'release_date'])\n",
    "post_2010_TNBOM.duplicated(subset=['movie', 'release_date']).sum()"
   ]
  },
  {
   "cell_type": "code",
   "execution_count": 410,
   "metadata": {},
   "outputs": [
    {
     "data": {
      "text/plain": [
       "release_date          0\n",
       "movie                 0\n",
       "production_budget     0\n",
       "year                  0\n",
       "total_profit_loss     0\n",
       "genres                0\n",
       "director              1\n",
       "primary_profession    1\n",
       "genre_list            0\n",
       "dtype: int64"
      ]
     },
     "execution_count": 410,
     "metadata": {},
     "output_type": "execute_result"
    }
   ],
   "source": [
    "post_2010_TNBOM.isna().sum()"
   ]
  },
  {
   "cell_type": "code",
   "execution_count": null,
   "metadata": {},
   "outputs": [],
   "source": []
  },
  {
   "cell_type": "code",
   "execution_count": 411,
   "metadata": {},
   "outputs": [
    {
     "name": "stderr",
     "output_type": "stream",
     "text": [
      "/tmp/ipykernel_66/3446896454.py:1: SettingWithCopyWarning: \n",
      "A value is trying to be set on a copy of a slice from a DataFrame.\n",
      "Try using .loc[row_indexer,col_indexer] = value instead\n",
      "\n",
      "See the caveats in the documentation: https://pandas.pydata.org/pandas-docs/stable/user_guide/indexing.html#returning-a-view-versus-a-copy\n",
      "  post_2010_TNBOM['months'] = post_2010_TNBOM['release_date'].apply(lambda x:x.strftime('%B'))\n"
     ]
    }
   ],
   "source": [
    "post_2010_TNBOM['months'] = post_2010_TNBOM['release_date'].apply(lambda x:x.strftime('%B'))"
   ]
  },
  {
   "cell_type": "code",
   "execution_count": 412,
   "metadata": {},
   "outputs": [
    {
     "data": {
      "text/html": [
       "<div>\n",
       "<style scoped>\n",
       "    .dataframe tbody tr th:only-of-type {\n",
       "        vertical-align: middle;\n",
       "    }\n",
       "\n",
       "    .dataframe tbody tr th {\n",
       "        vertical-align: top;\n",
       "    }\n",
       "\n",
       "    .dataframe thead th {\n",
       "        text-align: right;\n",
       "    }\n",
       "</style>\n",
       "<table border=\"1\" class=\"dataframe\">\n",
       "  <thead>\n",
       "    <tr style=\"text-align: right;\">\n",
       "      <th></th>\n",
       "      <th>release_date</th>\n",
       "      <th>movie</th>\n",
       "      <th>production_budget</th>\n",
       "      <th>year</th>\n",
       "      <th>total_profit_loss</th>\n",
       "      <th>genres</th>\n",
       "      <th>director</th>\n",
       "      <th>primary_profession</th>\n",
       "      <th>genre_list</th>\n",
       "      <th>months</th>\n",
       "    </tr>\n",
       "  </thead>\n",
       "  <tbody>\n",
       "    <tr>\n",
       "      <th>1</th>\n",
       "      <td>2011-05-20</td>\n",
       "      <td>Pirates of the Caribbean: On Stranger Tides</td>\n",
       "      <td>410600000</td>\n",
       "      <td>2011</td>\n",
       "      <td>465527750</td>\n",
       "      <td>Action,Adventure,Fantasy</td>\n",
       "      <td>Johnny Depp</td>\n",
       "      <td>actor,producer,soundtrack</td>\n",
       "      <td>Action</td>\n",
       "      <td>May</td>\n",
       "    </tr>\n",
       "    <tr>\n",
       "      <th>2</th>\n",
       "      <td>2019-06-07</td>\n",
       "      <td>Dark Phoenix</td>\n",
       "      <td>350000000</td>\n",
       "      <td>2019</td>\n",
       "      <td>-507475300</td>\n",
       "      <td>Action,Adventure,Sci-Fi</td>\n",
       "      <td>Simon Kinberg</td>\n",
       "      <td>producer,writer,director</td>\n",
       "      <td>Action</td>\n",
       "      <td>June</td>\n",
       "    </tr>\n",
       "    <tr>\n",
       "      <th>3</th>\n",
       "      <td>2015-05-01</td>\n",
       "      <td>Avengers: Age of Ultron</td>\n",
       "      <td>330600000</td>\n",
       "      <td>2015</td>\n",
       "      <td>1200819831</td>\n",
       "      <td>Action,Adventure,Sci-Fi</td>\n",
       "      <td>Chris Evans</td>\n",
       "      <td>actor,producer,director</td>\n",
       "      <td>Action</td>\n",
       "      <td>May</td>\n",
       "    </tr>\n",
       "    <tr>\n",
       "      <th>6</th>\n",
       "      <td>2018-04-27</td>\n",
       "      <td>Avengers: Infinity War</td>\n",
       "      <td>300000000</td>\n",
       "      <td>2018</td>\n",
       "      <td>2126949682</td>\n",
       "      <td>Action,Adventure,Sci-Fi</td>\n",
       "      <td>Mark Ruffalo</td>\n",
       "      <td>actor,producer,director</td>\n",
       "      <td>Action</td>\n",
       "      <td>April</td>\n",
       "    </tr>\n",
       "    <tr>\n",
       "      <th>8</th>\n",
       "      <td>2017-11-17</td>\n",
       "      <td>Justice League</td>\n",
       "      <td>300000000</td>\n",
       "      <td>2017</td>\n",
       "      <td>284969504</td>\n",
       "      <td>Action,Adventure,Fantasy</td>\n",
       "      <td>Ben Affleck</td>\n",
       "      <td>producer,actor,writer</td>\n",
       "      <td>Action</td>\n",
       "      <td>November</td>\n",
       "    </tr>\n",
       "    <tr>\n",
       "      <th>...</th>\n",
       "      <td>...</td>\n",
       "      <td>...</td>\n",
       "      <td>...</td>\n",
       "      <td>...</td>\n",
       "      <td>...</td>\n",
       "      <td>...</td>\n",
       "      <td>...</td>\n",
       "      <td>...</td>\n",
       "      <td>...</td>\n",
       "      <td>...</td>\n",
       "    </tr>\n",
       "    <tr>\n",
       "      <th>5660</th>\n",
       "      <td>2017-01-27</td>\n",
       "      <td>Emily</td>\n",
       "      <td>27000</td>\n",
       "      <td>2017</td>\n",
       "      <td>-46906</td>\n",
       "      <td>Drama</td>\n",
       "      <td>Timothy McNeil</td>\n",
       "      <td>actor,director,writer</td>\n",
       "      <td>Drama</td>\n",
       "      <td>January</td>\n",
       "    </tr>\n",
       "    <tr>\n",
       "      <th>5664</th>\n",
       "      <td>2015-09-01</td>\n",
       "      <td>Exeter</td>\n",
       "      <td>25000</td>\n",
       "      <td>2015</td>\n",
       "      <td>439792</td>\n",
       "      <td>Horror,Mystery,Thriller</td>\n",
       "      <td>Marcus Nispel</td>\n",
       "      <td>director,producer,writer</td>\n",
       "      <td>Horror</td>\n",
       "      <td>September</td>\n",
       "    </tr>\n",
       "    <tr>\n",
       "      <th>5667</th>\n",
       "      <td>2015-12-01</td>\n",
       "      <td>Dutch Kills</td>\n",
       "      <td>25000</td>\n",
       "      <td>2015</td>\n",
       "      <td>-50000</td>\n",
       "      <td>Crime,Drama,Thriller</td>\n",
       "      <td>Joseph Mazzella</td>\n",
       "      <td>actor,producer,director</td>\n",
       "      <td>Crime</td>\n",
       "      <td>December</td>\n",
       "    </tr>\n",
       "    <tr>\n",
       "      <th>5674</th>\n",
       "      <td>2011-11-25</td>\n",
       "      <td>The Ridges</td>\n",
       "      <td>17300</td>\n",
       "      <td>2011</td>\n",
       "      <td>-34600</td>\n",
       "      <td>Drama,Horror,Thriller</td>\n",
       "      <td>Robbie Barnes</td>\n",
       "      <td>actress,director,editor</td>\n",
       "      <td>Drama</td>\n",
       "      <td>November</td>\n",
       "    </tr>\n",
       "    <tr>\n",
       "      <th>5677</th>\n",
       "      <td>2014-12-31</td>\n",
       "      <td>Stories of Our Lives</td>\n",
       "      <td>15000</td>\n",
       "      <td>2014</td>\n",
       "      <td>-30000</td>\n",
       "      <td>Drama</td>\n",
       "      <td>Jim Chuchu</td>\n",
       "      <td>director,writer,editor</td>\n",
       "      <td>Drama</td>\n",
       "      <td>December</td>\n",
       "    </tr>\n",
       "  </tbody>\n",
       "</table>\n",
       "<p>1468 rows × 10 columns</p>\n",
       "</div>"
      ],
      "text/plain": [
       "     release_date                                        movie  \\\n",
       "1      2011-05-20  Pirates of the Caribbean: On Stranger Tides   \n",
       "2      2019-06-07                                 Dark Phoenix   \n",
       "3      2015-05-01                      Avengers: Age of Ultron   \n",
       "6      2018-04-27                       Avengers: Infinity War   \n",
       "8      2017-11-17                               Justice League   \n",
       "...           ...                                          ...   \n",
       "5660   2017-01-27                                        Emily   \n",
       "5664   2015-09-01                                       Exeter   \n",
       "5667   2015-12-01                                  Dutch Kills   \n",
       "5674   2011-11-25                                   The Ridges   \n",
       "5677   2014-12-31                         Stories of Our Lives   \n",
       "\n",
       "      production_budget  year  total_profit_loss                    genres  \\\n",
       "1             410600000  2011          465527750  Action,Adventure,Fantasy   \n",
       "2             350000000  2019         -507475300   Action,Adventure,Sci-Fi   \n",
       "3             330600000  2015         1200819831   Action,Adventure,Sci-Fi   \n",
       "6             300000000  2018         2126949682   Action,Adventure,Sci-Fi   \n",
       "8             300000000  2017          284969504  Action,Adventure,Fantasy   \n",
       "...                 ...   ...                ...                       ...   \n",
       "5660              27000  2017             -46906                     Drama   \n",
       "5664              25000  2015             439792   Horror,Mystery,Thriller   \n",
       "5667              25000  2015             -50000      Crime,Drama,Thriller   \n",
       "5674              17300  2011             -34600     Drama,Horror,Thriller   \n",
       "5677              15000  2014             -30000                     Drama   \n",
       "\n",
       "             director         primary_profession genre_list     months  \n",
       "1         Johnny Depp  actor,producer,soundtrack     Action        May  \n",
       "2       Simon Kinberg   producer,writer,director     Action       June  \n",
       "3         Chris Evans    actor,producer,director     Action        May  \n",
       "6        Mark Ruffalo    actor,producer,director     Action      April  \n",
       "8         Ben Affleck      producer,actor,writer     Action   November  \n",
       "...               ...                        ...        ...        ...  \n",
       "5660   Timothy McNeil      actor,director,writer      Drama    January  \n",
       "5664    Marcus Nispel   director,producer,writer     Horror  September  \n",
       "5667  Joseph Mazzella    actor,producer,director      Crime   December  \n",
       "5674    Robbie Barnes    actress,director,editor      Drama   November  \n",
       "5677       Jim Chuchu     director,writer,editor      Drama   December  \n",
       "\n",
       "[1468 rows x 10 columns]"
      ]
     },
     "execution_count": 412,
     "metadata": {},
     "output_type": "execute_result"
    }
   ],
   "source": [
    "post_2010_TNBOM"
   ]
  },
  {
   "cell_type": "code",
   "execution_count": 413,
   "metadata": {},
   "outputs": [],
   "source": [
    "\n",
    "# post_2010_TNBOM.loc[post_2010_TNBOM['genre_list'], [] \n",
    "#                 df.loc[df['alcohol'], ['movies >50']]"
   ]
  },
  {
   "cell_type": "code",
   "execution_count": 414,
   "metadata": {},
   "outputs": [],
   "source": [
    "filter_list = ['July', 'June', 'November', 'May']\n",
    "profit_months = post_2010_TNBOM[post_2010_TNBOM['months'].isin(filter_list)]\n",
    "table = profit_months.pivot_table(index='genre_list', columns='months', values='total_profit_loss', aggfunc='mean')"
   ]
  },
  {
   "cell_type": "code",
   "execution_count": 443,
   "metadata": {},
   "outputs": [
    {
     "name": "stderr",
     "output_type": "stream",
     "text": [
      "/tmp/ipykernel_66/4149460561.py:4: UserWarning: FixedFormatter should only be used together with FixedLocator\n",
      "  plt.gca().set_yticklabels(['$ {:.0f} millions'.format(x) for x in current_values])\n"
     ]
    },
    {
     "data": {
      "image/png": "[encoded data removed]",
      "text/plain": [
       "<Figure size 1080x1080 with 1 Axes>"
      ]
     },
     "metadata": {
      "needs_background": "light"
     },
     "output_type": "display_data"
    },
    {
     "data": {
      "text/plain": [
       "<Figure size 432x288 with 0 Axes>"
      ]
     },
     "metadata": {},
     "output_type": "display_data"
    }
   ],
   "source": [
    "table.plot(kind='bar', figsize=(15,15))\n",
    "plt.title(\"The Top Four most profitable months 2010-2020, Grouped by Movie Genres,\", size=20)\n",
    "current_values = plt.gca().get_yticks()\n",
    "plt.gca().set_yticklabels(['$ {:.0f} millions'.format(x) for x in current_values])\n",
    "plt.show(),\n",
    "plt.tight_layout();"
   ]
  },
  {
   "cell_type": "markdown",
   "metadata": {},
   "source": [
    "Now, we know that the most profitable movie genres released in the most profitable months of the year, on average, are Animation movies released in July and Adventure movies released in June.  Therefore, the logical next analysis would be to subset the dataframe by Adventure and Animation movies, looking at directors of any of those types of movies that average the most profit, regardless of month, as we want to keep our analysis high level.   "
   ]
  },
  {
   "cell_type": "code",
   "execution_count": 444,
   "metadata": {},
   "outputs": [
    {
     "data": {
      "text/html": [
       "<div>\n",
       "<style scoped>\n",
       "    .dataframe tbody tr th:only-of-type {\n",
       "        vertical-align: middle;\n",
       "    }\n",
       "\n",
       "    .dataframe tbody tr th {\n",
       "        vertical-align: top;\n",
       "    }\n",
       "\n",
       "    .dataframe thead th {\n",
       "        text-align: right;\n",
       "    }\n",
       "</style>\n",
       "<table border=\"1\" class=\"dataframe\">\n",
       "  <thead>\n",
       "    <tr style=\"text-align: right;\">\n",
       "      <th></th>\n",
       "      <th>release_date</th>\n",
       "      <th>movie</th>\n",
       "      <th>production_budget</th>\n",
       "      <th>year</th>\n",
       "      <th>total_profit_loss</th>\n",
       "      <th>genres</th>\n",
       "      <th>director</th>\n",
       "      <th>primary_profession</th>\n",
       "      <th>genre_list</th>\n",
       "      <th>months</th>\n",
       "    </tr>\n",
       "  </thead>\n",
       "  <tbody>\n",
       "    <tr>\n",
       "      <th>14</th>\n",
       "      <td>2010-11-24</td>\n",
       "      <td>Tangled</td>\n",
       "      <td>260000000</td>\n",
       "      <td>2010</td>\n",
       "      <td>267299176</td>\n",
       "      <td>Adventure,Animation,Comedy</td>\n",
       "      <td>Nathan Greno</td>\n",
       "      <td>actor,art_department,director</td>\n",
       "      <td>Adventure</td>\n",
       "      <td>November</td>\n",
       "    </tr>\n",
       "    <tr>\n",
       "      <th>18</th>\n",
       "      <td>2012-12-14</td>\n",
       "      <td>The Hobbit: An Unexpected Journey</td>\n",
       "      <td>250000000</td>\n",
       "      <td>2012</td>\n",
       "      <td>820007136</td>\n",
       "      <td>Adventure,Family,Fantasy</td>\n",
       "      <td>Andy Serkis</td>\n",
       "      <td>actor,producer,soundtrack</td>\n",
       "      <td>Adventure</td>\n",
       "      <td>December</td>\n",
       "    </tr>\n",
       "    <tr>\n",
       "      <th>20</th>\n",
       "      <td>2013-12-13</td>\n",
       "      <td>The Hobbit: The Desolation of Smaug</td>\n",
       "      <td>250000000</td>\n",
       "      <td>2013</td>\n",
       "      <td>718733710</td>\n",
       "      <td>Adventure,Fantasy</td>\n",
       "      <td>Peter Jackson</td>\n",
       "      <td>producer,director,writer</td>\n",
       "      <td>Adventure</td>\n",
       "      <td>December</td>\n",
       "    </tr>\n",
       "    <tr>\n",
       "      <th>21</th>\n",
       "      <td>2014-12-17</td>\n",
       "      <td>The Hobbit: The Battle of the Five Armies</td>\n",
       "      <td>250000000</td>\n",
       "      <td>2014</td>\n",
       "      <td>700697409</td>\n",
       "      <td>Adventure,Fantasy</td>\n",
       "      <td>Peter Jackson</td>\n",
       "      <td>producer,director,writer</td>\n",
       "      <td>Adventure</td>\n",
       "      <td>December</td>\n",
       "    </tr>\n",
       "    <tr>\n",
       "      <th>45</th>\n",
       "      <td>2016-06-17</td>\n",
       "      <td>Finding Dory</td>\n",
       "      <td>200000000</td>\n",
       "      <td>2016</td>\n",
       "      <td>1107510754</td>\n",
       "      <td>Adventure,Animation,Comedy</td>\n",
       "      <td>Andrew Stanton</td>\n",
       "      <td>writer,actor,producer</td>\n",
       "      <td>Adventure</td>\n",
       "      <td>June</td>\n",
       "    </tr>\n",
       "    <tr>\n",
       "      <th>...</th>\n",
       "      <td>...</td>\n",
       "      <td>...</td>\n",
       "      <td>...</td>\n",
       "      <td>...</td>\n",
       "      <td>...</td>\n",
       "      <td>...</td>\n",
       "      <td>...</td>\n",
       "      <td>...</td>\n",
       "      <td>...</td>\n",
       "      <td>...</td>\n",
       "    </tr>\n",
       "    <tr>\n",
       "      <th>4955</th>\n",
       "      <td>2012-06-27</td>\n",
       "      <td>Beasts of the Southern Wild</td>\n",
       "      <td>1800000</td>\n",
       "      <td>2012</td>\n",
       "      <td>32460878</td>\n",
       "      <td>Adventure,Drama,Fantasy</td>\n",
       "      <td>Benh Zeitlin</td>\n",
       "      <td>director,writer,composer</td>\n",
       "      <td>Adventure</td>\n",
       "      <td>June</td>\n",
       "    </tr>\n",
       "    <tr>\n",
       "      <th>5047</th>\n",
       "      <td>2011-06-03</td>\n",
       "      <td>The Lion of Judah</td>\n",
       "      <td>1500000</td>\n",
       "      <td>2011</td>\n",
       "      <td>-3000000</td>\n",
       "      <td>Animation</td>\n",
       "      <td>Deryck Broom</td>\n",
       "      <td>producer,director,writer</td>\n",
       "      <td>Animation</td>\n",
       "      <td>June</td>\n",
       "    </tr>\n",
       "    <tr>\n",
       "      <th>5234</th>\n",
       "      <td>2015-12-31</td>\n",
       "      <td>Karachi se Lahore</td>\n",
       "      <td>1000000</td>\n",
       "      <td>2015</td>\n",
       "      <td>-1982279</td>\n",
       "      <td>Adventure,Comedy,Family</td>\n",
       "      <td>Wajahat Rauf</td>\n",
       "      <td>producer,director,actor</td>\n",
       "      <td>Adventure</td>\n",
       "      <td>December</td>\n",
       "    </tr>\n",
       "    <tr>\n",
       "      <th>5315</th>\n",
       "      <td>2014-12-31</td>\n",
       "      <td>Destiny</td>\n",
       "      <td>750000</td>\n",
       "      <td>2014</td>\n",
       "      <td>-1499550</td>\n",
       "      <td>Adventure,Comedy,Family</td>\n",
       "      <td>Sardar Shafai</td>\n",
       "      <td>director,actor,writer</td>\n",
       "      <td>Adventure</td>\n",
       "      <td>December</td>\n",
       "    </tr>\n",
       "    <tr>\n",
       "      <th>5529</th>\n",
       "      <td>2015-10-09</td>\n",
       "      <td>Western Religion</td>\n",
       "      <td>250000</td>\n",
       "      <td>2015</td>\n",
       "      <td>-500000</td>\n",
       "      <td>Adventure,Drama,Fantasy</td>\n",
       "      <td>Gary Kohn</td>\n",
       "      <td>actor,producer,miscellaneous</td>\n",
       "      <td>Adventure</td>\n",
       "      <td>October</td>\n",
       "    </tr>\n",
       "  </tbody>\n",
       "</table>\n",
       "<p>169 rows × 10 columns</p>\n",
       "</div>"
      ],
      "text/plain": [
       "     release_date                                      movie  \\\n",
       "14     2010-11-24                                    Tangled   \n",
       "18     2012-12-14          The Hobbit: An Unexpected Journey   \n",
       "20     2013-12-13        The Hobbit: The Desolation of Smaug   \n",
       "21     2014-12-17  The Hobbit: The Battle of the Five Armies   \n",
       "45     2016-06-17                               Finding Dory   \n",
       "...           ...                                        ...   \n",
       "4955   2012-06-27                Beasts of the Southern Wild   \n",
       "5047   2011-06-03                          The Lion of Judah   \n",
       "5234   2015-12-31                          Karachi se Lahore   \n",
       "5315   2014-12-31                                    Destiny   \n",
       "5529   2015-10-09                           Western Religion   \n",
       "\n",
       "      production_budget  year  total_profit_loss                      genres  \\\n",
       "14            260000000  2010          267299176  Adventure,Animation,Comedy   \n",
       "18            250000000  2012          820007136    Adventure,Family,Fantasy   \n",
       "20            250000000  2013          718733710           Adventure,Fantasy   \n",
       "21            250000000  2014          700697409           Adventure,Fantasy   \n",
       "45            200000000  2016         1107510754  Adventure,Animation,Comedy   \n",
       "...                 ...   ...                ...                         ...   \n",
       "4955            1800000  2012           32460878     Adventure,Drama,Fantasy   \n",
       "5047            1500000  2011           -3000000                   Animation   \n",
       "5234            1000000  2015           -1982279     Adventure,Comedy,Family   \n",
       "5315             750000  2014           -1499550     Adventure,Comedy,Family   \n",
       "5529             250000  2015            -500000     Adventure,Drama,Fantasy   \n",
       "\n",
       "            director             primary_profession genre_list    months  \n",
       "14      Nathan Greno  actor,art_department,director  Adventure  November  \n",
       "18       Andy Serkis      actor,producer,soundtrack  Adventure  December  \n",
       "20     Peter Jackson       producer,director,writer  Adventure  December  \n",
       "21     Peter Jackson       producer,director,writer  Adventure  December  \n",
       "45    Andrew Stanton          writer,actor,producer  Adventure      June  \n",
       "...              ...                            ...        ...       ...  \n",
       "4955    Benh Zeitlin       director,writer,composer  Adventure      June  \n",
       "5047    Deryck Broom       producer,director,writer  Animation      June  \n",
       "5234    Wajahat Rauf        producer,director,actor  Adventure  December  \n",
       "5315   Sardar Shafai          director,actor,writer  Adventure  December  \n",
       "5529       Gary Kohn   actor,producer,miscellaneous  Adventure   October  \n",
       "\n",
       "[169 rows x 10 columns]"
      ]
     },
     "execution_count": 444,
     "metadata": {},
     "output_type": "execute_result"
    }
   ],
   "source": [
    "genre_list = ['Animation', 'Adventure', 'Mystery', 'Action']\n",
    "genre_filter = post_2010_TNBOM[post_2010_TNBOM['genre_list'].isin(genre_list)]\n",
    "genre_filter"
   ]
  },
  {
   "cell_type": "code",
   "execution_count": 445,
   "metadata": {},
   "outputs": [
    {
     "data": {
      "text/html": [
       "<div>\n",
       "<style scoped>\n",
       "    .dataframe tbody tr th:only-of-type {\n",
       "        vertical-align: middle;\n",
       "    }\n",
       "\n",
       "    .dataframe tbody tr th {\n",
       "        vertical-align: top;\n",
       "    }\n",
       "\n",
       "    .dataframe thead th {\n",
       "        text-align: right;\n",
       "    }\n",
       "</style>\n",
       "<table border=\"1\" class=\"dataframe\">\n",
       "  <thead>\n",
       "    <tr style=\"text-align: right;\">\n",
       "      <th></th>\n",
       "      <th>release_date</th>\n",
       "      <th>movie</th>\n",
       "      <th>production_budget</th>\n",
       "      <th>year</th>\n",
       "      <th>total_profit_loss</th>\n",
       "      <th>genres</th>\n",
       "      <th>director</th>\n",
       "      <th>primary_profession</th>\n",
       "      <th>genre_list</th>\n",
       "      <th>months</th>\n",
       "    </tr>\n",
       "  </thead>\n",
       "  <tbody>\n",
       "    <tr>\n",
       "      <th>14</th>\n",
       "      <td>2010-11-24</td>\n",
       "      <td>Tangled</td>\n",
       "      <td>260000000</td>\n",
       "      <td>2010</td>\n",
       "      <td>267299176</td>\n",
       "      <td>Adventure,Animation,Comedy</td>\n",
       "      <td>Nathan Greno</td>\n",
       "      <td>actor,art_department,director</td>\n",
       "      <td>Adventure</td>\n",
       "      <td>November</td>\n",
       "    </tr>\n",
       "    <tr>\n",
       "      <th>18</th>\n",
       "      <td>2012-12-14</td>\n",
       "      <td>The Hobbit: An Unexpected Journey</td>\n",
       "      <td>250000000</td>\n",
       "      <td>2012</td>\n",
       "      <td>820007136</td>\n",
       "      <td>Adventure,Family,Fantasy</td>\n",
       "      <td>Andy Serkis</td>\n",
       "      <td>actor,producer,soundtrack</td>\n",
       "      <td>Adventure</td>\n",
       "      <td>December</td>\n",
       "    </tr>\n",
       "    <tr>\n",
       "      <th>20</th>\n",
       "      <td>2013-12-13</td>\n",
       "      <td>The Hobbit: The Desolation of Smaug</td>\n",
       "      <td>250000000</td>\n",
       "      <td>2013</td>\n",
       "      <td>718733710</td>\n",
       "      <td>Adventure,Fantasy</td>\n",
       "      <td>Peter Jackson</td>\n",
       "      <td>producer,director,writer</td>\n",
       "      <td>Adventure</td>\n",
       "      <td>December</td>\n",
       "    </tr>\n",
       "    <tr>\n",
       "      <th>21</th>\n",
       "      <td>2014-12-17</td>\n",
       "      <td>The Hobbit: The Battle of the Five Armies</td>\n",
       "      <td>250000000</td>\n",
       "      <td>2014</td>\n",
       "      <td>700697409</td>\n",
       "      <td>Adventure,Fantasy</td>\n",
       "      <td>Peter Jackson</td>\n",
       "      <td>producer,director,writer</td>\n",
       "      <td>Adventure</td>\n",
       "      <td>December</td>\n",
       "    </tr>\n",
       "    <tr>\n",
       "      <th>45</th>\n",
       "      <td>2016-06-17</td>\n",
       "      <td>Finding Dory</td>\n",
       "      <td>200000000</td>\n",
       "      <td>2016</td>\n",
       "      <td>1107510754</td>\n",
       "      <td>Adventure,Animation,Comedy</td>\n",
       "      <td>Andrew Stanton</td>\n",
       "      <td>writer,actor,producer</td>\n",
       "      <td>Adventure</td>\n",
       "      <td>June</td>\n",
       "    </tr>\n",
       "    <tr>\n",
       "      <th>46</th>\n",
       "      <td>2010-06-18</td>\n",
       "      <td>Toy Story 3</td>\n",
       "      <td>200000000</td>\n",
       "      <td>2010</td>\n",
       "      <td>1083884402</td>\n",
       "      <td>Adventure,Animation,Comedy</td>\n",
       "      <td>Tom Hanks</td>\n",
       "      <td>producer,actor,soundtrack</td>\n",
       "      <td>Adventure</td>\n",
       "      <td>June</td>\n",
       "    </tr>\n",
       "    <tr>\n",
       "      <th>50</th>\n",
       "      <td>2010-03-05</td>\n",
       "      <td>Alice in Wonderland</td>\n",
       "      <td>200000000</td>\n",
       "      <td>2010</td>\n",
       "      <td>959682220</td>\n",
       "      <td>Adventure,Family,Fantasy</td>\n",
       "      <td>Giuseppe Malpasso</td>\n",
       "      <td>cinematographer,editor,director</td>\n",
       "      <td>Adventure</td>\n",
       "      <td>March</td>\n",
       "    </tr>\n",
       "    <tr>\n",
       "      <th>52</th>\n",
       "      <td>2013-06-21</td>\n",
       "      <td>Monsters University</td>\n",
       "      <td>200000000</td>\n",
       "      <td>2013</td>\n",
       "      <td>612076658</td>\n",
       "      <td>Adventure,Animation,Comedy</td>\n",
       "      <td>Dan Scanlon</td>\n",
       "      <td>writer,art_department,director</td>\n",
       "      <td>Adventure</td>\n",
       "      <td>June</td>\n",
       "    </tr>\n",
       "    <tr>\n",
       "      <th>53</th>\n",
       "      <td>2013-03-08</td>\n",
       "      <td>Oz the Great and Powerful</td>\n",
       "      <td>200000000</td>\n",
       "      <td>2013</td>\n",
       "      <td>325130047</td>\n",
       "      <td>Adventure,Family,Fantasy</td>\n",
       "      <td>James Franco</td>\n",
       "      <td>actor,producer,director</td>\n",
       "      <td>Adventure</td>\n",
       "      <td>March</td>\n",
       "    </tr>\n",
       "    <tr>\n",
       "      <th>56</th>\n",
       "      <td>2011-06-24</td>\n",
       "      <td>Cars 2</td>\n",
       "      <td>200000000</td>\n",
       "      <td>2011</td>\n",
       "      <td>351606258</td>\n",
       "      <td>Adventure,Animation,Comedy</td>\n",
       "      <td>John Lasseter</td>\n",
       "      <td>producer,writer,director</td>\n",
       "      <td>Adventure</td>\n",
       "      <td>June</td>\n",
       "    </tr>\n",
       "    <tr>\n",
       "      <th>59</th>\n",
       "      <td>2018-11-16</td>\n",
       "      <td>Fantastic Beasts: The Crimes of Grindelwald</td>\n",
       "      <td>200000000</td>\n",
       "      <td>2018</td>\n",
       "      <td>411775987</td>\n",
       "      <td>Adventure,Family,Fantasy</td>\n",
       "      <td>Dan Fogler</td>\n",
       "      <td>actor,director,soundtrack</td>\n",
       "      <td>Adventure</td>\n",
       "      <td>November</td>\n",
       "    </tr>\n",
       "    <tr>\n",
       "      <th>65</th>\n",
       "      <td>2013-03-01</td>\n",
       "      <td>Jack the Giant Slayer</td>\n",
       "      <td>195000000</td>\n",
       "      <td>2013</td>\n",
       "      <td>-127124794</td>\n",
       "      <td>Adventure,Fantasy</td>\n",
       "      <td>Stanley Tucci</td>\n",
       "      <td>actor,producer,director</td>\n",
       "      <td>Adventure</td>\n",
       "      <td>March</td>\n",
       "    </tr>\n",
       "    <tr>\n",
       "      <th>72</th>\n",
       "      <td>2015-11-25</td>\n",
       "      <td>The Good Dinosaur</td>\n",
       "      <td>187500000</td>\n",
       "      <td>2015</td>\n",
       "      <td>81858157</td>\n",
       "      <td>Adventure,Animation,Comedy</td>\n",
       "      <td>Peter Hedges</td>\n",
       "      <td>writer,director,actor</td>\n",
       "      <td>Adventure</td>\n",
       "      <td>November</td>\n",
       "    </tr>\n",
       "    <tr>\n",
       "      <th>76</th>\n",
       "      <td>2012-06-22</td>\n",
       "      <td>Brave</td>\n",
       "      <td>185000000</td>\n",
       "      <td>2012</td>\n",
       "      <td>421888714</td>\n",
       "      <td>Adventure,Animation,Comedy</td>\n",
       "      <td>Mark Andrews</td>\n",
       "      <td>art_department,writer,miscellaneous</td>\n",
       "      <td>Adventure</td>\n",
       "      <td>June</td>\n",
       "    </tr>\n",
       "    <tr>\n",
       "      <th>80</th>\n",
       "      <td>2019-05-24</td>\n",
       "      <td>Aladdin</td>\n",
       "      <td>182000000</td>\n",
       "      <td>2019</td>\n",
       "      <td>501968628</td>\n",
       "      <td>Adventure,Comedy,Family</td>\n",
       "      <td>Guy Ritchie</td>\n",
       "      <td>director,producer,writer</td>\n",
       "      <td>Adventure</td>\n",
       "      <td>May</td>\n",
       "    </tr>\n",
       "    <tr>\n",
       "      <th>84</th>\n",
       "      <td>2016-11-18</td>\n",
       "      <td>Fantastic Beasts and Where to Find Them</td>\n",
       "      <td>180000000</td>\n",
       "      <td>2016</td>\n",
       "      <td>676440428</td>\n",
       "      <td>Adventure,Family,Fantasy</td>\n",
       "      <td>Dan Fogler</td>\n",
       "      <td>actor,director,soundtrack</td>\n",
       "      <td>Adventure</td>\n",
       "      <td>November</td>\n",
       "    </tr>\n",
       "    <tr>\n",
       "      <th>88</th>\n",
       "      <td>2011-11-23</td>\n",
       "      <td>Hugo</td>\n",
       "      <td>180000000</td>\n",
       "      <td>2011</td>\n",
       "      <td>-106087709</td>\n",
       "      <td>Adventure,Drama,Family</td>\n",
       "      <td>Martin Scorsese</td>\n",
       "      <td>producer,director,actor</td>\n",
       "      <td>Adventure</td>\n",
       "      <td>November</td>\n",
       "    </tr>\n",
       "    <tr>\n",
       "      <th>96</th>\n",
       "      <td>2016-04-15</td>\n",
       "      <td>The Jungle Book</td>\n",
       "      <td>175000000</td>\n",
       "      <td>2016</td>\n",
       "      <td>976855670</td>\n",
       "      <td>Adventure,Drama,Family</td>\n",
       "      <td>Jun Falkenstein</td>\n",
       "      <td>art_department,director,animation_department</td>\n",
       "      <td>Adventure</td>\n",
       "      <td>April</td>\n",
       "    </tr>\n",
       "    <tr>\n",
       "      <th>97</th>\n",
       "      <td>2015-06-19</td>\n",
       "      <td>Inside Out</td>\n",
       "      <td>175000000</td>\n",
       "      <td>2015</td>\n",
       "      <td>860697703</td>\n",
       "      <td>Adventure,Animation,Comedy</td>\n",
       "      <td>Amy Poehler</td>\n",
       "      <td>actress,producer,writer</td>\n",
       "      <td>Adventure</td>\n",
       "      <td>June</td>\n",
       "    </tr>\n",
       "    <tr>\n",
       "      <th>101</th>\n",
       "      <td>2017-11-22</td>\n",
       "      <td>Coco</td>\n",
       "      <td>175000000</td>\n",
       "      <td>2017</td>\n",
       "      <td>657734116</td>\n",
       "      <td>Adventure,Animation,Comedy</td>\n",
       "      <td>Gael García Bernal</td>\n",
       "      <td>actor,producer,writer</td>\n",
       "      <td>Adventure</td>\n",
       "      <td>November</td>\n",
       "    </tr>\n",
       "  </tbody>\n",
       "</table>\n",
       "</div>"
      ],
      "text/plain": [
       "    release_date                                        movie  \\\n",
       "14    2010-11-24                                      Tangled   \n",
       "18    2012-12-14            The Hobbit: An Unexpected Journey   \n",
       "20    2013-12-13          The Hobbit: The Desolation of Smaug   \n",
       "21    2014-12-17    The Hobbit: The Battle of the Five Armies   \n",
       "45    2016-06-17                                 Finding Dory   \n",
       "46    2010-06-18                                  Toy Story 3   \n",
       "50    2010-03-05                          Alice in Wonderland   \n",
       "52    2013-06-21                          Monsters University   \n",
       "53    2013-03-08                    Oz the Great and Powerful   \n",
       "56    2011-06-24                                       Cars 2   \n",
       "59    2018-11-16  Fantastic Beasts: The Crimes of Grindelwald   \n",
       "65    2013-03-01                        Jack the Giant Slayer   \n",
       "72    2015-11-25                            The Good Dinosaur   \n",
       "76    2012-06-22                                        Brave   \n",
       "80    2019-05-24                                      Aladdin   \n",
       "84    2016-11-18      Fantastic Beasts and Where to Find Them   \n",
       "88    2011-11-23                                         Hugo   \n",
       "96    2016-04-15                              The Jungle Book   \n",
       "97    2015-06-19                                   Inside Out   \n",
       "101   2017-11-22                                         Coco   \n",
       "\n",
       "     production_budget  year  total_profit_loss                      genres  \\\n",
       "14           260000000  2010          267299176  Adventure,Animation,Comedy   \n",
       "18           250000000  2012          820007136    Adventure,Family,Fantasy   \n",
       "20           250000000  2013          718733710           Adventure,Fantasy   \n",
       "21           250000000  2014          700697409           Adventure,Fantasy   \n",
       "45           200000000  2016         1107510754  Adventure,Animation,Comedy   \n",
       "46           200000000  2010         1083884402  Adventure,Animation,Comedy   \n",
       "50           200000000  2010          959682220    Adventure,Family,Fantasy   \n",
       "52           200000000  2013          612076658  Adventure,Animation,Comedy   \n",
       "53           200000000  2013          325130047    Adventure,Family,Fantasy   \n",
       "56           200000000  2011          351606258  Adventure,Animation,Comedy   \n",
       "59           200000000  2018          411775987    Adventure,Family,Fantasy   \n",
       "65           195000000  2013         -127124794           Adventure,Fantasy   \n",
       "72           187500000  2015           81858157  Adventure,Animation,Comedy   \n",
       "76           185000000  2012          421888714  Adventure,Animation,Comedy   \n",
       "80           182000000  2019          501968628     Adventure,Comedy,Family   \n",
       "84           180000000  2016          676440428    Adventure,Family,Fantasy   \n",
       "88           180000000  2011         -106087709      Adventure,Drama,Family   \n",
       "96           175000000  2016          976855670      Adventure,Drama,Family   \n",
       "97           175000000  2015          860697703  Adventure,Animation,Comedy   \n",
       "101          175000000  2017          657734116  Adventure,Animation,Comedy   \n",
       "\n",
       "               director                            primary_profession  \\\n",
       "14         Nathan Greno                 actor,art_department,director   \n",
       "18          Andy Serkis                     actor,producer,soundtrack   \n",
       "20        Peter Jackson                      producer,director,writer   \n",
       "21        Peter Jackson                      producer,director,writer   \n",
       "45       Andrew Stanton                         writer,actor,producer   \n",
       "46            Tom Hanks                     producer,actor,soundtrack   \n",
       "50    Giuseppe Malpasso               cinematographer,editor,director   \n",
       "52          Dan Scanlon                writer,art_department,director   \n",
       "53         James Franco                       actor,producer,director   \n",
       "56        John Lasseter                      producer,writer,director   \n",
       "59           Dan Fogler                     actor,director,soundtrack   \n",
       "65        Stanley Tucci                       actor,producer,director   \n",
       "72         Peter Hedges                         writer,director,actor   \n",
       "76         Mark Andrews           art_department,writer,miscellaneous   \n",
       "80          Guy Ritchie                      director,producer,writer   \n",
       "84           Dan Fogler                     actor,director,soundtrack   \n",
       "88      Martin Scorsese                       producer,director,actor   \n",
       "96      Jun Falkenstein  art_department,director,animation_department   \n",
       "97          Amy Poehler                       actress,producer,writer   \n",
       "101  Gael García Bernal                         actor,producer,writer   \n",
       "\n",
       "    genre_list    months  \n",
       "14   Adventure  November  \n",
       "18   Adventure  December  \n",
       "20   Adventure  December  \n",
       "21   Adventure  December  \n",
       "45   Adventure      June  \n",
       "46   Adventure      June  \n",
       "50   Adventure     March  \n",
       "52   Adventure      June  \n",
       "53   Adventure     March  \n",
       "56   Adventure      June  \n",
       "59   Adventure  November  \n",
       "65   Adventure     March  \n",
       "72   Adventure  November  \n",
       "76   Adventure      June  \n",
       "80   Adventure       May  \n",
       "84   Adventure  November  \n",
       "88   Adventure  November  \n",
       "96   Adventure     April  \n",
       "97   Adventure      June  \n",
       "101  Adventure  November  "
      ]
     },
     "execution_count": 445,
     "metadata": {},
     "output_type": "execute_result"
    }
   ],
   "source": [
    "genre_filter.head(20)"
   ]
  },
  {
   "cell_type": "markdown",
   "metadata": {},
   "source": [
    "we should explode the primary profession column and then filter by directors who are not also actors.  "
   ]
  },
  {
   "cell_type": "code",
   "execution_count": 462,
   "metadata": {},
   "outputs": [],
   "source": [
    "genres_gonedf = post_2010_TNBOM.drop('genres', axis=1)"
   ]
  },
  {
   "cell_type": "code",
   "execution_count": 463,
   "metadata": {},
   "outputs": [],
   "source": [
    "genres_gonedf.loc[:, 'profession_list'] = genres_gonedf['primary_profession'].str.split(',')"
   ]
  },
  {
   "cell_type": "code",
   "execution_count": 464,
   "metadata": {},
   "outputs": [
    {
     "data": {
      "text/html": [
       "<div>\n",
       "<style scoped>\n",
       "    .dataframe tbody tr th:only-of-type {\n",
       "        vertical-align: middle;\n",
       "    }\n",
       "\n",
       "    .dataframe tbody tr th {\n",
       "        vertical-align: top;\n",
       "    }\n",
       "\n",
       "    .dataframe thead th {\n",
       "        text-align: right;\n",
       "    }\n",
       "</style>\n",
       "<table border=\"1\" class=\"dataframe\">\n",
       "  <thead>\n",
       "    <tr style=\"text-align: right;\">\n",
       "      <th></th>\n",
       "      <th>release_date</th>\n",
       "      <th>movie</th>\n",
       "      <th>production_budget</th>\n",
       "      <th>year</th>\n",
       "      <th>total_profit_loss</th>\n",
       "      <th>director</th>\n",
       "      <th>primary_profession</th>\n",
       "      <th>genre_list</th>\n",
       "      <th>months</th>\n",
       "      <th>profession_list</th>\n",
       "    </tr>\n",
       "  </thead>\n",
       "  <tbody>\n",
       "    <tr>\n",
       "      <th>1</th>\n",
       "      <td>2011-05-20</td>\n",
       "      <td>Pirates of the Caribbean: On Stranger Tides</td>\n",
       "      <td>410600000</td>\n",
       "      <td>2011</td>\n",
       "      <td>465527750</td>\n",
       "      <td>Johnny Depp</td>\n",
       "      <td>actor,producer,soundtrack</td>\n",
       "      <td>Action</td>\n",
       "      <td>May</td>\n",
       "      <td>[actor, producer, soundtrack]</td>\n",
       "    </tr>\n",
       "    <tr>\n",
       "      <th>2</th>\n",
       "      <td>2019-06-07</td>\n",
       "      <td>Dark Phoenix</td>\n",
       "      <td>350000000</td>\n",
       "      <td>2019</td>\n",
       "      <td>-507475300</td>\n",
       "      <td>Simon Kinberg</td>\n",
       "      <td>producer,writer,director</td>\n",
       "      <td>Action</td>\n",
       "      <td>June</td>\n",
       "      <td>[producer, writer, director]</td>\n",
       "    </tr>\n",
       "    <tr>\n",
       "      <th>3</th>\n",
       "      <td>2015-05-01</td>\n",
       "      <td>Avengers: Age of Ultron</td>\n",
       "      <td>330600000</td>\n",
       "      <td>2015</td>\n",
       "      <td>1200819831</td>\n",
       "      <td>Chris Evans</td>\n",
       "      <td>actor,producer,director</td>\n",
       "      <td>Action</td>\n",
       "      <td>May</td>\n",
       "      <td>[actor, producer, director]</td>\n",
       "    </tr>\n",
       "    <tr>\n",
       "      <th>6</th>\n",
       "      <td>2018-04-27</td>\n",
       "      <td>Avengers: Infinity War</td>\n",
       "      <td>300000000</td>\n",
       "      <td>2018</td>\n",
       "      <td>2126949682</td>\n",
       "      <td>Mark Ruffalo</td>\n",
       "      <td>actor,producer,director</td>\n",
       "      <td>Action</td>\n",
       "      <td>April</td>\n",
       "      <td>[actor, producer, director]</td>\n",
       "    </tr>\n",
       "    <tr>\n",
       "      <th>8</th>\n",
       "      <td>2017-11-17</td>\n",
       "      <td>Justice League</td>\n",
       "      <td>300000000</td>\n",
       "      <td>2017</td>\n",
       "      <td>284969504</td>\n",
       "      <td>Ben Affleck</td>\n",
       "      <td>producer,actor,writer</td>\n",
       "      <td>Action</td>\n",
       "      <td>November</td>\n",
       "      <td>[producer, actor, writer]</td>\n",
       "    </tr>\n",
       "    <tr>\n",
       "      <th>...</th>\n",
       "      <td>...</td>\n",
       "      <td>...</td>\n",
       "      <td>...</td>\n",
       "      <td>...</td>\n",
       "      <td>...</td>\n",
       "      <td>...</td>\n",
       "      <td>...</td>\n",
       "      <td>...</td>\n",
       "      <td>...</td>\n",
       "      <td>...</td>\n",
       "    </tr>\n",
       "    <tr>\n",
       "      <th>5660</th>\n",
       "      <td>2017-01-27</td>\n",
       "      <td>Emily</td>\n",
       "      <td>27000</td>\n",
       "      <td>2017</td>\n",
       "      <td>-46906</td>\n",
       "      <td>Timothy McNeil</td>\n",
       "      <td>actor,director,writer</td>\n",
       "      <td>Drama</td>\n",
       "      <td>January</td>\n",
       "      <td>[actor, director, writer]</td>\n",
       "    </tr>\n",
       "    <tr>\n",
       "      <th>5664</th>\n",
       "      <td>2015-09-01</td>\n",
       "      <td>Exeter</td>\n",
       "      <td>25000</td>\n",
       "      <td>2015</td>\n",
       "      <td>439792</td>\n",
       "      <td>Marcus Nispel</td>\n",
       "      <td>director,producer,writer</td>\n",
       "      <td>Horror</td>\n",
       "      <td>September</td>\n",
       "      <td>[director, producer, writer]</td>\n",
       "    </tr>\n",
       "    <tr>\n",
       "      <th>5667</th>\n",
       "      <td>2015-12-01</td>\n",
       "      <td>Dutch Kills</td>\n",
       "      <td>25000</td>\n",
       "      <td>2015</td>\n",
       "      <td>-50000</td>\n",
       "      <td>Joseph Mazzella</td>\n",
       "      <td>actor,producer,director</td>\n",
       "      <td>Crime</td>\n",
       "      <td>December</td>\n",
       "      <td>[actor, producer, director]</td>\n",
       "    </tr>\n",
       "    <tr>\n",
       "      <th>5674</th>\n",
       "      <td>2011-11-25</td>\n",
       "      <td>The Ridges</td>\n",
       "      <td>17300</td>\n",
       "      <td>2011</td>\n",
       "      <td>-34600</td>\n",
       "      <td>Robbie Barnes</td>\n",
       "      <td>actress,director,editor</td>\n",
       "      <td>Drama</td>\n",
       "      <td>November</td>\n",
       "      <td>[actress, director, editor]</td>\n",
       "    </tr>\n",
       "    <tr>\n",
       "      <th>5677</th>\n",
       "      <td>2014-12-31</td>\n",
       "      <td>Stories of Our Lives</td>\n",
       "      <td>15000</td>\n",
       "      <td>2014</td>\n",
       "      <td>-30000</td>\n",
       "      <td>Jim Chuchu</td>\n",
       "      <td>director,writer,editor</td>\n",
       "      <td>Drama</td>\n",
       "      <td>December</td>\n",
       "      <td>[director, writer, editor]</td>\n",
       "    </tr>\n",
       "  </tbody>\n",
       "</table>\n",
       "<p>1468 rows × 10 columns</p>\n",
       "</div>"
      ],
      "text/plain": [
       "     release_date                                        movie  \\\n",
       "1      2011-05-20  Pirates of the Caribbean: On Stranger Tides   \n",
       "2      2019-06-07                                 Dark Phoenix   \n",
       "3      2015-05-01                      Avengers: Age of Ultron   \n",
       "6      2018-04-27                       Avengers: Infinity War   \n",
       "8      2017-11-17                               Justice League   \n",
       "...           ...                                          ...   \n",
       "5660   2017-01-27                                        Emily   \n",
       "5664   2015-09-01                                       Exeter   \n",
       "5667   2015-12-01                                  Dutch Kills   \n",
       "5674   2011-11-25                                   The Ridges   \n",
       "5677   2014-12-31                         Stories of Our Lives   \n",
       "\n",
       "      production_budget  year  total_profit_loss         director  \\\n",
       "1             410600000  2011          465527750      Johnny Depp   \n",
       "2             350000000  2019         -507475300    Simon Kinberg   \n",
       "3             330600000  2015         1200819831      Chris Evans   \n",
       "6             300000000  2018         2126949682     Mark Ruffalo   \n",
       "8             300000000  2017          284969504      Ben Affleck   \n",
       "...                 ...   ...                ...              ...   \n",
       "5660              27000  2017             -46906   Timothy McNeil   \n",
       "5664              25000  2015             439792    Marcus Nispel   \n",
       "5667              25000  2015             -50000  Joseph Mazzella   \n",
       "5674              17300  2011             -34600    Robbie Barnes   \n",
       "5677              15000  2014             -30000       Jim Chuchu   \n",
       "\n",
       "             primary_profession genre_list     months  \\\n",
       "1     actor,producer,soundtrack     Action        May   \n",
       "2      producer,writer,director     Action       June   \n",
       "3       actor,producer,director     Action        May   \n",
       "6       actor,producer,director     Action      April   \n",
       "8         producer,actor,writer     Action   November   \n",
       "...                         ...        ...        ...   \n",
       "5660      actor,director,writer      Drama    January   \n",
       "5664   director,producer,writer     Horror  September   \n",
       "5667    actor,producer,director      Crime   December   \n",
       "5674    actress,director,editor      Drama   November   \n",
       "5677     director,writer,editor      Drama   December   \n",
       "\n",
       "                    profession_list  \n",
       "1     [actor, producer, soundtrack]  \n",
       "2      [producer, writer, director]  \n",
       "3       [actor, producer, director]  \n",
       "6       [actor, producer, director]  \n",
       "8         [producer, actor, writer]  \n",
       "...                             ...  \n",
       "5660      [actor, director, writer]  \n",
       "5664   [director, producer, writer]  \n",
       "5667    [actor, producer, director]  \n",
       "5674    [actress, director, editor]  \n",
       "5677     [director, writer, editor]  \n",
       "\n",
       "[1468 rows x 10 columns]"
      ]
     },
     "execution_count": 464,
     "metadata": {},
     "output_type": "execute_result"
    }
   ],
   "source": [
    "genres_gonedf"
   ]
  },
  {
   "cell_type": "code",
   "execution_count": 481,
   "metadata": {},
   "outputs": [
    {
     "data": {
      "text/html": [
       "<div>\n",
       "<style scoped>\n",
       "    .dataframe tbody tr th:only-of-type {\n",
       "        vertical-align: middle;\n",
       "    }\n",
       "\n",
       "    .dataframe tbody tr th {\n",
       "        vertical-align: top;\n",
       "    }\n",
       "\n",
       "    .dataframe thead th {\n",
       "        text-align: right;\n",
       "    }\n",
       "</style>\n",
       "<table border=\"1\" class=\"dataframe\">\n",
       "  <thead>\n",
       "    <tr style=\"text-align: right;\">\n",
       "      <th></th>\n",
       "      <th>release_date</th>\n",
       "      <th>movie</th>\n",
       "      <th>production_budget</th>\n",
       "      <th>year</th>\n",
       "      <th>total_profit_loss</th>\n",
       "      <th>director</th>\n",
       "      <th>primary_profession</th>\n",
       "      <th>genre_list</th>\n",
       "      <th>months</th>\n",
       "      <th>profession_list</th>\n",
       "    </tr>\n",
       "  </thead>\n",
       "  <tbody>\n",
       "    <tr>\n",
       "      <th>1</th>\n",
       "      <td>2011-05-20</td>\n",
       "      <td>Pirates of the Caribbean: On Stranger Tides</td>\n",
       "      <td>410600000</td>\n",
       "      <td>2011</td>\n",
       "      <td>465527750</td>\n",
       "      <td>Johnny Depp</td>\n",
       "      <td>actor,producer,soundtrack</td>\n",
       "      <td>Action</td>\n",
       "      <td>May</td>\n",
       "      <td>actor</td>\n",
       "    </tr>\n",
       "    <tr>\n",
       "      <th>1</th>\n",
       "      <td>2011-05-20</td>\n",
       "      <td>Pirates of the Caribbean: On Stranger Tides</td>\n",
       "      <td>410600000</td>\n",
       "      <td>2011</td>\n",
       "      <td>465527750</td>\n",
       "      <td>Johnny Depp</td>\n",
       "      <td>actor,producer,soundtrack</td>\n",
       "      <td>Action</td>\n",
       "      <td>May</td>\n",
       "      <td>producer</td>\n",
       "    </tr>\n",
       "    <tr>\n",
       "      <th>1</th>\n",
       "      <td>2011-05-20</td>\n",
       "      <td>Pirates of the Caribbean: On Stranger Tides</td>\n",
       "      <td>410600000</td>\n",
       "      <td>2011</td>\n",
       "      <td>465527750</td>\n",
       "      <td>Johnny Depp</td>\n",
       "      <td>actor,producer,soundtrack</td>\n",
       "      <td>Action</td>\n",
       "      <td>May</td>\n",
       "      <td>soundtrack</td>\n",
       "    </tr>\n",
       "    <tr>\n",
       "      <th>2</th>\n",
       "      <td>2019-06-07</td>\n",
       "      <td>Dark Phoenix</td>\n",
       "      <td>350000000</td>\n",
       "      <td>2019</td>\n",
       "      <td>-507475300</td>\n",
       "      <td>Simon Kinberg</td>\n",
       "      <td>producer,writer,director</td>\n",
       "      <td>Action</td>\n",
       "      <td>June</td>\n",
       "      <td>producer</td>\n",
       "    </tr>\n",
       "    <tr>\n",
       "      <th>2</th>\n",
       "      <td>2019-06-07</td>\n",
       "      <td>Dark Phoenix</td>\n",
       "      <td>350000000</td>\n",
       "      <td>2019</td>\n",
       "      <td>-507475300</td>\n",
       "      <td>Simon Kinberg</td>\n",
       "      <td>producer,writer,director</td>\n",
       "      <td>Action</td>\n",
       "      <td>June</td>\n",
       "      <td>writer</td>\n",
       "    </tr>\n",
       "    <tr>\n",
       "      <th>...</th>\n",
       "      <td>...</td>\n",
       "      <td>...</td>\n",
       "      <td>...</td>\n",
       "      <td>...</td>\n",
       "      <td>...</td>\n",
       "      <td>...</td>\n",
       "      <td>...</td>\n",
       "      <td>...</td>\n",
       "      <td>...</td>\n",
       "      <td>...</td>\n",
       "    </tr>\n",
       "    <tr>\n",
       "      <th>5674</th>\n",
       "      <td>2011-11-25</td>\n",
       "      <td>The Ridges</td>\n",
       "      <td>17300</td>\n",
       "      <td>2011</td>\n",
       "      <td>-34600</td>\n",
       "      <td>Robbie Barnes</td>\n",
       "      <td>actress,director,editor</td>\n",
       "      <td>Drama</td>\n",
       "      <td>November</td>\n",
       "      <td>director</td>\n",
       "    </tr>\n",
       "    <tr>\n",
       "      <th>5674</th>\n",
       "      <td>2011-11-25</td>\n",
       "      <td>The Ridges</td>\n",
       "      <td>17300</td>\n",
       "      <td>2011</td>\n",
       "      <td>-34600</td>\n",
       "      <td>Robbie Barnes</td>\n",
       "      <td>actress,director,editor</td>\n",
       "      <td>Drama</td>\n",
       "      <td>November</td>\n",
       "      <td>editor</td>\n",
       "    </tr>\n",
       "    <tr>\n",
       "      <th>5677</th>\n",
       "      <td>2014-12-31</td>\n",
       "      <td>Stories of Our Lives</td>\n",
       "      <td>15000</td>\n",
       "      <td>2014</td>\n",
       "      <td>-30000</td>\n",
       "      <td>Jim Chuchu</td>\n",
       "      <td>director,writer,editor</td>\n",
       "      <td>Drama</td>\n",
       "      <td>December</td>\n",
       "      <td>director</td>\n",
       "    </tr>\n",
       "    <tr>\n",
       "      <th>5677</th>\n",
       "      <td>2014-12-31</td>\n",
       "      <td>Stories of Our Lives</td>\n",
       "      <td>15000</td>\n",
       "      <td>2014</td>\n",
       "      <td>-30000</td>\n",
       "      <td>Jim Chuchu</td>\n",
       "      <td>director,writer,editor</td>\n",
       "      <td>Drama</td>\n",
       "      <td>December</td>\n",
       "      <td>writer</td>\n",
       "    </tr>\n",
       "    <tr>\n",
       "      <th>5677</th>\n",
       "      <td>2014-12-31</td>\n",
       "      <td>Stories of Our Lives</td>\n",
       "      <td>15000</td>\n",
       "      <td>2014</td>\n",
       "      <td>-30000</td>\n",
       "      <td>Jim Chuchu</td>\n",
       "      <td>director,writer,editor</td>\n",
       "      <td>Drama</td>\n",
       "      <td>December</td>\n",
       "      <td>editor</td>\n",
       "    </tr>\n",
       "  </tbody>\n",
       "</table>\n",
       "<p>4346 rows × 10 columns</p>\n",
       "</div>"
      ],
      "text/plain": [
       "     release_date                                        movie  \\\n",
       "1      2011-05-20  Pirates of the Caribbean: On Stranger Tides   \n",
       "1      2011-05-20  Pirates of the Caribbean: On Stranger Tides   \n",
       "1      2011-05-20  Pirates of the Caribbean: On Stranger Tides   \n",
       "2      2019-06-07                                 Dark Phoenix   \n",
       "2      2019-06-07                                 Dark Phoenix   \n",
       "...           ...                                          ...   \n",
       "5674   2011-11-25                                   The Ridges   \n",
       "5674   2011-11-25                                   The Ridges   \n",
       "5677   2014-12-31                         Stories of Our Lives   \n",
       "5677   2014-12-31                         Stories of Our Lives   \n",
       "5677   2014-12-31                         Stories of Our Lives   \n",
       "\n",
       "      production_budget  year  total_profit_loss       director  \\\n",
       "1             410600000  2011          465527750    Johnny Depp   \n",
       "1             410600000  2011          465527750    Johnny Depp   \n",
       "1             410600000  2011          465527750    Johnny Depp   \n",
       "2             350000000  2019         -507475300  Simon Kinberg   \n",
       "2             350000000  2019         -507475300  Simon Kinberg   \n",
       "...                 ...   ...                ...            ...   \n",
       "5674              17300  2011             -34600  Robbie Barnes   \n",
       "5674              17300  2011             -34600  Robbie Barnes   \n",
       "5677              15000  2014             -30000     Jim Chuchu   \n",
       "5677              15000  2014             -30000     Jim Chuchu   \n",
       "5677              15000  2014             -30000     Jim Chuchu   \n",
       "\n",
       "             primary_profession genre_list    months profession_list  \n",
       "1     actor,producer,soundtrack     Action       May           actor  \n",
       "1     actor,producer,soundtrack     Action       May        producer  \n",
       "1     actor,producer,soundtrack     Action       May      soundtrack  \n",
       "2      producer,writer,director     Action      June        producer  \n",
       "2      producer,writer,director     Action      June          writer  \n",
       "...                         ...        ...       ...             ...  \n",
       "5674    actress,director,editor      Drama  November        director  \n",
       "5674    actress,director,editor      Drama  November          editor  \n",
       "5677     director,writer,editor      Drama  December        director  \n",
       "5677     director,writer,editor      Drama  December          writer  \n",
       "5677     director,writer,editor      Drama  December          editor  \n",
       "\n",
       "[4346 rows x 10 columns]"
      ]
     },
     "execution_count": 481,
     "metadata": {},
     "output_type": "execute_result"
    }
   ],
   "source": [
    "prof_explode = genres_gonedf.explode('profession_list') \n",
    "# we explode the genre universe\n",
    "prof_explode"
   ]
  },
  {
   "cell_type": "code",
   "execution_count": 482,
   "metadata": {},
   "outputs": [],
   "source": [
    "professionsgone = prof_explode.drop('primary_profession', axis=1)"
   ]
  },
  {
   "cell_type": "code",
   "execution_count": 483,
   "metadata": {},
   "outputs": [
    {
     "data": {
      "text/plain": [
       "release_date         0\n",
       "movie                0\n",
       "production_budget    0\n",
       "year                 0\n",
       "total_profit_loss    0\n",
       "director             1\n",
       "genre_list           0\n",
       "months               0\n",
       "profession_list      1\n",
       "dtype: int64"
      ]
     },
     "execution_count": 483,
     "metadata": {},
     "output_type": "execute_result"
    }
   ],
   "source": [
    "professionsgone.isna().sum()"
   ]
  },
  {
   "cell_type": "code",
   "execution_count": 477,
   "metadata": {},
   "outputs": [
    {
     "data": {
      "text/html": [
       "<div>\n",
       "<style scoped>\n",
       "    .dataframe tbody tr th:only-of-type {\n",
       "        vertical-align: middle;\n",
       "    }\n",
       "\n",
       "    .dataframe tbody tr th {\n",
       "        vertical-align: top;\n",
       "    }\n",
       "\n",
       "    .dataframe thead th {\n",
       "        text-align: right;\n",
       "    }\n",
       "</style>\n",
       "<table border=\"1\" class=\"dataframe\">\n",
       "  <thead>\n",
       "    <tr style=\"text-align: right;\">\n",
       "      <th></th>\n",
       "      <th>release_date</th>\n",
       "      <th>movie</th>\n",
       "      <th>production_budget</th>\n",
       "      <th>year</th>\n",
       "      <th>total_profit_loss</th>\n",
       "      <th>director</th>\n",
       "      <th>genre_list</th>\n",
       "      <th>months</th>\n",
       "      <th>profession_list</th>\n",
       "    </tr>\n",
       "  </thead>\n",
       "  <tbody>\n",
       "    <tr>\n",
       "      <th>1</th>\n",
       "      <td>2011-05-20</td>\n",
       "      <td>Pirates of the Caribbean: On Stranger Tides</td>\n",
       "      <td>410600000</td>\n",
       "      <td>2011</td>\n",
       "      <td>465527750</td>\n",
       "      <td>Johnny Depp</td>\n",
       "      <td>Action</td>\n",
       "      <td>May</td>\n",
       "      <td>actor</td>\n",
       "    </tr>\n",
       "    <tr>\n",
       "      <th>1</th>\n",
       "      <td>2011-05-20</td>\n",
       "      <td>Pirates of the Caribbean: On Stranger Tides</td>\n",
       "      <td>410600000</td>\n",
       "      <td>2011</td>\n",
       "      <td>465527750</td>\n",
       "      <td>Johnny Depp</td>\n",
       "      <td>Action</td>\n",
       "      <td>May</td>\n",
       "      <td>producer</td>\n",
       "    </tr>\n",
       "    <tr>\n",
       "      <th>1</th>\n",
       "      <td>2011-05-20</td>\n",
       "      <td>Pirates of the Caribbean: On Stranger Tides</td>\n",
       "      <td>410600000</td>\n",
       "      <td>2011</td>\n",
       "      <td>465527750</td>\n",
       "      <td>Johnny Depp</td>\n",
       "      <td>Action</td>\n",
       "      <td>May</td>\n",
       "      <td>soundtrack</td>\n",
       "    </tr>\n",
       "    <tr>\n",
       "      <th>2</th>\n",
       "      <td>2019-06-07</td>\n",
       "      <td>Dark Phoenix</td>\n",
       "      <td>350000000</td>\n",
       "      <td>2019</td>\n",
       "      <td>-507475300</td>\n",
       "      <td>Simon Kinberg</td>\n",
       "      <td>Action</td>\n",
       "      <td>June</td>\n",
       "      <td>producer</td>\n",
       "    </tr>\n",
       "    <tr>\n",
       "      <th>2</th>\n",
       "      <td>2019-06-07</td>\n",
       "      <td>Dark Phoenix</td>\n",
       "      <td>350000000</td>\n",
       "      <td>2019</td>\n",
       "      <td>-507475300</td>\n",
       "      <td>Simon Kinberg</td>\n",
       "      <td>Action</td>\n",
       "      <td>June</td>\n",
       "      <td>writer</td>\n",
       "    </tr>\n",
       "    <tr>\n",
       "      <th>...</th>\n",
       "      <td>...</td>\n",
       "      <td>...</td>\n",
       "      <td>...</td>\n",
       "      <td>...</td>\n",
       "      <td>...</td>\n",
       "      <td>...</td>\n",
       "      <td>...</td>\n",
       "      <td>...</td>\n",
       "      <td>...</td>\n",
       "    </tr>\n",
       "    <tr>\n",
       "      <th>5674</th>\n",
       "      <td>2011-11-25</td>\n",
       "      <td>The Ridges</td>\n",
       "      <td>17300</td>\n",
       "      <td>2011</td>\n",
       "      <td>-34600</td>\n",
       "      <td>Robbie Barnes</td>\n",
       "      <td>Drama</td>\n",
       "      <td>November</td>\n",
       "      <td>director</td>\n",
       "    </tr>\n",
       "    <tr>\n",
       "      <th>5674</th>\n",
       "      <td>2011-11-25</td>\n",
       "      <td>The Ridges</td>\n",
       "      <td>17300</td>\n",
       "      <td>2011</td>\n",
       "      <td>-34600</td>\n",
       "      <td>Robbie Barnes</td>\n",
       "      <td>Drama</td>\n",
       "      <td>November</td>\n",
       "      <td>editor</td>\n",
       "    </tr>\n",
       "    <tr>\n",
       "      <th>5677</th>\n",
       "      <td>2014-12-31</td>\n",
       "      <td>Stories of Our Lives</td>\n",
       "      <td>15000</td>\n",
       "      <td>2014</td>\n",
       "      <td>-30000</td>\n",
       "      <td>Jim Chuchu</td>\n",
       "      <td>Drama</td>\n",
       "      <td>December</td>\n",
       "      <td>director</td>\n",
       "    </tr>\n",
       "    <tr>\n",
       "      <th>5677</th>\n",
       "      <td>2014-12-31</td>\n",
       "      <td>Stories of Our Lives</td>\n",
       "      <td>15000</td>\n",
       "      <td>2014</td>\n",
       "      <td>-30000</td>\n",
       "      <td>Jim Chuchu</td>\n",
       "      <td>Drama</td>\n",
       "      <td>December</td>\n",
       "      <td>writer</td>\n",
       "    </tr>\n",
       "    <tr>\n",
       "      <th>5677</th>\n",
       "      <td>2014-12-31</td>\n",
       "      <td>Stories of Our Lives</td>\n",
       "      <td>15000</td>\n",
       "      <td>2014</td>\n",
       "      <td>-30000</td>\n",
       "      <td>Jim Chuchu</td>\n",
       "      <td>Drama</td>\n",
       "      <td>December</td>\n",
       "      <td>editor</td>\n",
       "    </tr>\n",
       "  </tbody>\n",
       "</table>\n",
       "<p>4346 rows × 9 columns</p>\n",
       "</div>"
      ],
      "text/plain": [
       "     release_date                                        movie  \\\n",
       "1      2011-05-20  Pirates of the Caribbean: On Stranger Tides   \n",
       "1      2011-05-20  Pirates of the Caribbean: On Stranger Tides   \n",
       "1      2011-05-20  Pirates of the Caribbean: On Stranger Tides   \n",
       "2      2019-06-07                                 Dark Phoenix   \n",
       "2      2019-06-07                                 Dark Phoenix   \n",
       "...           ...                                          ...   \n",
       "5674   2011-11-25                                   The Ridges   \n",
       "5674   2011-11-25                                   The Ridges   \n",
       "5677   2014-12-31                         Stories of Our Lives   \n",
       "5677   2014-12-31                         Stories of Our Lives   \n",
       "5677   2014-12-31                         Stories of Our Lives   \n",
       "\n",
       "      production_budget  year  total_profit_loss       director genre_list  \\\n",
       "1             410600000  2011          465527750    Johnny Depp     Action   \n",
       "1             410600000  2011          465527750    Johnny Depp     Action   \n",
       "1             410600000  2011          465527750    Johnny Depp     Action   \n",
       "2             350000000  2019         -507475300  Simon Kinberg     Action   \n",
       "2             350000000  2019         -507475300  Simon Kinberg     Action   \n",
       "...                 ...   ...                ...            ...        ...   \n",
       "5674              17300  2011             -34600  Robbie Barnes      Drama   \n",
       "5674              17300  2011             -34600  Robbie Barnes      Drama   \n",
       "5677              15000  2014             -30000     Jim Chuchu      Drama   \n",
       "5677              15000  2014             -30000     Jim Chuchu      Drama   \n",
       "5677              15000  2014             -30000     Jim Chuchu      Drama   \n",
       "\n",
       "        months profession_list  \n",
       "1          May           actor  \n",
       "1          May        producer  \n",
       "1          May      soundtrack  \n",
       "2         June        producer  \n",
       "2         June          writer  \n",
       "...        ...             ...  \n",
       "5674  November        director  \n",
       "5674  November          editor  \n",
       "5677  December        director  \n",
       "5677  December          writer  \n",
       "5677  December          editor  \n",
       "\n",
       "[4346 rows x 9 columns]"
      ]
     },
     "execution_count": 477,
     "metadata": {},
     "output_type": "execute_result"
    }
   ],
   "source": [
    "professionsgone"
   ]
  },
  {
   "cell_type": "code",
   "execution_count": 484,
   "metadata": {},
   "outputs": [],
   "source": [
    "professionsgone['director'].fillna(professionsgone['director'].mode()[0], inplace=True)"
   ]
  },
  {
   "cell_type": "code",
   "execution_count": 486,
   "metadata": {},
   "outputs": [],
   "source": [
    "professionsgone['profession_list'].fillna(professionsgone['profession_list'].mode()[0], inplace=True)"
   ]
  },
  {
   "cell_type": "code",
   "execution_count": 487,
   "metadata": {},
   "outputs": [
    {
     "name": "stdout",
     "output_type": "stream",
     "text": [
      "<class 'pandas.core.frame.DataFrame'>\n",
      "Int64Index: 4346 entries, 1 to 5677\n",
      "Data columns (total 9 columns):\n",
      " #   Column             Non-Null Count  Dtype         \n",
      "---  ------             --------------  -----         \n",
      " 0   release_date       4346 non-null   datetime64[ns]\n",
      " 1   movie              4346 non-null   object        \n",
      " 2   production_budget  4346 non-null   int64         \n",
      " 3   year               4346 non-null   int64         \n",
      " 4   total_profit_loss  4346 non-null   int64         \n",
      " 5   director           4346 non-null   object        \n",
      " 6   genre_list         4346 non-null   object        \n",
      " 7   months             4346 non-null   object        \n",
      " 8   profession_list    4346 non-null   object        \n",
      "dtypes: datetime64[ns](1), int64(3), object(5)\n",
      "memory usage: 339.5+ KB\n"
     ]
    }
   ],
   "source": [
    "professionsgone.info()"
   ]
  },
  {
   "cell_type": "code",
   "execution_count": 488,
   "metadata": {},
   "outputs": [],
   "source": [
    "# directors_filled"
   ]
  },
  {
   "cell_type": "code",
   "execution_count": null,
   "metadata": {},
   "outputs": [],
   "source": []
  },
  {
   "cell_type": "code",
   "execution_count": null,
   "metadata": {},
   "outputs": [],
   "source": [
    "# post_2010_TNBOM.loc[post_2010_TNBOM['director'] == ('].sort_values(by='total_profit_loss', ascending=False)"
   ]
  },
  {
   "cell_type": "code",
   "execution_count": null,
   "metadata": {},
   "outputs": [],
   "source": []
  },
  {
   "cell_type": "markdown",
   "metadata": {},
   "source": [
    "## ONE DATASET TO RULE THEM ALL\n"
   ]
  },
  {
   "cell_type": "markdown",
   "metadata": {},
   "source": [
    "For the initial visual, we used data from the The Numbers ('TN') dataset, which was determined to be identical to the RT_budgets_dataset('Budgets').  This analysis utilizes the TN sample universe of data as the primary model for showing profit accross the movie industry.  The TN dataset contains 5698 unique movie titles, spanning nearly 100 years.  With features such as the release date, budget, domestic gross and foreign gross, it was easy to map profitability for the industry using a sizable sample over a large section of time.  \n",
    "\n",
    "### MOVIES STILL MAKE MONEY?   \n",
    "Initial impressions are surprising, as data shows that the movie industry is still more profitable than not, on average, right up through 2020. Movies did seem to become riskier value proposition around the 1990/1995 time period.  Losses do seem to have a consistent limited upper range; however, and profitability varied greatly on the positive side of the spectrum."
   ]
  },
  {
   "cell_type": "markdown",
   "metadata": {},
   "source": [
    "## THE LONG SHADOW OF THE COVID EFFECT \n",
    "It is noticeable that 2020 and beyond contains relatively few datapoints.  The few movies shown on the inital scatterplot suggest that each of the few movies released in 2020 suffered terrible losses.  As this coincided with the Covid 19 pandemic, some serious questions arise about the reliability of this historical analysis. Can we still consider these numbers predictive if the movie industry itself went through a paradigmn shift as a result of the pandemic? Will results from 2021 and 2022 regress to the mean?  This is a discussion I will return to during my final evaluation, though it is beyond the scope of this analysis.   "
   ]
  },
  {
   "cell_type": "markdown",
   "metadata": {},
   "source": [
    "#### (visual 2.1)\n",
    "This analysis will construct a relative frequency model of profit over time.  This visual should be helpful in showing whether movies produced in the last 20 years are actually as profitable as they were in the 60s, 70s, and 80s on a relative basis. \n",
    "\n",
    "The relative frequency of profit shows that the losses signficantly outstripped movies that made money between the period 2000 and 2020.  A complete analysis is framed under the visual which I will link to in the final notebook.  \n",
    "\n",
    "This changes some of my intentions with regard to the final visual.  I may seek to understand why the industry rebounded to profitability between 2016 and 2018, where profits topped losses.   Perhaps focusing on that time period in contrast to the time bewteen 2008 and 2015 will shed light on some changes that took place.  "
   ]
  },
  {
   "cell_type": "markdown",
   "metadata": {},
   "source": [
    "#### Visual 3.1, 3.2, and 3.3\n",
    "I am going to focus on directors and writers that were part of profitable ventures between 2000 and 2020 and see if there is some actionable insight that can be gained.  \n",
    "\n",
    "\n"
   ]
  },
  {
   "cell_type": "code",
   "execution_count": null,
   "metadata": {},
   "outputs": [],
   "source": []
  },
  {
   "cell_type": "code",
   "execution_count": null,
   "metadata": {},
   "outputs": [],
   "source": []
  },
  {
   "cell_type": "markdown",
   "metadata": {},
   "source": [
    "At the end, it is always a best practice to close the connection to the database."
   ]
  },
  {
   "cell_type": "code",
   "execution_count": 88,
   "metadata": {},
   "outputs": [],
   "source": [
    "conn.close()"
   ]
  },
  {
   "cell_type": "code",
   "execution_count": null,
   "metadata": {},
   "outputs": [],
   "source": []
  }
 ],
 "metadata": {
  "kernelspec": {
   "display_name": "Python 3",
   "language": "python",
   "name": "python3"
  },
  "language_info": {
   "codemirror_mode": {
    "name": "ipython",
    "version": 3
   },
   "file_extension": ".py",
   "mimetype": "text/x-python",
   "name": "python",
   "nbconvert_exporter": "python",
   "pygments_lexer": "ipython3",
   "version": "3.9.5"
  }
 },
 "nbformat": 4,
 "nbformat_minor": 4
}
